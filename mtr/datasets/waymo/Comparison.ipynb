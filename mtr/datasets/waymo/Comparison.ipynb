{
 "cells": [
  {
   "cell_type": "code",
   "execution_count": 1,
   "metadata": {},
   "outputs": [
    {
     "name": "stdout",
     "output_type": "stream",
     "text": [
      "35012 35012\n",
      "35012 35012\n"
     ]
    }
   ],
   "source": [
    "import json\n",
    "import numpy as np\n",
    "from tqdm import tqdm\n",
    "import matplotlib.pyplot as plt\n",
    "\n",
    "json_file_base = 'MTR_wo_poses_8a100_single.json'\n",
    "json_file_att = 'MTR_MLP_Attention_8a100_single.json'\n",
    "\n",
    "with open(json_file_base) as f:\n",
    "    data_base = json.load(f)\n",
    "with open(json_file_att) as f:\n",
    "    data_att = json.load(f)\n",
    "print(len(data_base), len(data_att))\n",
    "\n",
    "txt_file_base = 'MTR_wo_poses_8a100_single.txt'\n",
    "txt_file_att = 'MTR_MLP_Attention_8a100_single.txt'\n",
    "\n",
    "scenario_ids_base = []\n",
    "scenario_ids_att = []\n",
    "\n",
    "\n",
    "with open (txt_file_base, 'r') as f:\n",
    "    for line in f:\n",
    "        scenario_ids_base.append(line.strip())\n",
    "with open (txt_file_att, 'r') as f:\n",
    "    for line in f:\n",
    "        scenario_ids_att.append(line.strip())\n",
    "\n",
    "print(len(scenario_ids_base), len(scenario_ids_att))"
   ]
  },
  {
   "cell_type": "code",
   "execution_count": 2,
   "metadata": {},
   "outputs": [
    {
     "name": "stderr",
     "output_type": "stream",
     "text": [
      "  0%|          | 0/35012 [00:00<?, ?it/s]"
     ]
    },
    {
     "name": "stderr",
     "output_type": "stream",
     "text": [
      "100%|██████████| 35012/35012 [00:00<00:00, 594762.29it/s]"
     ]
    },
    {
     "name": "stdout",
     "output_type": "stream",
     "text": [
      "6845\n",
      "7929\n"
     ]
    },
    {
     "name": "stderr",
     "output_type": "stream",
     "text": [
      "\n"
     ]
    },
    {
     "data": {
      "image/png": "[encoded data removed]",
      "text/plain": [
       "<Figure size 640x480 with 1 Axes>"
      ]
     },
     "metadata": {},
     "output_type": "display_data"
    },
    {
     "name": "stdout",
     "output_type": "stream",
     "text": [
      "[1.96566233 1.71277794 1.70301882 1.70126344 1.6807121  1.55339309\n",
      " 1.47611966 1.42361216 1.38954742 1.35449758 1.21601555 1.19555116\n",
      " 1.18345522 1.16233908 1.1311818  1.12369809 1.09786065 1.08304958\n",
      " 1.07835622 1.05291984]\n",
      "['605c519944f01baf' 'c57d95baaacc70cd' 'd2ac02be54fcbbda'\n",
      " '26f04b1e714986cc' '5870c78395fbaf7d' '764a92ef23ac8e28'\n",
      " 'fb5cd320754c7361' 'c47c6b364c8cf947' 'e42ece525fff6050'\n",
      " '54e7ee570dcd34e7' 'a4e1a96c2b311cef' 'bf600888a4845af5'\n",
      " '5c48452fa9741727' 'ef5934a076e24939' '1f70481472b7def'\n",
      " 'c8eab21dca6f51c9' 'b6882ea3c063150a' 'd59a8c97c0980d2a'\n",
      " 'a5ccf095e6bac84e' '72fb1eabaf94928f']\n",
      "Yes\n",
      "(array([11]),)\n"
     ]
    }
   ],
   "source": [
    "#diff_mlp_ade_ped = list()\n",
    "diff_att_ade_ped = []\n",
    "#diff_mlp_ade_cyc = list()\n",
    "diff_att_ade_cyc = []\n",
    "#diff_mlp_fde_ped = list()\n",
    "diff_att_fde_ped = []\n",
    "#diff_mlp_fde_cyc = list()\n",
    "diff_att_fde_cyc = []\n",
    "key_list = []\n",
    "metrics = [\"minADE - PEDESTRIAN\", \"minADE - CYCLIST\", \"minFDE - PEDESTRIAN\", \"minFDE - CYCLIST\"]\n",
    "lists = [diff_att_ade_ped, diff_att_ade_cyc, diff_att_fde_ped, diff_att_fde_cyc]\n",
    "data_base = {key: value for d in data_base for key, value in d.items()}\n",
    "data_att = {key: value for d in data_att for key, value in d.items()}\n",
    "for key in tqdm(list(data_base.keys())):\n",
    "    if key not in data_att.keys():\n",
    "        continue\n",
    "    key_list.append(key)\n",
    "    for metric, single_list in zip(metrics, lists):\n",
    "        if data_base[key][metric] > 0.0:\n",
    "            single_list.append(data_base[key][metric] - data_att[key][metric])\n",
    "        else:\n",
    "            single_list.append(-np.inf)\n",
    "\n",
    "paired_lists = sorted(zip(lists[0], key_list), key=lambda x: x[0], reverse=True)\n",
    "    \n",
    "# Unzip the paired list into two lists\n",
    "ade_diff_ped_att, key_list = zip(*paired_lists)\n",
    "count_below_zero = len(list(filter(lambda x: x < 0, np.array(ade_diff_ped_att)[np.isfinite(np.array(ade_diff_ped_att))])))\n",
    "count_above_zero = len(list(filter(lambda x: x > 0, np.array(ade_diff_ped_att)[np.isfinite(np.array(ade_diff_ped_att))])))\n",
    "print(count_below_zero)\n",
    "print(count_above_zero)\n",
    "plt.hist(np.array(ade_diff_ped_att)[np.isfinite(np.array(ade_diff_ped_att))], bins='auto', edgecolor='black')\n",
    "\n",
    "# Adding titles and labels\n",
    "plt.title('Histogram of Differences')\n",
    "plt.xlabel('Difference')\n",
    "plt.ylabel('Frequency')\n",
    "\n",
    "# Show the plot\n",
    "plt.show()\n",
    "diff_array = np.array(ade_diff_ped_att)[np.isfinite(np.array(ade_diff_ped_att))]\n",
    "index_array = np.array(key_list)[np.isfinite(np.array(ade_diff_ped_att))]\n",
    "print(diff_array[:20])\n",
    "print(index_array[:20])\n",
    "if 'bf600888a4845af5' in index_array:\n",
    "    print(\"Yes\")\n",
    "print(np.where(index_array == 'bf600888a4845af5'))\n"
   ]
  },
  {
   "cell_type": "code",
   "execution_count": 3,
   "metadata": {},
   "outputs": [
    {
     "name": "stdout",
     "output_type": "stream",
     "text": [
      "2.71210777759552\n",
      "0.7464454447229704\n"
     ]
    }
   ],
   "source": [
    "print(data_base['605c519944f01baf'][\"minADE - PEDESTRIAN\"])\n",
    "print(data_att['605c519944f01baf'][\"minADE - PEDESTRIAN\"])"
   ]
  },
  {
   "cell_type": "code",
   "execution_count": 1,
   "metadata": {},
   "outputs": [
    {
     "name": "stderr",
     "output_type": "stream",
     "text": [
      "2024-06-04 07:39:48.789423: I tensorflow/core/platform/cpu_feature_guard.cc:193] This TensorFlow binary is optimized with oneAPI Deep Neural Network Library (oneDNN) to use the following CPU instructions in performance-critical operations:  AVX2 AVX_VNNI FMA\n",
      "To enable them in other operations, rebuild TensorFlow with the appropriate compiler flags.\n",
      "2024-06-04 07:39:48.843225: I tensorflow/core/util/port.cc:104] oneDNN custom operations are on. You may see slightly different numerical results due to floating-point round-off errors from different computation orders. To turn them off, set the environment variable `TF_ENABLE_ONEDNN_OPTS=0`.\n",
      "2024-06-04 07:39:49.118895: W tensorflow/compiler/xla/stream_executor/platform/default/dso_loader.cc:64] Could not load dynamic library 'libnvinfer.so.7'; dlerror: libnvinfer.so.7: cannot open shared object file: No such file or directory; LD_LIBRARY_PATH: “/usr/local/cuda-12.0/lib64:/usr/local/lib/:/opt/ros/humble/opt/rviz_ogre_vendor/lib:/opt/ros/humble/lib/x86_64-linux-gnu:/opt/ros/humble/lib”\n",
      "2024-06-04 07:39:49.118932: W tensorflow/compiler/xla/stream_executor/platform/default/dso_loader.cc:64] Could not load dynamic library 'libnvinfer_plugin.so.7'; dlerror: libnvinfer_plugin.so.7: cannot open shared object file: No such file or directory; LD_LIBRARY_PATH: “/usr/local/cuda-12.0/lib64:/usr/local/lib/:/opt/ros/humble/opt/rviz_ogre_vendor/lib:/opt/ros/humble/lib/x86_64-linux-gnu:/opt/ros/humble/lib”\n",
      "2024-06-04 07:39:49.118935: W tensorflow/compiler/tf2tensorrt/utils/py_utils.cc:38] TF-TRT Warning: Cannot dlopen some TensorRT libraries. If you would like to use Nvidia GPU with TensorRT, please make sure the missing libraries mentioned above are installed properly.\n"
     ]
    },
    {
     "name": "stdout",
     "output_type": "stream",
     "text": [
      "[6018 6019 6024]\n",
      "['TYPE_PEDESTRIAN' 'TYPE_PEDESTRIAN' 'TYPE_PEDESTRIAN']\n",
      "{'track_index': [2, 52, 16, 68], 'difficulty': [1, 1, 1, 1], 'object_type': ['TYPE_VEHICLE', 'TYPE_PEDESTRIAN', 'TYPE_VEHICLE', 'TYPE_VEHICLE']}\n",
      "6019\n"
     ]
    }
   ],
   "source": [
    "import plotly.graph_objects as go\n",
    "import glob\n",
    "import os\n",
    "import pickle\n",
    "from waymo_open_dataset.utils import keypoint_draw, frame_utils\n",
    "from waymo_open_dataset.utils.keypoint_draw import Wireframe\n",
    "import numpy as np\n",
    "from plotly.subplots import make_subplots\n",
    "import math\n",
    "\n",
    "example_file = '/home/erik/raid/datasets/womd/processed_scenarios_validation/sample_' + '72fb1eabaf94928f' + '.pkl'\n",
    "#print(example_file)\n",
    "with open(example_file, 'rb') as f:\n",
    "    example = pickle.load(f)\n",
    "index = np.array(example['track_infos']['object_id'])\n",
    "types = np.array(example['track_infos']['object_type'])\n",
    "print(index[types == 'TYPE_PEDESTRIAN'])\n",
    "print(types[types == 'TYPE_PEDESTRIAN'])\n",
    "print(example['tracks_to_predict'])\n",
    "print(index[52])\n",
    "\n"
   ]
  },
  {
   "cell_type": "code",
   "execution_count": 2,
   "metadata": {},
   "outputs": [],
   "source": [
    "def draw_skeleton(joints, lines, fig):\n",
    "    for line in lines:\n",
    "        if line == 0:\n",
    "            connection_point = (joints[lines[line][0]] + joints[lines[line][1]]) / 2\n",
    "            fig.add_trace(go.Scatter3d(x=[joints[line][0], connection_point[0]], y=[joints[line][1], connection_point[1]], z=[joints[line][2], connection_point[2]], mode='lines', line=dict(color='black', width=2)))\n",
    "        else:\n",
    "            for point in lines[line]:\n",
    "                fig.add_trace(go.Scatter3d(x=[joints[line][0], joints[point][0]], y=[joints[line][1], joints[point][1]], z=[joints[line][2], joints[point][2]], mode='lines', line=dict(color='black', width=2)))"
   ]
  },
  {
   "cell_type": "code",
   "execution_count": 4,
   "metadata": {},
   "outputs": [
    {
     "data": {
      "application/vnd.plotly.v1+json": {
       "config": {
        "plotlyServerURL": "https://plot.ly"
       },
       "data": [
        {
         "marker": {
          "opacity": 0.8,
          "size": 2
         },
         "mode": "markers",
         "type": "scatter3d",
         "x": [
          -0.0172119140625,
          -0.06787109375,
          0.032958984375,
          -0.015869140625,
          -0.068359375,
          -0.11328125,
          -0.2049560546875,
          -0.56591796875,
          -0.005615234375,
          -0.0087890625,
          -0.0611572265625,
          -0.1116943359375,
          -0.17724609375,
          -0.263427734375,
          0.02685546875,
          -0.0018310546875,
          -0.046875,
          -0.1009521484375,
          -0.1513671875,
          -0.237548828125,
          -0.5648193359375,
          0.14306640625,
          0.10498046875,
          0.0653076171875,
          0.029541015625,
          -0.009765625,
          -0.065673828125,
          -0.1158447265625,
          -0.17919921875,
          -0.248291015625,
          0.142822265625,
          0.1265869140625,
          0.08154296875,
          0.040283203125,
          -0.0081787109375,
          -0.051025390625,
          -0.0992431640625,
          -0.1512451171875,
          -0.210693359375,
          -0.2835693359375,
          0.20703125,
          0.20068359375,
          0.171630859375,
          0.1336669921875,
          0.0887451171875,
          0.0419921875,
          -0.0028076171875,
          -0.043701171875,
          -0.099365234375,
          -0.1551513671875,
          -0.218505859375,
          -0.295166015625,
          -0.5675048828125,
          0.18310546875,
          0.1683349609375,
          0.13037109375,
          0.0999755859375,
          0.05517578125,
          0.008544921875,
          -0.028564453125,
          -0.093505859375,
          -0.1549072265625,
          -0.208740234375,
          -0.2587890625,
          -0.3355712890625,
          0.179931640625,
          0.145263671875,
          0.1307373046875,
          0.0948486328125,
          0.0555419921875,
          0.0145263671875,
          -0.031982421875,
          -0.09326171875,
          -0.1751708984375,
          -0.2197265625,
          -0.2698974609375,
          -0.3448486328125,
          -0.5791015625,
          0.160888671875,
          0.1134033203125,
          0.12939453125,
          0.0953369140625,
          0.0487060546875,
          0.000244140625,
          -0.038818359375,
          -0.1038818359375,
          -0.1822509765625,
          -0.257080078125,
          -0.31494140625,
          -0.5706787109375,
          0.143310546875,
          0.13232421875,
          0.0982666015625,
          0.0552978515625,
          0.0123291015625,
          -0.0489501953125,
          -0.1083984375,
          -0.173583984375,
          -0.2861328125,
          0.1715087890625,
          0.1171875,
          0.093994140625,
          0.0582275390625,
          0.015380859375,
          -0.032958984375,
          -0.0867919921875,
          -0.157470703125,
          -0.2340087890625,
          0.138671875,
          0.0843505859375,
          0.0577392578125,
          -0.0372314453125,
          -0.1448974609375,
          -0.2232666015625,
          -0.29052734375,
          0.0587158203125,
          0.0458984375,
          0.00439453125,
          -0.0462646484375,
          -0.0745849609375,
          -0.1025390625,
          -0.1845703125,
          -0.2613525390625,
          -0.326904296875,
          -0.0064697265625,
          -0.013671875,
          -0.0496826171875,
          -0.0816650390625,
          -0.1246337890625,
          -0.1768798828125,
          -0.2591552734375,
          -0.031494140625,
          -0.0479736328125,
          -0.1043701171875,
          -0.090576171875,
          -0.13916015625,
          -0.193359375,
          -0.2869873046875,
          -0.0482177734375,
          0.012939453125,
          -0.0206298828125,
          -0.083740234375,
          -0.3118896484375,
          0.1029052734375,
          0.1025390625,
          -0.002685546875,
          -0.0433349609375,
          0.176513671875,
          0.0472412109375,
          -0.1893310546875,
          -0.5435791015625,
          0.0028076171875,
          0.0712890625,
          -0.07080078125,
          -0.585205078125,
          -0.5325927734375,
          -0.5772705078125,
          -0.5079345703125,
          -0.5128173828125,
          -0.561767578125,
          -0.5496826171875,
          -0.54833984375,
          -0.549072265625
         ],
         "y": [
          -0.146484375,
          -0.1263427734375,
          -0.177978515625,
          -0.1533203125,
          -0.137939453125,
          -0.103759765625,
          -0.1854248046875,
          0.6246337890625,
          -0.2742919921875,
          -0.1334228515625,
          -0.1180419921875,
          -0.0977783203125,
          -0.1146240234375,
          -0.18310546875,
          -0.195068359375,
          -0.1192626953125,
          -0.08642578125,
          -0.075439453125,
          -0.05517578125,
          -0.122802734375,
          0.626220703125,
          -0.1973876953125,
          -0.14501953125,
          -0.0972900390625,
          -0.040283203125,
          0.007568359375,
          0.0128173828125,
          0.032958984375,
          0.0208740234375,
          -0.0048828125,
          -0.205322265625,
          -0.0970458984375,
          -0.0633544921875,
          -0.020263671875,
          0.0042724609375,
          0.04296875,
          0.0667724609375,
          0.0823974609375,
          0.0797119140625,
          0.0447998046875,
          -0.33837890625,
          -0.2022705078125,
          -0.126708984375,
          -0.074462890625,
          -0.040771484375,
          -0.0126953125,
          0.0211181640625,
          0.064453125,
          0.0706787109375,
          0.0770263671875,
          0.0650634765625,
          0.02001953125,
          0.61767578125,
          -0.2591552734375,
          -0.1463623046875,
          -0.0941162109375,
          -0.024169921875,
          0.0096435546875,
          0.038818359375,
          0.09130859375,
          0.0743408203125,
          0.06689453125,
          0.0771484375,
          0.09765625,
          0.0537109375,
          -0.2657470703125,
          -0.2042236328125,
          -0.0914306640625,
          -0.035400390625,
          0.0123291015625,
          0.055419921875,
          0.084716796875,
          0.0771484375,
          0.0177001953125,
          0.052001953125,
          0.0726318359375,
          0.0333251953125,
          0.581787109375,
          -0.3209228515625,
          -0.2918701171875,
          -0.099853515625,
          -0.0382080078125,
          -0.01025390625,
          0.014404296875,
          0.062255859375,
          0.04541015625,
          -0.0037841796875,
          -0.044189453125,
          -0.0419921875,
          0.59619140625,
          -0.21533203125,
          -0.09326171875,
          -0.0316162109375,
          0.0067138671875,
          0.0452880859375,
          0.0364990234375,
          0.033447265625,
          0.016845703125,
          -0.115234375,
          -0.1512451171875,
          -0.140869140625,
          -0.05126953125,
          0.0057373046875,
          0.044189453125,
          0.06884765625,
          0.0787353515625,
          0.048095703125,
          0.00390625,
          -0.233154296875,
          -0.0726318359375,
          0.0064697265625,
          0.0604248046875,
          0.0823974609375,
          0.033447265625,
          0.011474609375,
          -0.30029296875,
          -0.1837158203125,
          -0.1405029296875,
          -0.1204833984375,
          -0.044677734375,
          0.0311279296875,
          -0.027099609375,
          -0.072265625,
          -0.0885009765625,
          -0.3170166015625,
          -0.185546875,
          -0.12841796875,
          -0.0618896484375,
          -0.0240478515625,
          -0.00830078125,
          -0.0662841796875,
          -0.38623046875,
          -0.27783203125,
          -0.272705078125,
          -0.0902099609375,
          -0.0653076171875,
          -0.05419921875,
          -0.1397705078125,
          -0.2808837890625,
          0.02099609375,
          0.082763671875,
          0.0704345703125,
          -0.2027587890625,
          0.093017578125,
          0.2379150390625,
          0.1190185546875,
          0.1612548828125,
          0.13427734375,
          0.0997314453125,
          -0.3475341796875,
          0.62939453125,
          -0.17333984375,
          0.1475830078125,
          -0.063720703125,
          0.572509765625,
          0.5643310546875,
          0.58447265625,
          0.60791015625,
          0.5960693359375,
          0.601318359375,
          0.62451171875,
          0.6259765625,
          0.614990234375
         ],
         "z": [
          0.8143310546875,
          0.813507080078125,
          0.7517852783203125,
          0.751068115234375,
          0.7501220703125,
          0.7496337890625,
          0.746337890625,
          0.750457763671875,
          0.6791152954101562,
          0.6815872192382812,
          0.680633544921875,
          0.6798095703125,
          0.6779632568359375,
          0.674713134765625,
          0.62005615234375,
          0.6209182739257812,
          0.620513916015625,
          0.6194076538085938,
          0.6185836791992188,
          0.615081787109375,
          0.6244735717773438,
          0.5453872680664062,
          0.5456619262695312,
          0.5457763671875,
          0.54620361328125,
          0.5463333129882812,
          0.5450363159179688,
          0.544219970703125,
          0.54229736328125,
          0.5398941040039062,
          0.4842987060546875,
          0.48670196533203125,
          0.48638916015625,
          0.48641204833984375,
          0.4857635498046875,
          0.485626220703125,
          0.48497772216796875,
          0.48398590087890625,
          0.48230743408203125,
          0.47943115234375,
          0.41680908203125,
          0.42057037353515625,
          0.4219512939453125,
          0.42241668701171875,
          0.42214202880859375,
          0.42169189453125,
          0.42142486572265625,
          0.42153167724609375,
          0.42015838623046875,
          0.41878509521484375,
          0.4166717529296875,
          0.4132537841796875,
          0.42261505126953125,
          0.34481048583984375,
          0.3479766845703125,
          0.34854888916015625,
          0.3499298095703125,
          0.34970855712890625,
          0.3492889404296875,
          0.34987640380859375,
          0.34745025634765625,
          0.34542083740234375,
          0.34420013427734375,
          0.3433837890625,
          0.33974456787109375,
          0.26769256591796875,
          0.26880645751953125,
          0.27231597900390625,
          0.27323150634765625,
          0.273712158203125,
          0.27397918701171875,
          0.27359771728515625,
          0.27147674560546875,
          0.2669525146484375,
          0.26678466796875,
          0.26596832275390625,
          0.2623138427734375,
          0.2762908935546875,
          0.1880035400390625,
          0.18762969970703125,
          0.19544219970703125,
          0.19672393798828125,
          0.19637298583984375,
          0.1957855224609375,
          0.19637298583984375,
          0.1936798095703125,
          0.18933868408203125,
          0.187744140625,
          0.1859893798828125,
          0.2017822265625,
          0.0992279052734375,
          0.10398101806640625,
          0.105438232421875,
          0.1056365966796875,
          0.10582733154296875,
          0.103485107421875,
          0.1013946533203125,
          0.098541259765625,
          0.0893096923828125,
          0.01607513427734375,
          0.0146942138671875,
          0.0179595947265625,
          0.019317626953125,
          0.01959228515625,
          0.01904296875,
          0.01767730712890625,
          0.01384735107421875,
          0.00919342041015625,
          -0.081878662109375,
          -0.075927734375,
          -0.07293701171875,
          -0.073699951171875,
          -0.076507568359375,
          -0.08173370361328125,
          -0.08519744873046875,
          -0.1803131103515625,
          -0.1745758056640625,
          -0.1738433837890625,
          -0.1746673583984375,
          -0.1717376708984375,
          -0.16880035400390625,
          -0.17494964599609375,
          -0.18016815185546875,
          -0.183502197265625,
          -0.29111480712890625,
          -0.28388214111328125,
          -0.28202056884765625,
          -0.27947998046875,
          -0.27895355224609375,
          -0.28011322021484375,
          -0.28665924072265625,
          -0.400726318359375,
          -0.39475250244140625,
          -0.39665985107421875,
          -0.3849334716796875,
          -0.3853912353515625,
          -0.386932373046875,
          -0.39601898193359375,
          -0.5207595825195312,
          -0.49806976318359375,
          -0.49542236328125,
          -0.49893951416015625,
          -0.5268325805664062,
          -0.6020431518554688,
          -0.5917892456054688,
          -0.6049118041992188,
          -0.6036758422851562,
          -0.717071533203125,
          -0.7256851196289062,
          -0.7706146240234375,
          -0.7137374877929688,
          -0.8694229125976562,
          -0.8401718139648438,
          -0.8641357421875,
          0.48493194580078125,
          0.42209625244140625,
          0.34930419921875,
          0.20423126220703125,
          0.11118316650390625,
          -0.25873565673828125,
          -0.35829925537109375,
          -0.48265838623046875,
          -0.5948104858398438
         ]
        },
        {
         "marker": {
          "color": "red",
          "opacity": 0.8,
          "size": 4
         },
         "mode": "markers",
         "type": "scatter3d",
         "x": [
          -0.09371381253004074,
          0.08073412626981735,
          0.11151541024446487,
          0.009494282305240631,
          0.028898058459162712,
          0.030603213235735893,
          0.10830963402986526,
          -0.07944682240486145,
          -0.15320539474487305,
          -0.1781437247991562,
          -0.06694112718105316,
          -0.11792123317718506,
          -0.07088841497898102
         ],
         "y": [
          -0.11483917385339737,
          -0.15084105730056763,
          -0.21794962882995605,
          -0.1993529200553894,
          -0.12840163707733154,
          -0.11515379697084427,
          -0.03289460018277168,
          0.0720367506146431,
          0.124269500374794,
          0.001714371144771576,
          0.010641001164913177,
          -0.0318819023668766,
          -0.027663985267281532
         ],
         "z": [
          0.5454686880111694,
          0.39801162481307983,
          0.194223552942276,
          0.12414444983005524,
          -0.03622687608003616,
          -0.36341750621795654,
          -0.6757907271385193,
          0.4021924138069153,
          0.2029857039451599,
          0.18203012645244598,
          -0.03003762662410736,
          -0.3577098846435547,
          -0.677392840385437
         ]
        },
        {
         "line": {
          "color": "black",
          "width": 2
         },
         "mode": "lines",
         "type": "scatter3d",
         "x": [
          -0.09371381253004074,
          0.000643651932477951
         ],
         "y": [
          -0.11483917385339737,
          -0.039402153342962265
         ],
         "z": [
          0.5454686880111694,
          0.40010201930999756
         ]
        },
        {
         "line": {
          "color": "black",
          "width": 2
         },
         "mode": "lines",
         "type": "scatter3d",
         "x": [
          0.08073412626981735,
          0.11151541024446487
         ],
         "y": [
          -0.15084105730056763,
          -0.21794962882995605
         ],
         "z": [
          0.39801162481307983,
          0.194223552942276
         ]
        },
        {
         "line": {
          "color": "black",
          "width": 2
         },
         "mode": "lines",
         "type": "scatter3d",
         "x": [
          0.08073412626981735,
          0.028898058459162712
         ],
         "y": [
          -0.15084105730056763,
          -0.12840163707733154
         ],
         "z": [
          0.39801162481307983,
          -0.03622687608003616
         ]
        },
        {
         "line": {
          "color": "black",
          "width": 2
         },
         "mode": "lines",
         "type": "scatter3d",
         "x": [
          0.08073412626981735,
          -0.07944682240486145
         ],
         "y": [
          -0.15084105730056763,
          0.0720367506146431
         ],
         "z": [
          0.39801162481307983,
          0.4021924138069153
         ]
        },
        {
         "line": {
          "color": "black",
          "width": 2
         },
         "mode": "lines",
         "type": "scatter3d",
         "x": [
          0.11151541024446487,
          0.009494282305240631
         ],
         "y": [
          -0.21794962882995605,
          -0.1993529200553894
         ],
         "z": [
          0.194223552942276,
          0.12414444983005524
         ]
        },
        {
         "line": {
          "color": "black",
          "width": 2
         },
         "mode": "lines",
         "type": "scatter3d",
         "x": [
          0.028898058459162712,
          0.030603213235735893
         ],
         "y": [
          -0.12840163707733154,
          -0.11515379697084427
         ],
         "z": [
          -0.03622687608003616,
          -0.36341750621795654
         ]
        },
        {
         "line": {
          "color": "black",
          "width": 2
         },
         "mode": "lines",
         "type": "scatter3d",
         "x": [
          0.028898058459162712,
          -0.06694112718105316
         ],
         "y": [
          -0.12840163707733154,
          0.010641001164913177
         ],
         "z": [
          -0.03622687608003616,
          -0.03003762662410736
         ]
        },
        {
         "line": {
          "color": "black",
          "width": 2
         },
         "mode": "lines",
         "type": "scatter3d",
         "x": [
          0.030603213235735893,
          0.10830963402986526
         ],
         "y": [
          -0.11515379697084427,
          -0.03289460018277168
         ],
         "z": [
          -0.36341750621795654,
          -0.6757907271385193
         ]
        },
        {
         "line": {
          "color": "black",
          "width": 2
         },
         "mode": "lines",
         "type": "scatter3d",
         "x": [
          -0.07944682240486145,
          -0.15320539474487305
         ],
         "y": [
          0.0720367506146431,
          0.124269500374794
         ],
         "z": [
          0.4021924138069153,
          0.2029857039451599
         ]
        },
        {
         "line": {
          "color": "black",
          "width": 2
         },
         "mode": "lines",
         "type": "scatter3d",
         "x": [
          -0.07944682240486145,
          -0.06694112718105316
         ],
         "y": [
          0.0720367506146431,
          0.010641001164913177
         ],
         "z": [
          0.4021924138069153,
          -0.03003762662410736
         ]
        },
        {
         "line": {
          "color": "black",
          "width": 2
         },
         "mode": "lines",
         "type": "scatter3d",
         "x": [
          -0.15320539474487305,
          -0.1781437247991562
         ],
         "y": [
          0.124269500374794,
          0.001714371144771576
         ],
         "z": [
          0.2029857039451599,
          0.18203012645244598
         ]
        },
        {
         "line": {
          "color": "black",
          "width": 2
         },
         "mode": "lines",
         "type": "scatter3d",
         "x": [
          -0.06694112718105316,
          -0.11792123317718506
         ],
         "y": [
          0.010641001164913177,
          -0.0318819023668766
         ],
         "z": [
          -0.03003762662410736,
          -0.3577098846435547
         ]
        },
        {
         "line": {
          "color": "black",
          "width": 2
         },
         "mode": "lines",
         "type": "scatter3d",
         "x": [
          -0.11792123317718506,
          -0.07088841497898102
         ],
         "y": [
          -0.0318819023668766,
          -0.027663985267281532
         ],
         "z": [
          -0.3577098846435547,
          -0.677392840385437
         ]
        },
        {
         "line": {
          "color": "blue",
          "width": 2
         },
         "mode": "lines",
         "type": "scatter3d",
         "x": [
          0,
          -0.6087760189535503
         ],
         "y": [
          0,
          -0.7933421448196653
         ],
         "z": [
          0,
          0
         ]
        }
       ],
       "layout": {
        "scene": {
         "aspectmode": "manual",
         "aspectratio": {
          "x": 3,
          "y": 3,
          "z": 3
         },
         "xaxis": {
          "range": [
           -1.5,
           1.5
          ]
         },
         "yaxis": {
          "range": [
           -1.5,
           1.5
          ]
         },
         "zaxis": {
          "range": [
           -1.5,
           1.5
          ]
         }
        },
        "template": {
         "data": {
          "bar": [
           {
            "error_x": {
             "color": "#2a3f5f"
            },
            "error_y": {
             "color": "#2a3f5f"
            },
            "marker": {
             "line": {
              "color": "#E5ECF6",
              "width": 0.5
             },
             "pattern": {
              "fillmode": "overlay",
              "size": 10,
              "solidity": 0.2
             }
            },
            "type": "bar"
           }
          ],
          "barpolar": [
           {
            "marker": {
             "line": {
              "color": "#E5ECF6",
              "width": 0.5
             },
             "pattern": {
              "fillmode": "overlay",
              "size": 10,
              "solidity": 0.2
             }
            },
            "type": "barpolar"
           }
          ],
          "carpet": [
           {
            "aaxis": {
             "endlinecolor": "#2a3f5f",
             "gridcolor": "white",
             "linecolor": "white",
             "minorgridcolor": "white",
             "startlinecolor": "#2a3f5f"
            },
            "baxis": {
             "endlinecolor": "#2a3f5f",
             "gridcolor": "white",
             "linecolor": "white",
             "minorgridcolor": "white",
             "startlinecolor": "#2a3f5f"
            },
            "type": "carpet"
           }
          ],
          "choropleth": [
           {
            "colorbar": {
             "outlinewidth": 0,
             "ticks": ""
            },
            "type": "choropleth"
           }
          ],
          "contour": [
           {
            "colorbar": {
             "outlinewidth": 0,
             "ticks": ""
            },
            "colorscale": [
             [
              0,
              "#0d0887"
             ],
             [
              0.1111111111111111,
              "#46039f"
             ],
             [
              0.2222222222222222,
              "#7201a8"
             ],
             [
              0.3333333333333333,
              "#9c179e"
             ],
             [
              0.4444444444444444,
              "#bd3786"
             ],
             [
              0.5555555555555556,
              "#d8576b"
             ],
             [
              0.6666666666666666,
              "#ed7953"
             ],
             [
              0.7777777777777778,
              "#fb9f3a"
             ],
             [
              0.8888888888888888,
              "#fdca26"
             ],
             [
              1,
              "#f0f921"
             ]
            ],
            "type": "contour"
           }
          ],
          "contourcarpet": [
           {
            "colorbar": {
             "outlinewidth": 0,
             "ticks": ""
            },
            "type": "contourcarpet"
           }
          ],
          "heatmap": [
           {
            "colorbar": {
             "outlinewidth": 0,
             "ticks": ""
            },
            "colorscale": [
             [
              0,
              "#0d0887"
             ],
             [
              0.1111111111111111,
              "#46039f"
             ],
             [
              0.2222222222222222,
              "#7201a8"
             ],
             [
              0.3333333333333333,
              "#9c179e"
             ],
             [
              0.4444444444444444,
              "#bd3786"
             ],
             [
              0.5555555555555556,
              "#d8576b"
             ],
             [
              0.6666666666666666,
              "#ed7953"
             ],
             [
              0.7777777777777778,
              "#fb9f3a"
             ],
             [
              0.8888888888888888,
              "#fdca26"
             ],
             [
              1,
              "#f0f921"
             ]
            ],
            "type": "heatmap"
           }
          ],
          "heatmapgl": [
           {
            "colorbar": {
             "outlinewidth": 0,
             "ticks": ""
            },
            "colorscale": [
             [
              0,
              "#0d0887"
             ],
             [
              0.1111111111111111,
              "#46039f"
             ],
             [
              0.2222222222222222,
              "#7201a8"
             ],
             [
              0.3333333333333333,
              "#9c179e"
             ],
             [
              0.4444444444444444,
              "#bd3786"
             ],
             [
              0.5555555555555556,
              "#d8576b"
             ],
             [
              0.6666666666666666,
              "#ed7953"
             ],
             [
              0.7777777777777778,
              "#fb9f3a"
             ],
             [
              0.8888888888888888,
              "#fdca26"
             ],
             [
              1,
              "#f0f921"
             ]
            ],
            "type": "heatmapgl"
           }
          ],
          "histogram": [
           {
            "marker": {
             "pattern": {
              "fillmode": "overlay",
              "size": 10,
              "solidity": 0.2
             }
            },
            "type": "histogram"
           }
          ],
          "histogram2d": [
           {
            "colorbar": {
             "outlinewidth": 0,
             "ticks": ""
            },
            "colorscale": [
             [
              0,
              "#0d0887"
             ],
             [
              0.1111111111111111,
              "#46039f"
             ],
             [
              0.2222222222222222,
              "#7201a8"
             ],
             [
              0.3333333333333333,
              "#9c179e"
             ],
             [
              0.4444444444444444,
              "#bd3786"
             ],
             [
              0.5555555555555556,
              "#d8576b"
             ],
             [
              0.6666666666666666,
              "#ed7953"
             ],
             [
              0.7777777777777778,
              "#fb9f3a"
             ],
             [
              0.8888888888888888,
              "#fdca26"
             ],
             [
              1,
              "#f0f921"
             ]
            ],
            "type": "histogram2d"
           }
          ],
          "histogram2dcontour": [
           {
            "colorbar": {
             "outlinewidth": 0,
             "ticks": ""
            },
            "colorscale": [
             [
              0,
              "#0d0887"
             ],
             [
              0.1111111111111111,
              "#46039f"
             ],
             [
              0.2222222222222222,
              "#7201a8"
             ],
             [
              0.3333333333333333,
              "#9c179e"
             ],
             [
              0.4444444444444444,
              "#bd3786"
             ],
             [
              0.5555555555555556,
              "#d8576b"
             ],
             [
              0.6666666666666666,
              "#ed7953"
             ],
             [
              0.7777777777777778,
              "#fb9f3a"
             ],
             [
              0.8888888888888888,
              "#fdca26"
             ],
             [
              1,
              "#f0f921"
             ]
            ],
            "type": "histogram2dcontour"
           }
          ],
          "mesh3d": [
           {
            "colorbar": {
             "outlinewidth": 0,
             "ticks": ""
            },
            "type": "mesh3d"
           }
          ],
          "parcoords": [
           {
            "line": {
             "colorbar": {
              "outlinewidth": 0,
              "ticks": ""
             }
            },
            "type": "parcoords"
           }
          ],
          "pie": [
           {
            "automargin": true,
            "type": "pie"
           }
          ],
          "scatter": [
           {
            "fillpattern": {
             "fillmode": "overlay",
             "size": 10,
             "solidity": 0.2
            },
            "type": "scatter"
           }
          ],
          "scatter3d": [
           {
            "line": {
             "colorbar": {
              "outlinewidth": 0,
              "ticks": ""
             }
            },
            "marker": {
             "colorbar": {
              "outlinewidth": 0,
              "ticks": ""
             }
            },
            "type": "scatter3d"
           }
          ],
          "scattercarpet": [
           {
            "marker": {
             "colorbar": {
              "outlinewidth": 0,
              "ticks": ""
             }
            },
            "type": "scattercarpet"
           }
          ],
          "scattergeo": [
           {
            "marker": {
             "colorbar": {
              "outlinewidth": 0,
              "ticks": ""
             }
            },
            "type": "scattergeo"
           }
          ],
          "scattergl": [
           {
            "marker": {
             "colorbar": {
              "outlinewidth": 0,
              "ticks": ""
             }
            },
            "type": "scattergl"
           }
          ],
          "scattermapbox": [
           {
            "marker": {
             "colorbar": {
              "outlinewidth": 0,
              "ticks": ""
             }
            },
            "type": "scattermapbox"
           }
          ],
          "scatterpolar": [
           {
            "marker": {
             "colorbar": {
              "outlinewidth": 0,
              "ticks": ""
             }
            },
            "type": "scatterpolar"
           }
          ],
          "scatterpolargl": [
           {
            "marker": {
             "colorbar": {
              "outlinewidth": 0,
              "ticks": ""
             }
            },
            "type": "scatterpolargl"
           }
          ],
          "scatterternary": [
           {
            "marker": {
             "colorbar": {
              "outlinewidth": 0,
              "ticks": ""
             }
            },
            "type": "scatterternary"
           }
          ],
          "surface": [
           {
            "colorbar": {
             "outlinewidth": 0,
             "ticks": ""
            },
            "colorscale": [
             [
              0,
              "#0d0887"
             ],
             [
              0.1111111111111111,
              "#46039f"
             ],
             [
              0.2222222222222222,
              "#7201a8"
             ],
             [
              0.3333333333333333,
              "#9c179e"
             ],
             [
              0.4444444444444444,
              "#bd3786"
             ],
             [
              0.5555555555555556,
              "#d8576b"
             ],
             [
              0.6666666666666666,
              "#ed7953"
             ],
             [
              0.7777777777777778,
              "#fb9f3a"
             ],
             [
              0.8888888888888888,
              "#fdca26"
             ],
             [
              1,
              "#f0f921"
             ]
            ],
            "type": "surface"
           }
          ],
          "table": [
           {
            "cells": {
             "fill": {
              "color": "#EBF0F8"
             },
             "line": {
              "color": "white"
             }
            },
            "header": {
             "fill": {
              "color": "#C8D4E3"
             },
             "line": {
              "color": "white"
             }
            },
            "type": "table"
           }
          ]
         },
         "layout": {
          "annotationdefaults": {
           "arrowcolor": "#2a3f5f",
           "arrowhead": 0,
           "arrowwidth": 1
          },
          "autotypenumbers": "strict",
          "coloraxis": {
           "colorbar": {
            "outlinewidth": 0,
            "ticks": ""
           }
          },
          "colorscale": {
           "diverging": [
            [
             0,
             "#8e0152"
            ],
            [
             0.1,
             "#c51b7d"
            ],
            [
             0.2,
             "#de77ae"
            ],
            [
             0.3,
             "#f1b6da"
            ],
            [
             0.4,
             "#fde0ef"
            ],
            [
             0.5,
             "#f7f7f7"
            ],
            [
             0.6,
             "#e6f5d0"
            ],
            [
             0.7,
             "#b8e186"
            ],
            [
             0.8,
             "#7fbc41"
            ],
            [
             0.9,
             "#4d9221"
            ],
            [
             1,
             "#276419"
            ]
           ],
           "sequential": [
            [
             0,
             "#0d0887"
            ],
            [
             0.1111111111111111,
             "#46039f"
            ],
            [
             0.2222222222222222,
             "#7201a8"
            ],
            [
             0.3333333333333333,
             "#9c179e"
            ],
            [
             0.4444444444444444,
             "#bd3786"
            ],
            [
             0.5555555555555556,
             "#d8576b"
            ],
            [
             0.6666666666666666,
             "#ed7953"
            ],
            [
             0.7777777777777778,
             "#fb9f3a"
            ],
            [
             0.8888888888888888,
             "#fdca26"
            ],
            [
             1,
             "#f0f921"
            ]
           ],
           "sequentialminus": [
            [
             0,
             "#0d0887"
            ],
            [
             0.1111111111111111,
             "#46039f"
            ],
            [
             0.2222222222222222,
             "#7201a8"
            ],
            [
             0.3333333333333333,
             "#9c179e"
            ],
            [
             0.4444444444444444,
             "#bd3786"
            ],
            [
             0.5555555555555556,
             "#d8576b"
            ],
            [
             0.6666666666666666,
             "#ed7953"
            ],
            [
             0.7777777777777778,
             "#fb9f3a"
            ],
            [
             0.8888888888888888,
             "#fdca26"
            ],
            [
             1,
             "#f0f921"
            ]
           ]
          },
          "colorway": [
           "#636efa",
           "#EF553B",
           "#00cc96",
           "#ab63fa",
           "#FFA15A",
           "#19d3f3",
           "#FF6692",
           "#B6E880",
           "#FF97FF",
           "#FECB52"
          ],
          "font": {
           "color": "#2a3f5f"
          },
          "geo": {
           "bgcolor": "white",
           "lakecolor": "white",
           "landcolor": "#E5ECF6",
           "showlakes": true,
           "showland": true,
           "subunitcolor": "white"
          },
          "hoverlabel": {
           "align": "left"
          },
          "hovermode": "closest",
          "mapbox": {
           "style": "light"
          },
          "paper_bgcolor": "white",
          "plot_bgcolor": "#E5ECF6",
          "polar": {
           "angularaxis": {
            "gridcolor": "white",
            "linecolor": "white",
            "ticks": ""
           },
           "bgcolor": "#E5ECF6",
           "radialaxis": {
            "gridcolor": "white",
            "linecolor": "white",
            "ticks": ""
           }
          },
          "scene": {
           "xaxis": {
            "backgroundcolor": "#E5ECF6",
            "gridcolor": "white",
            "gridwidth": 2,
            "linecolor": "white",
            "showbackground": true,
            "ticks": "",
            "zerolinecolor": "white"
           },
           "yaxis": {
            "backgroundcolor": "#E5ECF6",
            "gridcolor": "white",
            "gridwidth": 2,
            "linecolor": "white",
            "showbackground": true,
            "ticks": "",
            "zerolinecolor": "white"
           },
           "zaxis": {
            "backgroundcolor": "#E5ECF6",
            "gridcolor": "white",
            "gridwidth": 2,
            "linecolor": "white",
            "showbackground": true,
            "ticks": "",
            "zerolinecolor": "white"
           }
          },
          "shapedefaults": {
           "line": {
            "color": "#2a3f5f"
           }
          },
          "ternary": {
           "aaxis": {
            "gridcolor": "white",
            "linecolor": "white",
            "ticks": ""
           },
           "baxis": {
            "gridcolor": "white",
            "linecolor": "white",
            "ticks": ""
           },
           "bgcolor": "#E5ECF6",
           "caxis": {
            "gridcolor": "white",
            "linecolor": "white",
            "ticks": ""
           }
          },
          "title": {
           "x": 0.05
          },
          "xaxis": {
           "automargin": true,
           "gridcolor": "white",
           "linecolor": "white",
           "ticks": "",
           "title": {
            "standoff": 15
           },
           "zerolinecolor": "white",
           "zerolinewidth": 2
          },
          "yaxis": {
           "automargin": true,
           "gridcolor": "white",
           "linecolor": "white",
           "ticks": "",
           "title": {
            "standoff": 15
           },
           "zerolinecolor": "white",
           "zerolinewidth": 2
          }
         }
        }
       }
      },
      "text/html": [
       "<div>                            <div id=\"4bb6613d-fa66-4a56-9d5b-459420ac4d33\" class=\"plotly-graph-div\" style=\"height:525px; width:100%;\"></div>            <script type=\"text/javascript\">                require([\"plotly\"], function(Plotly) {                    window.PLOTLYENV=window.PLOTLYENV || {};                                    if (document.getElementById(\"4bb6613d-fa66-4a56-9d5b-459420ac4d33\")) {                    Plotly.newPlot(                        \"4bb6613d-fa66-4a56-9d5b-459420ac4d33\",                        [{\"marker\":{\"opacity\":0.8,\"size\":2},\"mode\":\"markers\",\"x\":[-0.0172119140625,-0.06787109375,0.032958984375,-0.015869140625,-0.068359375,-0.11328125,-0.2049560546875,-0.56591796875,-0.005615234375,-0.0087890625,-0.0611572265625,-0.1116943359375,-0.17724609375,-0.263427734375,0.02685546875,-0.0018310546875,-0.046875,-0.1009521484375,-0.1513671875,-0.237548828125,-0.5648193359375,0.14306640625,0.10498046875,0.0653076171875,0.029541015625,-0.009765625,-0.065673828125,-0.1158447265625,-0.17919921875,-0.248291015625,0.142822265625,0.1265869140625,0.08154296875,0.040283203125,-0.0081787109375,-0.051025390625,-0.0992431640625,-0.1512451171875,-0.210693359375,-0.2835693359375,0.20703125,0.20068359375,0.171630859375,0.1336669921875,0.0887451171875,0.0419921875,-0.0028076171875,-0.043701171875,-0.099365234375,-0.1551513671875,-0.218505859375,-0.295166015625,-0.5675048828125,0.18310546875,0.1683349609375,0.13037109375,0.0999755859375,0.05517578125,0.008544921875,-0.028564453125,-0.093505859375,-0.1549072265625,-0.208740234375,-0.2587890625,-0.3355712890625,0.179931640625,0.145263671875,0.1307373046875,0.0948486328125,0.0555419921875,0.0145263671875,-0.031982421875,-0.09326171875,-0.1751708984375,-0.2197265625,-0.2698974609375,-0.3448486328125,-0.5791015625,0.160888671875,0.1134033203125,0.12939453125,0.0953369140625,0.0487060546875,0.000244140625,-0.038818359375,-0.1038818359375,-0.1822509765625,-0.257080078125,-0.31494140625,-0.5706787109375,0.143310546875,0.13232421875,0.0982666015625,0.0552978515625,0.0123291015625,-0.0489501953125,-0.1083984375,-0.173583984375,-0.2861328125,0.1715087890625,0.1171875,0.093994140625,0.0582275390625,0.015380859375,-0.032958984375,-0.0867919921875,-0.157470703125,-0.2340087890625,0.138671875,0.0843505859375,0.0577392578125,-0.0372314453125,-0.1448974609375,-0.2232666015625,-0.29052734375,0.0587158203125,0.0458984375,0.00439453125,-0.0462646484375,-0.0745849609375,-0.1025390625,-0.1845703125,-0.2613525390625,-0.326904296875,-0.0064697265625,-0.013671875,-0.0496826171875,-0.0816650390625,-0.1246337890625,-0.1768798828125,-0.2591552734375,-0.031494140625,-0.0479736328125,-0.1043701171875,-0.090576171875,-0.13916015625,-0.193359375,-0.2869873046875,-0.0482177734375,0.012939453125,-0.0206298828125,-0.083740234375,-0.3118896484375,0.1029052734375,0.1025390625,-0.002685546875,-0.0433349609375,0.176513671875,0.0472412109375,-0.1893310546875,-0.5435791015625,0.0028076171875,0.0712890625,-0.07080078125,-0.585205078125,-0.5325927734375,-0.5772705078125,-0.5079345703125,-0.5128173828125,-0.561767578125,-0.5496826171875,-0.54833984375,-0.549072265625],\"y\":[-0.146484375,-0.1263427734375,-0.177978515625,-0.1533203125,-0.137939453125,-0.103759765625,-0.1854248046875,0.6246337890625,-0.2742919921875,-0.1334228515625,-0.1180419921875,-0.0977783203125,-0.1146240234375,-0.18310546875,-0.195068359375,-0.1192626953125,-0.08642578125,-0.075439453125,-0.05517578125,-0.122802734375,0.626220703125,-0.1973876953125,-0.14501953125,-0.0972900390625,-0.040283203125,0.007568359375,0.0128173828125,0.032958984375,0.0208740234375,-0.0048828125,-0.205322265625,-0.0970458984375,-0.0633544921875,-0.020263671875,0.0042724609375,0.04296875,0.0667724609375,0.0823974609375,0.0797119140625,0.0447998046875,-0.33837890625,-0.2022705078125,-0.126708984375,-0.074462890625,-0.040771484375,-0.0126953125,0.0211181640625,0.064453125,0.0706787109375,0.0770263671875,0.0650634765625,0.02001953125,0.61767578125,-0.2591552734375,-0.1463623046875,-0.0941162109375,-0.024169921875,0.0096435546875,0.038818359375,0.09130859375,0.0743408203125,0.06689453125,0.0771484375,0.09765625,0.0537109375,-0.2657470703125,-0.2042236328125,-0.0914306640625,-0.035400390625,0.0123291015625,0.055419921875,0.084716796875,0.0771484375,0.0177001953125,0.052001953125,0.0726318359375,0.0333251953125,0.581787109375,-0.3209228515625,-0.2918701171875,-0.099853515625,-0.0382080078125,-0.01025390625,0.014404296875,0.062255859375,0.04541015625,-0.0037841796875,-0.044189453125,-0.0419921875,0.59619140625,-0.21533203125,-0.09326171875,-0.0316162109375,0.0067138671875,0.0452880859375,0.0364990234375,0.033447265625,0.016845703125,-0.115234375,-0.1512451171875,-0.140869140625,-0.05126953125,0.0057373046875,0.044189453125,0.06884765625,0.0787353515625,0.048095703125,0.00390625,-0.233154296875,-0.0726318359375,0.0064697265625,0.0604248046875,0.0823974609375,0.033447265625,0.011474609375,-0.30029296875,-0.1837158203125,-0.1405029296875,-0.1204833984375,-0.044677734375,0.0311279296875,-0.027099609375,-0.072265625,-0.0885009765625,-0.3170166015625,-0.185546875,-0.12841796875,-0.0618896484375,-0.0240478515625,-0.00830078125,-0.0662841796875,-0.38623046875,-0.27783203125,-0.272705078125,-0.0902099609375,-0.0653076171875,-0.05419921875,-0.1397705078125,-0.2808837890625,0.02099609375,0.082763671875,0.0704345703125,-0.2027587890625,0.093017578125,0.2379150390625,0.1190185546875,0.1612548828125,0.13427734375,0.0997314453125,-0.3475341796875,0.62939453125,-0.17333984375,0.1475830078125,-0.063720703125,0.572509765625,0.5643310546875,0.58447265625,0.60791015625,0.5960693359375,0.601318359375,0.62451171875,0.6259765625,0.614990234375],\"z\":[0.8143310546875,0.813507080078125,0.7517852783203125,0.751068115234375,0.7501220703125,0.7496337890625,0.746337890625,0.750457763671875,0.6791152954101562,0.6815872192382812,0.680633544921875,0.6798095703125,0.6779632568359375,0.674713134765625,0.62005615234375,0.6209182739257812,0.620513916015625,0.6194076538085938,0.6185836791992188,0.615081787109375,0.6244735717773438,0.5453872680664062,0.5456619262695312,0.5457763671875,0.54620361328125,0.5463333129882812,0.5450363159179688,0.544219970703125,0.54229736328125,0.5398941040039062,0.4842987060546875,0.48670196533203125,0.48638916015625,0.48641204833984375,0.4857635498046875,0.485626220703125,0.48497772216796875,0.48398590087890625,0.48230743408203125,0.47943115234375,0.41680908203125,0.42057037353515625,0.4219512939453125,0.42241668701171875,0.42214202880859375,0.42169189453125,0.42142486572265625,0.42153167724609375,0.42015838623046875,0.41878509521484375,0.4166717529296875,0.4132537841796875,0.42261505126953125,0.34481048583984375,0.3479766845703125,0.34854888916015625,0.3499298095703125,0.34970855712890625,0.3492889404296875,0.34987640380859375,0.34745025634765625,0.34542083740234375,0.34420013427734375,0.3433837890625,0.33974456787109375,0.26769256591796875,0.26880645751953125,0.27231597900390625,0.27323150634765625,0.273712158203125,0.27397918701171875,0.27359771728515625,0.27147674560546875,0.2669525146484375,0.26678466796875,0.26596832275390625,0.2623138427734375,0.2762908935546875,0.1880035400390625,0.18762969970703125,0.19544219970703125,0.19672393798828125,0.19637298583984375,0.1957855224609375,0.19637298583984375,0.1936798095703125,0.18933868408203125,0.187744140625,0.1859893798828125,0.2017822265625,0.0992279052734375,0.10398101806640625,0.105438232421875,0.1056365966796875,0.10582733154296875,0.103485107421875,0.1013946533203125,0.098541259765625,0.0893096923828125,0.01607513427734375,0.0146942138671875,0.0179595947265625,0.019317626953125,0.01959228515625,0.01904296875,0.01767730712890625,0.01384735107421875,0.00919342041015625,-0.081878662109375,-0.075927734375,-0.07293701171875,-0.073699951171875,-0.076507568359375,-0.08173370361328125,-0.08519744873046875,-0.1803131103515625,-0.1745758056640625,-0.1738433837890625,-0.1746673583984375,-0.1717376708984375,-0.16880035400390625,-0.17494964599609375,-0.18016815185546875,-0.183502197265625,-0.29111480712890625,-0.28388214111328125,-0.28202056884765625,-0.27947998046875,-0.27895355224609375,-0.28011322021484375,-0.28665924072265625,-0.400726318359375,-0.39475250244140625,-0.39665985107421875,-0.3849334716796875,-0.3853912353515625,-0.386932373046875,-0.39601898193359375,-0.5207595825195312,-0.49806976318359375,-0.49542236328125,-0.49893951416015625,-0.5268325805664062,-0.6020431518554688,-0.5917892456054688,-0.6049118041992188,-0.6036758422851562,-0.717071533203125,-0.7256851196289062,-0.7706146240234375,-0.7137374877929688,-0.8694229125976562,-0.8401718139648438,-0.8641357421875,0.48493194580078125,0.42209625244140625,0.34930419921875,0.20423126220703125,0.11118316650390625,-0.25873565673828125,-0.35829925537109375,-0.48265838623046875,-0.5948104858398438],\"type\":\"scatter3d\"},{\"marker\":{\"color\":\"red\",\"opacity\":0.8,\"size\":4},\"mode\":\"markers\",\"x\":[-0.09371381253004074,0.08073412626981735,0.11151541024446487,0.009494282305240631,0.028898058459162712,0.030603213235735893,0.10830963402986526,-0.07944682240486145,-0.15320539474487305,-0.1781437247991562,-0.06694112718105316,-0.11792123317718506,-0.07088841497898102],\"y\":[-0.11483917385339737,-0.15084105730056763,-0.21794962882995605,-0.1993529200553894,-0.12840163707733154,-0.11515379697084427,-0.03289460018277168,0.0720367506146431,0.124269500374794,0.001714371144771576,0.010641001164913177,-0.0318819023668766,-0.027663985267281532],\"z\":[0.5454686880111694,0.39801162481307983,0.194223552942276,0.12414444983005524,-0.03622687608003616,-0.36341750621795654,-0.6757907271385193,0.4021924138069153,0.2029857039451599,0.18203012645244598,-0.03003762662410736,-0.3577098846435547,-0.677392840385437],\"type\":\"scatter3d\"},{\"line\":{\"color\":\"black\",\"width\":2},\"mode\":\"lines\",\"x\":[-0.09371381253004074,0.000643651932477951],\"y\":[-0.11483917385339737,-0.039402153342962265],\"z\":[0.5454686880111694,0.40010201930999756],\"type\":\"scatter3d\"},{\"line\":{\"color\":\"black\",\"width\":2},\"mode\":\"lines\",\"x\":[0.08073412626981735,0.11151541024446487],\"y\":[-0.15084105730056763,-0.21794962882995605],\"z\":[0.39801162481307983,0.194223552942276],\"type\":\"scatter3d\"},{\"line\":{\"color\":\"black\",\"width\":2},\"mode\":\"lines\",\"x\":[0.08073412626981735,0.028898058459162712],\"y\":[-0.15084105730056763,-0.12840163707733154],\"z\":[0.39801162481307983,-0.03622687608003616],\"type\":\"scatter3d\"},{\"line\":{\"color\":\"black\",\"width\":2},\"mode\":\"lines\",\"x\":[0.08073412626981735,-0.07944682240486145],\"y\":[-0.15084105730056763,0.0720367506146431],\"z\":[0.39801162481307983,0.4021924138069153],\"type\":\"scatter3d\"},{\"line\":{\"color\":\"black\",\"width\":2},\"mode\":\"lines\",\"x\":[0.11151541024446487,0.009494282305240631],\"y\":[-0.21794962882995605,-0.1993529200553894],\"z\":[0.194223552942276,0.12414444983005524],\"type\":\"scatter3d\"},{\"line\":{\"color\":\"black\",\"width\":2},\"mode\":\"lines\",\"x\":[0.028898058459162712,0.030603213235735893],\"y\":[-0.12840163707733154,-0.11515379697084427],\"z\":[-0.03622687608003616,-0.36341750621795654],\"type\":\"scatter3d\"},{\"line\":{\"color\":\"black\",\"width\":2},\"mode\":\"lines\",\"x\":[0.028898058459162712,-0.06694112718105316],\"y\":[-0.12840163707733154,0.010641001164913177],\"z\":[-0.03622687608003616,-0.03003762662410736],\"type\":\"scatter3d\"},{\"line\":{\"color\":\"black\",\"width\":2},\"mode\":\"lines\",\"x\":[0.030603213235735893,0.10830963402986526],\"y\":[-0.11515379697084427,-0.03289460018277168],\"z\":[-0.36341750621795654,-0.6757907271385193],\"type\":\"scatter3d\"},{\"line\":{\"color\":\"black\",\"width\":2},\"mode\":\"lines\",\"x\":[-0.07944682240486145,-0.15320539474487305],\"y\":[0.0720367506146431,0.124269500374794],\"z\":[0.4021924138069153,0.2029857039451599],\"type\":\"scatter3d\"},{\"line\":{\"color\":\"black\",\"width\":2},\"mode\":\"lines\",\"x\":[-0.07944682240486145,-0.06694112718105316],\"y\":[0.0720367506146431,0.010641001164913177],\"z\":[0.4021924138069153,-0.03003762662410736],\"type\":\"scatter3d\"},{\"line\":{\"color\":\"black\",\"width\":2},\"mode\":\"lines\",\"x\":[-0.15320539474487305,-0.1781437247991562],\"y\":[0.124269500374794,0.001714371144771576],\"z\":[0.2029857039451599,0.18203012645244598],\"type\":\"scatter3d\"},{\"line\":{\"color\":\"black\",\"width\":2},\"mode\":\"lines\",\"x\":[-0.06694112718105316,-0.11792123317718506],\"y\":[0.010641001164913177,-0.0318819023668766],\"z\":[-0.03003762662410736,-0.3577098846435547],\"type\":\"scatter3d\"},{\"line\":{\"color\":\"black\",\"width\":2},\"mode\":\"lines\",\"x\":[-0.11792123317718506,-0.07088841497898102],\"y\":[-0.0318819023668766,-0.027663985267281532],\"z\":[-0.3577098846435547,-0.677392840385437],\"type\":\"scatter3d\"},{\"line\":{\"color\":\"blue\",\"width\":2},\"mode\":\"lines\",\"x\":[0,-0.6087760189535503],\"y\":[0,-0.7933421448196653],\"z\":[0,0],\"type\":\"scatter3d\"}],                        {\"template\":{\"data\":{\"histogram2dcontour\":[{\"type\":\"histogram2dcontour\",\"colorbar\":{\"outlinewidth\":0,\"ticks\":\"\"},\"colorscale\":[[0.0,\"#0d0887\"],[0.1111111111111111,\"#46039f\"],[0.2222222222222222,\"#7201a8\"],[0.3333333333333333,\"#9c179e\"],[0.4444444444444444,\"#bd3786\"],[0.5555555555555556,\"#d8576b\"],[0.6666666666666666,\"#ed7953\"],[0.7777777777777778,\"#fb9f3a\"],[0.8888888888888888,\"#fdca26\"],[1.0,\"#f0f921\"]]}],\"choropleth\":[{\"type\":\"choropleth\",\"colorbar\":{\"outlinewidth\":0,\"ticks\":\"\"}}],\"histogram2d\":[{\"type\":\"histogram2d\",\"colorbar\":{\"outlinewidth\":0,\"ticks\":\"\"},\"colorscale\":[[0.0,\"#0d0887\"],[0.1111111111111111,\"#46039f\"],[0.2222222222222222,\"#7201a8\"],[0.3333333333333333,\"#9c179e\"],[0.4444444444444444,\"#bd3786\"],[0.5555555555555556,\"#d8576b\"],[0.6666666666666666,\"#ed7953\"],[0.7777777777777778,\"#fb9f3a\"],[0.8888888888888888,\"#fdca26\"],[1.0,\"#f0f921\"]]}],\"heatmap\":[{\"type\":\"heatmap\",\"colorbar\":{\"outlinewidth\":0,\"ticks\":\"\"},\"colorscale\":[[0.0,\"#0d0887\"],[0.1111111111111111,\"#46039f\"],[0.2222222222222222,\"#7201a8\"],[0.3333333333333333,\"#9c179e\"],[0.4444444444444444,\"#bd3786\"],[0.5555555555555556,\"#d8576b\"],[0.6666666666666666,\"#ed7953\"],[0.7777777777777778,\"#fb9f3a\"],[0.8888888888888888,\"#fdca26\"],[1.0,\"#f0f921\"]]}],\"heatmapgl\":[{\"type\":\"heatmapgl\",\"colorbar\":{\"outlinewidth\":0,\"ticks\":\"\"},\"colorscale\":[[0.0,\"#0d0887\"],[0.1111111111111111,\"#46039f\"],[0.2222222222222222,\"#7201a8\"],[0.3333333333333333,\"#9c179e\"],[0.4444444444444444,\"#bd3786\"],[0.5555555555555556,\"#d8576b\"],[0.6666666666666666,\"#ed7953\"],[0.7777777777777778,\"#fb9f3a\"],[0.8888888888888888,\"#fdca26\"],[1.0,\"#f0f921\"]]}],\"contourcarpet\":[{\"type\":\"contourcarpet\",\"colorbar\":{\"outlinewidth\":0,\"ticks\":\"\"}}],\"contour\":[{\"type\":\"contour\",\"colorbar\":{\"outlinewidth\":0,\"ticks\":\"\"},\"colorscale\":[[0.0,\"#0d0887\"],[0.1111111111111111,\"#46039f\"],[0.2222222222222222,\"#7201a8\"],[0.3333333333333333,\"#9c179e\"],[0.4444444444444444,\"#bd3786\"],[0.5555555555555556,\"#d8576b\"],[0.6666666666666666,\"#ed7953\"],[0.7777777777777778,\"#fb9f3a\"],[0.8888888888888888,\"#fdca26\"],[1.0,\"#f0f921\"]]}],\"surface\":[{\"type\":\"surface\",\"colorbar\":{\"outlinewidth\":0,\"ticks\":\"\"},\"colorscale\":[[0.0,\"#0d0887\"],[0.1111111111111111,\"#46039f\"],[0.2222222222222222,\"#7201a8\"],[0.3333333333333333,\"#9c179e\"],[0.4444444444444444,\"#bd3786\"],[0.5555555555555556,\"#d8576b\"],[0.6666666666666666,\"#ed7953\"],[0.7777777777777778,\"#fb9f3a\"],[0.8888888888888888,\"#fdca26\"],[1.0,\"#f0f921\"]]}],\"mesh3d\":[{\"type\":\"mesh3d\",\"colorbar\":{\"outlinewidth\":0,\"ticks\":\"\"}}],\"scatter\":[{\"fillpattern\":{\"fillmode\":\"overlay\",\"size\":10,\"solidity\":0.2},\"type\":\"scatter\"}],\"parcoords\":[{\"type\":\"parcoords\",\"line\":{\"colorbar\":{\"outlinewidth\":0,\"ticks\":\"\"}}}],\"scatterpolargl\":[{\"type\":\"scatterpolargl\",\"marker\":{\"colorbar\":{\"outlinewidth\":0,\"ticks\":\"\"}}}],\"bar\":[{\"error_x\":{\"color\":\"#2a3f5f\"},\"error_y\":{\"color\":\"#2a3f5f\"},\"marker\":{\"line\":{\"color\":\"#E5ECF6\",\"width\":0.5},\"pattern\":{\"fillmode\":\"overlay\",\"size\":10,\"solidity\":0.2}},\"type\":\"bar\"}],\"scattergeo\":[{\"type\":\"scattergeo\",\"marker\":{\"colorbar\":{\"outlinewidth\":0,\"ticks\":\"\"}}}],\"scatterpolar\":[{\"type\":\"scatterpolar\",\"marker\":{\"colorbar\":{\"outlinewidth\":0,\"ticks\":\"\"}}}],\"histogram\":[{\"marker\":{\"pattern\":{\"fillmode\":\"overlay\",\"size\":10,\"solidity\":0.2}},\"type\":\"histogram\"}],\"scattergl\":[{\"type\":\"scattergl\",\"marker\":{\"colorbar\":{\"outlinewidth\":0,\"ticks\":\"\"}}}],\"scatter3d\":[{\"type\":\"scatter3d\",\"line\":{\"colorbar\":{\"outlinewidth\":0,\"ticks\":\"\"}},\"marker\":{\"colorbar\":{\"outlinewidth\":0,\"ticks\":\"\"}}}],\"scattermapbox\":[{\"type\":\"scattermapbox\",\"marker\":{\"colorbar\":{\"outlinewidth\":0,\"ticks\":\"\"}}}],\"scatterternary\":[{\"type\":\"scatterternary\",\"marker\":{\"colorbar\":{\"outlinewidth\":0,\"ticks\":\"\"}}}],\"scattercarpet\":[{\"type\":\"scattercarpet\",\"marker\":{\"colorbar\":{\"outlinewidth\":0,\"ticks\":\"\"}}}],\"carpet\":[{\"aaxis\":{\"endlinecolor\":\"#2a3f5f\",\"gridcolor\":\"white\",\"linecolor\":\"white\",\"minorgridcolor\":\"white\",\"startlinecolor\":\"#2a3f5f\"},\"baxis\":{\"endlinecolor\":\"#2a3f5f\",\"gridcolor\":\"white\",\"linecolor\":\"white\",\"minorgridcolor\":\"white\",\"startlinecolor\":\"#2a3f5f\"},\"type\":\"carpet\"}],\"table\":[{\"cells\":{\"fill\":{\"color\":\"#EBF0F8\"},\"line\":{\"color\":\"white\"}},\"header\":{\"fill\":{\"color\":\"#C8D4E3\"},\"line\":{\"color\":\"white\"}},\"type\":\"table\"}],\"barpolar\":[{\"marker\":{\"line\":{\"color\":\"#E5ECF6\",\"width\":0.5},\"pattern\":{\"fillmode\":\"overlay\",\"size\":10,\"solidity\":0.2}},\"type\":\"barpolar\"}],\"pie\":[{\"automargin\":true,\"type\":\"pie\"}]},\"layout\":{\"autotypenumbers\":\"strict\",\"colorway\":[\"#636efa\",\"#EF553B\",\"#00cc96\",\"#ab63fa\",\"#FFA15A\",\"#19d3f3\",\"#FF6692\",\"#B6E880\",\"#FF97FF\",\"#FECB52\"],\"font\":{\"color\":\"#2a3f5f\"},\"hovermode\":\"closest\",\"hoverlabel\":{\"align\":\"left\"},\"paper_bgcolor\":\"white\",\"plot_bgcolor\":\"#E5ECF6\",\"polar\":{\"bgcolor\":\"#E5ECF6\",\"angularaxis\":{\"gridcolor\":\"white\",\"linecolor\":\"white\",\"ticks\":\"\"},\"radialaxis\":{\"gridcolor\":\"white\",\"linecolor\":\"white\",\"ticks\":\"\"}},\"ternary\":{\"bgcolor\":\"#E5ECF6\",\"aaxis\":{\"gridcolor\":\"white\",\"linecolor\":\"white\",\"ticks\":\"\"},\"baxis\":{\"gridcolor\":\"white\",\"linecolor\":\"white\",\"ticks\":\"\"},\"caxis\":{\"gridcolor\":\"white\",\"linecolor\":\"white\",\"ticks\":\"\"}},\"coloraxis\":{\"colorbar\":{\"outlinewidth\":0,\"ticks\":\"\"}},\"colorscale\":{\"sequential\":[[0.0,\"#0d0887\"],[0.1111111111111111,\"#46039f\"],[0.2222222222222222,\"#7201a8\"],[0.3333333333333333,\"#9c179e\"],[0.4444444444444444,\"#bd3786\"],[0.5555555555555556,\"#d8576b\"],[0.6666666666666666,\"#ed7953\"],[0.7777777777777778,\"#fb9f3a\"],[0.8888888888888888,\"#fdca26\"],[1.0,\"#f0f921\"]],\"sequentialminus\":[[0.0,\"#0d0887\"],[0.1111111111111111,\"#46039f\"],[0.2222222222222222,\"#7201a8\"],[0.3333333333333333,\"#9c179e\"],[0.4444444444444444,\"#bd3786\"],[0.5555555555555556,\"#d8576b\"],[0.6666666666666666,\"#ed7953\"],[0.7777777777777778,\"#fb9f3a\"],[0.8888888888888888,\"#fdca26\"],[1.0,\"#f0f921\"]],\"diverging\":[[0,\"#8e0152\"],[0.1,\"#c51b7d\"],[0.2,\"#de77ae\"],[0.3,\"#f1b6da\"],[0.4,\"#fde0ef\"],[0.5,\"#f7f7f7\"],[0.6,\"#e6f5d0\"],[0.7,\"#b8e186\"],[0.8,\"#7fbc41\"],[0.9,\"#4d9221\"],[1,\"#276419\"]]},\"xaxis\":{\"gridcolor\":\"white\",\"linecolor\":\"white\",\"ticks\":\"\",\"title\":{\"standoff\":15},\"zerolinecolor\":\"white\",\"automargin\":true,\"zerolinewidth\":2},\"yaxis\":{\"gridcolor\":\"white\",\"linecolor\":\"white\",\"ticks\":\"\",\"title\":{\"standoff\":15},\"zerolinecolor\":\"white\",\"automargin\":true,\"zerolinewidth\":2},\"scene\":{\"xaxis\":{\"backgroundcolor\":\"#E5ECF6\",\"gridcolor\":\"white\",\"linecolor\":\"white\",\"showbackground\":true,\"ticks\":\"\",\"zerolinecolor\":\"white\",\"gridwidth\":2},\"yaxis\":{\"backgroundcolor\":\"#E5ECF6\",\"gridcolor\":\"white\",\"linecolor\":\"white\",\"showbackground\":true,\"ticks\":\"\",\"zerolinecolor\":\"white\",\"gridwidth\":2},\"zaxis\":{\"backgroundcolor\":\"#E5ECF6\",\"gridcolor\":\"white\",\"linecolor\":\"white\",\"showbackground\":true,\"ticks\":\"\",\"zerolinecolor\":\"white\",\"gridwidth\":2}},\"shapedefaults\":{\"line\":{\"color\":\"#2a3f5f\"}},\"annotationdefaults\":{\"arrowcolor\":\"#2a3f5f\",\"arrowhead\":0,\"arrowwidth\":1},\"geo\":{\"bgcolor\":\"white\",\"landcolor\":\"#E5ECF6\",\"subunitcolor\":\"white\",\"showland\":true,\"showlakes\":true,\"lakecolor\":\"white\"},\"title\":{\"x\":0.05},\"mapbox\":{\"style\":\"light\"}}},\"scene\":{\"aspectratio\":{\"x\":3,\"y\":3,\"z\":3},\"xaxis\":{\"range\":[-1.5,1.5]},\"yaxis\":{\"range\":[-1.5,1.5]},\"zaxis\":{\"range\":[-1.5,1.5]},\"aspectmode\":\"manual\"}},                        {\"responsive\": true}                    ).then(function(){\n",
       "                            \n",
       "var gd = document.getElementById('4bb6613d-fa66-4a56-9d5b-459420ac4d33');\n",
       "var x = new MutationObserver(function (mutations, observer) {{\n",
       "        var display = window.getComputedStyle(gd).display;\n",
       "        if (!display || display === 'none') {{\n",
       "            console.log([gd, 'removed!']);\n",
       "            Plotly.purge(gd);\n",
       "            observer.disconnect();\n",
       "        }}\n",
       "}});\n",
       "\n",
       "// Listen for the removal of the full notebook cells\n",
       "var notebookContainer = gd.closest('#notebook-container');\n",
       "if (notebookContainer) {{\n",
       "    x.observe(notebookContainer, {childList: true});\n",
       "}}\n",
       "\n",
       "// Listen for the clearing of the current output cell\n",
       "var outputEl = gd.closest('.output');\n",
       "if (outputEl) {{\n",
       "    x.observe(outputEl, {childList: true});\n",
       "}}\n",
       "\n",
       "                        })                };                });            </script>        </div>"
      ]
     },
     "metadata": {},
     "output_type": "display_data"
    },
    {
     "data": {
      "application/vnd.plotly.v1+json": {
       "config": {
        "plotlyServerURL": "https://plot.ly"
       },
       "data": [
        {
         "marker": {
          "opacity": 0.8,
          "size": 2
         },
         "mode": "markers",
         "type": "scatter3d",
         "x": [
          0.001708984375,
          -0.0479736328125,
          -0.14501953125,
          0.025634765625,
          0.005859375,
          -0.04931640625,
          -0.100830078125,
          -0.161865234375,
          0.01513671875,
          -0.0084228515625,
          -0.0430908203125,
          -0.0926513671875,
          -0.1612548828125,
          -0.2337646484375,
          0.00732421875,
          0.033447265625,
          0.017333984375,
          -0.0340576171875,
          -0.079833984375,
          -0.1463623046875,
          -0.2188720703125,
          0.144287109375,
          0.1185302734375,
          0.0875244140625,
          0.043701171875,
          -0.001953125,
          -0.041748046875,
          -0.091064453125,
          -0.1536865234375,
          -0.2259521484375,
          0.17724609375,
          0.144287109375,
          0.0546875,
          0.00537109375,
          -0.036376953125,
          -0.0845947265625,
          -0.2078857421875,
          -0.2901611328125,
          0.1883544921875,
          0.17529296875,
          0.1422119140625,
          0.10205078125,
          0.056396484375,
          0.0126953125,
          -0.03271484375,
          -0.076171875,
          -0.131103515625,
          -0.195556640625,
          -0.2796630859375,
          0.173095703125,
          0.1727294921875,
          0.1378173828125,
          0.112548828125,
          0.06689453125,
          0.0233154296875,
          -0.0201416015625,
          -0.0711669921875,
          -0.1318359375,
          -0.180908203125,
          -0.2435302734375,
          -0.3160400390625,
          0.1689453125,
          0.1446533203125,
          0.126220703125,
          0.11376953125,
          0.07568359375,
          0.01708984375,
          -0.0133056640625,
          -0.0699462890625,
          -0.1439208984375,
          -0.2047119140625,
          -0.25,
          -0.324462890625,
          0.1602783203125,
          0.102783203125,
          0.1341552734375,
          0.110595703125,
          0.0631103515625,
          0.0118408203125,
          -0.0260009765625,
          -0.0809326171875,
          -0.1568603515625,
          -0.231201171875,
          -0.286376953125,
          -0.329833984375,
          0.1407470703125,
          0.1370849609375,
          0.1116943359375,
          0.0660400390625,
          0.0205078125,
          -0.0250244140625,
          -0.083740234375,
          -0.1519775390625,
          -0.262939453125,
          0.1602783203125,
          0.12890625,
          0.1053466796875,
          0.0689697265625,
          0.0272216796875,
          -0.02197265625,
          -0.0711669921875,
          -0.1365966796875,
          -0.2222900390625,
          0.156005859375,
          0.148681640625,
          0.1121826171875,
          0.026611328125,
          -0.0263671875,
          -0.147705078125,
          -0.256591796875,
          0.0772705078125,
          0.05517578125,
          0.0185546875,
          -0.034912109375,
          -0.0675048828125,
          -0.113037109375,
          -0.168212890625,
          -0.219482421875,
          -0.3035888671875,
          0.0323486328125,
          0.0303955078125,
          0.0009765625,
          -0.0675048828125,
          -0.0927734375,
          -0.1214599609375,
          -0.180419921875,
          -0.2606201171875,
          -0.32958984375,
          0.01220703125,
          -0.0360107421875,
          -0.1009521484375,
          -0.12451171875,
          -0.1572265625,
          -0.197265625,
          -0.2584228515625,
          -0.3253173828125,
          -0.01025390625,
          -0.0582275390625,
          -0.0833740234375,
          -0.1044921875,
          -0.1844482421875,
          0.0115966796875,
          0.0594482421875,
          0.0103759765625,
          -0.0443115234375,
          -0.18408203125,
          0.0130615234375,
          0.0189208984375,
          0.07421875,
          -0.0162353515625,
          -0.0615234375,
          -0.051025390625,
          -0.164794921875
         ],
         "y": [
          -0.1138916015625,
          -0.09375,
          -0.18994140625,
          -0.2059326171875,
          -0.1116943359375,
          -0.1053466796875,
          -0.0908203125,
          -0.09814453125,
          -0.2322998046875,
          -0.147216796875,
          -0.0899658203125,
          -0.07080078125,
          -0.0965576171875,
          -0.1314697265625,
          -0.4017333984375,
          -0.19140625,
          -0.087890625,
          -0.0723876953125,
          -0.0428466796875,
          -0.0640869140625,
          -0.0999755859375,
          -0.202392578125,
          -0.1221923828125,
          -0.056884765625,
          -0.02294921875,
          0.00634765625,
          0.0496826171875,
          0.0699462890625,
          0.05712890625,
          0.0223388671875,
          -0.1268310546875,
          -0.0662841796875,
          -0.0032958984375,
          0.0167236328125,
          0.055419921875,
          0.080322265625,
          0.060302734375,
          0.002685546875,
          -0.2401123046875,
          -0.12841796875,
          -0.06689453125,
          -0.02392578125,
          0.00537109375,
          0.039306640625,
          0.0677490234375,
          0.101806640625,
          0.1083984375,
          0.092041015625,
          0.02978515625,
          -0.28759765625,
          -0.1434326171875,
          -0.0865478515625,
          -0.00634765625,
          0.0228271484375,
          0.0567626953125,
          0.0906982421875,
          0.105224609375,
          0.097900390625,
          0.118408203125,
          0.1068115234375,
          0.0723876953125,
          -0.2998046875,
          -0.2149658203125,
          -0.1162109375,
          -0.003662109375,
          0.0440673828125,
          0.041015625,
          0.1063232421875,
          0.1080322265625,
          0.0684814453125,
          0.061279296875,
          0.0911865234375,
          0.05126953125,
          -0.325927734375,
          -0.32568359375,
          -0.1016845703125,
          -0.016845703125,
          0.0076904296875,
          0.023193359375,
          0.071044921875,
          0.076416015625,
          0.0323486328125,
          -0.007080078125,
          -0.0001220703125,
          0.0335693359375,
          -0.2298583984375,
          -0.093994140625,
          -0.014892578125,
          0.0142822265625,
          0.0435791015625,
          0.072998046875,
          0.0701904296875,
          0.04345703125,
          -0.0833740234375,
          -0.189208984375,
          -0.123046875,
          -0.039306640625,
          0.0130615234375,
          0.0516357421875,
          0.07177734375,
          0.092041015625,
          0.0755615234375,
          0.007568359375,
          -0.1976318359375,
          -0.0711669921875,
          -0.0189208984375,
          0.052490234375,
          0.0633544921875,
          0.0487060546875,
          -0.073486328125,
          -0.2598876953125,
          -0.17041015625,
          -0.117919921875,
          -0.10693359375,
          -0.0450439453125,
          -0.0166015625,
          -0.0098876953125,
          0.006103515625,
          -0.0560302734375,
          -0.3743896484375,
          -0.23388671875,
          -0.162841796875,
          -0.18994140625,
          -0.1094970703125,
          -0.038330078125,
          -0.0408935546875,
          -0.0938720703125,
          -0.1199951171875,
          -0.285400390625,
          -0.2606201171875,
          -0.2772216796875,
          -0.192138671875,
          -0.130126953125,
          -0.0875244140625,
          -0.094482421875,
          -0.114990234375,
          -0.198974609375,
          -0.174072265625,
          -0.09375,
          -0.005126953125,
          -0.058349609375,
          -0.154541015625,
          0.105712890625,
          0.1258544921875,
          0.1322021484375,
          -0.063720703125,
          -0.2930908203125,
          -0.1343994140625,
          0.143310546875,
          0.0618896484375,
          -0.2003173828125,
          -0.032470703125,
          -0.169677734375
         ],
         "z": [
          0.80804443359375,
          0.807220458984375,
          0.8039169311523438,
          0.7428054809570312,
          0.7437896728515625,
          0.7426223754882812,
          0.7416839599609375,
          0.7401809692382812,
          0.6752395629882812,
          0.6762008666992188,
          0.6763992309570312,
          0.6755752563476562,
          0.6734695434570312,
          0.6711044311523438,
          0.6111526489257812,
          0.6160964965820312,
          0.6178054809570312,
          0.6168441772460938,
          0.616302490234375,
          0.6142044067382812,
          0.6116867065429688,
          0.5422821044921875,
          0.5435028076171875,
          0.54425048828125,
          0.5438995361328125,
          0.54339599609375,
          0.5433731079101562,
          0.5425491333007812,
          0.5406265258789062,
          0.53790283203125,
          0.4828948974609375,
          0.483612060546875,
          0.48282623291015625,
          0.4820098876953125,
          0.48187255859375,
          0.481231689453125,
          0.47735595703125,
          0.473602294921875,
          0.41800689697265625,
          0.42087554931640625,
          0.42171478271484375,
          0.42181396484375,
          0.42136383056640625,
          0.42110443115234375,
          0.420654296875,
          0.4203948974609375,
          0.4190216064453125,
          0.416717529296875,
          0.41254425048828125,
          0.34133148193359375,
          0.34593963623046875,
          0.3467254638671875,
          0.3485260009765625,
          0.34810638427734375,
          0.34789276123046875,
          0.34767913818359375,
          0.3466644287109375,
          0.344635009765625,
          0.34381866455078125,
          0.341583251953125,
          0.3383331298828125,
          0.26729583740234375,
          0.26950836181640625,
          0.27237701416015625,
          0.275909423828125,
          0.276397705078125,
          0.2744903564453125,
          0.27585601806640625,
          0.27416229248046875,
          0.27050018310546875,
          0.26837158203125,
          0.26799774169921875,
          0.2643280029296875,
          0.1900177001953125,
          0.1882476806640625,
          0.19773101806640625,
          0.20018768310546875,
          0.1996002197265625,
          0.19854736328125,
          0.19913482666015625,
          0.1976165771484375,
          0.19350433349609375,
          0.1896209716796875,
          0.1880950927734375,
          0.18798065185546875,
          0.1020965576171875,
          0.1076202392578125,
          0.110107421875,
          0.10979461669921875,
          0.10948944091796875,
          0.1091766357421875,
          0.107086181640625,
          0.1037139892578125,
          0.0947113037109375,
          0.01654815673828125,
          0.01845550537109375,
          0.0214691162109375,
          0.0225677490234375,
          0.0228424072265625,
          0.02202606201171875,
          0.021209716796875,
          0.01819610595703125,
          0.01215362548828125,
          -0.0732574462890625,
          -0.0673370361328125,
          -0.06610870361328125,
          -0.06569671630859375,
          -0.06710052490234375,
          -0.072265625,
          -0.08222198486328125,
          -0.17214202880859375,
          -0.1682586669921875,
          -0.1668853759765625,
          -0.16834259033203125,
          -0.1663360595703125,
          -0.16652679443359375,
          -0.1682891845703125,
          -0.16942596435546875,
          -0.1759185791015625,
          -0.28379058837890625,
          -0.27587127685546875,
          -0.2729949951171875,
          -0.277191162109375,
          -0.2736358642578125,
          -0.270751953125,
          -0.27326202392578125,
          -0.27948760986328125,
          -0.28368377685546875,
          -0.38213348388671875,
          -0.38260650634765625,
          -0.38631439208984375,
          -0.382110595703125,
          -0.37969970703125,
          -0.37872314453125,
          -0.38170623779296875,
          -0.385772705078125,
          -0.5012664794921875,
          -0.501708984375,
          -0.4975128173828125,
          -0.49253082275390625,
          -0.499542236328125,
          -0.6117935180664062,
          -0.5912246704101562,
          -0.592041015625,
          -0.5940933227539062,
          -0.6142730712890625,
          -0.7411880493164062,
          -0.7289047241210938,
          -0.7052383422851562,
          -0.7156829833984375,
          -0.8593368530273438,
          -0.8453140258789062,
          -0.8619232177734375
         ]
        },
        {
         "marker": {
          "color": "red",
          "opacity": 0.8,
          "size": 4
         },
         "mode": "markers",
         "type": "scatter3d",
         "x": [
          -0.07949872314929962,
          0.15477344393730164,
          0.24908295273780823,
          0.14469212293624878,
          0.09401135891675949,
          0.06460511684417725,
          0.1334526240825653,
          -0.1462480127811432,
          -0.2384377121925354,
          -0.22558994591236115,
          -0.09109760820865631,
          -0.14716839790344238,
          -0.08632421493530273
         ],
         "y": [
          -0.12917833030223846,
          -0.089425228536129,
          -0.16519224643707275,
          -0.23936814069747925,
          -0.08717121183872223,
          -0.09472876042127609,
          0.004376199096441269,
          0.09962290525436401,
          0.11033377051353455,
          -0.03259973227977753,
          0.03874068707227707,
          0.00496910372748971,
          0.062002990394830704
         ],
         "z": [
          0.5397932529449463,
          0.39648205041885376,
          0.19594982266426086,
          0.10604538023471832,
          -0.021734751760959625,
          -0.32649898529052734,
          -0.6246904134750366,
          0.39633214473724365,
          0.20195013284683228,
          0.16208526492118835,
          -0.012498091906309128,
          -0.32138094305992126,
          -0.6212639212608337
         ]
        },
        {
         "line": {
          "color": "black",
          "width": 2
         },
         "mode": "lines",
         "type": "scatter3d",
         "x": [
          -0.07949872314929962,
          0.004262715578079224
         ],
         "y": [
          -0.12917833030223846,
          0.005098838359117508
         ],
         "z": [
          0.5397932529449463,
          0.3964070975780487
         ]
        },
        {
         "line": {
          "color": "black",
          "width": 2
         },
         "mode": "lines",
         "type": "scatter3d",
         "x": [
          0.15477344393730164,
          0.24908295273780823
         ],
         "y": [
          -0.089425228536129,
          -0.16519224643707275
         ],
         "z": [
          0.39648205041885376,
          0.19594982266426086
         ]
        },
        {
         "line": {
          "color": "black",
          "width": 2
         },
         "mode": "lines",
         "type": "scatter3d",
         "x": [
          0.15477344393730164,
          0.09401135891675949
         ],
         "y": [
          -0.089425228536129,
          -0.08717121183872223
         ],
         "z": [
          0.39648205041885376,
          -0.021734751760959625
         ]
        },
        {
         "line": {
          "color": "black",
          "width": 2
         },
         "mode": "lines",
         "type": "scatter3d",
         "x": [
          0.15477344393730164,
          -0.1462480127811432
         ],
         "y": [
          -0.089425228536129,
          0.09962290525436401
         ],
         "z": [
          0.39648205041885376,
          0.39633214473724365
         ]
        },
        {
         "line": {
          "color": "black",
          "width": 2
         },
         "mode": "lines",
         "type": "scatter3d",
         "x": [
          0.24908295273780823,
          0.14469212293624878
         ],
         "y": [
          -0.16519224643707275,
          -0.23936814069747925
         ],
         "z": [
          0.19594982266426086,
          0.10604538023471832
         ]
        },
        {
         "line": {
          "color": "black",
          "width": 2
         },
         "mode": "lines",
         "type": "scatter3d",
         "x": [
          0.09401135891675949,
          0.06460511684417725
         ],
         "y": [
          -0.08717121183872223,
          -0.09472876042127609
         ],
         "z": [
          -0.021734751760959625,
          -0.32649898529052734
         ]
        },
        {
         "line": {
          "color": "black",
          "width": 2
         },
         "mode": "lines",
         "type": "scatter3d",
         "x": [
          0.09401135891675949,
          -0.09109760820865631
         ],
         "y": [
          -0.08717121183872223,
          0.03874068707227707
         ],
         "z": [
          -0.021734751760959625,
          -0.012498091906309128
         ]
        },
        {
         "line": {
          "color": "black",
          "width": 2
         },
         "mode": "lines",
         "type": "scatter3d",
         "x": [
          0.06460511684417725,
          0.1334526240825653
         ],
         "y": [
          -0.09472876042127609,
          0.004376199096441269
         ],
         "z": [
          -0.32649898529052734,
          -0.6246904134750366
         ]
        },
        {
         "line": {
          "color": "black",
          "width": 2
         },
         "mode": "lines",
         "type": "scatter3d",
         "x": [
          -0.1462480127811432,
          -0.2384377121925354
         ],
         "y": [
          0.09962290525436401,
          0.11033377051353455
         ],
         "z": [
          0.39633214473724365,
          0.20195013284683228
         ]
        },
        {
         "line": {
          "color": "black",
          "width": 2
         },
         "mode": "lines",
         "type": "scatter3d",
         "x": [
          -0.1462480127811432,
          -0.09109760820865631
         ],
         "y": [
          0.09962290525436401,
          0.03874068707227707
         ],
         "z": [
          0.39633214473724365,
          -0.012498091906309128
         ]
        },
        {
         "line": {
          "color": "black",
          "width": 2
         },
         "mode": "lines",
         "type": "scatter3d",
         "x": [
          -0.2384377121925354,
          -0.22558994591236115
         ],
         "y": [
          0.11033377051353455,
          -0.03259973227977753
         ],
         "z": [
          0.20195013284683228,
          0.16208526492118835
         ]
        },
        {
         "line": {
          "color": "black",
          "width": 2
         },
         "mode": "lines",
         "type": "scatter3d",
         "x": [
          -0.09109760820865631,
          -0.14716839790344238
         ],
         "y": [
          0.03874068707227707,
          0.00496910372748971
         ],
         "z": [
          -0.012498091906309128,
          -0.32138094305992126
         ]
        },
        {
         "line": {
          "color": "black",
          "width": 2
         },
         "mode": "lines",
         "type": "scatter3d",
         "x": [
          -0.14716839790344238,
          -0.08632421493530273
         ],
         "y": [
          0.00496910372748971,
          0.062002990394830704
         ],
         "z": [
          -0.32138094305992126,
          -0.6212639212608337
         ]
        },
        {
         "line": {
          "color": "blue",
          "width": 2
         },
         "mode": "lines",
         "type": "scatter3d",
         "x": [
          0,
          -0.5837505063456017
         ],
         "y": [
          0,
          -0.8119330922811644
         ],
         "z": [
          0,
          0
         ]
        }
       ],
       "layout": {
        "scene": {
         "aspectmode": "manual",
         "aspectratio": {
          "x": 3,
          "y": 3,
          "z": 3
         },
         "xaxis": {
          "range": [
           -1.5,
           1.5
          ]
         },
         "yaxis": {
          "range": [
           -1.5,
           1.5
          ]
         },
         "zaxis": {
          "range": [
           -1.5,
           1.5
          ]
         }
        },
        "template": {
         "data": {
          "bar": [
           {
            "error_x": {
             "color": "#2a3f5f"
            },
            "error_y": {
             "color": "#2a3f5f"
            },
            "marker": {
             "line": {
              "color": "#E5ECF6",
              "width": 0.5
             },
             "pattern": {
              "fillmode": "overlay",
              "size": 10,
              "solidity": 0.2
             }
            },
            "type": "bar"
           }
          ],
          "barpolar": [
           {
            "marker": {
             "line": {
              "color": "#E5ECF6",
              "width": 0.5
             },
             "pattern": {
              "fillmode": "overlay",
              "size": 10,
              "solidity": 0.2
             }
            },
            "type": "barpolar"
           }
          ],
          "carpet": [
           {
            "aaxis": {
             "endlinecolor": "#2a3f5f",
             "gridcolor": "white",
             "linecolor": "white",
             "minorgridcolor": "white",
             "startlinecolor": "#2a3f5f"
            },
            "baxis": {
             "endlinecolor": "#2a3f5f",
             "gridcolor": "white",
             "linecolor": "white",
             "minorgridcolor": "white",
             "startlinecolor": "#2a3f5f"
            },
            "type": "carpet"
           }
          ],
          "choropleth": [
           {
            "colorbar": {
             "outlinewidth": 0,
             "ticks": ""
            },
            "type": "choropleth"
           }
          ],
          "contour": [
           {
            "colorbar": {
             "outlinewidth": 0,
             "ticks": ""
            },
            "colorscale": [
             [
              0,
              "#0d0887"
             ],
             [
              0.1111111111111111,
              "#46039f"
             ],
             [
              0.2222222222222222,
              "#7201a8"
             ],
             [
              0.3333333333333333,
              "#9c179e"
             ],
             [
              0.4444444444444444,
              "#bd3786"
             ],
             [
              0.5555555555555556,
              "#d8576b"
             ],
             [
              0.6666666666666666,
              "#ed7953"
             ],
             [
              0.7777777777777778,
              "#fb9f3a"
             ],
             [
              0.8888888888888888,
              "#fdca26"
             ],
             [
              1,
              "#f0f921"
             ]
            ],
            "type": "contour"
           }
          ],
          "contourcarpet": [
           {
            "colorbar": {
             "outlinewidth": 0,
             "ticks": ""
            },
            "type": "contourcarpet"
           }
          ],
          "heatmap": [
           {
            "colorbar": {
             "outlinewidth": 0,
             "ticks": ""
            },
            "colorscale": [
             [
              0,
              "#0d0887"
             ],
             [
              0.1111111111111111,
              "#46039f"
             ],
             [
              0.2222222222222222,
              "#7201a8"
             ],
             [
              0.3333333333333333,
              "#9c179e"
             ],
             [
              0.4444444444444444,
              "#bd3786"
             ],
             [
              0.5555555555555556,
              "#d8576b"
             ],
             [
              0.6666666666666666,
              "#ed7953"
             ],
             [
              0.7777777777777778,
              "#fb9f3a"
             ],
             [
              0.8888888888888888,
              "#fdca26"
             ],
             [
              1,
              "#f0f921"
             ]
            ],
            "type": "heatmap"
           }
          ],
          "heatmapgl": [
           {
            "colorbar": {
             "outlinewidth": 0,
             "ticks": ""
            },
            "colorscale": [
             [
              0,
              "#0d0887"
             ],
             [
              0.1111111111111111,
              "#46039f"
             ],
             [
              0.2222222222222222,
              "#7201a8"
             ],
             [
              0.3333333333333333,
              "#9c179e"
             ],
             [
              0.4444444444444444,
              "#bd3786"
             ],
             [
              0.5555555555555556,
              "#d8576b"
             ],
             [
              0.6666666666666666,
              "#ed7953"
             ],
             [
              0.7777777777777778,
              "#fb9f3a"
             ],
             [
              0.8888888888888888,
              "#fdca26"
             ],
             [
              1,
              "#f0f921"
             ]
            ],
            "type": "heatmapgl"
           }
          ],
          "histogram": [
           {
            "marker": {
             "pattern": {
              "fillmode": "overlay",
              "size": 10,
              "solidity": 0.2
             }
            },
            "type": "histogram"
           }
          ],
          "histogram2d": [
           {
            "colorbar": {
             "outlinewidth": 0,
             "ticks": ""
            },
            "colorscale": [
             [
              0,
              "#0d0887"
             ],
             [
              0.1111111111111111,
              "#46039f"
             ],
             [
              0.2222222222222222,
              "#7201a8"
             ],
             [
              0.3333333333333333,
              "#9c179e"
             ],
             [
              0.4444444444444444,
              "#bd3786"
             ],
             [
              0.5555555555555556,
              "#d8576b"
             ],
             [
              0.6666666666666666,
              "#ed7953"
             ],
             [
              0.7777777777777778,
              "#fb9f3a"
             ],
             [
              0.8888888888888888,
              "#fdca26"
             ],
             [
              1,
              "#f0f921"
             ]
            ],
            "type": "histogram2d"
           }
          ],
          "histogram2dcontour": [
           {
            "colorbar": {
             "outlinewidth": 0,
             "ticks": ""
            },
            "colorscale": [
             [
              0,
              "#0d0887"
             ],
             [
              0.1111111111111111,
              "#46039f"
             ],
             [
              0.2222222222222222,
              "#7201a8"
             ],
             [
              0.3333333333333333,
              "#9c179e"
             ],
             [
              0.4444444444444444,
              "#bd3786"
             ],
             [
              0.5555555555555556,
              "#d8576b"
             ],
             [
              0.6666666666666666,
              "#ed7953"
             ],
             [
              0.7777777777777778,
              "#fb9f3a"
             ],
             [
              0.8888888888888888,
              "#fdca26"
             ],
             [
              1,
              "#f0f921"
             ]
            ],
            "type": "histogram2dcontour"
           }
          ],
          "mesh3d": [
           {
            "colorbar": {
             "outlinewidth": 0,
             "ticks": ""
            },
            "type": "mesh3d"
           }
          ],
          "parcoords": [
           {
            "line": {
             "colorbar": {
              "outlinewidth": 0,
              "ticks": ""
             }
            },
            "type": "parcoords"
           }
          ],
          "pie": [
           {
            "automargin": true,
            "type": "pie"
           }
          ],
          "scatter": [
           {
            "fillpattern": {
             "fillmode": "overlay",
             "size": 10,
             "solidity": 0.2
            },
            "type": "scatter"
           }
          ],
          "scatter3d": [
           {
            "line": {
             "colorbar": {
              "outlinewidth": 0,
              "ticks": ""
             }
            },
            "marker": {
             "colorbar": {
              "outlinewidth": 0,
              "ticks": ""
             }
            },
            "type": "scatter3d"
           }
          ],
          "scattercarpet": [
           {
            "marker": {
             "colorbar": {
              "outlinewidth": 0,
              "ticks": ""
             }
            },
            "type": "scattercarpet"
           }
          ],
          "scattergeo": [
           {
            "marker": {
             "colorbar": {
              "outlinewidth": 0,
              "ticks": ""
             }
            },
            "type": "scattergeo"
           }
          ],
          "scattergl": [
           {
            "marker": {
             "colorbar": {
              "outlinewidth": 0,
              "ticks": ""
             }
            },
            "type": "scattergl"
           }
          ],
          "scattermapbox": [
           {
            "marker": {
             "colorbar": {
              "outlinewidth": 0,
              "ticks": ""
             }
            },
            "type": "scattermapbox"
           }
          ],
          "scatterpolar": [
           {
            "marker": {
             "colorbar": {
              "outlinewidth": 0,
              "ticks": ""
             }
            },
            "type": "scatterpolar"
           }
          ],
          "scatterpolargl": [
           {
            "marker": {
             "colorbar": {
              "outlinewidth": 0,
              "ticks": ""
             }
            },
            "type": "scatterpolargl"
           }
          ],
          "scatterternary": [
           {
            "marker": {
             "colorbar": {
              "outlinewidth": 0,
              "ticks": ""
             }
            },
            "type": "scatterternary"
           }
          ],
          "surface": [
           {
            "colorbar": {
             "outlinewidth": 0,
             "ticks": ""
            },
            "colorscale": [
             [
              0,
              "#0d0887"
             ],
             [
              0.1111111111111111,
              "#46039f"
             ],
             [
              0.2222222222222222,
              "#7201a8"
             ],
             [
              0.3333333333333333,
              "#9c179e"
             ],
             [
              0.4444444444444444,
              "#bd3786"
             ],
             [
              0.5555555555555556,
              "#d8576b"
             ],
             [
              0.6666666666666666,
              "#ed7953"
             ],
             [
              0.7777777777777778,
              "#fb9f3a"
             ],
             [
              0.8888888888888888,
              "#fdca26"
             ],
             [
              1,
              "#f0f921"
             ]
            ],
            "type": "surface"
           }
          ],
          "table": [
           {
            "cells": {
             "fill": {
              "color": "#EBF0F8"
             },
             "line": {
              "color": "white"
             }
            },
            "header": {
             "fill": {
              "color": "#C8D4E3"
             },
             "line": {
              "color": "white"
             }
            },
            "type": "table"
           }
          ]
         },
         "layout": {
          "annotationdefaults": {
           "arrowcolor": "#2a3f5f",
           "arrowhead": 0,
           "arrowwidth": 1
          },
          "autotypenumbers": "strict",
          "coloraxis": {
           "colorbar": {
            "outlinewidth": 0,
            "ticks": ""
           }
          },
          "colorscale": {
           "diverging": [
            [
             0,
             "#8e0152"
            ],
            [
             0.1,
             "#c51b7d"
            ],
            [
             0.2,
             "#de77ae"
            ],
            [
             0.3,
             "#f1b6da"
            ],
            [
             0.4,
             "#fde0ef"
            ],
            [
             0.5,
             "#f7f7f7"
            ],
            [
             0.6,
             "#e6f5d0"
            ],
            [
             0.7,
             "#b8e186"
            ],
            [
             0.8,
             "#7fbc41"
            ],
            [
             0.9,
             "#4d9221"
            ],
            [
             1,
             "#276419"
            ]
           ],
           "sequential": [
            [
             0,
             "#0d0887"
            ],
            [
             0.1111111111111111,
             "#46039f"
            ],
            [
             0.2222222222222222,
             "#7201a8"
            ],
            [
             0.3333333333333333,
             "#9c179e"
            ],
            [
             0.4444444444444444,
             "#bd3786"
            ],
            [
             0.5555555555555556,
             "#d8576b"
            ],
            [
             0.6666666666666666,
             "#ed7953"
            ],
            [
             0.7777777777777778,
             "#fb9f3a"
            ],
            [
             0.8888888888888888,
             "#fdca26"
            ],
            [
             1,
             "#f0f921"
            ]
           ],
           "sequentialminus": [
            [
             0,
             "#0d0887"
            ],
            [
             0.1111111111111111,
             "#46039f"
            ],
            [
             0.2222222222222222,
             "#7201a8"
            ],
            [
             0.3333333333333333,
             "#9c179e"
            ],
            [
             0.4444444444444444,
             "#bd3786"
            ],
            [
             0.5555555555555556,
             "#d8576b"
            ],
            [
             0.6666666666666666,
             "#ed7953"
            ],
            [
             0.7777777777777778,
             "#fb9f3a"
            ],
            [
             0.8888888888888888,
             "#fdca26"
            ],
            [
             1,
             "#f0f921"
            ]
           ]
          },
          "colorway": [
           "#636efa",
           "#EF553B",
           "#00cc96",
           "#ab63fa",
           "#FFA15A",
           "#19d3f3",
           "#FF6692",
           "#B6E880",
           "#FF97FF",
           "#FECB52"
          ],
          "font": {
           "color": "#2a3f5f"
          },
          "geo": {
           "bgcolor": "white",
           "lakecolor": "white",
           "landcolor": "#E5ECF6",
           "showlakes": true,
           "showland": true,
           "subunitcolor": "white"
          },
          "hoverlabel": {
           "align": "left"
          },
          "hovermode": "closest",
          "mapbox": {
           "style": "light"
          },
          "paper_bgcolor": "white",
          "plot_bgcolor": "#E5ECF6",
          "polar": {
           "angularaxis": {
            "gridcolor": "white",
            "linecolor": "white",
            "ticks": ""
           },
           "bgcolor": "#E5ECF6",
           "radialaxis": {
            "gridcolor": "white",
            "linecolor": "white",
            "ticks": ""
           }
          },
          "scene": {
           "xaxis": {
            "backgroundcolor": "#E5ECF6",
            "gridcolor": "white",
            "gridwidth": 2,
            "linecolor": "white",
            "showbackground": true,
            "ticks": "",
            "zerolinecolor": "white"
           },
           "yaxis": {
            "backgroundcolor": "#E5ECF6",
            "gridcolor": "white",
            "gridwidth": 2,
            "linecolor": "white",
            "showbackground": true,
            "ticks": "",
            "zerolinecolor": "white"
           },
           "zaxis": {
            "backgroundcolor": "#E5ECF6",
            "gridcolor": "white",
            "gridwidth": 2,
            "linecolor": "white",
            "showbackground": true,
            "ticks": "",
            "zerolinecolor": "white"
           }
          },
          "shapedefaults": {
           "line": {
            "color": "#2a3f5f"
           }
          },
          "ternary": {
           "aaxis": {
            "gridcolor": "white",
            "linecolor": "white",
            "ticks": ""
           },
           "baxis": {
            "gridcolor": "white",
            "linecolor": "white",
            "ticks": ""
           },
           "bgcolor": "#E5ECF6",
           "caxis": {
            "gridcolor": "white",
            "linecolor": "white",
            "ticks": ""
           }
          },
          "title": {
           "x": 0.05
          },
          "xaxis": {
           "automargin": true,
           "gridcolor": "white",
           "linecolor": "white",
           "ticks": "",
           "title": {
            "standoff": 15
           },
           "zerolinecolor": "white",
           "zerolinewidth": 2
          },
          "yaxis": {
           "automargin": true,
           "gridcolor": "white",
           "linecolor": "white",
           "ticks": "",
           "title": {
            "standoff": 15
           },
           "zerolinecolor": "white",
           "zerolinewidth": 2
          }
         }
        }
       }
      },
      "text/html": [
       "<div>                            <div id=\"70d90b68-9bdf-49ba-907d-cbbe5cee49fb\" class=\"plotly-graph-div\" style=\"height:525px; width:100%;\"></div>            <script type=\"text/javascript\">                require([\"plotly\"], function(Plotly) {                    window.PLOTLYENV=window.PLOTLYENV || {};                                    if (document.getElementById(\"70d90b68-9bdf-49ba-907d-cbbe5cee49fb\")) {                    Plotly.newPlot(                        \"70d90b68-9bdf-49ba-907d-cbbe5cee49fb\",                        [{\"marker\":{\"opacity\":0.8,\"size\":2},\"mode\":\"markers\",\"x\":[0.001708984375,-0.0479736328125,-0.14501953125,0.025634765625,0.005859375,-0.04931640625,-0.100830078125,-0.161865234375,0.01513671875,-0.0084228515625,-0.0430908203125,-0.0926513671875,-0.1612548828125,-0.2337646484375,0.00732421875,0.033447265625,0.017333984375,-0.0340576171875,-0.079833984375,-0.1463623046875,-0.2188720703125,0.144287109375,0.1185302734375,0.0875244140625,0.043701171875,-0.001953125,-0.041748046875,-0.091064453125,-0.1536865234375,-0.2259521484375,0.17724609375,0.144287109375,0.0546875,0.00537109375,-0.036376953125,-0.0845947265625,-0.2078857421875,-0.2901611328125,0.1883544921875,0.17529296875,0.1422119140625,0.10205078125,0.056396484375,0.0126953125,-0.03271484375,-0.076171875,-0.131103515625,-0.195556640625,-0.2796630859375,0.173095703125,0.1727294921875,0.1378173828125,0.112548828125,0.06689453125,0.0233154296875,-0.0201416015625,-0.0711669921875,-0.1318359375,-0.180908203125,-0.2435302734375,-0.3160400390625,0.1689453125,0.1446533203125,0.126220703125,0.11376953125,0.07568359375,0.01708984375,-0.0133056640625,-0.0699462890625,-0.1439208984375,-0.2047119140625,-0.25,-0.324462890625,0.1602783203125,0.102783203125,0.1341552734375,0.110595703125,0.0631103515625,0.0118408203125,-0.0260009765625,-0.0809326171875,-0.1568603515625,-0.231201171875,-0.286376953125,-0.329833984375,0.1407470703125,0.1370849609375,0.1116943359375,0.0660400390625,0.0205078125,-0.0250244140625,-0.083740234375,-0.1519775390625,-0.262939453125,0.1602783203125,0.12890625,0.1053466796875,0.0689697265625,0.0272216796875,-0.02197265625,-0.0711669921875,-0.1365966796875,-0.2222900390625,0.156005859375,0.148681640625,0.1121826171875,0.026611328125,-0.0263671875,-0.147705078125,-0.256591796875,0.0772705078125,0.05517578125,0.0185546875,-0.034912109375,-0.0675048828125,-0.113037109375,-0.168212890625,-0.219482421875,-0.3035888671875,0.0323486328125,0.0303955078125,0.0009765625,-0.0675048828125,-0.0927734375,-0.1214599609375,-0.180419921875,-0.2606201171875,-0.32958984375,0.01220703125,-0.0360107421875,-0.1009521484375,-0.12451171875,-0.1572265625,-0.197265625,-0.2584228515625,-0.3253173828125,-0.01025390625,-0.0582275390625,-0.0833740234375,-0.1044921875,-0.1844482421875,0.0115966796875,0.0594482421875,0.0103759765625,-0.0443115234375,-0.18408203125,0.0130615234375,0.0189208984375,0.07421875,-0.0162353515625,-0.0615234375,-0.051025390625,-0.164794921875],\"y\":[-0.1138916015625,-0.09375,-0.18994140625,-0.2059326171875,-0.1116943359375,-0.1053466796875,-0.0908203125,-0.09814453125,-0.2322998046875,-0.147216796875,-0.0899658203125,-0.07080078125,-0.0965576171875,-0.1314697265625,-0.4017333984375,-0.19140625,-0.087890625,-0.0723876953125,-0.0428466796875,-0.0640869140625,-0.0999755859375,-0.202392578125,-0.1221923828125,-0.056884765625,-0.02294921875,0.00634765625,0.0496826171875,0.0699462890625,0.05712890625,0.0223388671875,-0.1268310546875,-0.0662841796875,-0.0032958984375,0.0167236328125,0.055419921875,0.080322265625,0.060302734375,0.002685546875,-0.2401123046875,-0.12841796875,-0.06689453125,-0.02392578125,0.00537109375,0.039306640625,0.0677490234375,0.101806640625,0.1083984375,0.092041015625,0.02978515625,-0.28759765625,-0.1434326171875,-0.0865478515625,-0.00634765625,0.0228271484375,0.0567626953125,0.0906982421875,0.105224609375,0.097900390625,0.118408203125,0.1068115234375,0.0723876953125,-0.2998046875,-0.2149658203125,-0.1162109375,-0.003662109375,0.0440673828125,0.041015625,0.1063232421875,0.1080322265625,0.0684814453125,0.061279296875,0.0911865234375,0.05126953125,-0.325927734375,-0.32568359375,-0.1016845703125,-0.016845703125,0.0076904296875,0.023193359375,0.071044921875,0.076416015625,0.0323486328125,-0.007080078125,-0.0001220703125,0.0335693359375,-0.2298583984375,-0.093994140625,-0.014892578125,0.0142822265625,0.0435791015625,0.072998046875,0.0701904296875,0.04345703125,-0.0833740234375,-0.189208984375,-0.123046875,-0.039306640625,0.0130615234375,0.0516357421875,0.07177734375,0.092041015625,0.0755615234375,0.007568359375,-0.1976318359375,-0.0711669921875,-0.0189208984375,0.052490234375,0.0633544921875,0.0487060546875,-0.073486328125,-0.2598876953125,-0.17041015625,-0.117919921875,-0.10693359375,-0.0450439453125,-0.0166015625,-0.0098876953125,0.006103515625,-0.0560302734375,-0.3743896484375,-0.23388671875,-0.162841796875,-0.18994140625,-0.1094970703125,-0.038330078125,-0.0408935546875,-0.0938720703125,-0.1199951171875,-0.285400390625,-0.2606201171875,-0.2772216796875,-0.192138671875,-0.130126953125,-0.0875244140625,-0.094482421875,-0.114990234375,-0.198974609375,-0.174072265625,-0.09375,-0.005126953125,-0.058349609375,-0.154541015625,0.105712890625,0.1258544921875,0.1322021484375,-0.063720703125,-0.2930908203125,-0.1343994140625,0.143310546875,0.0618896484375,-0.2003173828125,-0.032470703125,-0.169677734375],\"z\":[0.80804443359375,0.807220458984375,0.8039169311523438,0.7428054809570312,0.7437896728515625,0.7426223754882812,0.7416839599609375,0.7401809692382812,0.6752395629882812,0.6762008666992188,0.6763992309570312,0.6755752563476562,0.6734695434570312,0.6711044311523438,0.6111526489257812,0.6160964965820312,0.6178054809570312,0.6168441772460938,0.616302490234375,0.6142044067382812,0.6116867065429688,0.5422821044921875,0.5435028076171875,0.54425048828125,0.5438995361328125,0.54339599609375,0.5433731079101562,0.5425491333007812,0.5406265258789062,0.53790283203125,0.4828948974609375,0.483612060546875,0.48282623291015625,0.4820098876953125,0.48187255859375,0.481231689453125,0.47735595703125,0.473602294921875,0.41800689697265625,0.42087554931640625,0.42171478271484375,0.42181396484375,0.42136383056640625,0.42110443115234375,0.420654296875,0.4203948974609375,0.4190216064453125,0.416717529296875,0.41254425048828125,0.34133148193359375,0.34593963623046875,0.3467254638671875,0.3485260009765625,0.34810638427734375,0.34789276123046875,0.34767913818359375,0.3466644287109375,0.344635009765625,0.34381866455078125,0.341583251953125,0.3383331298828125,0.26729583740234375,0.26950836181640625,0.27237701416015625,0.275909423828125,0.276397705078125,0.2744903564453125,0.27585601806640625,0.27416229248046875,0.27050018310546875,0.26837158203125,0.26799774169921875,0.2643280029296875,0.1900177001953125,0.1882476806640625,0.19773101806640625,0.20018768310546875,0.1996002197265625,0.19854736328125,0.19913482666015625,0.1976165771484375,0.19350433349609375,0.1896209716796875,0.1880950927734375,0.18798065185546875,0.1020965576171875,0.1076202392578125,0.110107421875,0.10979461669921875,0.10948944091796875,0.1091766357421875,0.107086181640625,0.1037139892578125,0.0947113037109375,0.01654815673828125,0.01845550537109375,0.0214691162109375,0.0225677490234375,0.0228424072265625,0.02202606201171875,0.021209716796875,0.01819610595703125,0.01215362548828125,-0.0732574462890625,-0.0673370361328125,-0.06610870361328125,-0.06569671630859375,-0.06710052490234375,-0.072265625,-0.08222198486328125,-0.17214202880859375,-0.1682586669921875,-0.1668853759765625,-0.16834259033203125,-0.1663360595703125,-0.16652679443359375,-0.1682891845703125,-0.16942596435546875,-0.1759185791015625,-0.28379058837890625,-0.27587127685546875,-0.2729949951171875,-0.277191162109375,-0.2736358642578125,-0.270751953125,-0.27326202392578125,-0.27948760986328125,-0.28368377685546875,-0.38213348388671875,-0.38260650634765625,-0.38631439208984375,-0.382110595703125,-0.37969970703125,-0.37872314453125,-0.38170623779296875,-0.385772705078125,-0.5012664794921875,-0.501708984375,-0.4975128173828125,-0.49253082275390625,-0.499542236328125,-0.6117935180664062,-0.5912246704101562,-0.592041015625,-0.5940933227539062,-0.6142730712890625,-0.7411880493164062,-0.7289047241210938,-0.7052383422851562,-0.7156829833984375,-0.8593368530273438,-0.8453140258789062,-0.8619232177734375],\"type\":\"scatter3d\"},{\"marker\":{\"color\":\"red\",\"opacity\":0.8,\"size\":4},\"mode\":\"markers\",\"x\":[-0.07949872314929962,0.15477344393730164,0.24908295273780823,0.14469212293624878,0.09401135891675949,0.06460511684417725,0.1334526240825653,-0.1462480127811432,-0.2384377121925354,-0.22558994591236115,-0.09109760820865631,-0.14716839790344238,-0.08632421493530273],\"y\":[-0.12917833030223846,-0.089425228536129,-0.16519224643707275,-0.23936814069747925,-0.08717121183872223,-0.09472876042127609,0.004376199096441269,0.09962290525436401,0.11033377051353455,-0.03259973227977753,0.03874068707227707,0.00496910372748971,0.062002990394830704],\"z\":[0.5397932529449463,0.39648205041885376,0.19594982266426086,0.10604538023471832,-0.021734751760959625,-0.32649898529052734,-0.6246904134750366,0.39633214473724365,0.20195013284683228,0.16208526492118835,-0.012498091906309128,-0.32138094305992126,-0.6212639212608337],\"type\":\"scatter3d\"},{\"line\":{\"color\":\"black\",\"width\":2},\"mode\":\"lines\",\"x\":[-0.07949872314929962,0.004262715578079224],\"y\":[-0.12917833030223846,0.005098838359117508],\"z\":[0.5397932529449463,0.3964070975780487],\"type\":\"scatter3d\"},{\"line\":{\"color\":\"black\",\"width\":2},\"mode\":\"lines\",\"x\":[0.15477344393730164,0.24908295273780823],\"y\":[-0.089425228536129,-0.16519224643707275],\"z\":[0.39648205041885376,0.19594982266426086],\"type\":\"scatter3d\"},{\"line\":{\"color\":\"black\",\"width\":2},\"mode\":\"lines\",\"x\":[0.15477344393730164,0.09401135891675949],\"y\":[-0.089425228536129,-0.08717121183872223],\"z\":[0.39648205041885376,-0.021734751760959625],\"type\":\"scatter3d\"},{\"line\":{\"color\":\"black\",\"width\":2},\"mode\":\"lines\",\"x\":[0.15477344393730164,-0.1462480127811432],\"y\":[-0.089425228536129,0.09962290525436401],\"z\":[0.39648205041885376,0.39633214473724365],\"type\":\"scatter3d\"},{\"line\":{\"color\":\"black\",\"width\":2},\"mode\":\"lines\",\"x\":[0.24908295273780823,0.14469212293624878],\"y\":[-0.16519224643707275,-0.23936814069747925],\"z\":[0.19594982266426086,0.10604538023471832],\"type\":\"scatter3d\"},{\"line\":{\"color\":\"black\",\"width\":2},\"mode\":\"lines\",\"x\":[0.09401135891675949,0.06460511684417725],\"y\":[-0.08717121183872223,-0.09472876042127609],\"z\":[-0.021734751760959625,-0.32649898529052734],\"type\":\"scatter3d\"},{\"line\":{\"color\":\"black\",\"width\":2},\"mode\":\"lines\",\"x\":[0.09401135891675949,-0.09109760820865631],\"y\":[-0.08717121183872223,0.03874068707227707],\"z\":[-0.021734751760959625,-0.012498091906309128],\"type\":\"scatter3d\"},{\"line\":{\"color\":\"black\",\"width\":2},\"mode\":\"lines\",\"x\":[0.06460511684417725,0.1334526240825653],\"y\":[-0.09472876042127609,0.004376199096441269],\"z\":[-0.32649898529052734,-0.6246904134750366],\"type\":\"scatter3d\"},{\"line\":{\"color\":\"black\",\"width\":2},\"mode\":\"lines\",\"x\":[-0.1462480127811432,-0.2384377121925354],\"y\":[0.09962290525436401,0.11033377051353455],\"z\":[0.39633214473724365,0.20195013284683228],\"type\":\"scatter3d\"},{\"line\":{\"color\":\"black\",\"width\":2},\"mode\":\"lines\",\"x\":[-0.1462480127811432,-0.09109760820865631],\"y\":[0.09962290525436401,0.03874068707227707],\"z\":[0.39633214473724365,-0.012498091906309128],\"type\":\"scatter3d\"},{\"line\":{\"color\":\"black\",\"width\":2},\"mode\":\"lines\",\"x\":[-0.2384377121925354,-0.22558994591236115],\"y\":[0.11033377051353455,-0.03259973227977753],\"z\":[0.20195013284683228,0.16208526492118835],\"type\":\"scatter3d\"},{\"line\":{\"color\":\"black\",\"width\":2},\"mode\":\"lines\",\"x\":[-0.09109760820865631,-0.14716839790344238],\"y\":[0.03874068707227707,0.00496910372748971],\"z\":[-0.012498091906309128,-0.32138094305992126],\"type\":\"scatter3d\"},{\"line\":{\"color\":\"black\",\"width\":2},\"mode\":\"lines\",\"x\":[-0.14716839790344238,-0.08632421493530273],\"y\":[0.00496910372748971,0.062002990394830704],\"z\":[-0.32138094305992126,-0.6212639212608337],\"type\":\"scatter3d\"},{\"line\":{\"color\":\"blue\",\"width\":2},\"mode\":\"lines\",\"x\":[0,-0.5837505063456017],\"y\":[0,-0.8119330922811644],\"z\":[0,0],\"type\":\"scatter3d\"}],                        {\"template\":{\"data\":{\"histogram2dcontour\":[{\"type\":\"histogram2dcontour\",\"colorbar\":{\"outlinewidth\":0,\"ticks\":\"\"},\"colorscale\":[[0.0,\"#0d0887\"],[0.1111111111111111,\"#46039f\"],[0.2222222222222222,\"#7201a8\"],[0.3333333333333333,\"#9c179e\"],[0.4444444444444444,\"#bd3786\"],[0.5555555555555556,\"#d8576b\"],[0.6666666666666666,\"#ed7953\"],[0.7777777777777778,\"#fb9f3a\"],[0.8888888888888888,\"#fdca26\"],[1.0,\"#f0f921\"]]}],\"choropleth\":[{\"type\":\"choropleth\",\"colorbar\":{\"outlinewidth\":0,\"ticks\":\"\"}}],\"histogram2d\":[{\"type\":\"histogram2d\",\"colorbar\":{\"outlinewidth\":0,\"ticks\":\"\"},\"colorscale\":[[0.0,\"#0d0887\"],[0.1111111111111111,\"#46039f\"],[0.2222222222222222,\"#7201a8\"],[0.3333333333333333,\"#9c179e\"],[0.4444444444444444,\"#bd3786\"],[0.5555555555555556,\"#d8576b\"],[0.6666666666666666,\"#ed7953\"],[0.7777777777777778,\"#fb9f3a\"],[0.8888888888888888,\"#fdca26\"],[1.0,\"#f0f921\"]]}],\"heatmap\":[{\"type\":\"heatmap\",\"colorbar\":{\"outlinewidth\":0,\"ticks\":\"\"},\"colorscale\":[[0.0,\"#0d0887\"],[0.1111111111111111,\"#46039f\"],[0.2222222222222222,\"#7201a8\"],[0.3333333333333333,\"#9c179e\"],[0.4444444444444444,\"#bd3786\"],[0.5555555555555556,\"#d8576b\"],[0.6666666666666666,\"#ed7953\"],[0.7777777777777778,\"#fb9f3a\"],[0.8888888888888888,\"#fdca26\"],[1.0,\"#f0f921\"]]}],\"heatmapgl\":[{\"type\":\"heatmapgl\",\"colorbar\":{\"outlinewidth\":0,\"ticks\":\"\"},\"colorscale\":[[0.0,\"#0d0887\"],[0.1111111111111111,\"#46039f\"],[0.2222222222222222,\"#7201a8\"],[0.3333333333333333,\"#9c179e\"],[0.4444444444444444,\"#bd3786\"],[0.5555555555555556,\"#d8576b\"],[0.6666666666666666,\"#ed7953\"],[0.7777777777777778,\"#fb9f3a\"],[0.8888888888888888,\"#fdca26\"],[1.0,\"#f0f921\"]]}],\"contourcarpet\":[{\"type\":\"contourcarpet\",\"colorbar\":{\"outlinewidth\":0,\"ticks\":\"\"}}],\"contour\":[{\"type\":\"contour\",\"colorbar\":{\"outlinewidth\":0,\"ticks\":\"\"},\"colorscale\":[[0.0,\"#0d0887\"],[0.1111111111111111,\"#46039f\"],[0.2222222222222222,\"#7201a8\"],[0.3333333333333333,\"#9c179e\"],[0.4444444444444444,\"#bd3786\"],[0.5555555555555556,\"#d8576b\"],[0.6666666666666666,\"#ed7953\"],[0.7777777777777778,\"#fb9f3a\"],[0.8888888888888888,\"#fdca26\"],[1.0,\"#f0f921\"]]}],\"surface\":[{\"type\":\"surface\",\"colorbar\":{\"outlinewidth\":0,\"ticks\":\"\"},\"colorscale\":[[0.0,\"#0d0887\"],[0.1111111111111111,\"#46039f\"],[0.2222222222222222,\"#7201a8\"],[0.3333333333333333,\"#9c179e\"],[0.4444444444444444,\"#bd3786\"],[0.5555555555555556,\"#d8576b\"],[0.6666666666666666,\"#ed7953\"],[0.7777777777777778,\"#fb9f3a\"],[0.8888888888888888,\"#fdca26\"],[1.0,\"#f0f921\"]]}],\"mesh3d\":[{\"type\":\"mesh3d\",\"colorbar\":{\"outlinewidth\":0,\"ticks\":\"\"}}],\"scatter\":[{\"fillpattern\":{\"fillmode\":\"overlay\",\"size\":10,\"solidity\":0.2},\"type\":\"scatter\"}],\"parcoords\":[{\"type\":\"parcoords\",\"line\":{\"colorbar\":{\"outlinewidth\":0,\"ticks\":\"\"}}}],\"scatterpolargl\":[{\"type\":\"scatterpolargl\",\"marker\":{\"colorbar\":{\"outlinewidth\":0,\"ticks\":\"\"}}}],\"bar\":[{\"error_x\":{\"color\":\"#2a3f5f\"},\"error_y\":{\"color\":\"#2a3f5f\"},\"marker\":{\"line\":{\"color\":\"#E5ECF6\",\"width\":0.5},\"pattern\":{\"fillmode\":\"overlay\",\"size\":10,\"solidity\":0.2}},\"type\":\"bar\"}],\"scattergeo\":[{\"type\":\"scattergeo\",\"marker\":{\"colorbar\":{\"outlinewidth\":0,\"ticks\":\"\"}}}],\"scatterpolar\":[{\"type\":\"scatterpolar\",\"marker\":{\"colorbar\":{\"outlinewidth\":0,\"ticks\":\"\"}}}],\"histogram\":[{\"marker\":{\"pattern\":{\"fillmode\":\"overlay\",\"size\":10,\"solidity\":0.2}},\"type\":\"histogram\"}],\"scattergl\":[{\"type\":\"scattergl\",\"marker\":{\"colorbar\":{\"outlinewidth\":0,\"ticks\":\"\"}}}],\"scatter3d\":[{\"type\":\"scatter3d\",\"line\":{\"colorbar\":{\"outlinewidth\":0,\"ticks\":\"\"}},\"marker\":{\"colorbar\":{\"outlinewidth\":0,\"ticks\":\"\"}}}],\"scattermapbox\":[{\"type\":\"scattermapbox\",\"marker\":{\"colorbar\":{\"outlinewidth\":0,\"ticks\":\"\"}}}],\"scatterternary\":[{\"type\":\"scatterternary\",\"marker\":{\"colorbar\":{\"outlinewidth\":0,\"ticks\":\"\"}}}],\"scattercarpet\":[{\"type\":\"scattercarpet\",\"marker\":{\"colorbar\":{\"outlinewidth\":0,\"ticks\":\"\"}}}],\"carpet\":[{\"aaxis\":{\"endlinecolor\":\"#2a3f5f\",\"gridcolor\":\"white\",\"linecolor\":\"white\",\"minorgridcolor\":\"white\",\"startlinecolor\":\"#2a3f5f\"},\"baxis\":{\"endlinecolor\":\"#2a3f5f\",\"gridcolor\":\"white\",\"linecolor\":\"white\",\"minorgridcolor\":\"white\",\"startlinecolor\":\"#2a3f5f\"},\"type\":\"carpet\"}],\"table\":[{\"cells\":{\"fill\":{\"color\":\"#EBF0F8\"},\"line\":{\"color\":\"white\"}},\"header\":{\"fill\":{\"color\":\"#C8D4E3\"},\"line\":{\"color\":\"white\"}},\"type\":\"table\"}],\"barpolar\":[{\"marker\":{\"line\":{\"color\":\"#E5ECF6\",\"width\":0.5},\"pattern\":{\"fillmode\":\"overlay\",\"size\":10,\"solidity\":0.2}},\"type\":\"barpolar\"}],\"pie\":[{\"automargin\":true,\"type\":\"pie\"}]},\"layout\":{\"autotypenumbers\":\"strict\",\"colorway\":[\"#636efa\",\"#EF553B\",\"#00cc96\",\"#ab63fa\",\"#FFA15A\",\"#19d3f3\",\"#FF6692\",\"#B6E880\",\"#FF97FF\",\"#FECB52\"],\"font\":{\"color\":\"#2a3f5f\"},\"hovermode\":\"closest\",\"hoverlabel\":{\"align\":\"left\"},\"paper_bgcolor\":\"white\",\"plot_bgcolor\":\"#E5ECF6\",\"polar\":{\"bgcolor\":\"#E5ECF6\",\"angularaxis\":{\"gridcolor\":\"white\",\"linecolor\":\"white\",\"ticks\":\"\"},\"radialaxis\":{\"gridcolor\":\"white\",\"linecolor\":\"white\",\"ticks\":\"\"}},\"ternary\":{\"bgcolor\":\"#E5ECF6\",\"aaxis\":{\"gridcolor\":\"white\",\"linecolor\":\"white\",\"ticks\":\"\"},\"baxis\":{\"gridcolor\":\"white\",\"linecolor\":\"white\",\"ticks\":\"\"},\"caxis\":{\"gridcolor\":\"white\",\"linecolor\":\"white\",\"ticks\":\"\"}},\"coloraxis\":{\"colorbar\":{\"outlinewidth\":0,\"ticks\":\"\"}},\"colorscale\":{\"sequential\":[[0.0,\"#0d0887\"],[0.1111111111111111,\"#46039f\"],[0.2222222222222222,\"#7201a8\"],[0.3333333333333333,\"#9c179e\"],[0.4444444444444444,\"#bd3786\"],[0.5555555555555556,\"#d8576b\"],[0.6666666666666666,\"#ed7953\"],[0.7777777777777778,\"#fb9f3a\"],[0.8888888888888888,\"#fdca26\"],[1.0,\"#f0f921\"]],\"sequentialminus\":[[0.0,\"#0d0887\"],[0.1111111111111111,\"#46039f\"],[0.2222222222222222,\"#7201a8\"],[0.3333333333333333,\"#9c179e\"],[0.4444444444444444,\"#bd3786\"],[0.5555555555555556,\"#d8576b\"],[0.6666666666666666,\"#ed7953\"],[0.7777777777777778,\"#fb9f3a\"],[0.8888888888888888,\"#fdca26\"],[1.0,\"#f0f921\"]],\"diverging\":[[0,\"#8e0152\"],[0.1,\"#c51b7d\"],[0.2,\"#de77ae\"],[0.3,\"#f1b6da\"],[0.4,\"#fde0ef\"],[0.5,\"#f7f7f7\"],[0.6,\"#e6f5d0\"],[0.7,\"#b8e186\"],[0.8,\"#7fbc41\"],[0.9,\"#4d9221\"],[1,\"#276419\"]]},\"xaxis\":{\"gridcolor\":\"white\",\"linecolor\":\"white\",\"ticks\":\"\",\"title\":{\"standoff\":15},\"zerolinecolor\":\"white\",\"automargin\":true,\"zerolinewidth\":2},\"yaxis\":{\"gridcolor\":\"white\",\"linecolor\":\"white\",\"ticks\":\"\",\"title\":{\"standoff\":15},\"zerolinecolor\":\"white\",\"automargin\":true,\"zerolinewidth\":2},\"scene\":{\"xaxis\":{\"backgroundcolor\":\"#E5ECF6\",\"gridcolor\":\"white\",\"linecolor\":\"white\",\"showbackground\":true,\"ticks\":\"\",\"zerolinecolor\":\"white\",\"gridwidth\":2},\"yaxis\":{\"backgroundcolor\":\"#E5ECF6\",\"gridcolor\":\"white\",\"linecolor\":\"white\",\"showbackground\":true,\"ticks\":\"\",\"zerolinecolor\":\"white\",\"gridwidth\":2},\"zaxis\":{\"backgroundcolor\":\"#E5ECF6\",\"gridcolor\":\"white\",\"linecolor\":\"white\",\"showbackground\":true,\"ticks\":\"\",\"zerolinecolor\":\"white\",\"gridwidth\":2}},\"shapedefaults\":{\"line\":{\"color\":\"#2a3f5f\"}},\"annotationdefaults\":{\"arrowcolor\":\"#2a3f5f\",\"arrowhead\":0,\"arrowwidth\":1},\"geo\":{\"bgcolor\":\"white\",\"landcolor\":\"#E5ECF6\",\"subunitcolor\":\"white\",\"showland\":true,\"showlakes\":true,\"lakecolor\":\"white\"},\"title\":{\"x\":0.05},\"mapbox\":{\"style\":\"light\"}}},\"scene\":{\"aspectratio\":{\"x\":3,\"y\":3,\"z\":3},\"xaxis\":{\"range\":[-1.5,1.5]},\"yaxis\":{\"range\":[-1.5,1.5]},\"zaxis\":{\"range\":[-1.5,1.5]},\"aspectmode\":\"manual\"}},                        {\"responsive\": true}                    ).then(function(){\n",
       "                            \n",
       "var gd = document.getElementById('70d90b68-9bdf-49ba-907d-cbbe5cee49fb');\n",
       "var x = new MutationObserver(function (mutations, observer) {{\n",
       "        var display = window.getComputedStyle(gd).display;\n",
       "        if (!display || display === 'none') {{\n",
       "            console.log([gd, 'removed!']);\n",
       "            Plotly.purge(gd);\n",
       "            observer.disconnect();\n",
       "        }}\n",
       "}});\n",
       "\n",
       "// Listen for the removal of the full notebook cells\n",
       "var notebookContainer = gd.closest('#notebook-container');\n",
       "if (notebookContainer) {{\n",
       "    x.observe(notebookContainer, {childList: true});\n",
       "}}\n",
       "\n",
       "// Listen for the clearing of the current output cell\n",
       "var outputEl = gd.closest('.output');\n",
       "if (outputEl) {{\n",
       "    x.observe(outputEl, {childList: true});\n",
       "}}\n",
       "\n",
       "                        })                };                });            </script>        </div>"
      ]
     },
     "metadata": {},
     "output_type": "display_data"
    },
    {
     "data": {
      "application/vnd.plotly.v1+json": {
       "config": {
        "plotlyServerURL": "https://plot.ly"
       },
       "data": [
        {
         "marker": {
          "opacity": 0.8,
          "size": 2
         },
         "mode": "markers",
         "type": "scatter3d",
         "x": [
          -0.664794921875,
          -0.537109375,
          -0.55419921875,
          -0.5938720703125,
          -0.6197509765625,
          -0.689208984375,
          -0.5198974609375,
          -0.53466796875,
          -0.565185546875,
          -0.6092529296875,
          -0.6556396484375,
          -0.4625244140625,
          -0.504638671875,
          -0.5216064453125,
          -0.5634765625,
          -0.605224609375,
          -0.670166015625,
          -0.6585693359375,
          -0.5062255859375,
          -0.503173828125,
          -0.5224609375,
          -0.55517578125,
          -0.6060791015625,
          -0.6431884765625,
          -0.6663818359375,
          -0.6939697265625,
          -0.7213134765625,
          -0.4354248046875,
          -0.4619140625,
          -0.4835205078125,
          -0.5072021484375,
          -0.5421142578125,
          -0.579345703125,
          -0.6209716796875,
          -0.66943359375,
          -0.7366943359375,
          -0.782958984375,
          -0.8057861328125,
          -0.8330078125,
          -0.380126953125,
          -0.390869140625,
          -0.40576171875,
          -0.4476318359375,
          -0.48486328125,
          -0.51513671875,
          -0.5474853515625,
          -0.586669921875,
          -0.6326904296875,
          -0.68115234375,
          -0.748291015625,
          -0.8272705078125,
          -0.8499755859375,
          -0.8392333984375,
          -0.3603515625,
          -0.34912109375,
          -0.3709716796875,
          -0.40380859375,
          -0.4456787109375,
          -0.4805908203125,
          -0.4970703125,
          -0.53857421875,
          -0.575439453125,
          -0.6214599609375,
          -0.6861572265625,
          -0.734619140625,
          -0.8135986328125,
          -0.4249267578125,
          -0.3939208984375,
          -0.4024658203125,
          -0.4288330078125,
          -0.4503173828125,
          -0.4830322265625,
          -0.5155029296875,
          -0.5479736328125,
          -0.6055908203125,
          -0.647216796875,
          -0.697998046875,
          -0.732421875,
          -0.7808837890625,
          -0.8458251953125,
          -0.39111328125,
          -0.3890380859375,
          -0.4312744140625,
          -0.41259765625,
          -0.449951171875,
          -0.47119140625,
          -0.5128173828125,
          -0.54296875,
          -0.595947265625,
          -0.6536865234375,
          -0.7138671875,
          -0.739013671875,
          -0.796875,
          -0.8406982421875,
          -0.9412841796875,
          -0.399658203125,
          -0.4166259765625,
          -0.435791015625,
          -0.470703125,
          -0.4986572265625,
          -0.531005859375,
          -0.579345703125,
          -0.646240234375,
          -0.75732421875,
          -0.7940673828125,
          -0.842529296875,
          -0.898193359375,
          -0.3785400390625,
          -0.4046630859375,
          -0.4351806640625,
          -0.465576171875,
          -0.5003662109375,
          -0.544189453125,
          -0.585693359375,
          -0.6317138671875,
          -0.6964111328125,
          -0.7869873046875,
          -0.8944091796875,
          -0.397705078125,
          -0.406005859375,
          -0.4296875,
          -0.46240234375,
          -0.4970703125,
          -0.536376953125,
          -0.577880859375,
          -0.630859375,
          -0.6885986328125,
          -0.8094482421875,
          -0.445556640625,
          -0.4271240234375,
          -0.4215087890625,
          -0.4586181640625,
          -0.493408203125,
          -0.5372314453125,
          -0.5833740234375,
          -0.684814453125,
          -0.763671875,
          -0.4637451171875,
          -0.4764404296875,
          -0.5374755859375,
          -0.6116943359375,
          -0.648681640625,
          -0.7110595703125,
          -0.773681640625,
          -0.4835205078125,
          -0.4964599609375,
          -0.5225830078125,
          -0.5257568359375,
          -0.565185546875,
          -0.5975341796875,
          -0.669189453125,
          -0.72705078125,
          -0.5457763671875,
          -0.549560546875,
          -0.5345458984375,
          -0.553466796875,
          -0.5811767578125,
          -0.6573486328125,
          -0.6943359375,
          -0.5428466796875,
          -0.5556640625,
          -0.506591796875,
          -0.5390625,
          -0.58984375,
          -0.6844482421875,
          -0.631591796875,
          -0.4759521484375,
          -0.5426025390625,
          -0.6002197265625,
          -0.4510498046875,
          -0.5205078125,
          -0.5849609375,
          -0.453369140625,
          -0.4541015625,
          -0.5137939453125,
          -0.418701171875,
          -0.4398193359375,
          -0.4765625,
          -0.529296875,
          -0.800537109375,
          -0.75830078125
         ],
         "y": [
          -0.8221435546875,
          -0.8822021484375,
          -0.8116455078125,
          -0.78564453125,
          -0.73291015625,
          -0.7642822265625,
          -0.85107421875,
          -0.7762451171875,
          -0.732421875,
          -0.7152099609375,
          -0.702392578125,
          -0.84130859375,
          -0.8199462890625,
          -0.74951171875,
          -0.72900390625,
          -0.707275390625,
          -0.72998046875,
          -0.606201171875,
          -0.9332275390625,
          -0.8226318359375,
          -0.7567138671875,
          -0.7174072265625,
          -0.7144775390625,
          -0.6839599609375,
          -0.626708984375,
          -0.5782470703125,
          -0.5299072265625,
          -0.8935546875,
          -0.842041015625,
          -0.780517578125,
          -0.7235107421875,
          -0.688720703125,
          -0.6583251953125,
          -0.6365966796875,
          -0.629150390625,
          -0.6558837890625,
          -0.6427001953125,
          -0.585205078125,
          -0.53662109375,
          -0.8974609375,
          -0.8138427734375,
          -0.7391357421875,
          -0.7188720703125,
          -0.6885986328125,
          -0.6448974609375,
          -0.605712890625,
          -0.57958984375,
          -0.5667724609375,
          -0.5582275390625,
          -0.5849609375,
          -0.6343994140625,
          -0.576904296875,
          -0.4578857421875,
          -0.961669921875,
          -0.833251953125,
          -0.77197265625,
          -0.7330322265625,
          -0.7127685546875,
          -0.6781005859375,
          -0.6077880859375,
          -0.5863037109375,
          -0.555908203125,
          -0.5430908203125,
          -0.5655517578125,
          -0.557861328125,
          -0.6064453125,
          -1.094482421875,
          -0.92578125,
          -0.8387451171875,
          -0.7862548828125,
          -0.724853515625,
          -0.685791015625,
          -0.646484375,
          -0.6072998046875,
          -0.61669921875,
          -0.595947265625,
          -0.591796875,
          -0.556640625,
          -0.5477294921875,
          -0.5697021484375,
          -1.02685546875,
          -0.916259765625,
          -0.89501953125,
          -0.75341796875,
          -0.7232666015625,
          -0.661865234375,
          -0.6405029296875,
          -0.5977783203125,
          -0.5982666015625,
          -0.6075439453125,
          -0.62109375,
          -0.5682373046875,
          -0.5770263671875,
          -0.5601806640625,
          -0.647705078125,
          -0.94384765625,
          -0.767578125,
          -0.7017822265625,
          -0.6671142578125,
          -0.619140625,
          -0.5799560546875,
          -0.5726318359375,
          -0.599609375,
          -0.6087646484375,
          -0.577880859375,
          -0.56982421875,
          -0.5738525390625,
          -0.793701171875,
          -0.7413330078125,
          -0.69775390625,
          -0.6541748046875,
          -0.6195068359375,
          -0.6024169921875,
          -0.581787109375,
          -0.5689697265625,
          -0.59130859375,
          -0.6619873046875,
          -0.76318359375,
          -0.8402099609375,
          -0.752197265625,
          -0.6962890625,
          -0.6572265625,
          -0.62255859375,
          -0.5965576171875,
          -0.5750732421875,
          -0.575439453125,
          -0.5845947265625,
          -0.7125244140625,
          -0.9339599609375,
          -0.7923583984375,
          -0.6787109375,
          -0.6485595703125,
          -0.61376953125,
          -0.5968017578125,
          -0.583984375,
          -0.5758056640625,
          -0.62548828125,
          -0.8695068359375,
          -0.790283203125,
          -0.7030029296875,
          -0.64208984375,
          -0.6114501953125,
          -0.6302490234375,
          -0.64794921875,
          -0.9088134765625,
          -0.82958984375,
          -0.7769775390625,
          -0.68115234375,
          -0.6551513671875,
          -0.61572265625,
          -0.6514892578125,
          -0.660400390625,
          -0.93359375,
          -0.8365478515625,
          -0.7042236328125,
          -0.6383056640625,
          -0.5911865234375,
          -0.6356201171875,
          -0.60498046875,
          -0.92578125,
          -0.846435546875,
          -0.647705078125,
          -0.6083984375,
          -0.60546875,
          -0.6851806640625,
          -1.0050048828125,
          -0.5980224609375,
          -0.6251220703125,
          -0.634521484375,
          -0.65087890625,
          -0.58154296875,
          -0.60400390625,
          -0.659912109375,
          -0.558837890625,
          -0.57275390625,
          -0.592529296875,
          -0.532470703125,
          -0.502197265625,
          -0.5028076171875,
          -0.3199462890625,
          -0.1448974609375
         ],
         "z": [
          0.8292007446289062,
          0.7722625732421875,
          0.7730865478515625,
          0.772613525390625,
          0.7729263305664062,
          0.770751953125,
          0.7201080322265625,
          0.721221923828125,
          0.7213363647460938,
          0.7205886840820312,
          0.7197036743164062,
          0.6545486450195312,
          0.6539382934570312,
          0.6550979614257812,
          0.6544952392578125,
          0.6538925170898438,
          0.6516876220703125,
          0.65478515625,
          0.5962677001953125,
          0.5991363525390625,
          0.6002731323242188,
          0.6003646850585938,
          0.5990676879882812,
          0.59881591796875,
          0.599609375,
          0.6000595092773438,
          0.6005172729492188,
          0.544403076171875,
          0.54510498046875,
          0.5461883544921875,
          0.547088623046875,
          0.5470504760742188,
          0.5468215942382812,
          0.5462265014648438,
          0.5450592041015625,
          0.542388916015625,
          0.541412353515625,
          0.542327880859375,
          0.5428619384765625,
          0.4801025390625,
          0.48235321044921875,
          0.48419189453125,
          0.48358917236328125,
          0.4833984375,
          0.48381805419921875,
          0.484039306640625,
          0.483642578125,
          0.482635498046875,
          0.4814300537109375,
          0.47857666015625,
          0.47469329833984375,
          0.475738525390625,
          0.47966766357421875,
          0.41407012939453125,
          0.41873931884765625,
          0.42011260986328125,
          0.42038726806640625,
          0.4197845458984375,
          0.4198455810546875,
          0.42166900634765625,
          0.42107391357421875,
          0.4209136962890625,
          0.4198760986328125,
          0.4170684814453125,
          0.41580963134765625,
          0.41167449951171875,
          0.34026336669921875,
          0.34745025634765625,
          0.3503875732421875,
          0.3514404296875,
          0.35296630859375,
          0.3533172607421875,
          0.35366058349609375,
          0.35401153564453125,
          0.35175323486328125,
          0.35115814208984375,
          0.349609375,
          0.34972381591796875,
          0.34841156005859375,
          0.34543609619140625,
          0.2634124755859375,
          0.2679290771484375,
          0.2673187255859375,
          0.27364349365234375,
          0.27355194091796875,
          0.2752685546875,
          0.27466583251953125,
          0.27535247802734375,
          0.273468017578125,
          0.27106475830078125,
          0.26840972900390625,
          0.26961517333984375,
          0.2672119140625,
          0.266357421875,
          0.25930023193359375,
          0.18880462646484375,
          0.19586944580078125,
          0.198028564453125,
          0.1982574462890625,
          0.19931793212890625,
          0.1998291015625,
          0.198394775390625,
          0.19475555419921875,
          0.1902313232421875,
          0.19019317626953125,
          0.18875885009765625,
          0.18650054931640625,
          0.11788177490234375,
          0.11934661865234375,
          0.1202239990234375,
          0.12110137939453125,
          0.12139129638671875,
          0.12049102783203125,
          0.11989593505859375,
          0.11870574951171875,
          0.115142822265625,
          0.108306884765625,
          0.09938812255859375,
          0.03343963623046875,
          0.0375823974609375,
          0.0395050048828125,
          0.04016876220703125,
          0.04051971435546875,
          0.0402374267578125,
          0.039642333984375,
          0.0374603271484375,
          0.03464508056640625,
          0.02325439453125,
          -0.06414794921875,
          -0.05561065673828125,
          -0.04909515380859375,
          -0.04901885986328125,
          -0.0485992431640625,
          -0.04953765869140625,
          -0.050811767578125,
          -0.05472564697265625,
          -0.060760498046875,
          -0.1512603759765625,
          -0.1471710205078125,
          -0.1447601318359375,
          -0.1445159912109375,
          -0.1443939208984375,
          -0.14824676513671875,
          -0.15210723876953125,
          -0.26323699951171875,
          -0.25879669189453125,
          -0.256683349609375,
          -0.25067901611328125,
          -0.25089263916015625,
          -0.24993896484375,
          -0.25559234619140625,
          -0.25891876220703125,
          -0.36901092529296875,
          -0.36258697509765625,
          -0.35285186767578125,
          -0.34931182861328125,
          -0.3474273681640625,
          -0.35424041748046875,
          -0.35400390625,
          -0.473480224609375,
          -0.46837615966796875,
          -0.45139312744140625,
          -0.45023345947265625,
          -0.4525909423828125,
          -0.46331787109375,
          -0.591766357421875,
          -0.5518035888671875,
          -0.5575332641601562,
          -0.5614013671875,
          -0.6651611328125,
          -0.6633987426757812,
          -0.6689376831054688,
          -0.78265380859375,
          -0.7738418579101562,
          -0.7786178588867188,
          -0.8994903564453125,
          -0.8951034545898438,
          -0.89459228515625,
          -0.8979568481445312,
          -0.8982009887695312,
          -0.8793411254882812
         ]
        },
        {
         "marker": {
          "color": "red",
          "opacity": 0.8,
          "size": 4
         },
         "mode": "markers",
         "type": "scatter3d",
         "x": [
          0.003845086321234703,
          0.20560160279273987,
          0.2848395109176636,
          0.18231144547462463,
          0.11776278167963028,
          0.10442053526639938,
          0.12433118373155594,
          -0.11107239872217178,
          -0.23243093490600586,
          -0.206552654504776,
          -0.08288794755935669,
          -0.11990965902805328,
          -0.06867499649524689
         ],
         "y": [
          -0.14010199904441833,
          -0.058557361364364624,
          -0.13067510724067688,
          -0.2289380431175232,
          -0.05986938625574112,
          -0.058962542563676834,
          0.029883988201618195,
          0.08611166477203369,
          0.09672003239393234,
          -0.039681997150182724,
          0.03764823079109192,
          -0.009727412834763527,
          0.0405394546687603
         ],
         "z": [
          0.6403779983520508,
          0.4794546961784363,
          0.2692639231681824,
          0.16706900298595428,
          0.020784106105566025,
          -0.3240397572517395,
          -0.6577739715576172,
          0.4824784994125366,
          0.26557251811027527,
          0.16610483825206757,
          0.028286481276154518,
          -0.3170485198497772,
          -0.651410698890686
         ]
        },
        {
         "line": {
          "color": "black",
          "width": 2
         },
         "mode": "lines",
         "type": "scatter3d",
         "x": [
          0.003845086321234703,
          0.04726460203528404
         ],
         "y": [
          -0.14010199904441833,
          0.013777151703834534
         ],
         "z": [
          0.6403779983520508,
          0.48096659779548645
         ]
        },
        {
         "line": {
          "color": "black",
          "width": 2
         },
         "mode": "lines",
         "type": "scatter3d",
         "x": [
          0.20560160279273987,
          0.2848395109176636
         ],
         "y": [
          -0.058557361364364624,
          -0.13067510724067688
         ],
         "z": [
          0.4794546961784363,
          0.2692639231681824
         ]
        },
        {
         "line": {
          "color": "black",
          "width": 2
         },
         "mode": "lines",
         "type": "scatter3d",
         "x": [
          0.20560160279273987,
          0.11776278167963028
         ],
         "y": [
          -0.058557361364364624,
          -0.05986938625574112
         ],
         "z": [
          0.4794546961784363,
          0.020784106105566025
         ]
        },
        {
         "line": {
          "color": "black",
          "width": 2
         },
         "mode": "lines",
         "type": "scatter3d",
         "x": [
          0.20560160279273987,
          -0.11107239872217178
         ],
         "y": [
          -0.058557361364364624,
          0.08611166477203369
         ],
         "z": [
          0.4794546961784363,
          0.4824784994125366
         ]
        },
        {
         "line": {
          "color": "black",
          "width": 2
         },
         "mode": "lines",
         "type": "scatter3d",
         "x": [
          0.2848395109176636,
          0.18231144547462463
         ],
         "y": [
          -0.13067510724067688,
          -0.2289380431175232
         ],
         "z": [
          0.2692639231681824,
          0.16706900298595428
         ]
        },
        {
         "line": {
          "color": "black",
          "width": 2
         },
         "mode": "lines",
         "type": "scatter3d",
         "x": [
          0.11776278167963028,
          0.10442053526639938
         ],
         "y": [
          -0.05986938625574112,
          -0.058962542563676834
         ],
         "z": [
          0.020784106105566025,
          -0.3240397572517395
         ]
        },
        {
         "line": {
          "color": "black",
          "width": 2
         },
         "mode": "lines",
         "type": "scatter3d",
         "x": [
          0.11776278167963028,
          -0.08288794755935669
         ],
         "y": [
          -0.05986938625574112,
          0.03764823079109192
         ],
         "z": [
          0.020784106105566025,
          0.028286481276154518
         ]
        },
        {
         "line": {
          "color": "black",
          "width": 2
         },
         "mode": "lines",
         "type": "scatter3d",
         "x": [
          0.10442053526639938,
          0.12433118373155594
         ],
         "y": [
          -0.058962542563676834,
          0.029883988201618195
         ],
         "z": [
          -0.3240397572517395,
          -0.6577739715576172
         ]
        },
        {
         "line": {
          "color": "black",
          "width": 2
         },
         "mode": "lines",
         "type": "scatter3d",
         "x": [
          -0.11107239872217178,
          -0.23243093490600586
         ],
         "y": [
          0.08611166477203369,
          0.09672003239393234
         ],
         "z": [
          0.4824784994125366,
          0.26557251811027527
         ]
        },
        {
         "line": {
          "color": "black",
          "width": 2
         },
         "mode": "lines",
         "type": "scatter3d",
         "x": [
          -0.11107239872217178,
          -0.08288794755935669
         ],
         "y": [
          0.08611166477203369,
          0.03764823079109192
         ],
         "z": [
          0.4824784994125366,
          0.028286481276154518
         ]
        },
        {
         "line": {
          "color": "black",
          "width": 2
         },
         "mode": "lines",
         "type": "scatter3d",
         "x": [
          -0.23243093490600586,
          -0.206552654504776
         ],
         "y": [
          0.09672003239393234,
          -0.039681997150182724
         ],
         "z": [
          0.26557251811027527,
          0.16610483825206757
         ]
        },
        {
         "line": {
          "color": "black",
          "width": 2
         },
         "mode": "lines",
         "type": "scatter3d",
         "x": [
          -0.08288794755935669,
          -0.11990965902805328
         ],
         "y": [
          0.03764823079109192,
          -0.009727412834763527
         ],
         "z": [
          0.028286481276154518,
          -0.3170485198497772
         ]
        },
        {
         "line": {
          "color": "black",
          "width": 2
         },
         "mode": "lines",
         "type": "scatter3d",
         "x": [
          -0.11990965902805328,
          -0.06867499649524689
         ],
         "y": [
          -0.009727412834763527,
          0.0405394546687603
         ],
         "z": [
          -0.3170485198497772,
          -0.651410698890686
         ]
        },
        {
         "line": {
          "color": "blue",
          "width": 2
         },
         "mode": "lines",
         "type": "scatter3d",
         "x": [
          0,
          -0.6046846569546097
         ],
         "y": [
          0,
          -0.7964649808018467
         ],
         "z": [
          0,
          0
         ]
        }
       ],
       "layout": {
        "scene": {
         "aspectmode": "manual",
         "aspectratio": {
          "x": 3,
          "y": 3,
          "z": 3
         },
         "xaxis": {
          "range": [
           -1.5,
           1.5
          ]
         },
         "yaxis": {
          "range": [
           -1.5,
           1.5
          ]
         },
         "zaxis": {
          "range": [
           -1.5,
           1.5
          ]
         }
        },
        "template": {
         "data": {
          "bar": [
           {
            "error_x": {
             "color": "#2a3f5f"
            },
            "error_y": {
             "color": "#2a3f5f"
            },
            "marker": {
             "line": {
              "color": "#E5ECF6",
              "width": 0.5
             },
             "pattern": {
              "fillmode": "overlay",
              "size": 10,
              "solidity": 0.2
             }
            },
            "type": "bar"
           }
          ],
          "barpolar": [
           {
            "marker": {
             "line": {
              "color": "#E5ECF6",
              "width": 0.5
             },
             "pattern": {
              "fillmode": "overlay",
              "size": 10,
              "solidity": 0.2
             }
            },
            "type": "barpolar"
           }
          ],
          "carpet": [
           {
            "aaxis": {
             "endlinecolor": "#2a3f5f",
             "gridcolor": "white",
             "linecolor": "white",
             "minorgridcolor": "white",
             "startlinecolor": "#2a3f5f"
            },
            "baxis": {
             "endlinecolor": "#2a3f5f",
             "gridcolor": "white",
             "linecolor": "white",
             "minorgridcolor": "white",
             "startlinecolor": "#2a3f5f"
            },
            "type": "carpet"
           }
          ],
          "choropleth": [
           {
            "colorbar": {
             "outlinewidth": 0,
             "ticks": ""
            },
            "type": "choropleth"
           }
          ],
          "contour": [
           {
            "colorbar": {
             "outlinewidth": 0,
             "ticks": ""
            },
            "colorscale": [
             [
              0,
              "#0d0887"
             ],
             [
              0.1111111111111111,
              "#46039f"
             ],
             [
              0.2222222222222222,
              "#7201a8"
             ],
             [
              0.3333333333333333,
              "#9c179e"
             ],
             [
              0.4444444444444444,
              "#bd3786"
             ],
             [
              0.5555555555555556,
              "#d8576b"
             ],
             [
              0.6666666666666666,
              "#ed7953"
             ],
             [
              0.7777777777777778,
              "#fb9f3a"
             ],
             [
              0.8888888888888888,
              "#fdca26"
             ],
             [
              1,
              "#f0f921"
             ]
            ],
            "type": "contour"
           }
          ],
          "contourcarpet": [
           {
            "colorbar": {
             "outlinewidth": 0,
             "ticks": ""
            },
            "type": "contourcarpet"
           }
          ],
          "heatmap": [
           {
            "colorbar": {
             "outlinewidth": 0,
             "ticks": ""
            },
            "colorscale": [
             [
              0,
              "#0d0887"
             ],
             [
              0.1111111111111111,
              "#46039f"
             ],
             [
              0.2222222222222222,
              "#7201a8"
             ],
             [
              0.3333333333333333,
              "#9c179e"
             ],
             [
              0.4444444444444444,
              "#bd3786"
             ],
             [
              0.5555555555555556,
              "#d8576b"
             ],
             [
              0.6666666666666666,
              "#ed7953"
             ],
             [
              0.7777777777777778,
              "#fb9f3a"
             ],
             [
              0.8888888888888888,
              "#fdca26"
             ],
             [
              1,
              "#f0f921"
             ]
            ],
            "type": "heatmap"
           }
          ],
          "heatmapgl": [
           {
            "colorbar": {
             "outlinewidth": 0,
             "ticks": ""
            },
            "colorscale": [
             [
              0,
              "#0d0887"
             ],
             [
              0.1111111111111111,
              "#46039f"
             ],
             [
              0.2222222222222222,
              "#7201a8"
             ],
             [
              0.3333333333333333,
              "#9c179e"
             ],
             [
              0.4444444444444444,
              "#bd3786"
             ],
             [
              0.5555555555555556,
              "#d8576b"
             ],
             [
              0.6666666666666666,
              "#ed7953"
             ],
             [
              0.7777777777777778,
              "#fb9f3a"
             ],
             [
              0.8888888888888888,
              "#fdca26"
             ],
             [
              1,
              "#f0f921"
             ]
            ],
            "type": "heatmapgl"
           }
          ],
          "histogram": [
           {
            "marker": {
             "pattern": {
              "fillmode": "overlay",
              "size": 10,
              "solidity": 0.2
             }
            },
            "type": "histogram"
           }
          ],
          "histogram2d": [
           {
            "colorbar": {
             "outlinewidth": 0,
             "ticks": ""
            },
            "colorscale": [
             [
              0,
              "#0d0887"
             ],
             [
              0.1111111111111111,
              "#46039f"
             ],
             [
              0.2222222222222222,
              "#7201a8"
             ],
             [
              0.3333333333333333,
              "#9c179e"
             ],
             [
              0.4444444444444444,
              "#bd3786"
             ],
             [
              0.5555555555555556,
              "#d8576b"
             ],
             [
              0.6666666666666666,
              "#ed7953"
             ],
             [
              0.7777777777777778,
              "#fb9f3a"
             ],
             [
              0.8888888888888888,
              "#fdca26"
             ],
             [
              1,
              "#f0f921"
             ]
            ],
            "type": "histogram2d"
           }
          ],
          "histogram2dcontour": [
           {
            "colorbar": {
             "outlinewidth": 0,
             "ticks": ""
            },
            "colorscale": [
             [
              0,
              "#0d0887"
             ],
             [
              0.1111111111111111,
              "#46039f"
             ],
             [
              0.2222222222222222,
              "#7201a8"
             ],
             [
              0.3333333333333333,
              "#9c179e"
             ],
             [
              0.4444444444444444,
              "#bd3786"
             ],
             [
              0.5555555555555556,
              "#d8576b"
             ],
             [
              0.6666666666666666,
              "#ed7953"
             ],
             [
              0.7777777777777778,
              "#fb9f3a"
             ],
             [
              0.8888888888888888,
              "#fdca26"
             ],
             [
              1,
              "#f0f921"
             ]
            ],
            "type": "histogram2dcontour"
           }
          ],
          "mesh3d": [
           {
            "colorbar": {
             "outlinewidth": 0,
             "ticks": ""
            },
            "type": "mesh3d"
           }
          ],
          "parcoords": [
           {
            "line": {
             "colorbar": {
              "outlinewidth": 0,
              "ticks": ""
             }
            },
            "type": "parcoords"
           }
          ],
          "pie": [
           {
            "automargin": true,
            "type": "pie"
           }
          ],
          "scatter": [
           {
            "fillpattern": {
             "fillmode": "overlay",
             "size": 10,
             "solidity": 0.2
            },
            "type": "scatter"
           }
          ],
          "scatter3d": [
           {
            "line": {
             "colorbar": {
              "outlinewidth": 0,
              "ticks": ""
             }
            },
            "marker": {
             "colorbar": {
              "outlinewidth": 0,
              "ticks": ""
             }
            },
            "type": "scatter3d"
           }
          ],
          "scattercarpet": [
           {
            "marker": {
             "colorbar": {
              "outlinewidth": 0,
              "ticks": ""
             }
            },
            "type": "scattercarpet"
           }
          ],
          "scattergeo": [
           {
            "marker": {
             "colorbar": {
              "outlinewidth": 0,
              "ticks": ""
             }
            },
            "type": "scattergeo"
           }
          ],
          "scattergl": [
           {
            "marker": {
             "colorbar": {
              "outlinewidth": 0,
              "ticks": ""
             }
            },
            "type": "scattergl"
           }
          ],
          "scattermapbox": [
           {
            "marker": {
             "colorbar": {
              "outlinewidth": 0,
              "ticks": ""
             }
            },
            "type": "scattermapbox"
           }
          ],
          "scatterpolar": [
           {
            "marker": {
             "colorbar": {
              "outlinewidth": 0,
              "ticks": ""
             }
            },
            "type": "scatterpolar"
           }
          ],
          "scatterpolargl": [
           {
            "marker": {
             "colorbar": {
              "outlinewidth": 0,
              "ticks": ""
             }
            },
            "type": "scatterpolargl"
           }
          ],
          "scatterternary": [
           {
            "marker": {
             "colorbar": {
              "outlinewidth": 0,
              "ticks": ""
             }
            },
            "type": "scatterternary"
           }
          ],
          "surface": [
           {
            "colorbar": {
             "outlinewidth": 0,
             "ticks": ""
            },
            "colorscale": [
             [
              0,
              "#0d0887"
             ],
             [
              0.1111111111111111,
              "#46039f"
             ],
             [
              0.2222222222222222,
              "#7201a8"
             ],
             [
              0.3333333333333333,
              "#9c179e"
             ],
             [
              0.4444444444444444,
              "#bd3786"
             ],
             [
              0.5555555555555556,
              "#d8576b"
             ],
             [
              0.6666666666666666,
              "#ed7953"
             ],
             [
              0.7777777777777778,
              "#fb9f3a"
             ],
             [
              0.8888888888888888,
              "#fdca26"
             ],
             [
              1,
              "#f0f921"
             ]
            ],
            "type": "surface"
           }
          ],
          "table": [
           {
            "cells": {
             "fill": {
              "color": "#EBF0F8"
             },
             "line": {
              "color": "white"
             }
            },
            "header": {
             "fill": {
              "color": "#C8D4E3"
             },
             "line": {
              "color": "white"
             }
            },
            "type": "table"
           }
          ]
         },
         "layout": {
          "annotationdefaults": {
           "arrowcolor": "#2a3f5f",
           "arrowhead": 0,
           "arrowwidth": 1
          },
          "autotypenumbers": "strict",
          "coloraxis": {
           "colorbar": {
            "outlinewidth": 0,
            "ticks": ""
           }
          },
          "colorscale": {
           "diverging": [
            [
             0,
             "#8e0152"
            ],
            [
             0.1,
             "#c51b7d"
            ],
            [
             0.2,
             "#de77ae"
            ],
            [
             0.3,
             "#f1b6da"
            ],
            [
             0.4,
             "#fde0ef"
            ],
            [
             0.5,
             "#f7f7f7"
            ],
            [
             0.6,
             "#e6f5d0"
            ],
            [
             0.7,
             "#b8e186"
            ],
            [
             0.8,
             "#7fbc41"
            ],
            [
             0.9,
             "#4d9221"
            ],
            [
             1,
             "#276419"
            ]
           ],
           "sequential": [
            [
             0,
             "#0d0887"
            ],
            [
             0.1111111111111111,
             "#46039f"
            ],
            [
             0.2222222222222222,
             "#7201a8"
            ],
            [
             0.3333333333333333,
             "#9c179e"
            ],
            [
             0.4444444444444444,
             "#bd3786"
            ],
            [
             0.5555555555555556,
             "#d8576b"
            ],
            [
             0.6666666666666666,
             "#ed7953"
            ],
            [
             0.7777777777777778,
             "#fb9f3a"
            ],
            [
             0.8888888888888888,
             "#fdca26"
            ],
            [
             1,
             "#f0f921"
            ]
           ],
           "sequentialminus": [
            [
             0,
             "#0d0887"
            ],
            [
             0.1111111111111111,
             "#46039f"
            ],
            [
             0.2222222222222222,
             "#7201a8"
            ],
            [
             0.3333333333333333,
             "#9c179e"
            ],
            [
             0.4444444444444444,
             "#bd3786"
            ],
            [
             0.5555555555555556,
             "#d8576b"
            ],
            [
             0.6666666666666666,
             "#ed7953"
            ],
            [
             0.7777777777777778,
             "#fb9f3a"
            ],
            [
             0.8888888888888888,
             "#fdca26"
            ],
            [
             1,
             "#f0f921"
            ]
           ]
          },
          "colorway": [
           "#636efa",
           "#EF553B",
           "#00cc96",
           "#ab63fa",
           "#FFA15A",
           "#19d3f3",
           "#FF6692",
           "#B6E880",
           "#FF97FF",
           "#FECB52"
          ],
          "font": {
           "color": "#2a3f5f"
          },
          "geo": {
           "bgcolor": "white",
           "lakecolor": "white",
           "landcolor": "#E5ECF6",
           "showlakes": true,
           "showland": true,
           "subunitcolor": "white"
          },
          "hoverlabel": {
           "align": "left"
          },
          "hovermode": "closest",
          "mapbox": {
           "style": "light"
          },
          "paper_bgcolor": "white",
          "plot_bgcolor": "#E5ECF6",
          "polar": {
           "angularaxis": {
            "gridcolor": "white",
            "linecolor": "white",
            "ticks": ""
           },
           "bgcolor": "#E5ECF6",
           "radialaxis": {
            "gridcolor": "white",
            "linecolor": "white",
            "ticks": ""
           }
          },
          "scene": {
           "xaxis": {
            "backgroundcolor": "#E5ECF6",
            "gridcolor": "white",
            "gridwidth": 2,
            "linecolor": "white",
            "showbackground": true,
            "ticks": "",
            "zerolinecolor": "white"
           },
           "yaxis": {
            "backgroundcolor": "#E5ECF6",
            "gridcolor": "white",
            "gridwidth": 2,
            "linecolor": "white",
            "showbackground": true,
            "ticks": "",
            "zerolinecolor": "white"
           },
           "zaxis": {
            "backgroundcolor": "#E5ECF6",
            "gridcolor": "white",
            "gridwidth": 2,
            "linecolor": "white",
            "showbackground": true,
            "ticks": "",
            "zerolinecolor": "white"
           }
          },
          "shapedefaults": {
           "line": {
            "color": "#2a3f5f"
           }
          },
          "ternary": {
           "aaxis": {
            "gridcolor": "white",
            "linecolor": "white",
            "ticks": ""
           },
           "baxis": {
            "gridcolor": "white",
            "linecolor": "white",
            "ticks": ""
           },
           "bgcolor": "#E5ECF6",
           "caxis": {
            "gridcolor": "white",
            "linecolor": "white",
            "ticks": ""
           }
          },
          "title": {
           "x": 0.05
          },
          "xaxis": {
           "automargin": true,
           "gridcolor": "white",
           "linecolor": "white",
           "ticks": "",
           "title": {
            "standoff": 15
           },
           "zerolinecolor": "white",
           "zerolinewidth": 2
          },
          "yaxis": {
           "automargin": true,
           "gridcolor": "white",
           "linecolor": "white",
           "ticks": "",
           "title": {
            "standoff": 15
           },
           "zerolinecolor": "white",
           "zerolinewidth": 2
          }
         }
        }
       }
      },
      "text/html": [
       "<div>                            <div id=\"f050a908-15bb-4fa5-81d8-563f41ca1573\" class=\"plotly-graph-div\" style=\"height:525px; width:100%;\"></div>            <script type=\"text/javascript\">                require([\"plotly\"], function(Plotly) {                    window.PLOTLYENV=window.PLOTLYENV || {};                                    if (document.getElementById(\"f050a908-15bb-4fa5-81d8-563f41ca1573\")) {                    Plotly.newPlot(                        \"f050a908-15bb-4fa5-81d8-563f41ca1573\",                        [{\"marker\":{\"opacity\":0.8,\"size\":2},\"mode\":\"markers\",\"x\":[-0.664794921875,-0.537109375,-0.55419921875,-0.5938720703125,-0.6197509765625,-0.689208984375,-0.5198974609375,-0.53466796875,-0.565185546875,-0.6092529296875,-0.6556396484375,-0.4625244140625,-0.504638671875,-0.5216064453125,-0.5634765625,-0.605224609375,-0.670166015625,-0.6585693359375,-0.5062255859375,-0.503173828125,-0.5224609375,-0.55517578125,-0.6060791015625,-0.6431884765625,-0.6663818359375,-0.6939697265625,-0.7213134765625,-0.4354248046875,-0.4619140625,-0.4835205078125,-0.5072021484375,-0.5421142578125,-0.579345703125,-0.6209716796875,-0.66943359375,-0.7366943359375,-0.782958984375,-0.8057861328125,-0.8330078125,-0.380126953125,-0.390869140625,-0.40576171875,-0.4476318359375,-0.48486328125,-0.51513671875,-0.5474853515625,-0.586669921875,-0.6326904296875,-0.68115234375,-0.748291015625,-0.8272705078125,-0.8499755859375,-0.8392333984375,-0.3603515625,-0.34912109375,-0.3709716796875,-0.40380859375,-0.4456787109375,-0.4805908203125,-0.4970703125,-0.53857421875,-0.575439453125,-0.6214599609375,-0.6861572265625,-0.734619140625,-0.8135986328125,-0.4249267578125,-0.3939208984375,-0.4024658203125,-0.4288330078125,-0.4503173828125,-0.4830322265625,-0.5155029296875,-0.5479736328125,-0.6055908203125,-0.647216796875,-0.697998046875,-0.732421875,-0.7808837890625,-0.8458251953125,-0.39111328125,-0.3890380859375,-0.4312744140625,-0.41259765625,-0.449951171875,-0.47119140625,-0.5128173828125,-0.54296875,-0.595947265625,-0.6536865234375,-0.7138671875,-0.739013671875,-0.796875,-0.8406982421875,-0.9412841796875,-0.399658203125,-0.4166259765625,-0.435791015625,-0.470703125,-0.4986572265625,-0.531005859375,-0.579345703125,-0.646240234375,-0.75732421875,-0.7940673828125,-0.842529296875,-0.898193359375,-0.3785400390625,-0.4046630859375,-0.4351806640625,-0.465576171875,-0.5003662109375,-0.544189453125,-0.585693359375,-0.6317138671875,-0.6964111328125,-0.7869873046875,-0.8944091796875,-0.397705078125,-0.406005859375,-0.4296875,-0.46240234375,-0.4970703125,-0.536376953125,-0.577880859375,-0.630859375,-0.6885986328125,-0.8094482421875,-0.445556640625,-0.4271240234375,-0.4215087890625,-0.4586181640625,-0.493408203125,-0.5372314453125,-0.5833740234375,-0.684814453125,-0.763671875,-0.4637451171875,-0.4764404296875,-0.5374755859375,-0.6116943359375,-0.648681640625,-0.7110595703125,-0.773681640625,-0.4835205078125,-0.4964599609375,-0.5225830078125,-0.5257568359375,-0.565185546875,-0.5975341796875,-0.669189453125,-0.72705078125,-0.5457763671875,-0.549560546875,-0.5345458984375,-0.553466796875,-0.5811767578125,-0.6573486328125,-0.6943359375,-0.5428466796875,-0.5556640625,-0.506591796875,-0.5390625,-0.58984375,-0.6844482421875,-0.631591796875,-0.4759521484375,-0.5426025390625,-0.6002197265625,-0.4510498046875,-0.5205078125,-0.5849609375,-0.453369140625,-0.4541015625,-0.5137939453125,-0.418701171875,-0.4398193359375,-0.4765625,-0.529296875,-0.800537109375,-0.75830078125],\"y\":[-0.8221435546875,-0.8822021484375,-0.8116455078125,-0.78564453125,-0.73291015625,-0.7642822265625,-0.85107421875,-0.7762451171875,-0.732421875,-0.7152099609375,-0.702392578125,-0.84130859375,-0.8199462890625,-0.74951171875,-0.72900390625,-0.707275390625,-0.72998046875,-0.606201171875,-0.9332275390625,-0.8226318359375,-0.7567138671875,-0.7174072265625,-0.7144775390625,-0.6839599609375,-0.626708984375,-0.5782470703125,-0.5299072265625,-0.8935546875,-0.842041015625,-0.780517578125,-0.7235107421875,-0.688720703125,-0.6583251953125,-0.6365966796875,-0.629150390625,-0.6558837890625,-0.6427001953125,-0.585205078125,-0.53662109375,-0.8974609375,-0.8138427734375,-0.7391357421875,-0.7188720703125,-0.6885986328125,-0.6448974609375,-0.605712890625,-0.57958984375,-0.5667724609375,-0.5582275390625,-0.5849609375,-0.6343994140625,-0.576904296875,-0.4578857421875,-0.961669921875,-0.833251953125,-0.77197265625,-0.7330322265625,-0.7127685546875,-0.6781005859375,-0.6077880859375,-0.5863037109375,-0.555908203125,-0.5430908203125,-0.5655517578125,-0.557861328125,-0.6064453125,-1.094482421875,-0.92578125,-0.8387451171875,-0.7862548828125,-0.724853515625,-0.685791015625,-0.646484375,-0.6072998046875,-0.61669921875,-0.595947265625,-0.591796875,-0.556640625,-0.5477294921875,-0.5697021484375,-1.02685546875,-0.916259765625,-0.89501953125,-0.75341796875,-0.7232666015625,-0.661865234375,-0.6405029296875,-0.5977783203125,-0.5982666015625,-0.6075439453125,-0.62109375,-0.5682373046875,-0.5770263671875,-0.5601806640625,-0.647705078125,-0.94384765625,-0.767578125,-0.7017822265625,-0.6671142578125,-0.619140625,-0.5799560546875,-0.5726318359375,-0.599609375,-0.6087646484375,-0.577880859375,-0.56982421875,-0.5738525390625,-0.793701171875,-0.7413330078125,-0.69775390625,-0.6541748046875,-0.6195068359375,-0.6024169921875,-0.581787109375,-0.5689697265625,-0.59130859375,-0.6619873046875,-0.76318359375,-0.8402099609375,-0.752197265625,-0.6962890625,-0.6572265625,-0.62255859375,-0.5965576171875,-0.5750732421875,-0.575439453125,-0.5845947265625,-0.7125244140625,-0.9339599609375,-0.7923583984375,-0.6787109375,-0.6485595703125,-0.61376953125,-0.5968017578125,-0.583984375,-0.5758056640625,-0.62548828125,-0.8695068359375,-0.790283203125,-0.7030029296875,-0.64208984375,-0.6114501953125,-0.6302490234375,-0.64794921875,-0.9088134765625,-0.82958984375,-0.7769775390625,-0.68115234375,-0.6551513671875,-0.61572265625,-0.6514892578125,-0.660400390625,-0.93359375,-0.8365478515625,-0.7042236328125,-0.6383056640625,-0.5911865234375,-0.6356201171875,-0.60498046875,-0.92578125,-0.846435546875,-0.647705078125,-0.6083984375,-0.60546875,-0.6851806640625,-1.0050048828125,-0.5980224609375,-0.6251220703125,-0.634521484375,-0.65087890625,-0.58154296875,-0.60400390625,-0.659912109375,-0.558837890625,-0.57275390625,-0.592529296875,-0.532470703125,-0.502197265625,-0.5028076171875,-0.3199462890625,-0.1448974609375],\"z\":[0.8292007446289062,0.7722625732421875,0.7730865478515625,0.772613525390625,0.7729263305664062,0.770751953125,0.7201080322265625,0.721221923828125,0.7213363647460938,0.7205886840820312,0.7197036743164062,0.6545486450195312,0.6539382934570312,0.6550979614257812,0.6544952392578125,0.6538925170898438,0.6516876220703125,0.65478515625,0.5962677001953125,0.5991363525390625,0.6002731323242188,0.6003646850585938,0.5990676879882812,0.59881591796875,0.599609375,0.6000595092773438,0.6005172729492188,0.544403076171875,0.54510498046875,0.5461883544921875,0.547088623046875,0.5470504760742188,0.5468215942382812,0.5462265014648438,0.5450592041015625,0.542388916015625,0.541412353515625,0.542327880859375,0.5428619384765625,0.4801025390625,0.48235321044921875,0.48419189453125,0.48358917236328125,0.4833984375,0.48381805419921875,0.484039306640625,0.483642578125,0.482635498046875,0.4814300537109375,0.47857666015625,0.47469329833984375,0.475738525390625,0.47966766357421875,0.41407012939453125,0.41873931884765625,0.42011260986328125,0.42038726806640625,0.4197845458984375,0.4198455810546875,0.42166900634765625,0.42107391357421875,0.4209136962890625,0.4198760986328125,0.4170684814453125,0.41580963134765625,0.41167449951171875,0.34026336669921875,0.34745025634765625,0.3503875732421875,0.3514404296875,0.35296630859375,0.3533172607421875,0.35366058349609375,0.35401153564453125,0.35175323486328125,0.35115814208984375,0.349609375,0.34972381591796875,0.34841156005859375,0.34543609619140625,0.2634124755859375,0.2679290771484375,0.2673187255859375,0.27364349365234375,0.27355194091796875,0.2752685546875,0.27466583251953125,0.27535247802734375,0.273468017578125,0.27106475830078125,0.26840972900390625,0.26961517333984375,0.2672119140625,0.266357421875,0.25930023193359375,0.18880462646484375,0.19586944580078125,0.198028564453125,0.1982574462890625,0.19931793212890625,0.1998291015625,0.198394775390625,0.19475555419921875,0.1902313232421875,0.19019317626953125,0.18875885009765625,0.18650054931640625,0.11788177490234375,0.11934661865234375,0.1202239990234375,0.12110137939453125,0.12139129638671875,0.12049102783203125,0.11989593505859375,0.11870574951171875,0.115142822265625,0.108306884765625,0.09938812255859375,0.03343963623046875,0.0375823974609375,0.0395050048828125,0.04016876220703125,0.04051971435546875,0.0402374267578125,0.039642333984375,0.0374603271484375,0.03464508056640625,0.02325439453125,-0.06414794921875,-0.05561065673828125,-0.04909515380859375,-0.04901885986328125,-0.0485992431640625,-0.04953765869140625,-0.050811767578125,-0.05472564697265625,-0.060760498046875,-0.1512603759765625,-0.1471710205078125,-0.1447601318359375,-0.1445159912109375,-0.1443939208984375,-0.14824676513671875,-0.15210723876953125,-0.26323699951171875,-0.25879669189453125,-0.256683349609375,-0.25067901611328125,-0.25089263916015625,-0.24993896484375,-0.25559234619140625,-0.25891876220703125,-0.36901092529296875,-0.36258697509765625,-0.35285186767578125,-0.34931182861328125,-0.3474273681640625,-0.35424041748046875,-0.35400390625,-0.473480224609375,-0.46837615966796875,-0.45139312744140625,-0.45023345947265625,-0.4525909423828125,-0.46331787109375,-0.591766357421875,-0.5518035888671875,-0.5575332641601562,-0.5614013671875,-0.6651611328125,-0.6633987426757812,-0.6689376831054688,-0.78265380859375,-0.7738418579101562,-0.7786178588867188,-0.8994903564453125,-0.8951034545898438,-0.89459228515625,-0.8979568481445312,-0.8982009887695312,-0.8793411254882812],\"type\":\"scatter3d\"},{\"marker\":{\"color\":\"red\",\"opacity\":0.8,\"size\":4},\"mode\":\"markers\",\"x\":[0.003845086321234703,0.20560160279273987,0.2848395109176636,0.18231144547462463,0.11776278167963028,0.10442053526639938,0.12433118373155594,-0.11107239872217178,-0.23243093490600586,-0.206552654504776,-0.08288794755935669,-0.11990965902805328,-0.06867499649524689],\"y\":[-0.14010199904441833,-0.058557361364364624,-0.13067510724067688,-0.2289380431175232,-0.05986938625574112,-0.058962542563676834,0.029883988201618195,0.08611166477203369,0.09672003239393234,-0.039681997150182724,0.03764823079109192,-0.009727412834763527,0.0405394546687603],\"z\":[0.6403779983520508,0.4794546961784363,0.2692639231681824,0.16706900298595428,0.020784106105566025,-0.3240397572517395,-0.6577739715576172,0.4824784994125366,0.26557251811027527,0.16610483825206757,0.028286481276154518,-0.3170485198497772,-0.651410698890686],\"type\":\"scatter3d\"},{\"line\":{\"color\":\"black\",\"width\":2},\"mode\":\"lines\",\"x\":[0.003845086321234703,0.04726460203528404],\"y\":[-0.14010199904441833,0.013777151703834534],\"z\":[0.6403779983520508,0.48096659779548645],\"type\":\"scatter3d\"},{\"line\":{\"color\":\"black\",\"width\":2},\"mode\":\"lines\",\"x\":[0.20560160279273987,0.2848395109176636],\"y\":[-0.058557361364364624,-0.13067510724067688],\"z\":[0.4794546961784363,0.2692639231681824],\"type\":\"scatter3d\"},{\"line\":{\"color\":\"black\",\"width\":2},\"mode\":\"lines\",\"x\":[0.20560160279273987,0.11776278167963028],\"y\":[-0.058557361364364624,-0.05986938625574112],\"z\":[0.4794546961784363,0.020784106105566025],\"type\":\"scatter3d\"},{\"line\":{\"color\":\"black\",\"width\":2},\"mode\":\"lines\",\"x\":[0.20560160279273987,-0.11107239872217178],\"y\":[-0.058557361364364624,0.08611166477203369],\"z\":[0.4794546961784363,0.4824784994125366],\"type\":\"scatter3d\"},{\"line\":{\"color\":\"black\",\"width\":2},\"mode\":\"lines\",\"x\":[0.2848395109176636,0.18231144547462463],\"y\":[-0.13067510724067688,-0.2289380431175232],\"z\":[0.2692639231681824,0.16706900298595428],\"type\":\"scatter3d\"},{\"line\":{\"color\":\"black\",\"width\":2},\"mode\":\"lines\",\"x\":[0.11776278167963028,0.10442053526639938],\"y\":[-0.05986938625574112,-0.058962542563676834],\"z\":[0.020784106105566025,-0.3240397572517395],\"type\":\"scatter3d\"},{\"line\":{\"color\":\"black\",\"width\":2},\"mode\":\"lines\",\"x\":[0.11776278167963028,-0.08288794755935669],\"y\":[-0.05986938625574112,0.03764823079109192],\"z\":[0.020784106105566025,0.028286481276154518],\"type\":\"scatter3d\"},{\"line\":{\"color\":\"black\",\"width\":2},\"mode\":\"lines\",\"x\":[0.10442053526639938,0.12433118373155594],\"y\":[-0.058962542563676834,0.029883988201618195],\"z\":[-0.3240397572517395,-0.6577739715576172],\"type\":\"scatter3d\"},{\"line\":{\"color\":\"black\",\"width\":2},\"mode\":\"lines\",\"x\":[-0.11107239872217178,-0.23243093490600586],\"y\":[0.08611166477203369,0.09672003239393234],\"z\":[0.4824784994125366,0.26557251811027527],\"type\":\"scatter3d\"},{\"line\":{\"color\":\"black\",\"width\":2},\"mode\":\"lines\",\"x\":[-0.11107239872217178,-0.08288794755935669],\"y\":[0.08611166477203369,0.03764823079109192],\"z\":[0.4824784994125366,0.028286481276154518],\"type\":\"scatter3d\"},{\"line\":{\"color\":\"black\",\"width\":2},\"mode\":\"lines\",\"x\":[-0.23243093490600586,-0.206552654504776],\"y\":[0.09672003239393234,-0.039681997150182724],\"z\":[0.26557251811027527,0.16610483825206757],\"type\":\"scatter3d\"},{\"line\":{\"color\":\"black\",\"width\":2},\"mode\":\"lines\",\"x\":[-0.08288794755935669,-0.11990965902805328],\"y\":[0.03764823079109192,-0.009727412834763527],\"z\":[0.028286481276154518,-0.3170485198497772],\"type\":\"scatter3d\"},{\"line\":{\"color\":\"black\",\"width\":2},\"mode\":\"lines\",\"x\":[-0.11990965902805328,-0.06867499649524689],\"y\":[-0.009727412834763527,0.0405394546687603],\"z\":[-0.3170485198497772,-0.651410698890686],\"type\":\"scatter3d\"},{\"line\":{\"color\":\"blue\",\"width\":2},\"mode\":\"lines\",\"x\":[0,-0.6046846569546097],\"y\":[0,-0.7964649808018467],\"z\":[0,0],\"type\":\"scatter3d\"}],                        {\"template\":{\"data\":{\"histogram2dcontour\":[{\"type\":\"histogram2dcontour\",\"colorbar\":{\"outlinewidth\":0,\"ticks\":\"\"},\"colorscale\":[[0.0,\"#0d0887\"],[0.1111111111111111,\"#46039f\"],[0.2222222222222222,\"#7201a8\"],[0.3333333333333333,\"#9c179e\"],[0.4444444444444444,\"#bd3786\"],[0.5555555555555556,\"#d8576b\"],[0.6666666666666666,\"#ed7953\"],[0.7777777777777778,\"#fb9f3a\"],[0.8888888888888888,\"#fdca26\"],[1.0,\"#f0f921\"]]}],\"choropleth\":[{\"type\":\"choropleth\",\"colorbar\":{\"outlinewidth\":0,\"ticks\":\"\"}}],\"histogram2d\":[{\"type\":\"histogram2d\",\"colorbar\":{\"outlinewidth\":0,\"ticks\":\"\"},\"colorscale\":[[0.0,\"#0d0887\"],[0.1111111111111111,\"#46039f\"],[0.2222222222222222,\"#7201a8\"],[0.3333333333333333,\"#9c179e\"],[0.4444444444444444,\"#bd3786\"],[0.5555555555555556,\"#d8576b\"],[0.6666666666666666,\"#ed7953\"],[0.7777777777777778,\"#fb9f3a\"],[0.8888888888888888,\"#fdca26\"],[1.0,\"#f0f921\"]]}],\"heatmap\":[{\"type\":\"heatmap\",\"colorbar\":{\"outlinewidth\":0,\"ticks\":\"\"},\"colorscale\":[[0.0,\"#0d0887\"],[0.1111111111111111,\"#46039f\"],[0.2222222222222222,\"#7201a8\"],[0.3333333333333333,\"#9c179e\"],[0.4444444444444444,\"#bd3786\"],[0.5555555555555556,\"#d8576b\"],[0.6666666666666666,\"#ed7953\"],[0.7777777777777778,\"#fb9f3a\"],[0.8888888888888888,\"#fdca26\"],[1.0,\"#f0f921\"]]}],\"heatmapgl\":[{\"type\":\"heatmapgl\",\"colorbar\":{\"outlinewidth\":0,\"ticks\":\"\"},\"colorscale\":[[0.0,\"#0d0887\"],[0.1111111111111111,\"#46039f\"],[0.2222222222222222,\"#7201a8\"],[0.3333333333333333,\"#9c179e\"],[0.4444444444444444,\"#bd3786\"],[0.5555555555555556,\"#d8576b\"],[0.6666666666666666,\"#ed7953\"],[0.7777777777777778,\"#fb9f3a\"],[0.8888888888888888,\"#fdca26\"],[1.0,\"#f0f921\"]]}],\"contourcarpet\":[{\"type\":\"contourcarpet\",\"colorbar\":{\"outlinewidth\":0,\"ticks\":\"\"}}],\"contour\":[{\"type\":\"contour\",\"colorbar\":{\"outlinewidth\":0,\"ticks\":\"\"},\"colorscale\":[[0.0,\"#0d0887\"],[0.1111111111111111,\"#46039f\"],[0.2222222222222222,\"#7201a8\"],[0.3333333333333333,\"#9c179e\"],[0.4444444444444444,\"#bd3786\"],[0.5555555555555556,\"#d8576b\"],[0.6666666666666666,\"#ed7953\"],[0.7777777777777778,\"#fb9f3a\"],[0.8888888888888888,\"#fdca26\"],[1.0,\"#f0f921\"]]}],\"surface\":[{\"type\":\"surface\",\"colorbar\":{\"outlinewidth\":0,\"ticks\":\"\"},\"colorscale\":[[0.0,\"#0d0887\"],[0.1111111111111111,\"#46039f\"],[0.2222222222222222,\"#7201a8\"],[0.3333333333333333,\"#9c179e\"],[0.4444444444444444,\"#bd3786\"],[0.5555555555555556,\"#d8576b\"],[0.6666666666666666,\"#ed7953\"],[0.7777777777777778,\"#fb9f3a\"],[0.8888888888888888,\"#fdca26\"],[1.0,\"#f0f921\"]]}],\"mesh3d\":[{\"type\":\"mesh3d\",\"colorbar\":{\"outlinewidth\":0,\"ticks\":\"\"}}],\"scatter\":[{\"fillpattern\":{\"fillmode\":\"overlay\",\"size\":10,\"solidity\":0.2},\"type\":\"scatter\"}],\"parcoords\":[{\"type\":\"parcoords\",\"line\":{\"colorbar\":{\"outlinewidth\":0,\"ticks\":\"\"}}}],\"scatterpolargl\":[{\"type\":\"scatterpolargl\",\"marker\":{\"colorbar\":{\"outlinewidth\":0,\"ticks\":\"\"}}}],\"bar\":[{\"error_x\":{\"color\":\"#2a3f5f\"},\"error_y\":{\"color\":\"#2a3f5f\"},\"marker\":{\"line\":{\"color\":\"#E5ECF6\",\"width\":0.5},\"pattern\":{\"fillmode\":\"overlay\",\"size\":10,\"solidity\":0.2}},\"type\":\"bar\"}],\"scattergeo\":[{\"type\":\"scattergeo\",\"marker\":{\"colorbar\":{\"outlinewidth\":0,\"ticks\":\"\"}}}],\"scatterpolar\":[{\"type\":\"scatterpolar\",\"marker\":{\"colorbar\":{\"outlinewidth\":0,\"ticks\":\"\"}}}],\"histogram\":[{\"marker\":{\"pattern\":{\"fillmode\":\"overlay\",\"size\":10,\"solidity\":0.2}},\"type\":\"histogram\"}],\"scattergl\":[{\"type\":\"scattergl\",\"marker\":{\"colorbar\":{\"outlinewidth\":0,\"ticks\":\"\"}}}],\"scatter3d\":[{\"type\":\"scatter3d\",\"line\":{\"colorbar\":{\"outlinewidth\":0,\"ticks\":\"\"}},\"marker\":{\"colorbar\":{\"outlinewidth\":0,\"ticks\":\"\"}}}],\"scattermapbox\":[{\"type\":\"scattermapbox\",\"marker\":{\"colorbar\":{\"outlinewidth\":0,\"ticks\":\"\"}}}],\"scatterternary\":[{\"type\":\"scatterternary\",\"marker\":{\"colorbar\":{\"outlinewidth\":0,\"ticks\":\"\"}}}],\"scattercarpet\":[{\"type\":\"scattercarpet\",\"marker\":{\"colorbar\":{\"outlinewidth\":0,\"ticks\":\"\"}}}],\"carpet\":[{\"aaxis\":{\"endlinecolor\":\"#2a3f5f\",\"gridcolor\":\"white\",\"linecolor\":\"white\",\"minorgridcolor\":\"white\",\"startlinecolor\":\"#2a3f5f\"},\"baxis\":{\"endlinecolor\":\"#2a3f5f\",\"gridcolor\":\"white\",\"linecolor\":\"white\",\"minorgridcolor\":\"white\",\"startlinecolor\":\"#2a3f5f\"},\"type\":\"carpet\"}],\"table\":[{\"cells\":{\"fill\":{\"color\":\"#EBF0F8\"},\"line\":{\"color\":\"white\"}},\"header\":{\"fill\":{\"color\":\"#C8D4E3\"},\"line\":{\"color\":\"white\"}},\"type\":\"table\"}],\"barpolar\":[{\"marker\":{\"line\":{\"color\":\"#E5ECF6\",\"width\":0.5},\"pattern\":{\"fillmode\":\"overlay\",\"size\":10,\"solidity\":0.2}},\"type\":\"barpolar\"}],\"pie\":[{\"automargin\":true,\"type\":\"pie\"}]},\"layout\":{\"autotypenumbers\":\"strict\",\"colorway\":[\"#636efa\",\"#EF553B\",\"#00cc96\",\"#ab63fa\",\"#FFA15A\",\"#19d3f3\",\"#FF6692\",\"#B6E880\",\"#FF97FF\",\"#FECB52\"],\"font\":{\"color\":\"#2a3f5f\"},\"hovermode\":\"closest\",\"hoverlabel\":{\"align\":\"left\"},\"paper_bgcolor\":\"white\",\"plot_bgcolor\":\"#E5ECF6\",\"polar\":{\"bgcolor\":\"#E5ECF6\",\"angularaxis\":{\"gridcolor\":\"white\",\"linecolor\":\"white\",\"ticks\":\"\"},\"radialaxis\":{\"gridcolor\":\"white\",\"linecolor\":\"white\",\"ticks\":\"\"}},\"ternary\":{\"bgcolor\":\"#E5ECF6\",\"aaxis\":{\"gridcolor\":\"white\",\"linecolor\":\"white\",\"ticks\":\"\"},\"baxis\":{\"gridcolor\":\"white\",\"linecolor\":\"white\",\"ticks\":\"\"},\"caxis\":{\"gridcolor\":\"white\",\"linecolor\":\"white\",\"ticks\":\"\"}},\"coloraxis\":{\"colorbar\":{\"outlinewidth\":0,\"ticks\":\"\"}},\"colorscale\":{\"sequential\":[[0.0,\"#0d0887\"],[0.1111111111111111,\"#46039f\"],[0.2222222222222222,\"#7201a8\"],[0.3333333333333333,\"#9c179e\"],[0.4444444444444444,\"#bd3786\"],[0.5555555555555556,\"#d8576b\"],[0.6666666666666666,\"#ed7953\"],[0.7777777777777778,\"#fb9f3a\"],[0.8888888888888888,\"#fdca26\"],[1.0,\"#f0f921\"]],\"sequentialminus\":[[0.0,\"#0d0887\"],[0.1111111111111111,\"#46039f\"],[0.2222222222222222,\"#7201a8\"],[0.3333333333333333,\"#9c179e\"],[0.4444444444444444,\"#bd3786\"],[0.5555555555555556,\"#d8576b\"],[0.6666666666666666,\"#ed7953\"],[0.7777777777777778,\"#fb9f3a\"],[0.8888888888888888,\"#fdca26\"],[1.0,\"#f0f921\"]],\"diverging\":[[0,\"#8e0152\"],[0.1,\"#c51b7d\"],[0.2,\"#de77ae\"],[0.3,\"#f1b6da\"],[0.4,\"#fde0ef\"],[0.5,\"#f7f7f7\"],[0.6,\"#e6f5d0\"],[0.7,\"#b8e186\"],[0.8,\"#7fbc41\"],[0.9,\"#4d9221\"],[1,\"#276419\"]]},\"xaxis\":{\"gridcolor\":\"white\",\"linecolor\":\"white\",\"ticks\":\"\",\"title\":{\"standoff\":15},\"zerolinecolor\":\"white\",\"automargin\":true,\"zerolinewidth\":2},\"yaxis\":{\"gridcolor\":\"white\",\"linecolor\":\"white\",\"ticks\":\"\",\"title\":{\"standoff\":15},\"zerolinecolor\":\"white\",\"automargin\":true,\"zerolinewidth\":2},\"scene\":{\"xaxis\":{\"backgroundcolor\":\"#E5ECF6\",\"gridcolor\":\"white\",\"linecolor\":\"white\",\"showbackground\":true,\"ticks\":\"\",\"zerolinecolor\":\"white\",\"gridwidth\":2},\"yaxis\":{\"backgroundcolor\":\"#E5ECF6\",\"gridcolor\":\"white\",\"linecolor\":\"white\",\"showbackground\":true,\"ticks\":\"\",\"zerolinecolor\":\"white\",\"gridwidth\":2},\"zaxis\":{\"backgroundcolor\":\"#E5ECF6\",\"gridcolor\":\"white\",\"linecolor\":\"white\",\"showbackground\":true,\"ticks\":\"\",\"zerolinecolor\":\"white\",\"gridwidth\":2}},\"shapedefaults\":{\"line\":{\"color\":\"#2a3f5f\"}},\"annotationdefaults\":{\"arrowcolor\":\"#2a3f5f\",\"arrowhead\":0,\"arrowwidth\":1},\"geo\":{\"bgcolor\":\"white\",\"landcolor\":\"#E5ECF6\",\"subunitcolor\":\"white\",\"showland\":true,\"showlakes\":true,\"lakecolor\":\"white\"},\"title\":{\"x\":0.05},\"mapbox\":{\"style\":\"light\"}}},\"scene\":{\"aspectratio\":{\"x\":3,\"y\":3,\"z\":3},\"xaxis\":{\"range\":[-1.5,1.5]},\"yaxis\":{\"range\":[-1.5,1.5]},\"zaxis\":{\"range\":[-1.5,1.5]},\"aspectmode\":\"manual\"}},                        {\"responsive\": true}                    ).then(function(){\n",
       "                            \n",
       "var gd = document.getElementById('f050a908-15bb-4fa5-81d8-563f41ca1573');\n",
       "var x = new MutationObserver(function (mutations, observer) {{\n",
       "        var display = window.getComputedStyle(gd).display;\n",
       "        if (!display || display === 'none') {{\n",
       "            console.log([gd, 'removed!']);\n",
       "            Plotly.purge(gd);\n",
       "            observer.disconnect();\n",
       "        }}\n",
       "}});\n",
       "\n",
       "// Listen for the removal of the full notebook cells\n",
       "var notebookContainer = gd.closest('#notebook-container');\n",
       "if (notebookContainer) {{\n",
       "    x.observe(notebookContainer, {childList: true});\n",
       "}}\n",
       "\n",
       "// Listen for the clearing of the current output cell\n",
       "var outputEl = gd.closest('.output');\n",
       "if (outputEl) {{\n",
       "    x.observe(outputEl, {childList: true});\n",
       "}}\n",
       "\n",
       "                        })                };                });            </script>        </div>"
      ]
     },
     "metadata": {},
     "output_type": "display_data"
    },
    {
     "data": {
      "application/vnd.plotly.v1+json": {
       "config": {
        "plotlyServerURL": "https://plot.ly"
       },
       "data": [
        {
         "marker": {
          "opacity": 0.8,
          "size": 2
         },
         "mode": "markers",
         "type": "scatter3d",
         "x": [
          0.1441650390625,
          0.0416259765625,
          -0.003173828125,
          0.0201416015625,
          0.1014404296875,
          0.0797119140625,
          0.0330810546875,
          -0.032958984375,
          0.1175537109375,
          0.0953369140625,
          0.0831298828125,
          0.0306396484375,
          -0.025634765625,
          -0.099609375,
          0.2095947265625,
          0.1456298828125,
          0.1292724609375,
          0.0941162109375,
          0.047607421875,
          -0.0125732421875,
          -0.07275390625,
          -0.133056640625,
          0.2509765625,
          0.2322998046875,
          0.1988525390625,
          0.1636962890625,
          0.1153564453125,
          0.07470703125,
          0.0244140625,
          -0.0296630859375,
          -0.091796875,
          -0.169677734375,
          0.303466796875,
          0.2845458984375,
          0.258544921875,
          0.2138671875,
          0.1729736328125,
          0.13037109375,
          0.087890625,
          0.0396728515625,
          -0.018310546875,
          -0.078369140625,
          -0.144287109375,
          0.2919921875,
          0.2880859375,
          0.2564697265625,
          0.2154541015625,
          0.1669921875,
          0.128173828125,
          0.079833984375,
          0.043212890625,
          -0.0107421875,
          -0.0687255859375,
          -0.134765625,
          0.2828369140625,
          0.273193359375,
          0.2471923828125,
          0.22705078125,
          0.1805419921875,
          0.1322021484375,
          0.095458984375,
          0.04541015625,
          -0.0047607421875,
          -0.058837890625,
          -0.10888671875,
          -0.1748046875,
          -0.2550048828125,
          0.2774658203125,
          0.2603759765625,
          0.228515625,
          0.227294921875,
          0.1845703125,
          0.1324462890625,
          0.1014404296875,
          0.0474853515625,
          -0.012451171875,
          -0.0723876953125,
          -0.12451171875,
          -0.1826171875,
          -0.270751953125,
          0.2984619140625,
          0.2081298828125,
          0.2213134765625,
          0.2181396484375,
          0.18115234375,
          0.130859375,
          0.08251953125,
          0.0361328125,
          -0.0355224609375,
          -0.109375,
          -0.15380859375,
          -0.212158203125,
          0.2635498046875,
          0.2449951171875,
          0.2191162109375,
          0.18212890625,
          0.1336669921875,
          0.0892333984375,
          0.03125,
          -0.0228271484375,
          -0.1104736328125,
          -0.2122802734375,
          0.2459716796875,
          0.2220458984375,
          0.1868896484375,
          0.1424560546875,
          0.0960693359375,
          0.0439453125,
          -0.0062255859375,
          -0.070068359375,
          -0.189453125,
          0.26953125,
          0.258544921875,
          0.2308349609375,
          0.18994140625,
          0.1435546875,
          0.0953369140625,
          0.039306640625,
          -0.024658203125,
          -0.1043701171875,
          0.1923828125,
          0.100830078125,
          0.06005859375,
          -0.015625,
          -0.064208984375,
          -0.1422119140625,
          0.1920166015625,
          0.1563720703125,
          0.1265869140625,
          0.0701904296875,
          0.036865234375,
          -0.01953125,
          -0.085693359375,
          -0.1578369140625,
          -0.20849609375,
          0.160400390625,
          0.109619140625,
          0.0665283203125,
          0.0023193359375,
          -0.0736083984375,
          -0.13427734375,
          -0.16943359375,
          -0.22998046875,
          0.188232421875,
          0.1395263671875,
          0.06591796875,
          0.0074462890625,
          -0.041259765625,
          -0.086181640625,
          -0.1622314453125,
          0.1387939453125,
          0.0919189453125,
          0.03369140625,
          -0.0111083984375,
          -0.0888671875,
          -0.1492919921875,
          0.1871337890625,
          0.1688232421875,
          0.10498046875,
          0.062255859375,
          0.0059814453125,
          -0.06201171875,
          0.14794921875,
          0.0877685546875,
          -0.06591796875,
          0.6973876953125,
          0.65478515625,
          0.6011962890625,
          0.560546875,
          0.518310546875,
          0.4666748046875,
          0.4263916015625,
          0.380615234375,
          0.3272705078125,
          0.2852783203125,
          0.2454833984375,
          0.201904296875,
          0.1583251953125,
          0.156005859375
         ],
         "y": [
          0.0498046875,
          -0.05908203125,
          -0.0294189453125,
          0.1614990234375,
          -0.0634765625,
          0.021484375,
          0.0465087890625,
          0.0255126953125,
          -0.1607666015625,
          -0.0758056640625,
          0.0321044921875,
          0.0433349609375,
          0.04541015625,
          0.0052490234375,
          -0.0789794921875,
          -0.0958251953125,
          0.0028076171875,
          0.0543212890625,
          0.0792236328125,
          0.072021484375,
          0.0650634765625,
          0.0582275390625,
          -0.1175537109375,
          -0.0235595703125,
          0.033447265625,
          0.0858154296875,
          0.1051025390625,
          0.143798828125,
          0.15966796875,
          0.1663818359375,
          0.15478515625,
          0.1068115234375,
          -0.13525390625,
          -0.0423583984375,
          0.0330810546875,
          0.062255859375,
          0.100830078125,
          0.1348876953125,
          0.1689453125,
          0.1883544921875,
          0.185791015625,
          0.1788330078125,
          0.1583251953125,
          -0.159912109375,
          -0.0289306640625,
          0.0325927734375,
          0.0699462890625,
          0.0899658203125,
          0.1331787109375,
          0.153564453125,
          0.2015380859375,
          0.208251953125,
          0.204833984375,
          0.184326171875,
          -0.193603515625,
          -0.076416015625,
          -0.0009765625,
          0.0882568359375,
          0.1119384765625,
          0.132080078125,
          0.1800537109375,
          0.19580078125,
          0.211669921875,
          0.218505859375,
          0.233642578125,
          0.2132568359375,
          0.1610107421875,
          -0.2047119140625,
          -0.1060791015625,
          -0.0445556640625,
          0.090087890625,
          0.1239013671875,
          0.1348876953125,
          0.196533203125,
          0.203125,
          0.195068359375,
          0.1881103515625,
          0.19970703125,
          0.1976318359375,
          0.127197265625,
          -0.1575927734375,
          -0.239501953125,
          -0.06689453125,
          0.06396484375,
          0.1107177734375,
          0.126220703125,
          0.146484375,
          0.1715087890625,
          0.1368408203125,
          0.097900390625,
          0.126953125,
          0.125,
          -0.103515625,
          -0.009521484375,
          0.0657958984375,
          0.1136474609375,
          0.1328125,
          0.1622314453125,
          0.15966796875,
          0.1663818359375,
          0.09521484375,
          -0.0076904296875,
          -0.0155029296875,
          0.0645751953125,
          0.116943359375,
          0.146240234375,
          0.171142578125,
          0.182373046875,
          0.197265625,
          0.18115234375,
          0.036865234375,
          -0.0936279296875,
          0.0177001953125,
          0.0885009765625,
          0.126953125,
          0.1517333984375,
          0.1719970703125,
          0.1739501953125,
          0.15673828125,
          0.10400390625,
          -0.0164794921875,
          0.037841796875,
          0.0765380859375,
          0.03271484375,
          0.0533447265625,
          0.0042724609375,
          -0.1552734375,
          -0.102783203125,
          -0.0364990234375,
          -0.0345458984375,
          0.0225830078125,
          0.0238037109375,
          0.003173828125,
          -0.0311279296875,
          -0.0146484375,
          -0.097900390625,
          -0.082275390625,
          -0.0491943359375,
          -0.0655517578125,
          -0.1092529296875,
          -0.115966796875,
          -0.06298828125,
          -0.0694580078125,
          -0.031982421875,
          -0.0128173828125,
          -0.0523681640625,
          -0.054931640625,
          -0.0343017578125,
          -0.00439453125,
          -0.0477294921875,
          -0.0230712890625,
          0.0018310546875,
          -0.000732421875,
          0.029052734375,
          -0.0201416015625,
          -0.0267333984375,
          -0.0426025390625,
          0.0511474609375,
          0.03466796875,
          0.06884765625,
          0.0709228515625,
          0.044677734375,
          -0.011962890625,
          -0.0191650390625,
          0.0240478515625,
          0.2354736328125,
          0.268310546875,
          0.2735595703125,
          0.3111572265625,
          0.3443603515625,
          0.3544921875,
          0.3914794921875,
          0.415771484375,
          0.4217529296875,
          0.455322265625,
          0.49365234375,
          0.5218505859375,
          0.55126953125,
          0.6766357421875
         ],
         "z": [
          0.8451156616210938,
          0.8415756225585938,
          0.8409957885742188,
          0.8438796997070312,
          0.77923583984375,
          0.7800369262695312,
          0.7793731689453125,
          0.7775802612304688,
          0.712158203125,
          0.7131576538085938,
          0.7147979736328125,
          0.7137680053710938,
          0.7124862670898438,
          0.7100448608398438,
          0.6564712524414062,
          0.6545639038085938,
          0.6561737060546875,
          0.6563873291015625,
          0.6557540893554688,
          0.6541290283203125,
          0.6525039672851562,
          0.65087890625,
          0.5814971923828125,
          0.5832290649414062,
          0.583709716796875,
          0.5840377807617188,
          0.5832595825195312,
          0.5831222534179688,
          0.5821914672851562,
          0.5809478759765625,
          0.579071044921875,
          0.5759201049804688,
          0.5210800170898438,
          0.5230331420898438,
          0.5242996215820312,
          0.52386474609375,
          0.5237808227539062,
          0.5235214233398438,
          0.5232620239257812,
          0.522491455078125,
          0.5208663940429688,
          0.5190582275390625,
          0.5167388916015625,
          0.458831787109375,
          0.4624786376953125,
          0.4633636474609375,
          0.46332550048828125,
          0.46254730224609375,
          0.46269989013671875,
          0.4619293212890625,
          0.46227264404296875,
          0.46094512939453125,
          0.4592437744140625,
          0.4568023681640625,
          0.38385009765625,
          0.38729095458984375,
          0.38892364501953125,
          0.39116668701171875,
          0.390594482421875,
          0.3898162841796875,
          0.3902587890625,
          0.38928985595703125,
          0.38831329345703125,
          0.38694000244140625,
          0.3859710693359375,
          0.3833770751953125,
          0.379364013671875,
          0.3109283447265625,
          0.31383514404296875,
          0.31500244140625,
          0.31966400146484375,
          0.31954193115234375,
          0.31833648681640625,
          0.31952667236328125,
          0.3180999755859375,
          0.3160247802734375,
          0.31394195556640625,
          0.31273651123046875,
          0.31087493896484375,
          0.30572509765625,
          0.23854827880859375,
          0.23261260986328125,
          0.2395477294921875,
          0.24439239501953125,
          0.245025634765625,
          0.2440185546875,
          0.2432403564453125,
          0.242706298828125,
          0.23911285400390625,
          0.23528289794921875,
          0.2349853515625,
          0.2330322265625,
          0.15007781982421875,
          0.15335845947265625,
          0.15563201904296875,
          0.15637969970703125,
          0.155609130859375,
          0.15534210205078125,
          0.15329742431640625,
          0.151763916015625,
          0.1458892822265625,
          0.13822174072265625,
          0.066864013671875,
          0.06964111328125,
          0.0707855224609375,
          0.070556640625,
          0.07006072998046875,
          0.0687408447265625,
          0.06769561767578125,
          0.064727783203125,
          0.05406951904296875,
          -0.02378082275390625,
          -0.01869964599609375,
          -0.01625823974609375,
          -0.0158538818359375,
          -0.01633453369140625,
          -0.0171051025390625,
          -0.01905059814453125,
          -0.02217864990234375,
          -0.02765655517578125,
          -0.1137847900390625,
          -0.11440277099609375,
          -0.113922119140625,
          -0.1190948486328125,
          -0.119873046875,
          -0.1253662109375,
          -0.2227935791015625,
          -0.221221923828125,
          -0.2186431884765625,
          -0.22077178955078125,
          -0.21884918212890625,
          -0.220977783203125,
          -0.22478485107421875,
          -0.22960662841796875,
          -0.23072052001953125,
          -0.32144927978515625,
          -0.32259368896484375,
          -0.322296142578125,
          -0.32595062255859375,
          -0.331756591796875,
          -0.33469390869140625,
          -0.3329620361328125,
          -0.33589935302734375,
          -0.4373626708984375,
          -0.438140869140625,
          -0.443939208984375,
          -0.44664764404296875,
          -0.44742584228515625,
          -0.4474334716796875,
          -0.45362091064453125,
          -0.5513763427734375,
          -0.5517425537109375,
          -0.5545730590820312,
          -0.5545272827148438,
          -0.5614776611328125,
          -0.564727783203125,
          -0.6674575805664062,
          -0.6612472534179688,
          -0.6655197143554688,
          -0.6649856567382812,
          -0.667510986328125,
          -0.6726608276367188,
          -0.786163330078125,
          -0.7897262573242188,
          -0.7939071655273438,
          -0.8618392944335938,
          -0.8611373901367188,
          -0.8633804321289062,
          -0.8621902465820312,
          -0.861480712890625,
          -0.8632278442382812,
          -0.862030029296875,
          -0.8623046875,
          -0.8645401000976562,
          -0.86383056640625,
          -0.8626251220703125,
          -0.862396240234375,
          -0.8621749877929688,
          -0.8516159057617188
         ]
        },
        {
         "marker": {
          "color": "red",
          "opacity": 0.8,
          "size": 4
         },
         "mode": "markers",
         "type": "scatter3d",
         "x": [
          -0.010108300484716892,
          0.20440998673439026,
          0.2908279001712799,
          0.16356757283210754,
          0.14370043575763702,
          0.18009674549102783,
          0.25762221217155457,
          -0.11787262558937073,
          -0.22026482224464417,
          -0.1841336041688919,
          -0.06845667958259583,
          -0.15563669800758362,
          -0.19649389386177063
         ],
         "y": [
          -0.14009781181812286,
          -0.04354292154312134,
          -0.10515245795249939,
          -0.24085074663162231,
          -0.041318267583847046,
          0.02569057047367096,
          0.185173898935318,
          0.09388769418001175,
          0.09102547913789749,
          -0.05324402451515198,
          0.034196168184280396,
          -0.08336085826158524,
          -0.10387305915355682
         ],
         "z": [
          0.5586261749267578,
          0.41214948892593384,
          0.22470955550670624,
          0.15090340375900269,
          0.0025723017752170563,
          -0.30889105796813965,
          -0.5983875393867493,
          0.41334211826324463,
          0.22635772824287415,
          0.18219038844108582,
          0.011808722279965878,
          -0.2945183217525482,
          -0.5958561897277832
         ]
        },
        {
         "line": {
          "color": "black",
          "width": 2
         },
         "mode": "lines",
         "type": "scatter3d",
         "x": [
          -0.010108300484716892,
          0.043268680572509766
         ],
         "y": [
          -0.14009781181812286,
          0.025172386318445206
         ],
         "z": [
          0.5586261749267578,
          0.41274580359458923
         ]
        },
        {
         "line": {
          "color": "black",
          "width": 2
         },
         "mode": "lines",
         "type": "scatter3d",
         "x": [
          0.20440998673439026,
          0.2908279001712799
         ],
         "y": [
          -0.04354292154312134,
          -0.10515245795249939
         ],
         "z": [
          0.41214948892593384,
          0.22470955550670624
         ]
        },
        {
         "line": {
          "color": "black",
          "width": 2
         },
         "mode": "lines",
         "type": "scatter3d",
         "x": [
          0.20440998673439026,
          0.14370043575763702
         ],
         "y": [
          -0.04354292154312134,
          -0.041318267583847046
         ],
         "z": [
          0.41214948892593384,
          0.0025723017752170563
         ]
        },
        {
         "line": {
          "color": "black",
          "width": 2
         },
         "mode": "lines",
         "type": "scatter3d",
         "x": [
          0.20440998673439026,
          -0.11787262558937073
         ],
         "y": [
          -0.04354292154312134,
          0.09388769418001175
         ],
         "z": [
          0.41214948892593384,
          0.41334211826324463
         ]
        },
        {
         "line": {
          "color": "black",
          "width": 2
         },
         "mode": "lines",
         "type": "scatter3d",
         "x": [
          0.2908279001712799,
          0.16356757283210754
         ],
         "y": [
          -0.10515245795249939,
          -0.24085074663162231
         ],
         "z": [
          0.22470955550670624,
          0.15090340375900269
         ]
        },
        {
         "line": {
          "color": "black",
          "width": 2
         },
         "mode": "lines",
         "type": "scatter3d",
         "x": [
          0.14370043575763702,
          0.18009674549102783
         ],
         "y": [
          -0.041318267583847046,
          0.02569057047367096
         ],
         "z": [
          0.0025723017752170563,
          -0.30889105796813965
         ]
        },
        {
         "line": {
          "color": "black",
          "width": 2
         },
         "mode": "lines",
         "type": "scatter3d",
         "x": [
          0.14370043575763702,
          -0.06845667958259583
         ],
         "y": [
          -0.041318267583847046,
          0.034196168184280396
         ],
         "z": [
          0.0025723017752170563,
          0.011808722279965878
         ]
        },
        {
         "line": {
          "color": "black",
          "width": 2
         },
         "mode": "lines",
         "type": "scatter3d",
         "x": [
          0.18009674549102783,
          0.25762221217155457
         ],
         "y": [
          0.02569057047367096,
          0.185173898935318
         ],
         "z": [
          -0.30889105796813965,
          -0.5983875393867493
         ]
        },
        {
         "line": {
          "color": "black",
          "width": 2
         },
         "mode": "lines",
         "type": "scatter3d",
         "x": [
          -0.11787262558937073,
          -0.22026482224464417
         ],
         "y": [
          0.09388769418001175,
          0.09102547913789749
         ],
         "z": [
          0.41334211826324463,
          0.22635772824287415
         ]
        },
        {
         "line": {
          "color": "black",
          "width": 2
         },
         "mode": "lines",
         "type": "scatter3d",
         "x": [
          -0.11787262558937073,
          -0.06845667958259583
         ],
         "y": [
          0.09388769418001175,
          0.034196168184280396
         ],
         "z": [
          0.41334211826324463,
          0.011808722279965878
         ]
        },
        {
         "line": {
          "color": "black",
          "width": 2
         },
         "mode": "lines",
         "type": "scatter3d",
         "x": [
          -0.22026482224464417,
          -0.1841336041688919
         ],
         "y": [
          0.09102547913789749,
          -0.05324402451515198
         ],
         "z": [
          0.22635772824287415,
          0.18219038844108582
         ]
        },
        {
         "line": {
          "color": "black",
          "width": 2
         },
         "mode": "lines",
         "type": "scatter3d",
         "x": [
          -0.06845667958259583,
          -0.15563669800758362
         ],
         "y": [
          0.034196168184280396,
          -0.08336085826158524
         ],
         "z": [
          0.011808722279965878,
          -0.2945183217525482
         ]
        },
        {
         "line": {
          "color": "black",
          "width": 2
         },
         "mode": "lines",
         "type": "scatter3d",
         "x": [
          -0.15563669800758362,
          -0.19649389386177063
         ],
         "y": [
          -0.08336085826158524,
          -0.10387305915355682
         ],
         "z": [
          -0.2945183217525482,
          -0.5958561897277832
         ]
        },
        {
         "line": {
          "color": "blue",
          "width": 2
         },
         "mode": "lines",
         "type": "scatter3d",
         "x": [
          0,
          -0.6110380098932101
         ],
         "y": [
          0,
          -0.7916012572411348
         ],
         "z": [
          0,
          0
         ]
        }
       ],
       "layout": {
        "scene": {
         "aspectmode": "manual",
         "aspectratio": {
          "x": 3,
          "y": 3,
          "z": 3
         },
         "xaxis": {
          "range": [
           -1.5,
           1.5
          ]
         },
         "yaxis": {
          "range": [
           -1.5,
           1.5
          ]
         },
         "zaxis": {
          "range": [
           -1.5,
           1.5
          ]
         }
        },
        "template": {
         "data": {
          "bar": [
           {
            "error_x": {
             "color": "#2a3f5f"
            },
            "error_y": {
             "color": "#2a3f5f"
            },
            "marker": {
             "line": {
              "color": "#E5ECF6",
              "width": 0.5
             },
             "pattern": {
              "fillmode": "overlay",
              "size": 10,
              "solidity": 0.2
             }
            },
            "type": "bar"
           }
          ],
          "barpolar": [
           {
            "marker": {
             "line": {
              "color": "#E5ECF6",
              "width": 0.5
             },
             "pattern": {
              "fillmode": "overlay",
              "size": 10,
              "solidity": 0.2
             }
            },
            "type": "barpolar"
           }
          ],
          "carpet": [
           {
            "aaxis": {
             "endlinecolor": "#2a3f5f",
             "gridcolor": "white",
             "linecolor": "white",
             "minorgridcolor": "white",
             "startlinecolor": "#2a3f5f"
            },
            "baxis": {
             "endlinecolor": "#2a3f5f",
             "gridcolor": "white",
             "linecolor": "white",
             "minorgridcolor": "white",
             "startlinecolor": "#2a3f5f"
            },
            "type": "carpet"
           }
          ],
          "choropleth": [
           {
            "colorbar": {
             "outlinewidth": 0,
             "ticks": ""
            },
            "type": "choropleth"
           }
          ],
          "contour": [
           {
            "colorbar": {
             "outlinewidth": 0,
             "ticks": ""
            },
            "colorscale": [
             [
              0,
              "#0d0887"
             ],
             [
              0.1111111111111111,
              "#46039f"
             ],
             [
              0.2222222222222222,
              "#7201a8"
             ],
             [
              0.3333333333333333,
              "#9c179e"
             ],
             [
              0.4444444444444444,
              "#bd3786"
             ],
             [
              0.5555555555555556,
              "#d8576b"
             ],
             [
              0.6666666666666666,
              "#ed7953"
             ],
             [
              0.7777777777777778,
              "#fb9f3a"
             ],
             [
              0.8888888888888888,
              "#fdca26"
             ],
             [
              1,
              "#f0f921"
             ]
            ],
            "type": "contour"
           }
          ],
          "contourcarpet": [
           {
            "colorbar": {
             "outlinewidth": 0,
             "ticks": ""
            },
            "type": "contourcarpet"
           }
          ],
          "heatmap": [
           {
            "colorbar": {
             "outlinewidth": 0,
             "ticks": ""
            },
            "colorscale": [
             [
              0,
              "#0d0887"
             ],
             [
              0.1111111111111111,
              "#46039f"
             ],
             [
              0.2222222222222222,
              "#7201a8"
             ],
             [
              0.3333333333333333,
              "#9c179e"
             ],
             [
              0.4444444444444444,
              "#bd3786"
             ],
             [
              0.5555555555555556,
              "#d8576b"
             ],
             [
              0.6666666666666666,
              "#ed7953"
             ],
             [
              0.7777777777777778,
              "#fb9f3a"
             ],
             [
              0.8888888888888888,
              "#fdca26"
             ],
             [
              1,
              "#f0f921"
             ]
            ],
            "type": "heatmap"
           }
          ],
          "heatmapgl": [
           {
            "colorbar": {
             "outlinewidth": 0,
             "ticks": ""
            },
            "colorscale": [
             [
              0,
              "#0d0887"
             ],
             [
              0.1111111111111111,
              "#46039f"
             ],
             [
              0.2222222222222222,
              "#7201a8"
             ],
             [
              0.3333333333333333,
              "#9c179e"
             ],
             [
              0.4444444444444444,
              "#bd3786"
             ],
             [
              0.5555555555555556,
              "#d8576b"
             ],
             [
              0.6666666666666666,
              "#ed7953"
             ],
             [
              0.7777777777777778,
              "#fb9f3a"
             ],
             [
              0.8888888888888888,
              "#fdca26"
             ],
             [
              1,
              "#f0f921"
             ]
            ],
            "type": "heatmapgl"
           }
          ],
          "histogram": [
           {
            "marker": {
             "pattern": {
              "fillmode": "overlay",
              "size": 10,
              "solidity": 0.2
             }
            },
            "type": "histogram"
           }
          ],
          "histogram2d": [
           {
            "colorbar": {
             "outlinewidth": 0,
             "ticks": ""
            },
            "colorscale": [
             [
              0,
              "#0d0887"
             ],
             [
              0.1111111111111111,
              "#46039f"
             ],
             [
              0.2222222222222222,
              "#7201a8"
             ],
             [
              0.3333333333333333,
              "#9c179e"
             ],
             [
              0.4444444444444444,
              "#bd3786"
             ],
             [
              0.5555555555555556,
              "#d8576b"
             ],
             [
              0.6666666666666666,
              "#ed7953"
             ],
             [
              0.7777777777777778,
              "#fb9f3a"
             ],
             [
              0.8888888888888888,
              "#fdca26"
             ],
             [
              1,
              "#f0f921"
             ]
            ],
            "type": "histogram2d"
           }
          ],
          "histogram2dcontour": [
           {
            "colorbar": {
             "outlinewidth": 0,
             "ticks": ""
            },
            "colorscale": [
             [
              0,
              "#0d0887"
             ],
             [
              0.1111111111111111,
              "#46039f"
             ],
             [
              0.2222222222222222,
              "#7201a8"
             ],
             [
              0.3333333333333333,
              "#9c179e"
             ],
             [
              0.4444444444444444,
              "#bd3786"
             ],
             [
              0.5555555555555556,
              "#d8576b"
             ],
             [
              0.6666666666666666,
              "#ed7953"
             ],
             [
              0.7777777777777778,
              "#fb9f3a"
             ],
             [
              0.8888888888888888,
              "#fdca26"
             ],
             [
              1,
              "#f0f921"
             ]
            ],
            "type": "histogram2dcontour"
           }
          ],
          "mesh3d": [
           {
            "colorbar": {
             "outlinewidth": 0,
             "ticks": ""
            },
            "type": "mesh3d"
           }
          ],
          "parcoords": [
           {
            "line": {
             "colorbar": {
              "outlinewidth": 0,
              "ticks": ""
             }
            },
            "type": "parcoords"
           }
          ],
          "pie": [
           {
            "automargin": true,
            "type": "pie"
           }
          ],
          "scatter": [
           {
            "fillpattern": {
             "fillmode": "overlay",
             "size": 10,
             "solidity": 0.2
            },
            "type": "scatter"
           }
          ],
          "scatter3d": [
           {
            "line": {
             "colorbar": {
              "outlinewidth": 0,
              "ticks": ""
             }
            },
            "marker": {
             "colorbar": {
              "outlinewidth": 0,
              "ticks": ""
             }
            },
            "type": "scatter3d"
           }
          ],
          "scattercarpet": [
           {
            "marker": {
             "colorbar": {
              "outlinewidth": 0,
              "ticks": ""
             }
            },
            "type": "scattercarpet"
           }
          ],
          "scattergeo": [
           {
            "marker": {
             "colorbar": {
              "outlinewidth": 0,
              "ticks": ""
             }
            },
            "type": "scattergeo"
           }
          ],
          "scattergl": [
           {
            "marker": {
             "colorbar": {
              "outlinewidth": 0,
              "ticks": ""
             }
            },
            "type": "scattergl"
           }
          ],
          "scattermapbox": [
           {
            "marker": {
             "colorbar": {
              "outlinewidth": 0,
              "ticks": ""
             }
            },
            "type": "scattermapbox"
           }
          ],
          "scatterpolar": [
           {
            "marker": {
             "colorbar": {
              "outlinewidth": 0,
              "ticks": ""
             }
            },
            "type": "scatterpolar"
           }
          ],
          "scatterpolargl": [
           {
            "marker": {
             "colorbar": {
              "outlinewidth": 0,
              "ticks": ""
             }
            },
            "type": "scatterpolargl"
           }
          ],
          "scatterternary": [
           {
            "marker": {
             "colorbar": {
              "outlinewidth": 0,
              "ticks": ""
             }
            },
            "type": "scatterternary"
           }
          ],
          "surface": [
           {
            "colorbar": {
             "outlinewidth": 0,
             "ticks": ""
            },
            "colorscale": [
             [
              0,
              "#0d0887"
             ],
             [
              0.1111111111111111,
              "#46039f"
             ],
             [
              0.2222222222222222,
              "#7201a8"
             ],
             [
              0.3333333333333333,
              "#9c179e"
             ],
             [
              0.4444444444444444,
              "#bd3786"
             ],
             [
              0.5555555555555556,
              "#d8576b"
             ],
             [
              0.6666666666666666,
              "#ed7953"
             ],
             [
              0.7777777777777778,
              "#fb9f3a"
             ],
             [
              0.8888888888888888,
              "#fdca26"
             ],
             [
              1,
              "#f0f921"
             ]
            ],
            "type": "surface"
           }
          ],
          "table": [
           {
            "cells": {
             "fill": {
              "color": "#EBF0F8"
             },
             "line": {
              "color": "white"
             }
            },
            "header": {
             "fill": {
              "color": "#C8D4E3"
             },
             "line": {
              "color": "white"
             }
            },
            "type": "table"
           }
          ]
         },
         "layout": {
          "annotationdefaults": {
           "arrowcolor": "#2a3f5f",
           "arrowhead": 0,
           "arrowwidth": 1
          },
          "autotypenumbers": "strict",
          "coloraxis": {
           "colorbar": {
            "outlinewidth": 0,
            "ticks": ""
           }
          },
          "colorscale": {
           "diverging": [
            [
             0,
             "#8e0152"
            ],
            [
             0.1,
             "#c51b7d"
            ],
            [
             0.2,
             "#de77ae"
            ],
            [
             0.3,
             "#f1b6da"
            ],
            [
             0.4,
             "#fde0ef"
            ],
            [
             0.5,
             "#f7f7f7"
            ],
            [
             0.6,
             "#e6f5d0"
            ],
            [
             0.7,
             "#b8e186"
            ],
            [
             0.8,
             "#7fbc41"
            ],
            [
             0.9,
             "#4d9221"
            ],
            [
             1,
             "#276419"
            ]
           ],
           "sequential": [
            [
             0,
             "#0d0887"
            ],
            [
             0.1111111111111111,
             "#46039f"
            ],
            [
             0.2222222222222222,
             "#7201a8"
            ],
            [
             0.3333333333333333,
             "#9c179e"
            ],
            [
             0.4444444444444444,
             "#bd3786"
            ],
            [
             0.5555555555555556,
             "#d8576b"
            ],
            [
             0.6666666666666666,
             "#ed7953"
            ],
            [
             0.7777777777777778,
             "#fb9f3a"
            ],
            [
             0.8888888888888888,
             "#fdca26"
            ],
            [
             1,
             "#f0f921"
            ]
           ],
           "sequentialminus": [
            [
             0,
             "#0d0887"
            ],
            [
             0.1111111111111111,
             "#46039f"
            ],
            [
             0.2222222222222222,
             "#7201a8"
            ],
            [
             0.3333333333333333,
             "#9c179e"
            ],
            [
             0.4444444444444444,
             "#bd3786"
            ],
            [
             0.5555555555555556,
             "#d8576b"
            ],
            [
             0.6666666666666666,
             "#ed7953"
            ],
            [
             0.7777777777777778,
             "#fb9f3a"
            ],
            [
             0.8888888888888888,
             "#fdca26"
            ],
            [
             1,
             "#f0f921"
            ]
           ]
          },
          "colorway": [
           "#636efa",
           "#EF553B",
           "#00cc96",
           "#ab63fa",
           "#FFA15A",
           "#19d3f3",
           "#FF6692",
           "#B6E880",
           "#FF97FF",
           "#FECB52"
          ],
          "font": {
           "color": "#2a3f5f"
          },
          "geo": {
           "bgcolor": "white",
           "lakecolor": "white",
           "landcolor": "#E5ECF6",
           "showlakes": true,
           "showland": true,
           "subunitcolor": "white"
          },
          "hoverlabel": {
           "align": "left"
          },
          "hovermode": "closest",
          "mapbox": {
           "style": "light"
          },
          "paper_bgcolor": "white",
          "plot_bgcolor": "#E5ECF6",
          "polar": {
           "angularaxis": {
            "gridcolor": "white",
            "linecolor": "white",
            "ticks": ""
           },
           "bgcolor": "#E5ECF6",
           "radialaxis": {
            "gridcolor": "white",
            "linecolor": "white",
            "ticks": ""
           }
          },
          "scene": {
           "xaxis": {
            "backgroundcolor": "#E5ECF6",
            "gridcolor": "white",
            "gridwidth": 2,
            "linecolor": "white",
            "showbackground": true,
            "ticks": "",
            "zerolinecolor": "white"
           },
           "yaxis": {
            "backgroundcolor": "#E5ECF6",
            "gridcolor": "white",
            "gridwidth": 2,
            "linecolor": "white",
            "showbackground": true,
            "ticks": "",
            "zerolinecolor": "white"
           },
           "zaxis": {
            "backgroundcolor": "#E5ECF6",
            "gridcolor": "white",
            "gridwidth": 2,
            "linecolor": "white",
            "showbackground": true,
            "ticks": "",
            "zerolinecolor": "white"
           }
          },
          "shapedefaults": {
           "line": {
            "color": "#2a3f5f"
           }
          },
          "ternary": {
           "aaxis": {
            "gridcolor": "white",
            "linecolor": "white",
            "ticks": ""
           },
           "baxis": {
            "gridcolor": "white",
            "linecolor": "white",
            "ticks": ""
           },
           "bgcolor": "#E5ECF6",
           "caxis": {
            "gridcolor": "white",
            "linecolor": "white",
            "ticks": ""
           }
          },
          "title": {
           "x": 0.05
          },
          "xaxis": {
           "automargin": true,
           "gridcolor": "white",
           "linecolor": "white",
           "ticks": "",
           "title": {
            "standoff": 15
           },
           "zerolinecolor": "white",
           "zerolinewidth": 2
          },
          "yaxis": {
           "automargin": true,
           "gridcolor": "white",
           "linecolor": "white",
           "ticks": "",
           "title": {
            "standoff": 15
           },
           "zerolinecolor": "white",
           "zerolinewidth": 2
          }
         }
        }
       }
      },
      "text/html": [
       "<div>                            <div id=\"82622468-bf8e-4030-9764-425a3661460b\" class=\"plotly-graph-div\" style=\"height:525px; width:100%;\"></div>            <script type=\"text/javascript\">                require([\"plotly\"], function(Plotly) {                    window.PLOTLYENV=window.PLOTLYENV || {};                                    if (document.getElementById(\"82622468-bf8e-4030-9764-425a3661460b\")) {                    Plotly.newPlot(                        \"82622468-bf8e-4030-9764-425a3661460b\",                        [{\"marker\":{\"opacity\":0.8,\"size\":2},\"mode\":\"markers\",\"x\":[0.1441650390625,0.0416259765625,-0.003173828125,0.0201416015625,0.1014404296875,0.0797119140625,0.0330810546875,-0.032958984375,0.1175537109375,0.0953369140625,0.0831298828125,0.0306396484375,-0.025634765625,-0.099609375,0.2095947265625,0.1456298828125,0.1292724609375,0.0941162109375,0.047607421875,-0.0125732421875,-0.07275390625,-0.133056640625,0.2509765625,0.2322998046875,0.1988525390625,0.1636962890625,0.1153564453125,0.07470703125,0.0244140625,-0.0296630859375,-0.091796875,-0.169677734375,0.303466796875,0.2845458984375,0.258544921875,0.2138671875,0.1729736328125,0.13037109375,0.087890625,0.0396728515625,-0.018310546875,-0.078369140625,-0.144287109375,0.2919921875,0.2880859375,0.2564697265625,0.2154541015625,0.1669921875,0.128173828125,0.079833984375,0.043212890625,-0.0107421875,-0.0687255859375,-0.134765625,0.2828369140625,0.273193359375,0.2471923828125,0.22705078125,0.1805419921875,0.1322021484375,0.095458984375,0.04541015625,-0.0047607421875,-0.058837890625,-0.10888671875,-0.1748046875,-0.2550048828125,0.2774658203125,0.2603759765625,0.228515625,0.227294921875,0.1845703125,0.1324462890625,0.1014404296875,0.0474853515625,-0.012451171875,-0.0723876953125,-0.12451171875,-0.1826171875,-0.270751953125,0.2984619140625,0.2081298828125,0.2213134765625,0.2181396484375,0.18115234375,0.130859375,0.08251953125,0.0361328125,-0.0355224609375,-0.109375,-0.15380859375,-0.212158203125,0.2635498046875,0.2449951171875,0.2191162109375,0.18212890625,0.1336669921875,0.0892333984375,0.03125,-0.0228271484375,-0.1104736328125,-0.2122802734375,0.2459716796875,0.2220458984375,0.1868896484375,0.1424560546875,0.0960693359375,0.0439453125,-0.0062255859375,-0.070068359375,-0.189453125,0.26953125,0.258544921875,0.2308349609375,0.18994140625,0.1435546875,0.0953369140625,0.039306640625,-0.024658203125,-0.1043701171875,0.1923828125,0.100830078125,0.06005859375,-0.015625,-0.064208984375,-0.1422119140625,0.1920166015625,0.1563720703125,0.1265869140625,0.0701904296875,0.036865234375,-0.01953125,-0.085693359375,-0.1578369140625,-0.20849609375,0.160400390625,0.109619140625,0.0665283203125,0.0023193359375,-0.0736083984375,-0.13427734375,-0.16943359375,-0.22998046875,0.188232421875,0.1395263671875,0.06591796875,0.0074462890625,-0.041259765625,-0.086181640625,-0.1622314453125,0.1387939453125,0.0919189453125,0.03369140625,-0.0111083984375,-0.0888671875,-0.1492919921875,0.1871337890625,0.1688232421875,0.10498046875,0.062255859375,0.0059814453125,-0.06201171875,0.14794921875,0.0877685546875,-0.06591796875,0.6973876953125,0.65478515625,0.6011962890625,0.560546875,0.518310546875,0.4666748046875,0.4263916015625,0.380615234375,0.3272705078125,0.2852783203125,0.2454833984375,0.201904296875,0.1583251953125,0.156005859375],\"y\":[0.0498046875,-0.05908203125,-0.0294189453125,0.1614990234375,-0.0634765625,0.021484375,0.0465087890625,0.0255126953125,-0.1607666015625,-0.0758056640625,0.0321044921875,0.0433349609375,0.04541015625,0.0052490234375,-0.0789794921875,-0.0958251953125,0.0028076171875,0.0543212890625,0.0792236328125,0.072021484375,0.0650634765625,0.0582275390625,-0.1175537109375,-0.0235595703125,0.033447265625,0.0858154296875,0.1051025390625,0.143798828125,0.15966796875,0.1663818359375,0.15478515625,0.1068115234375,-0.13525390625,-0.0423583984375,0.0330810546875,0.062255859375,0.100830078125,0.1348876953125,0.1689453125,0.1883544921875,0.185791015625,0.1788330078125,0.1583251953125,-0.159912109375,-0.0289306640625,0.0325927734375,0.0699462890625,0.0899658203125,0.1331787109375,0.153564453125,0.2015380859375,0.208251953125,0.204833984375,0.184326171875,-0.193603515625,-0.076416015625,-0.0009765625,0.0882568359375,0.1119384765625,0.132080078125,0.1800537109375,0.19580078125,0.211669921875,0.218505859375,0.233642578125,0.2132568359375,0.1610107421875,-0.2047119140625,-0.1060791015625,-0.0445556640625,0.090087890625,0.1239013671875,0.1348876953125,0.196533203125,0.203125,0.195068359375,0.1881103515625,0.19970703125,0.1976318359375,0.127197265625,-0.1575927734375,-0.239501953125,-0.06689453125,0.06396484375,0.1107177734375,0.126220703125,0.146484375,0.1715087890625,0.1368408203125,0.097900390625,0.126953125,0.125,-0.103515625,-0.009521484375,0.0657958984375,0.1136474609375,0.1328125,0.1622314453125,0.15966796875,0.1663818359375,0.09521484375,-0.0076904296875,-0.0155029296875,0.0645751953125,0.116943359375,0.146240234375,0.171142578125,0.182373046875,0.197265625,0.18115234375,0.036865234375,-0.0936279296875,0.0177001953125,0.0885009765625,0.126953125,0.1517333984375,0.1719970703125,0.1739501953125,0.15673828125,0.10400390625,-0.0164794921875,0.037841796875,0.0765380859375,0.03271484375,0.0533447265625,0.0042724609375,-0.1552734375,-0.102783203125,-0.0364990234375,-0.0345458984375,0.0225830078125,0.0238037109375,0.003173828125,-0.0311279296875,-0.0146484375,-0.097900390625,-0.082275390625,-0.0491943359375,-0.0655517578125,-0.1092529296875,-0.115966796875,-0.06298828125,-0.0694580078125,-0.031982421875,-0.0128173828125,-0.0523681640625,-0.054931640625,-0.0343017578125,-0.00439453125,-0.0477294921875,-0.0230712890625,0.0018310546875,-0.000732421875,0.029052734375,-0.0201416015625,-0.0267333984375,-0.0426025390625,0.0511474609375,0.03466796875,0.06884765625,0.0709228515625,0.044677734375,-0.011962890625,-0.0191650390625,0.0240478515625,0.2354736328125,0.268310546875,0.2735595703125,0.3111572265625,0.3443603515625,0.3544921875,0.3914794921875,0.415771484375,0.4217529296875,0.455322265625,0.49365234375,0.5218505859375,0.55126953125,0.6766357421875],\"z\":[0.8451156616210938,0.8415756225585938,0.8409957885742188,0.8438796997070312,0.77923583984375,0.7800369262695312,0.7793731689453125,0.7775802612304688,0.712158203125,0.7131576538085938,0.7147979736328125,0.7137680053710938,0.7124862670898438,0.7100448608398438,0.6564712524414062,0.6545639038085938,0.6561737060546875,0.6563873291015625,0.6557540893554688,0.6541290283203125,0.6525039672851562,0.65087890625,0.5814971923828125,0.5832290649414062,0.583709716796875,0.5840377807617188,0.5832595825195312,0.5831222534179688,0.5821914672851562,0.5809478759765625,0.579071044921875,0.5759201049804688,0.5210800170898438,0.5230331420898438,0.5242996215820312,0.52386474609375,0.5237808227539062,0.5235214233398438,0.5232620239257812,0.522491455078125,0.5208663940429688,0.5190582275390625,0.5167388916015625,0.458831787109375,0.4624786376953125,0.4633636474609375,0.46332550048828125,0.46254730224609375,0.46269989013671875,0.4619293212890625,0.46227264404296875,0.46094512939453125,0.4592437744140625,0.4568023681640625,0.38385009765625,0.38729095458984375,0.38892364501953125,0.39116668701171875,0.390594482421875,0.3898162841796875,0.3902587890625,0.38928985595703125,0.38831329345703125,0.38694000244140625,0.3859710693359375,0.3833770751953125,0.379364013671875,0.3109283447265625,0.31383514404296875,0.31500244140625,0.31966400146484375,0.31954193115234375,0.31833648681640625,0.31952667236328125,0.3180999755859375,0.3160247802734375,0.31394195556640625,0.31273651123046875,0.31087493896484375,0.30572509765625,0.23854827880859375,0.23261260986328125,0.2395477294921875,0.24439239501953125,0.245025634765625,0.2440185546875,0.2432403564453125,0.242706298828125,0.23911285400390625,0.23528289794921875,0.2349853515625,0.2330322265625,0.15007781982421875,0.15335845947265625,0.15563201904296875,0.15637969970703125,0.155609130859375,0.15534210205078125,0.15329742431640625,0.151763916015625,0.1458892822265625,0.13822174072265625,0.066864013671875,0.06964111328125,0.0707855224609375,0.070556640625,0.07006072998046875,0.0687408447265625,0.06769561767578125,0.064727783203125,0.05406951904296875,-0.02378082275390625,-0.01869964599609375,-0.01625823974609375,-0.0158538818359375,-0.01633453369140625,-0.0171051025390625,-0.01905059814453125,-0.02217864990234375,-0.02765655517578125,-0.1137847900390625,-0.11440277099609375,-0.113922119140625,-0.1190948486328125,-0.119873046875,-0.1253662109375,-0.2227935791015625,-0.221221923828125,-0.2186431884765625,-0.22077178955078125,-0.21884918212890625,-0.220977783203125,-0.22478485107421875,-0.22960662841796875,-0.23072052001953125,-0.32144927978515625,-0.32259368896484375,-0.322296142578125,-0.32595062255859375,-0.331756591796875,-0.33469390869140625,-0.3329620361328125,-0.33589935302734375,-0.4373626708984375,-0.438140869140625,-0.443939208984375,-0.44664764404296875,-0.44742584228515625,-0.4474334716796875,-0.45362091064453125,-0.5513763427734375,-0.5517425537109375,-0.5545730590820312,-0.5545272827148438,-0.5614776611328125,-0.564727783203125,-0.6674575805664062,-0.6612472534179688,-0.6655197143554688,-0.6649856567382812,-0.667510986328125,-0.6726608276367188,-0.786163330078125,-0.7897262573242188,-0.7939071655273438,-0.8618392944335938,-0.8611373901367188,-0.8633804321289062,-0.8621902465820312,-0.861480712890625,-0.8632278442382812,-0.862030029296875,-0.8623046875,-0.8645401000976562,-0.86383056640625,-0.8626251220703125,-0.862396240234375,-0.8621749877929688,-0.8516159057617188],\"type\":\"scatter3d\"},{\"marker\":{\"color\":\"red\",\"opacity\":0.8,\"size\":4},\"mode\":\"markers\",\"x\":[-0.010108300484716892,0.20440998673439026,0.2908279001712799,0.16356757283210754,0.14370043575763702,0.18009674549102783,0.25762221217155457,-0.11787262558937073,-0.22026482224464417,-0.1841336041688919,-0.06845667958259583,-0.15563669800758362,-0.19649389386177063],\"y\":[-0.14009781181812286,-0.04354292154312134,-0.10515245795249939,-0.24085074663162231,-0.041318267583847046,0.02569057047367096,0.185173898935318,0.09388769418001175,0.09102547913789749,-0.05324402451515198,0.034196168184280396,-0.08336085826158524,-0.10387305915355682],\"z\":[0.5586261749267578,0.41214948892593384,0.22470955550670624,0.15090340375900269,0.0025723017752170563,-0.30889105796813965,-0.5983875393867493,0.41334211826324463,0.22635772824287415,0.18219038844108582,0.011808722279965878,-0.2945183217525482,-0.5958561897277832],\"type\":\"scatter3d\"},{\"line\":{\"color\":\"black\",\"width\":2},\"mode\":\"lines\",\"x\":[-0.010108300484716892,0.043268680572509766],\"y\":[-0.14009781181812286,0.025172386318445206],\"z\":[0.5586261749267578,0.41274580359458923],\"type\":\"scatter3d\"},{\"line\":{\"color\":\"black\",\"width\":2},\"mode\":\"lines\",\"x\":[0.20440998673439026,0.2908279001712799],\"y\":[-0.04354292154312134,-0.10515245795249939],\"z\":[0.41214948892593384,0.22470955550670624],\"type\":\"scatter3d\"},{\"line\":{\"color\":\"black\",\"width\":2},\"mode\":\"lines\",\"x\":[0.20440998673439026,0.14370043575763702],\"y\":[-0.04354292154312134,-0.041318267583847046],\"z\":[0.41214948892593384,0.0025723017752170563],\"type\":\"scatter3d\"},{\"line\":{\"color\":\"black\",\"width\":2},\"mode\":\"lines\",\"x\":[0.20440998673439026,-0.11787262558937073],\"y\":[-0.04354292154312134,0.09388769418001175],\"z\":[0.41214948892593384,0.41334211826324463],\"type\":\"scatter3d\"},{\"line\":{\"color\":\"black\",\"width\":2},\"mode\":\"lines\",\"x\":[0.2908279001712799,0.16356757283210754],\"y\":[-0.10515245795249939,-0.24085074663162231],\"z\":[0.22470955550670624,0.15090340375900269],\"type\":\"scatter3d\"},{\"line\":{\"color\":\"black\",\"width\":2},\"mode\":\"lines\",\"x\":[0.14370043575763702,0.18009674549102783],\"y\":[-0.041318267583847046,0.02569057047367096],\"z\":[0.0025723017752170563,-0.30889105796813965],\"type\":\"scatter3d\"},{\"line\":{\"color\":\"black\",\"width\":2},\"mode\":\"lines\",\"x\":[0.14370043575763702,-0.06845667958259583],\"y\":[-0.041318267583847046,0.034196168184280396],\"z\":[0.0025723017752170563,0.011808722279965878],\"type\":\"scatter3d\"},{\"line\":{\"color\":\"black\",\"width\":2},\"mode\":\"lines\",\"x\":[0.18009674549102783,0.25762221217155457],\"y\":[0.02569057047367096,0.185173898935318],\"z\":[-0.30889105796813965,-0.5983875393867493],\"type\":\"scatter3d\"},{\"line\":{\"color\":\"black\",\"width\":2},\"mode\":\"lines\",\"x\":[-0.11787262558937073,-0.22026482224464417],\"y\":[0.09388769418001175,0.09102547913789749],\"z\":[0.41334211826324463,0.22635772824287415],\"type\":\"scatter3d\"},{\"line\":{\"color\":\"black\",\"width\":2},\"mode\":\"lines\",\"x\":[-0.11787262558937073,-0.06845667958259583],\"y\":[0.09388769418001175,0.034196168184280396],\"z\":[0.41334211826324463,0.011808722279965878],\"type\":\"scatter3d\"},{\"line\":{\"color\":\"black\",\"width\":2},\"mode\":\"lines\",\"x\":[-0.22026482224464417,-0.1841336041688919],\"y\":[0.09102547913789749,-0.05324402451515198],\"z\":[0.22635772824287415,0.18219038844108582],\"type\":\"scatter3d\"},{\"line\":{\"color\":\"black\",\"width\":2},\"mode\":\"lines\",\"x\":[-0.06845667958259583,-0.15563669800758362],\"y\":[0.034196168184280396,-0.08336085826158524],\"z\":[0.011808722279965878,-0.2945183217525482],\"type\":\"scatter3d\"},{\"line\":{\"color\":\"black\",\"width\":2},\"mode\":\"lines\",\"x\":[-0.15563669800758362,-0.19649389386177063],\"y\":[-0.08336085826158524,-0.10387305915355682],\"z\":[-0.2945183217525482,-0.5958561897277832],\"type\":\"scatter3d\"},{\"line\":{\"color\":\"blue\",\"width\":2},\"mode\":\"lines\",\"x\":[0,-0.6110380098932101],\"y\":[0,-0.7916012572411348],\"z\":[0,0],\"type\":\"scatter3d\"}],                        {\"template\":{\"data\":{\"histogram2dcontour\":[{\"type\":\"histogram2dcontour\",\"colorbar\":{\"outlinewidth\":0,\"ticks\":\"\"},\"colorscale\":[[0.0,\"#0d0887\"],[0.1111111111111111,\"#46039f\"],[0.2222222222222222,\"#7201a8\"],[0.3333333333333333,\"#9c179e\"],[0.4444444444444444,\"#bd3786\"],[0.5555555555555556,\"#d8576b\"],[0.6666666666666666,\"#ed7953\"],[0.7777777777777778,\"#fb9f3a\"],[0.8888888888888888,\"#fdca26\"],[1.0,\"#f0f921\"]]}],\"choropleth\":[{\"type\":\"choropleth\",\"colorbar\":{\"outlinewidth\":0,\"ticks\":\"\"}}],\"histogram2d\":[{\"type\":\"histogram2d\",\"colorbar\":{\"outlinewidth\":0,\"ticks\":\"\"},\"colorscale\":[[0.0,\"#0d0887\"],[0.1111111111111111,\"#46039f\"],[0.2222222222222222,\"#7201a8\"],[0.3333333333333333,\"#9c179e\"],[0.4444444444444444,\"#bd3786\"],[0.5555555555555556,\"#d8576b\"],[0.6666666666666666,\"#ed7953\"],[0.7777777777777778,\"#fb9f3a\"],[0.8888888888888888,\"#fdca26\"],[1.0,\"#f0f921\"]]}],\"heatmap\":[{\"type\":\"heatmap\",\"colorbar\":{\"outlinewidth\":0,\"ticks\":\"\"},\"colorscale\":[[0.0,\"#0d0887\"],[0.1111111111111111,\"#46039f\"],[0.2222222222222222,\"#7201a8\"],[0.3333333333333333,\"#9c179e\"],[0.4444444444444444,\"#bd3786\"],[0.5555555555555556,\"#d8576b\"],[0.6666666666666666,\"#ed7953\"],[0.7777777777777778,\"#fb9f3a\"],[0.8888888888888888,\"#fdca26\"],[1.0,\"#f0f921\"]]}],\"heatmapgl\":[{\"type\":\"heatmapgl\",\"colorbar\":{\"outlinewidth\":0,\"ticks\":\"\"},\"colorscale\":[[0.0,\"#0d0887\"],[0.1111111111111111,\"#46039f\"],[0.2222222222222222,\"#7201a8\"],[0.3333333333333333,\"#9c179e\"],[0.4444444444444444,\"#bd3786\"],[0.5555555555555556,\"#d8576b\"],[0.6666666666666666,\"#ed7953\"],[0.7777777777777778,\"#fb9f3a\"],[0.8888888888888888,\"#fdca26\"],[1.0,\"#f0f921\"]]}],\"contourcarpet\":[{\"type\":\"contourcarpet\",\"colorbar\":{\"outlinewidth\":0,\"ticks\":\"\"}}],\"contour\":[{\"type\":\"contour\",\"colorbar\":{\"outlinewidth\":0,\"ticks\":\"\"},\"colorscale\":[[0.0,\"#0d0887\"],[0.1111111111111111,\"#46039f\"],[0.2222222222222222,\"#7201a8\"],[0.3333333333333333,\"#9c179e\"],[0.4444444444444444,\"#bd3786\"],[0.5555555555555556,\"#d8576b\"],[0.6666666666666666,\"#ed7953\"],[0.7777777777777778,\"#fb9f3a\"],[0.8888888888888888,\"#fdca26\"],[1.0,\"#f0f921\"]]}],\"surface\":[{\"type\":\"surface\",\"colorbar\":{\"outlinewidth\":0,\"ticks\":\"\"},\"colorscale\":[[0.0,\"#0d0887\"],[0.1111111111111111,\"#46039f\"],[0.2222222222222222,\"#7201a8\"],[0.3333333333333333,\"#9c179e\"],[0.4444444444444444,\"#bd3786\"],[0.5555555555555556,\"#d8576b\"],[0.6666666666666666,\"#ed7953\"],[0.7777777777777778,\"#fb9f3a\"],[0.8888888888888888,\"#fdca26\"],[1.0,\"#f0f921\"]]}],\"mesh3d\":[{\"type\":\"mesh3d\",\"colorbar\":{\"outlinewidth\":0,\"ticks\":\"\"}}],\"scatter\":[{\"fillpattern\":{\"fillmode\":\"overlay\",\"size\":10,\"solidity\":0.2},\"type\":\"scatter\"}],\"parcoords\":[{\"type\":\"parcoords\",\"line\":{\"colorbar\":{\"outlinewidth\":0,\"ticks\":\"\"}}}],\"scatterpolargl\":[{\"type\":\"scatterpolargl\",\"marker\":{\"colorbar\":{\"outlinewidth\":0,\"ticks\":\"\"}}}],\"bar\":[{\"error_x\":{\"color\":\"#2a3f5f\"},\"error_y\":{\"color\":\"#2a3f5f\"},\"marker\":{\"line\":{\"color\":\"#E5ECF6\",\"width\":0.5},\"pattern\":{\"fillmode\":\"overlay\",\"size\":10,\"solidity\":0.2}},\"type\":\"bar\"}],\"scattergeo\":[{\"type\":\"scattergeo\",\"marker\":{\"colorbar\":{\"outlinewidth\":0,\"ticks\":\"\"}}}],\"scatterpolar\":[{\"type\":\"scatterpolar\",\"marker\":{\"colorbar\":{\"outlinewidth\":0,\"ticks\":\"\"}}}],\"histogram\":[{\"marker\":{\"pattern\":{\"fillmode\":\"overlay\",\"size\":10,\"solidity\":0.2}},\"type\":\"histogram\"}],\"scattergl\":[{\"type\":\"scattergl\",\"marker\":{\"colorbar\":{\"outlinewidth\":0,\"ticks\":\"\"}}}],\"scatter3d\":[{\"type\":\"scatter3d\",\"line\":{\"colorbar\":{\"outlinewidth\":0,\"ticks\":\"\"}},\"marker\":{\"colorbar\":{\"outlinewidth\":0,\"ticks\":\"\"}}}],\"scattermapbox\":[{\"type\":\"scattermapbox\",\"marker\":{\"colorbar\":{\"outlinewidth\":0,\"ticks\":\"\"}}}],\"scatterternary\":[{\"type\":\"scatterternary\",\"marker\":{\"colorbar\":{\"outlinewidth\":0,\"ticks\":\"\"}}}],\"scattercarpet\":[{\"type\":\"scattercarpet\",\"marker\":{\"colorbar\":{\"outlinewidth\":0,\"ticks\":\"\"}}}],\"carpet\":[{\"aaxis\":{\"endlinecolor\":\"#2a3f5f\",\"gridcolor\":\"white\",\"linecolor\":\"white\",\"minorgridcolor\":\"white\",\"startlinecolor\":\"#2a3f5f\"},\"baxis\":{\"endlinecolor\":\"#2a3f5f\",\"gridcolor\":\"white\",\"linecolor\":\"white\",\"minorgridcolor\":\"white\",\"startlinecolor\":\"#2a3f5f\"},\"type\":\"carpet\"}],\"table\":[{\"cells\":{\"fill\":{\"color\":\"#EBF0F8\"},\"line\":{\"color\":\"white\"}},\"header\":{\"fill\":{\"color\":\"#C8D4E3\"},\"line\":{\"color\":\"white\"}},\"type\":\"table\"}],\"barpolar\":[{\"marker\":{\"line\":{\"color\":\"#E5ECF6\",\"width\":0.5},\"pattern\":{\"fillmode\":\"overlay\",\"size\":10,\"solidity\":0.2}},\"type\":\"barpolar\"}],\"pie\":[{\"automargin\":true,\"type\":\"pie\"}]},\"layout\":{\"autotypenumbers\":\"strict\",\"colorway\":[\"#636efa\",\"#EF553B\",\"#00cc96\",\"#ab63fa\",\"#FFA15A\",\"#19d3f3\",\"#FF6692\",\"#B6E880\",\"#FF97FF\",\"#FECB52\"],\"font\":{\"color\":\"#2a3f5f\"},\"hovermode\":\"closest\",\"hoverlabel\":{\"align\":\"left\"},\"paper_bgcolor\":\"white\",\"plot_bgcolor\":\"#E5ECF6\",\"polar\":{\"bgcolor\":\"#E5ECF6\",\"angularaxis\":{\"gridcolor\":\"white\",\"linecolor\":\"white\",\"ticks\":\"\"},\"radialaxis\":{\"gridcolor\":\"white\",\"linecolor\":\"white\",\"ticks\":\"\"}},\"ternary\":{\"bgcolor\":\"#E5ECF6\",\"aaxis\":{\"gridcolor\":\"white\",\"linecolor\":\"white\",\"ticks\":\"\"},\"baxis\":{\"gridcolor\":\"white\",\"linecolor\":\"white\",\"ticks\":\"\"},\"caxis\":{\"gridcolor\":\"white\",\"linecolor\":\"white\",\"ticks\":\"\"}},\"coloraxis\":{\"colorbar\":{\"outlinewidth\":0,\"ticks\":\"\"}},\"colorscale\":{\"sequential\":[[0.0,\"#0d0887\"],[0.1111111111111111,\"#46039f\"],[0.2222222222222222,\"#7201a8\"],[0.3333333333333333,\"#9c179e\"],[0.4444444444444444,\"#bd3786\"],[0.5555555555555556,\"#d8576b\"],[0.6666666666666666,\"#ed7953\"],[0.7777777777777778,\"#fb9f3a\"],[0.8888888888888888,\"#fdca26\"],[1.0,\"#f0f921\"]],\"sequentialminus\":[[0.0,\"#0d0887\"],[0.1111111111111111,\"#46039f\"],[0.2222222222222222,\"#7201a8\"],[0.3333333333333333,\"#9c179e\"],[0.4444444444444444,\"#bd3786\"],[0.5555555555555556,\"#d8576b\"],[0.6666666666666666,\"#ed7953\"],[0.7777777777777778,\"#fb9f3a\"],[0.8888888888888888,\"#fdca26\"],[1.0,\"#f0f921\"]],\"diverging\":[[0,\"#8e0152\"],[0.1,\"#c51b7d\"],[0.2,\"#de77ae\"],[0.3,\"#f1b6da\"],[0.4,\"#fde0ef\"],[0.5,\"#f7f7f7\"],[0.6,\"#e6f5d0\"],[0.7,\"#b8e186\"],[0.8,\"#7fbc41\"],[0.9,\"#4d9221\"],[1,\"#276419\"]]},\"xaxis\":{\"gridcolor\":\"white\",\"linecolor\":\"white\",\"ticks\":\"\",\"title\":{\"standoff\":15},\"zerolinecolor\":\"white\",\"automargin\":true,\"zerolinewidth\":2},\"yaxis\":{\"gridcolor\":\"white\",\"linecolor\":\"white\",\"ticks\":\"\",\"title\":{\"standoff\":15},\"zerolinecolor\":\"white\",\"automargin\":true,\"zerolinewidth\":2},\"scene\":{\"xaxis\":{\"backgroundcolor\":\"#E5ECF6\",\"gridcolor\":\"white\",\"linecolor\":\"white\",\"showbackground\":true,\"ticks\":\"\",\"zerolinecolor\":\"white\",\"gridwidth\":2},\"yaxis\":{\"backgroundcolor\":\"#E5ECF6\",\"gridcolor\":\"white\",\"linecolor\":\"white\",\"showbackground\":true,\"ticks\":\"\",\"zerolinecolor\":\"white\",\"gridwidth\":2},\"zaxis\":{\"backgroundcolor\":\"#E5ECF6\",\"gridcolor\":\"white\",\"linecolor\":\"white\",\"showbackground\":true,\"ticks\":\"\",\"zerolinecolor\":\"white\",\"gridwidth\":2}},\"shapedefaults\":{\"line\":{\"color\":\"#2a3f5f\"}},\"annotationdefaults\":{\"arrowcolor\":\"#2a3f5f\",\"arrowhead\":0,\"arrowwidth\":1},\"geo\":{\"bgcolor\":\"white\",\"landcolor\":\"#E5ECF6\",\"subunitcolor\":\"white\",\"showland\":true,\"showlakes\":true,\"lakecolor\":\"white\"},\"title\":{\"x\":0.05},\"mapbox\":{\"style\":\"light\"}}},\"scene\":{\"aspectratio\":{\"x\":3,\"y\":3,\"z\":3},\"xaxis\":{\"range\":[-1.5,1.5]},\"yaxis\":{\"range\":[-1.5,1.5]},\"zaxis\":{\"range\":[-1.5,1.5]},\"aspectmode\":\"manual\"}},                        {\"responsive\": true}                    ).then(function(){\n",
       "                            \n",
       "var gd = document.getElementById('82622468-bf8e-4030-9764-425a3661460b');\n",
       "var x = new MutationObserver(function (mutations, observer) {{\n",
       "        var display = window.getComputedStyle(gd).display;\n",
       "        if (!display || display === 'none') {{\n",
       "            console.log([gd, 'removed!']);\n",
       "            Plotly.purge(gd);\n",
       "            observer.disconnect();\n",
       "        }}\n",
       "}});\n",
       "\n",
       "// Listen for the removal of the full notebook cells\n",
       "var notebookContainer = gd.closest('#notebook-container');\n",
       "if (notebookContainer) {{\n",
       "    x.observe(notebookContainer, {childList: true});\n",
       "}}\n",
       "\n",
       "// Listen for the clearing of the current output cell\n",
       "var outputEl = gd.closest('.output');\n",
       "if (outputEl) {{\n",
       "    x.observe(outputEl, {childList: true});\n",
       "}}\n",
       "\n",
       "                        })                };                });            </script>        </div>"
      ]
     },
     "metadata": {},
     "output_type": "display_data"
    },
    {
     "data": {
      "application/vnd.plotly.v1+json": {
       "config": {
        "plotlyServerURL": "https://plot.ly"
       },
       "data": [
        {
         "marker": {
          "opacity": 0.8,
          "size": 2
         },
         "mode": "markers",
         "type": "scatter3d",
         "x": [
          0.043701171875,
          -0.0059814453125,
          0.0870361328125,
          0.0489501953125,
          -0.0125732421875,
          -0.058349609375,
          -0.1201171875,
          0.101318359375,
          0.0406494140625,
          -0.0528564453125,
          -0.1265869140625,
          0.1337890625,
          0.078125,
          0.0419921875,
          0.004150390625,
          -0.03564453125,
          -0.09716796875,
          -0.15283203125,
          0.2509765625,
          0.227783203125,
          0.206787109375,
          0.1229248046875,
          0.089111328125,
          0.0435791015625,
          -0.0059814453125,
          -0.0853271484375,
          -0.156982421875,
          0.290771484375,
          0.24853515625,
          0.225830078125,
          0.1859130859375,
          0.14794921875,
          0.1043701171875,
          0.0648193359375,
          0.0115966796875,
          -0.039794921875,
          -0.09912109375,
          -0.1646728515625,
          0.267578125,
          0.2520751953125,
          0.2274169921875,
          0.193359375,
          0.149658203125,
          0.1119384765625,
          0.0704345703125,
          0.0330810546875,
          -0.024169921875,
          -0.077392578125,
          -0.134765625,
          -0.1982421875,
          0.2791748046875,
          0.2255859375,
          0.205078125,
          0.1673583984375,
          0.119873046875,
          0.0823974609375,
          0.0350341796875,
          -0.0101318359375,
          -0.1165771484375,
          -0.173828125,
          -0.2576904296875,
          0.2755126953125,
          0.2388916015625,
          0.2083740234375,
          0.2032470703125,
          0.16357421875,
          0.0745849609375,
          0.03515625,
          -0.02001953125,
          -0.09130859375,
          -0.116455078125,
          -0.181884765625,
          0.243408203125,
          0.2027587890625,
          0.1873779296875,
          0.19580078125,
          0.159912109375,
          0.1143798828125,
          0.0670166015625,
          0.029541015625,
          -0.0357666015625,
          -0.107177734375,
          -0.1444091796875,
          -0.1998291015625,
          -0.2900390625,
          0.2286376953125,
          0.2230224609375,
          0.1986083984375,
          0.1627197265625,
          0.123046875,
          0.07568359375,
          0.0164794921875,
          -0.0289306640625,
          -0.1142578125,
          -0.18603515625,
          -0.211181640625,
          0.2181396484375,
          0.197509765625,
          0.16748046875,
          0.1376953125,
          0.08447265625,
          0.0352783203125,
          -0.02197265625,
          -0.0772705078125,
          -0.1810302734375,
          0.244140625,
          0.244384765625,
          0.221923828125,
          0.1822509765625,
          0.1348876953125,
          0.0875244140625,
          0.0343017578125,
          -0.0208740234375,
          -0.0982666015625,
          -0.2203369140625,
          0.2071533203125,
          0.21484375,
          0.1864013671875,
          0.093017578125,
          -0.0020751953125,
          -0.0594482421875,
          -0.123046875,
          -0.2249755859375,
          0.158935546875,
          0.1746826171875,
          0.119140625,
          0.0733642578125,
          0.025634765625,
          -0.035888671875,
          -0.0894775390625,
          -0.1451416015625,
          -0.2310791015625,
          0.135986328125,
          0.1192626953125,
          0.071533203125,
          0.0257568359375,
          -0.0615234375,
          -0.11328125,
          -0.1851806640625,
          -0.2652587890625,
          0.2353515625,
          0.1856689453125,
          0.137939453125,
          0.0980224609375,
          -0.0518798828125,
          -0.0782470703125,
          -0.1341552734375,
          -0.18408203125,
          0.1827392578125,
          0.1622314453125,
          0.11083984375,
          0.0474853515625,
          -0.0970458984375,
          -0.1409912109375,
          -0.1689453125,
          -0.240966796875,
          0.217041015625,
          0.17529296875,
          0.1004638671875,
          -0.1134033203125,
          -0.1317138671875,
          -0.1815185546875,
          0.201416015625,
          0.1575927734375,
          0.133544921875,
          -0.1536865234375,
          -0.2197265625,
          -0.3321533203125,
          0.161865234375,
          0.1298828125,
          -0.0001220703125,
          -0.229736328125
         ],
         "y": [
          -0.0001220703125,
          0.015869140625,
          -0.04052734375,
          0.0029296875,
          -0.009765625,
          0.0155029296875,
          0.0042724609375,
          -0.138671875,
          -0.0150146484375,
          0.03076171875,
          -0.008056640625,
          -0.0648193359375,
          -0.06298828125,
          -0.014892578125,
          0.027587890625,
          0.066650390625,
          0.0552978515625,
          0.057861328125,
          -0.18994140625,
          -0.10986328125,
          -0.0252685546875,
          0.042724609375,
          0.0953369140625,
          0.119384765625,
          0.13525390625,
          0.0826416015625,
          0.048583984375,
          -0.0999755859375,
          -0.066162109375,
          0.0137939453125,
          0.0511474609375,
          0.0943603515625,
          0.1239013671875,
          0.1627197265625,
          0.16943359375,
          0.179931640625,
          0.1732177734375,
          0.1529541015625,
          -0.1524658203125,
          -0.053955078125,
          0.0213623046875,
          0.07373046875,
          0.1021728515625,
          0.1453857421875,
          0.1795654296875,
          0.222900390625,
          0.2205810546875,
          0.2276611328125,
          0.2244873046875,
          0.208984375,
          -0.13525390625,
          0.0062255859375,
          0.0908203125,
          0.1339111328125,
          0.1541748046875,
          0.197509765625,
          0.217041015625,
          0.2421875,
          0.2562255859375,
          0.25439453125,
          0.1923828125,
          -0.1417236328125,
          -0.0941162109375,
          -0.032470703125,
          0.0888671875,
          0.12646484375,
          0.180908203125,
          0.2197265625,
          0.2220458984375,
          0.1878662109375,
          0.2579345703125,
          0.23779296875,
          -0.22412109375,
          -0.185546875,
          -0.087158203125,
          0.0665283203125,
          0.1143798828125,
          0.13818359375,
          0.1585693359375,
          0.2020263671875,
          0.181396484375,
          0.1473388671875,
          0.1910400390625,
          0.19384765625,
          0.1181640625,
          -0.1239013671875,
          -0.00244140625,
          0.0728759765625,
          0.12060546875,
          0.1593017578125,
          0.1796875,
          0.1717529296875,
          0.1968994140625,
          0.1307373046875,
          0.096923828125,
          0.168212890625,
          -0.0211181640625,
          0.0633544921875,
          0.1239013671875,
          0.1854248046875,
          0.1920166015625,
          0.2078857421875,
          0.2056884765625,
          0.20703125,
          0.10009765625,
          -0.091064453125,
          0.0440673828125,
          0.1229248046875,
          0.1614990234375,
          0.1817626953125,
          0.2020263671875,
          0.2088623046875,
          0.2110595703125,
          0.162109375,
          0.01416015625,
          -0.19140625,
          -0.0377197265625,
          0.0284423828125,
          0.0736083984375,
          0.1136474609375,
          0.1114501953125,
          0.095703125,
          -0.006591796875,
          -0.1700439453125,
          0.0009765625,
          0.0029296875,
          0.02783203125,
          0.04833984375,
          0.0369873046875,
          0.0440673828125,
          0.045654296875,
          -0.02001953125,
          -0.0953369140625,
          -0.0015869140625,
          0.0189208984375,
          0.04296875,
          -0.0279541015625,
          -0.0162353515625,
          -0.050048828125,
          -0.1019287109375,
          0.005126953125,
          0.020751953125,
          0.0408935546875,
          0.0797119140625,
          -0.1390380859375,
          -0.06787109375,
          -0.0653076171875,
          -0.048828125,
          0.005859375,
          0.0892333984375,
          0.1004638671875,
          0.084228515625,
          -0.1192626953125,
          -0.0892333984375,
          -0.0235595703125,
          -0.05712890625,
          0.0880126953125,
          0.1219482421875,
          0.0780029296875,
          -0.1551513671875,
          -0.065673828125,
          -0.0504150390625,
          0.0394287109375,
          0.06884765625,
          0.14404296875,
          -0.128662109375,
          -0.1485595703125,
          -0.2730712890625,
          0.0782470703125,
          0.1351318359375,
          -0.0364990234375,
          0.4659423828125
         ],
         "z": [
          0.87158203125,
          0.8707351684570312,
          0.8094100952148438,
          0.8092193603515625,
          0.8076858520507812,
          0.8070526123046875,
          0.8055191040039062,
          0.7433395385742188,
          0.7441024780273438,
          0.7427291870117188,
          0.7403411865234375,
          0.686920166015625,
          0.6856155395507812,
          0.685699462890625,
          0.6856460571289062,
          0.6854629516601562,
          0.6837387084960938,
          0.6824264526367188,
          0.6129379272460938,
          0.6142044067382812,
          0.615631103515625,
          0.6150741577148438,
          0.61541748046875,
          0.6148300170898438,
          0.6139297485351562,
          0.6106796264648438,
          0.6080474853515625,
          0.5556793212890625,
          0.5554351806640625,
          0.5568923950195312,
          0.5568161010742188,
          0.5569229125976562,
          0.5565185546875,
          0.55645751953125,
          0.5551986694335938,
          0.5541229248046875,
          0.5523529052734375,
          0.5500717163085938,
          0.4933319091796875,
          0.49568939208984375,
          0.49713897705078125,
          0.49767303466796875,
          0.49729156494140625,
          0.497467041015625,
          0.49727630615234375,
          0.4974517822265625,
          0.49579620361328125,
          0.49449920654296875,
          0.49283599853515625,
          0.49062347412109375,
          0.42163848876953125,
          0.424530029296875,
          0.42658233642578125,
          0.4268341064453125,
          0.42609405517578125,
          0.42635345458984375,
          0.4256134033203125,
          0.42507171630859375,
          0.422393798828125,
          0.42064666748046875,
          0.41628265380859375,
          0.3501739501953125,
          0.35071563720703125,
          0.35190582275390625,
          0.3559112548828125,
          0.3560333251953125,
          0.355194091796875,
          0.355316162109375,
          0.3537139892578125,
          0.35036468505859375,
          0.352020263671875,
          0.3493194580078125,
          0.27257537841796875,
          0.2727508544921875,
          0.27594757080078125,
          0.28194427490234375,
          0.28260040283203125,
          0.2820892333984375,
          0.281341552734375,
          0.281768798828125,
          0.27892303466796875,
          0.27538299560546875,
          0.27581024169921875,
          0.27413177490234375,
          0.26847076416015625,
          0.187652587890625,
          0.19245147705078125,
          0.194732666015625,
          0.1955108642578125,
          0.19577789306640625,
          0.19503021240234375,
          0.19277191162109375,
          0.19228363037109375,
          0.1867218017578125,
          0.18292999267578125,
          0.1849822998046875,
          0.10642242431640625,
          0.1094818115234375,
          0.11118316650390625,
          0.11289215087890625,
          0.11133575439453125,
          0.110321044921875,
          0.10821533203125,
          0.10638427734375,
          0.097991943359375,
          0.01758575439453125,
          0.0241241455078125,
          0.02716827392578125,
          0.027587890625,
          0.02684783935546875,
          0.0261077880859375,
          0.0244903564453125,
          0.02257537841796875,
          0.01744842529296875,
          0.00586700439453125,
          -0.0789031982421875,
          -0.07061004638671875,
          -0.0682373046875,
          -0.06941986083984375,
          -0.0709075927734375,
          -0.07321929931640625,
          -0.07646942138671875,
          -0.08567047119140625,
          -0.1799163818359375,
          -0.16962432861328125,
          -0.17171478271484375,
          -0.17212677001953125,
          -0.17287445068359375,
          -0.17597198486328125,
          -0.17772674560546875,
          -0.1798095703125,
          -0.18694305419921875,
          -0.27576446533203125,
          -0.2707977294921875,
          -0.27154541015625,
          -0.27193450927734375,
          -0.27983856201171875,
          -0.28130340576171875,
          -0.28635406494140625,
          -0.29283905029296875,
          -0.38458251953125,
          -0.38571929931640625,
          -0.38646697998046875,
          -0.38567352294921875,
          -0.40642547607421875,
          -0.40294647216796875,
          -0.40523529052734375,
          -0.4063720703125,
          -0.49744415283203125,
          -0.492462158203125,
          -0.49402618408203125,
          -0.498046875,
          -0.5188827514648438,
          -0.5188140869140625,
          -0.5154647827148438,
          -0.5211334228515625,
          -0.6045379638671875,
          -0.603973388671875,
          -0.6108169555664062,
          -0.638458251953125,
          -0.6326675415039062,
          -0.6338577270507812,
          -0.7259979248046875,
          -0.7258224487304688,
          -0.7210159301757812,
          -0.75701904296875,
          -0.761932373046875,
          -0.7775039672851562,
          -0.84710693359375,
          -0.84393310546875,
          -0.8652572631835938,
          -0.834869384765625
         ]
        },
        {
         "marker": {
          "color": "red",
          "opacity": 0.8,
          "size": 4
         },
         "mode": "markers",
         "type": "scatter3d",
         "x": [
          -0.09552153199911118,
          0.14120011031627655,
          0.23508220911026,
          0.15063002705574036,
          0.07995297759771347,
          0.11904361844062805,
          0.21612876653671265,
          -0.1319216787815094,
          -0.1958390772342682,
          -0.2279668003320694,
          -0.09841734170913696,
          -0.170106902718544,
          -0.16554227471351624
         ],
         "y": [
          -0.13067440688610077,
          -0.09943787753582001,
          -0.18355444073677063,
          -0.2974229156970978,
          -0.064596027135849,
          0.025597909465432167,
          0.1984226405620575,
          0.1191505640745163,
          0.1937354952096939,
          0.1419992446899414,
          0.06093490123748779,
          -0.06964781135320663,
          -0.12275822460651398
         ],
         "z": [
          0.6519125699996948,
          0.4883112907409668,
          0.255561888217926,
          0.04672174155712128,
          0.00822887197136879,
          -0.35538250207901,
          -0.6723243594169617,
          0.49483293294906616,
          0.25059938430786133,
          0.032488252967596054,
          0.012053025886416435,
          -0.3436785042285919,
          -0.6805467009544373
         ]
        },
        {
         "line": {
          "color": "black",
          "width": 2
         },
         "mode": "lines",
         "type": "scatter3d",
         "x": [
          -0.09552153199911118,
          0.0046392157673835754
         ],
         "y": [
          -0.13067440688610077,
          0.009856343269348145
         ],
         "z": [
          0.6519125699996948,
          0.4915721118450165
         ]
        },
        {
         "line": {
          "color": "black",
          "width": 2
         },
         "mode": "lines",
         "type": "scatter3d",
         "x": [
          0.14120011031627655,
          0.23508220911026
         ],
         "y": [
          -0.09943787753582001,
          -0.18355444073677063
         ],
         "z": [
          0.4883112907409668,
          0.255561888217926
         ]
        },
        {
         "line": {
          "color": "black",
          "width": 2
         },
         "mode": "lines",
         "type": "scatter3d",
         "x": [
          0.14120011031627655,
          0.07995297759771347
         ],
         "y": [
          -0.09943787753582001,
          -0.064596027135849
         ],
         "z": [
          0.4883112907409668,
          0.00822887197136879
         ]
        },
        {
         "line": {
          "color": "black",
          "width": 2
         },
         "mode": "lines",
         "type": "scatter3d",
         "x": [
          0.14120011031627655,
          -0.1319216787815094
         ],
         "y": [
          -0.09943787753582001,
          0.1191505640745163
         ],
         "z": [
          0.4883112907409668,
          0.49483293294906616
         ]
        },
        {
         "line": {
          "color": "black",
          "width": 2
         },
         "mode": "lines",
         "type": "scatter3d",
         "x": [
          0.23508220911026,
          0.15063002705574036
         ],
         "y": [
          -0.18355444073677063,
          -0.2974229156970978
         ],
         "z": [
          0.255561888217926,
          0.04672174155712128
         ]
        },
        {
         "line": {
          "color": "black",
          "width": 2
         },
         "mode": "lines",
         "type": "scatter3d",
         "x": [
          0.07995297759771347,
          0.11904361844062805
         ],
         "y": [
          -0.064596027135849,
          0.025597909465432167
         ],
         "z": [
          0.00822887197136879,
          -0.35538250207901
         ]
        },
        {
         "line": {
          "color": "black",
          "width": 2
         },
         "mode": "lines",
         "type": "scatter3d",
         "x": [
          0.07995297759771347,
          -0.09841734170913696
         ],
         "y": [
          -0.064596027135849,
          0.06093490123748779
         ],
         "z": [
          0.00822887197136879,
          0.012053025886416435
         ]
        },
        {
         "line": {
          "color": "black",
          "width": 2
         },
         "mode": "lines",
         "type": "scatter3d",
         "x": [
          0.11904361844062805,
          0.21612876653671265
         ],
         "y": [
          0.025597909465432167,
          0.1984226405620575
         ],
         "z": [
          -0.35538250207901,
          -0.6723243594169617
         ]
        },
        {
         "line": {
          "color": "black",
          "width": 2
         },
         "mode": "lines",
         "type": "scatter3d",
         "x": [
          -0.1319216787815094,
          -0.1958390772342682
         ],
         "y": [
          0.1191505640745163,
          0.1937354952096939
         ],
         "z": [
          0.49483293294906616,
          0.25059938430786133
         ]
        },
        {
         "line": {
          "color": "black",
          "width": 2
         },
         "mode": "lines",
         "type": "scatter3d",
         "x": [
          -0.1319216787815094,
          -0.09841734170913696
         ],
         "y": [
          0.1191505640745163,
          0.06093490123748779
         ],
         "z": [
          0.49483293294906616,
          0.012053025886416435
         ]
        },
        {
         "line": {
          "color": "black",
          "width": 2
         },
         "mode": "lines",
         "type": "scatter3d",
         "x": [
          -0.1958390772342682,
          -0.2279668003320694
         ],
         "y": [
          0.1937354952096939,
          0.1419992446899414
         ],
         "z": [
          0.25059938430786133,
          0.032488252967596054
         ]
        },
        {
         "line": {
          "color": "black",
          "width": 2
         },
         "mode": "lines",
         "type": "scatter3d",
         "x": [
          -0.09841734170913696,
          -0.170106902718544
         ],
         "y": [
          0.06093490123748779,
          -0.06964781135320663
         ],
         "z": [
          0.012053025886416435,
          -0.3436785042285919
         ]
        },
        {
         "line": {
          "color": "black",
          "width": 2
         },
         "mode": "lines",
         "type": "scatter3d",
         "x": [
          -0.170106902718544,
          -0.16554227471351624
         ],
         "y": [
          -0.06964781135320663,
          -0.12275822460651398
         ],
         "z": [
          -0.3436785042285919,
          -0.6805467009544373
         ]
        },
        {
         "line": {
          "color": "blue",
          "width": 2
         },
         "mode": "lines",
         "type": "scatter3d",
         "x": [
          0,
          -0.6180836510409681
         ],
         "y": [
          0,
          -0.7861123331406694
         ],
         "z": [
          0,
          0
         ]
        }
       ],
       "layout": {
        "scene": {
         "aspectmode": "manual",
         "aspectratio": {
          "x": 3,
          "y": 3,
          "z": 3
         },
         "xaxis": {
          "range": [
           -1.5,
           1.5
          ]
         },
         "yaxis": {
          "range": [
           -1.5,
           1.5
          ]
         },
         "zaxis": {
          "range": [
           -1.5,
           1.5
          ]
         }
        },
        "template": {
         "data": {
          "bar": [
           {
            "error_x": {
             "color": "#2a3f5f"
            },
            "error_y": {
             "color": "#2a3f5f"
            },
            "marker": {
             "line": {
              "color": "#E5ECF6",
              "width": 0.5
             },
             "pattern": {
              "fillmode": "overlay",
              "size": 10,
              "solidity": 0.2
             }
            },
            "type": "bar"
           }
          ],
          "barpolar": [
           {
            "marker": {
             "line": {
              "color": "#E5ECF6",
              "width": 0.5
             },
             "pattern": {
              "fillmode": "overlay",
              "size": 10,
              "solidity": 0.2
             }
            },
            "type": "barpolar"
           }
          ],
          "carpet": [
           {
            "aaxis": {
             "endlinecolor": "#2a3f5f",
             "gridcolor": "white",
             "linecolor": "white",
             "minorgridcolor": "white",
             "startlinecolor": "#2a3f5f"
            },
            "baxis": {
             "endlinecolor": "#2a3f5f",
             "gridcolor": "white",
             "linecolor": "white",
             "minorgridcolor": "white",
             "startlinecolor": "#2a3f5f"
            },
            "type": "carpet"
           }
          ],
          "choropleth": [
           {
            "colorbar": {
             "outlinewidth": 0,
             "ticks": ""
            },
            "type": "choropleth"
           }
          ],
          "contour": [
           {
            "colorbar": {
             "outlinewidth": 0,
             "ticks": ""
            },
            "colorscale": [
             [
              0,
              "#0d0887"
             ],
             [
              0.1111111111111111,
              "#46039f"
             ],
             [
              0.2222222222222222,
              "#7201a8"
             ],
             [
              0.3333333333333333,
              "#9c179e"
             ],
             [
              0.4444444444444444,
              "#bd3786"
             ],
             [
              0.5555555555555556,
              "#d8576b"
             ],
             [
              0.6666666666666666,
              "#ed7953"
             ],
             [
              0.7777777777777778,
              "#fb9f3a"
             ],
             [
              0.8888888888888888,
              "#fdca26"
             ],
             [
              1,
              "#f0f921"
             ]
            ],
            "type": "contour"
           }
          ],
          "contourcarpet": [
           {
            "colorbar": {
             "outlinewidth": 0,
             "ticks": ""
            },
            "type": "contourcarpet"
           }
          ],
          "heatmap": [
           {
            "colorbar": {
             "outlinewidth": 0,
             "ticks": ""
            },
            "colorscale": [
             [
              0,
              "#0d0887"
             ],
             [
              0.1111111111111111,
              "#46039f"
             ],
             [
              0.2222222222222222,
              "#7201a8"
             ],
             [
              0.3333333333333333,
              "#9c179e"
             ],
             [
              0.4444444444444444,
              "#bd3786"
             ],
             [
              0.5555555555555556,
              "#d8576b"
             ],
             [
              0.6666666666666666,
              "#ed7953"
             ],
             [
              0.7777777777777778,
              "#fb9f3a"
             ],
             [
              0.8888888888888888,
              "#fdca26"
             ],
             [
              1,
              "#f0f921"
             ]
            ],
            "type": "heatmap"
           }
          ],
          "heatmapgl": [
           {
            "colorbar": {
             "outlinewidth": 0,
             "ticks": ""
            },
            "colorscale": [
             [
              0,
              "#0d0887"
             ],
             [
              0.1111111111111111,
              "#46039f"
             ],
             [
              0.2222222222222222,
              "#7201a8"
             ],
             [
              0.3333333333333333,
              "#9c179e"
             ],
             [
              0.4444444444444444,
              "#bd3786"
             ],
             [
              0.5555555555555556,
              "#d8576b"
             ],
             [
              0.6666666666666666,
              "#ed7953"
             ],
             [
              0.7777777777777778,
              "#fb9f3a"
             ],
             [
              0.8888888888888888,
              "#fdca26"
             ],
             [
              1,
              "#f0f921"
             ]
            ],
            "type": "heatmapgl"
           }
          ],
          "histogram": [
           {
            "marker": {
             "pattern": {
              "fillmode": "overlay",
              "size": 10,
              "solidity": 0.2
             }
            },
            "type": "histogram"
           }
          ],
          "histogram2d": [
           {
            "colorbar": {
             "outlinewidth": 0,
             "ticks": ""
            },
            "colorscale": [
             [
              0,
              "#0d0887"
             ],
             [
              0.1111111111111111,
              "#46039f"
             ],
             [
              0.2222222222222222,
              "#7201a8"
             ],
             [
              0.3333333333333333,
              "#9c179e"
             ],
             [
              0.4444444444444444,
              "#bd3786"
             ],
             [
              0.5555555555555556,
              "#d8576b"
             ],
             [
              0.6666666666666666,
              "#ed7953"
             ],
             [
              0.7777777777777778,
              "#fb9f3a"
             ],
             [
              0.8888888888888888,
              "#fdca26"
             ],
             [
              1,
              "#f0f921"
             ]
            ],
            "type": "histogram2d"
           }
          ],
          "histogram2dcontour": [
           {
            "colorbar": {
             "outlinewidth": 0,
             "ticks": ""
            },
            "colorscale": [
             [
              0,
              "#0d0887"
             ],
             [
              0.1111111111111111,
              "#46039f"
             ],
             [
              0.2222222222222222,
              "#7201a8"
             ],
             [
              0.3333333333333333,
              "#9c179e"
             ],
             [
              0.4444444444444444,
              "#bd3786"
             ],
             [
              0.5555555555555556,
              "#d8576b"
             ],
             [
              0.6666666666666666,
              "#ed7953"
             ],
             [
              0.7777777777777778,
              "#fb9f3a"
             ],
             [
              0.8888888888888888,
              "#fdca26"
             ],
             [
              1,
              "#f0f921"
             ]
            ],
            "type": "histogram2dcontour"
           }
          ],
          "mesh3d": [
           {
            "colorbar": {
             "outlinewidth": 0,
             "ticks": ""
            },
            "type": "mesh3d"
           }
          ],
          "parcoords": [
           {
            "line": {
             "colorbar": {
              "outlinewidth": 0,
              "ticks": ""
             }
            },
            "type": "parcoords"
           }
          ],
          "pie": [
           {
            "automargin": true,
            "type": "pie"
           }
          ],
          "scatter": [
           {
            "fillpattern": {
             "fillmode": "overlay",
             "size": 10,
             "solidity": 0.2
            },
            "type": "scatter"
           }
          ],
          "scatter3d": [
           {
            "line": {
             "colorbar": {
              "outlinewidth": 0,
              "ticks": ""
             }
            },
            "marker": {
             "colorbar": {
              "outlinewidth": 0,
              "ticks": ""
             }
            },
            "type": "scatter3d"
           }
          ],
          "scattercarpet": [
           {
            "marker": {
             "colorbar": {
              "outlinewidth": 0,
              "ticks": ""
             }
            },
            "type": "scattercarpet"
           }
          ],
          "scattergeo": [
           {
            "marker": {
             "colorbar": {
              "outlinewidth": 0,
              "ticks": ""
             }
            },
            "type": "scattergeo"
           }
          ],
          "scattergl": [
           {
            "marker": {
             "colorbar": {
              "outlinewidth": 0,
              "ticks": ""
             }
            },
            "type": "scattergl"
           }
          ],
          "scattermapbox": [
           {
            "marker": {
             "colorbar": {
              "outlinewidth": 0,
              "ticks": ""
             }
            },
            "type": "scattermapbox"
           }
          ],
          "scatterpolar": [
           {
            "marker": {
             "colorbar": {
              "outlinewidth": 0,
              "ticks": ""
             }
            },
            "type": "scatterpolar"
           }
          ],
          "scatterpolargl": [
           {
            "marker": {
             "colorbar": {
              "outlinewidth": 0,
              "ticks": ""
             }
            },
            "type": "scatterpolargl"
           }
          ],
          "scatterternary": [
           {
            "marker": {
             "colorbar": {
              "outlinewidth": 0,
              "ticks": ""
             }
            },
            "type": "scatterternary"
           }
          ],
          "surface": [
           {
            "colorbar": {
             "outlinewidth": 0,
             "ticks": ""
            },
            "colorscale": [
             [
              0,
              "#0d0887"
             ],
             [
              0.1111111111111111,
              "#46039f"
             ],
             [
              0.2222222222222222,
              "#7201a8"
             ],
             [
              0.3333333333333333,
              "#9c179e"
             ],
             [
              0.4444444444444444,
              "#bd3786"
             ],
             [
              0.5555555555555556,
              "#d8576b"
             ],
             [
              0.6666666666666666,
              "#ed7953"
             ],
             [
              0.7777777777777778,
              "#fb9f3a"
             ],
             [
              0.8888888888888888,
              "#fdca26"
             ],
             [
              1,
              "#f0f921"
             ]
            ],
            "type": "surface"
           }
          ],
          "table": [
           {
            "cells": {
             "fill": {
              "color": "#EBF0F8"
             },
             "line": {
              "color": "white"
             }
            },
            "header": {
             "fill": {
              "color": "#C8D4E3"
             },
             "line": {
              "color": "white"
             }
            },
            "type": "table"
           }
          ]
         },
         "layout": {
          "annotationdefaults": {
           "arrowcolor": "#2a3f5f",
           "arrowhead": 0,
           "arrowwidth": 1
          },
          "autotypenumbers": "strict",
          "coloraxis": {
           "colorbar": {
            "outlinewidth": 0,
            "ticks": ""
           }
          },
          "colorscale": {
           "diverging": [
            [
             0,
             "#8e0152"
            ],
            [
             0.1,
             "#c51b7d"
            ],
            [
             0.2,
             "#de77ae"
            ],
            [
             0.3,
             "#f1b6da"
            ],
            [
             0.4,
             "#fde0ef"
            ],
            [
             0.5,
             "#f7f7f7"
            ],
            [
             0.6,
             "#e6f5d0"
            ],
            [
             0.7,
             "#b8e186"
            ],
            [
             0.8,
             "#7fbc41"
            ],
            [
             0.9,
             "#4d9221"
            ],
            [
             1,
             "#276419"
            ]
           ],
           "sequential": [
            [
             0,
             "#0d0887"
            ],
            [
             0.1111111111111111,
             "#46039f"
            ],
            [
             0.2222222222222222,
             "#7201a8"
            ],
            [
             0.3333333333333333,
             "#9c179e"
            ],
            [
             0.4444444444444444,
             "#bd3786"
            ],
            [
             0.5555555555555556,
             "#d8576b"
            ],
            [
             0.6666666666666666,
             "#ed7953"
            ],
            [
             0.7777777777777778,
             "#fb9f3a"
            ],
            [
             0.8888888888888888,
             "#fdca26"
            ],
            [
             1,
             "#f0f921"
            ]
           ],
           "sequentialminus": [
            [
             0,
             "#0d0887"
            ],
            [
             0.1111111111111111,
             "#46039f"
            ],
            [
             0.2222222222222222,
             "#7201a8"
            ],
            [
             0.3333333333333333,
             "#9c179e"
            ],
            [
             0.4444444444444444,
             "#bd3786"
            ],
            [
             0.5555555555555556,
             "#d8576b"
            ],
            [
             0.6666666666666666,
             "#ed7953"
            ],
            [
             0.7777777777777778,
             "#fb9f3a"
            ],
            [
             0.8888888888888888,
             "#fdca26"
            ],
            [
             1,
             "#f0f921"
            ]
           ]
          },
          "colorway": [
           "#636efa",
           "#EF553B",
           "#00cc96",
           "#ab63fa",
           "#FFA15A",
           "#19d3f3",
           "#FF6692",
           "#B6E880",
           "#FF97FF",
           "#FECB52"
          ],
          "font": {
           "color": "#2a3f5f"
          },
          "geo": {
           "bgcolor": "white",
           "lakecolor": "white",
           "landcolor": "#E5ECF6",
           "showlakes": true,
           "showland": true,
           "subunitcolor": "white"
          },
          "hoverlabel": {
           "align": "left"
          },
          "hovermode": "closest",
          "mapbox": {
           "style": "light"
          },
          "paper_bgcolor": "white",
          "plot_bgcolor": "#E5ECF6",
          "polar": {
           "angularaxis": {
            "gridcolor": "white",
            "linecolor": "white",
            "ticks": ""
           },
           "bgcolor": "#E5ECF6",
           "radialaxis": {
            "gridcolor": "white",
            "linecolor": "white",
            "ticks": ""
           }
          },
          "scene": {
           "xaxis": {
            "backgroundcolor": "#E5ECF6",
            "gridcolor": "white",
            "gridwidth": 2,
            "linecolor": "white",
            "showbackground": true,
            "ticks": "",
            "zerolinecolor": "white"
           },
           "yaxis": {
            "backgroundcolor": "#E5ECF6",
            "gridcolor": "white",
            "gridwidth": 2,
            "linecolor": "white",
            "showbackground": true,
            "ticks": "",
            "zerolinecolor": "white"
           },
           "zaxis": {
            "backgroundcolor": "#E5ECF6",
            "gridcolor": "white",
            "gridwidth": 2,
            "linecolor": "white",
            "showbackground": true,
            "ticks": "",
            "zerolinecolor": "white"
           }
          },
          "shapedefaults": {
           "line": {
            "color": "#2a3f5f"
           }
          },
          "ternary": {
           "aaxis": {
            "gridcolor": "white",
            "linecolor": "white",
            "ticks": ""
           },
           "baxis": {
            "gridcolor": "white",
            "linecolor": "white",
            "ticks": ""
           },
           "bgcolor": "#E5ECF6",
           "caxis": {
            "gridcolor": "white",
            "linecolor": "white",
            "ticks": ""
           }
          },
          "title": {
           "x": 0.05
          },
          "xaxis": {
           "automargin": true,
           "gridcolor": "white",
           "linecolor": "white",
           "ticks": "",
           "title": {
            "standoff": 15
           },
           "zerolinecolor": "white",
           "zerolinewidth": 2
          },
          "yaxis": {
           "automargin": true,
           "gridcolor": "white",
           "linecolor": "white",
           "ticks": "",
           "title": {
            "standoff": 15
           },
           "zerolinecolor": "white",
           "zerolinewidth": 2
          }
         }
        }
       }
      },
      "text/html": [
       "<div>                            <div id=\"82cb8420-370f-4471-a8ec-eb12d468d744\" class=\"plotly-graph-div\" style=\"height:525px; width:100%;\"></div>            <script type=\"text/javascript\">                require([\"plotly\"], function(Plotly) {                    window.PLOTLYENV=window.PLOTLYENV || {};                                    if (document.getElementById(\"82cb8420-370f-4471-a8ec-eb12d468d744\")) {                    Plotly.newPlot(                        \"82cb8420-370f-4471-a8ec-eb12d468d744\",                        [{\"marker\":{\"opacity\":0.8,\"size\":2},\"mode\":\"markers\",\"x\":[0.043701171875,-0.0059814453125,0.0870361328125,0.0489501953125,-0.0125732421875,-0.058349609375,-0.1201171875,0.101318359375,0.0406494140625,-0.0528564453125,-0.1265869140625,0.1337890625,0.078125,0.0419921875,0.004150390625,-0.03564453125,-0.09716796875,-0.15283203125,0.2509765625,0.227783203125,0.206787109375,0.1229248046875,0.089111328125,0.0435791015625,-0.0059814453125,-0.0853271484375,-0.156982421875,0.290771484375,0.24853515625,0.225830078125,0.1859130859375,0.14794921875,0.1043701171875,0.0648193359375,0.0115966796875,-0.039794921875,-0.09912109375,-0.1646728515625,0.267578125,0.2520751953125,0.2274169921875,0.193359375,0.149658203125,0.1119384765625,0.0704345703125,0.0330810546875,-0.024169921875,-0.077392578125,-0.134765625,-0.1982421875,0.2791748046875,0.2255859375,0.205078125,0.1673583984375,0.119873046875,0.0823974609375,0.0350341796875,-0.0101318359375,-0.1165771484375,-0.173828125,-0.2576904296875,0.2755126953125,0.2388916015625,0.2083740234375,0.2032470703125,0.16357421875,0.0745849609375,0.03515625,-0.02001953125,-0.09130859375,-0.116455078125,-0.181884765625,0.243408203125,0.2027587890625,0.1873779296875,0.19580078125,0.159912109375,0.1143798828125,0.0670166015625,0.029541015625,-0.0357666015625,-0.107177734375,-0.1444091796875,-0.1998291015625,-0.2900390625,0.2286376953125,0.2230224609375,0.1986083984375,0.1627197265625,0.123046875,0.07568359375,0.0164794921875,-0.0289306640625,-0.1142578125,-0.18603515625,-0.211181640625,0.2181396484375,0.197509765625,0.16748046875,0.1376953125,0.08447265625,0.0352783203125,-0.02197265625,-0.0772705078125,-0.1810302734375,0.244140625,0.244384765625,0.221923828125,0.1822509765625,0.1348876953125,0.0875244140625,0.0343017578125,-0.0208740234375,-0.0982666015625,-0.2203369140625,0.2071533203125,0.21484375,0.1864013671875,0.093017578125,-0.0020751953125,-0.0594482421875,-0.123046875,-0.2249755859375,0.158935546875,0.1746826171875,0.119140625,0.0733642578125,0.025634765625,-0.035888671875,-0.0894775390625,-0.1451416015625,-0.2310791015625,0.135986328125,0.1192626953125,0.071533203125,0.0257568359375,-0.0615234375,-0.11328125,-0.1851806640625,-0.2652587890625,0.2353515625,0.1856689453125,0.137939453125,0.0980224609375,-0.0518798828125,-0.0782470703125,-0.1341552734375,-0.18408203125,0.1827392578125,0.1622314453125,0.11083984375,0.0474853515625,-0.0970458984375,-0.1409912109375,-0.1689453125,-0.240966796875,0.217041015625,0.17529296875,0.1004638671875,-0.1134033203125,-0.1317138671875,-0.1815185546875,0.201416015625,0.1575927734375,0.133544921875,-0.1536865234375,-0.2197265625,-0.3321533203125,0.161865234375,0.1298828125,-0.0001220703125,-0.229736328125],\"y\":[-0.0001220703125,0.015869140625,-0.04052734375,0.0029296875,-0.009765625,0.0155029296875,0.0042724609375,-0.138671875,-0.0150146484375,0.03076171875,-0.008056640625,-0.0648193359375,-0.06298828125,-0.014892578125,0.027587890625,0.066650390625,0.0552978515625,0.057861328125,-0.18994140625,-0.10986328125,-0.0252685546875,0.042724609375,0.0953369140625,0.119384765625,0.13525390625,0.0826416015625,0.048583984375,-0.0999755859375,-0.066162109375,0.0137939453125,0.0511474609375,0.0943603515625,0.1239013671875,0.1627197265625,0.16943359375,0.179931640625,0.1732177734375,0.1529541015625,-0.1524658203125,-0.053955078125,0.0213623046875,0.07373046875,0.1021728515625,0.1453857421875,0.1795654296875,0.222900390625,0.2205810546875,0.2276611328125,0.2244873046875,0.208984375,-0.13525390625,0.0062255859375,0.0908203125,0.1339111328125,0.1541748046875,0.197509765625,0.217041015625,0.2421875,0.2562255859375,0.25439453125,0.1923828125,-0.1417236328125,-0.0941162109375,-0.032470703125,0.0888671875,0.12646484375,0.180908203125,0.2197265625,0.2220458984375,0.1878662109375,0.2579345703125,0.23779296875,-0.22412109375,-0.185546875,-0.087158203125,0.0665283203125,0.1143798828125,0.13818359375,0.1585693359375,0.2020263671875,0.181396484375,0.1473388671875,0.1910400390625,0.19384765625,0.1181640625,-0.1239013671875,-0.00244140625,0.0728759765625,0.12060546875,0.1593017578125,0.1796875,0.1717529296875,0.1968994140625,0.1307373046875,0.096923828125,0.168212890625,-0.0211181640625,0.0633544921875,0.1239013671875,0.1854248046875,0.1920166015625,0.2078857421875,0.2056884765625,0.20703125,0.10009765625,-0.091064453125,0.0440673828125,0.1229248046875,0.1614990234375,0.1817626953125,0.2020263671875,0.2088623046875,0.2110595703125,0.162109375,0.01416015625,-0.19140625,-0.0377197265625,0.0284423828125,0.0736083984375,0.1136474609375,0.1114501953125,0.095703125,-0.006591796875,-0.1700439453125,0.0009765625,0.0029296875,0.02783203125,0.04833984375,0.0369873046875,0.0440673828125,0.045654296875,-0.02001953125,-0.0953369140625,-0.0015869140625,0.0189208984375,0.04296875,-0.0279541015625,-0.0162353515625,-0.050048828125,-0.1019287109375,0.005126953125,0.020751953125,0.0408935546875,0.0797119140625,-0.1390380859375,-0.06787109375,-0.0653076171875,-0.048828125,0.005859375,0.0892333984375,0.1004638671875,0.084228515625,-0.1192626953125,-0.0892333984375,-0.0235595703125,-0.05712890625,0.0880126953125,0.1219482421875,0.0780029296875,-0.1551513671875,-0.065673828125,-0.0504150390625,0.0394287109375,0.06884765625,0.14404296875,-0.128662109375,-0.1485595703125,-0.2730712890625,0.0782470703125,0.1351318359375,-0.0364990234375,0.4659423828125],\"z\":[0.87158203125,0.8707351684570312,0.8094100952148438,0.8092193603515625,0.8076858520507812,0.8070526123046875,0.8055191040039062,0.7433395385742188,0.7441024780273438,0.7427291870117188,0.7403411865234375,0.686920166015625,0.6856155395507812,0.685699462890625,0.6856460571289062,0.6854629516601562,0.6837387084960938,0.6824264526367188,0.6129379272460938,0.6142044067382812,0.615631103515625,0.6150741577148438,0.61541748046875,0.6148300170898438,0.6139297485351562,0.6106796264648438,0.6080474853515625,0.5556793212890625,0.5554351806640625,0.5568923950195312,0.5568161010742188,0.5569229125976562,0.5565185546875,0.55645751953125,0.5551986694335938,0.5541229248046875,0.5523529052734375,0.5500717163085938,0.4933319091796875,0.49568939208984375,0.49713897705078125,0.49767303466796875,0.49729156494140625,0.497467041015625,0.49727630615234375,0.4974517822265625,0.49579620361328125,0.49449920654296875,0.49283599853515625,0.49062347412109375,0.42163848876953125,0.424530029296875,0.42658233642578125,0.4268341064453125,0.42609405517578125,0.42635345458984375,0.4256134033203125,0.42507171630859375,0.422393798828125,0.42064666748046875,0.41628265380859375,0.3501739501953125,0.35071563720703125,0.35190582275390625,0.3559112548828125,0.3560333251953125,0.355194091796875,0.355316162109375,0.3537139892578125,0.35036468505859375,0.352020263671875,0.3493194580078125,0.27257537841796875,0.2727508544921875,0.27594757080078125,0.28194427490234375,0.28260040283203125,0.2820892333984375,0.281341552734375,0.281768798828125,0.27892303466796875,0.27538299560546875,0.27581024169921875,0.27413177490234375,0.26847076416015625,0.187652587890625,0.19245147705078125,0.194732666015625,0.1955108642578125,0.19577789306640625,0.19503021240234375,0.19277191162109375,0.19228363037109375,0.1867218017578125,0.18292999267578125,0.1849822998046875,0.10642242431640625,0.1094818115234375,0.11118316650390625,0.11289215087890625,0.11133575439453125,0.110321044921875,0.10821533203125,0.10638427734375,0.097991943359375,0.01758575439453125,0.0241241455078125,0.02716827392578125,0.027587890625,0.02684783935546875,0.0261077880859375,0.0244903564453125,0.02257537841796875,0.01744842529296875,0.00586700439453125,-0.0789031982421875,-0.07061004638671875,-0.0682373046875,-0.06941986083984375,-0.0709075927734375,-0.07321929931640625,-0.07646942138671875,-0.08567047119140625,-0.1799163818359375,-0.16962432861328125,-0.17171478271484375,-0.17212677001953125,-0.17287445068359375,-0.17597198486328125,-0.17772674560546875,-0.1798095703125,-0.18694305419921875,-0.27576446533203125,-0.2707977294921875,-0.27154541015625,-0.27193450927734375,-0.27983856201171875,-0.28130340576171875,-0.28635406494140625,-0.29283905029296875,-0.38458251953125,-0.38571929931640625,-0.38646697998046875,-0.38567352294921875,-0.40642547607421875,-0.40294647216796875,-0.40523529052734375,-0.4063720703125,-0.49744415283203125,-0.492462158203125,-0.49402618408203125,-0.498046875,-0.5188827514648438,-0.5188140869140625,-0.5154647827148438,-0.5211334228515625,-0.6045379638671875,-0.603973388671875,-0.6108169555664062,-0.638458251953125,-0.6326675415039062,-0.6338577270507812,-0.7259979248046875,-0.7258224487304688,-0.7210159301757812,-0.75701904296875,-0.761932373046875,-0.7775039672851562,-0.84710693359375,-0.84393310546875,-0.8652572631835938,-0.834869384765625],\"type\":\"scatter3d\"},{\"marker\":{\"color\":\"red\",\"opacity\":0.8,\"size\":4},\"mode\":\"markers\",\"x\":[-0.09552153199911118,0.14120011031627655,0.23508220911026,0.15063002705574036,0.07995297759771347,0.11904361844062805,0.21612876653671265,-0.1319216787815094,-0.1958390772342682,-0.2279668003320694,-0.09841734170913696,-0.170106902718544,-0.16554227471351624],\"y\":[-0.13067440688610077,-0.09943787753582001,-0.18355444073677063,-0.2974229156970978,-0.064596027135849,0.025597909465432167,0.1984226405620575,0.1191505640745163,0.1937354952096939,0.1419992446899414,0.06093490123748779,-0.06964781135320663,-0.12275822460651398],\"z\":[0.6519125699996948,0.4883112907409668,0.255561888217926,0.04672174155712128,0.00822887197136879,-0.35538250207901,-0.6723243594169617,0.49483293294906616,0.25059938430786133,0.032488252967596054,0.012053025886416435,-0.3436785042285919,-0.6805467009544373],\"type\":\"scatter3d\"},{\"line\":{\"color\":\"black\",\"width\":2},\"mode\":\"lines\",\"x\":[-0.09552153199911118,0.0046392157673835754],\"y\":[-0.13067440688610077,0.009856343269348145],\"z\":[0.6519125699996948,0.4915721118450165],\"type\":\"scatter3d\"},{\"line\":{\"color\":\"black\",\"width\":2},\"mode\":\"lines\",\"x\":[0.14120011031627655,0.23508220911026],\"y\":[-0.09943787753582001,-0.18355444073677063],\"z\":[0.4883112907409668,0.255561888217926],\"type\":\"scatter3d\"},{\"line\":{\"color\":\"black\",\"width\":2},\"mode\":\"lines\",\"x\":[0.14120011031627655,0.07995297759771347],\"y\":[-0.09943787753582001,-0.064596027135849],\"z\":[0.4883112907409668,0.00822887197136879],\"type\":\"scatter3d\"},{\"line\":{\"color\":\"black\",\"width\":2},\"mode\":\"lines\",\"x\":[0.14120011031627655,-0.1319216787815094],\"y\":[-0.09943787753582001,0.1191505640745163],\"z\":[0.4883112907409668,0.49483293294906616],\"type\":\"scatter3d\"},{\"line\":{\"color\":\"black\",\"width\":2},\"mode\":\"lines\",\"x\":[0.23508220911026,0.15063002705574036],\"y\":[-0.18355444073677063,-0.2974229156970978],\"z\":[0.255561888217926,0.04672174155712128],\"type\":\"scatter3d\"},{\"line\":{\"color\":\"black\",\"width\":2},\"mode\":\"lines\",\"x\":[0.07995297759771347,0.11904361844062805],\"y\":[-0.064596027135849,0.025597909465432167],\"z\":[0.00822887197136879,-0.35538250207901],\"type\":\"scatter3d\"},{\"line\":{\"color\":\"black\",\"width\":2},\"mode\":\"lines\",\"x\":[0.07995297759771347,-0.09841734170913696],\"y\":[-0.064596027135849,0.06093490123748779],\"z\":[0.00822887197136879,0.012053025886416435],\"type\":\"scatter3d\"},{\"line\":{\"color\":\"black\",\"width\":2},\"mode\":\"lines\",\"x\":[0.11904361844062805,0.21612876653671265],\"y\":[0.025597909465432167,0.1984226405620575],\"z\":[-0.35538250207901,-0.6723243594169617],\"type\":\"scatter3d\"},{\"line\":{\"color\":\"black\",\"width\":2},\"mode\":\"lines\",\"x\":[-0.1319216787815094,-0.1958390772342682],\"y\":[0.1191505640745163,0.1937354952096939],\"z\":[0.49483293294906616,0.25059938430786133],\"type\":\"scatter3d\"},{\"line\":{\"color\":\"black\",\"width\":2},\"mode\":\"lines\",\"x\":[-0.1319216787815094,-0.09841734170913696],\"y\":[0.1191505640745163,0.06093490123748779],\"z\":[0.49483293294906616,0.012053025886416435],\"type\":\"scatter3d\"},{\"line\":{\"color\":\"black\",\"width\":2},\"mode\":\"lines\",\"x\":[-0.1958390772342682,-0.2279668003320694],\"y\":[0.1937354952096939,0.1419992446899414],\"z\":[0.25059938430786133,0.032488252967596054],\"type\":\"scatter3d\"},{\"line\":{\"color\":\"black\",\"width\":2},\"mode\":\"lines\",\"x\":[-0.09841734170913696,-0.170106902718544],\"y\":[0.06093490123748779,-0.06964781135320663],\"z\":[0.012053025886416435,-0.3436785042285919],\"type\":\"scatter3d\"},{\"line\":{\"color\":\"black\",\"width\":2},\"mode\":\"lines\",\"x\":[-0.170106902718544,-0.16554227471351624],\"y\":[-0.06964781135320663,-0.12275822460651398],\"z\":[-0.3436785042285919,-0.6805467009544373],\"type\":\"scatter3d\"},{\"line\":{\"color\":\"blue\",\"width\":2},\"mode\":\"lines\",\"x\":[0,-0.6180836510409681],\"y\":[0,-0.7861123331406694],\"z\":[0,0],\"type\":\"scatter3d\"}],                        {\"template\":{\"data\":{\"histogram2dcontour\":[{\"type\":\"histogram2dcontour\",\"colorbar\":{\"outlinewidth\":0,\"ticks\":\"\"},\"colorscale\":[[0.0,\"#0d0887\"],[0.1111111111111111,\"#46039f\"],[0.2222222222222222,\"#7201a8\"],[0.3333333333333333,\"#9c179e\"],[0.4444444444444444,\"#bd3786\"],[0.5555555555555556,\"#d8576b\"],[0.6666666666666666,\"#ed7953\"],[0.7777777777777778,\"#fb9f3a\"],[0.8888888888888888,\"#fdca26\"],[1.0,\"#f0f921\"]]}],\"choropleth\":[{\"type\":\"choropleth\",\"colorbar\":{\"outlinewidth\":0,\"ticks\":\"\"}}],\"histogram2d\":[{\"type\":\"histogram2d\",\"colorbar\":{\"outlinewidth\":0,\"ticks\":\"\"},\"colorscale\":[[0.0,\"#0d0887\"],[0.1111111111111111,\"#46039f\"],[0.2222222222222222,\"#7201a8\"],[0.3333333333333333,\"#9c179e\"],[0.4444444444444444,\"#bd3786\"],[0.5555555555555556,\"#d8576b\"],[0.6666666666666666,\"#ed7953\"],[0.7777777777777778,\"#fb9f3a\"],[0.8888888888888888,\"#fdca26\"],[1.0,\"#f0f921\"]]}],\"heatmap\":[{\"type\":\"heatmap\",\"colorbar\":{\"outlinewidth\":0,\"ticks\":\"\"},\"colorscale\":[[0.0,\"#0d0887\"],[0.1111111111111111,\"#46039f\"],[0.2222222222222222,\"#7201a8\"],[0.3333333333333333,\"#9c179e\"],[0.4444444444444444,\"#bd3786\"],[0.5555555555555556,\"#d8576b\"],[0.6666666666666666,\"#ed7953\"],[0.7777777777777778,\"#fb9f3a\"],[0.8888888888888888,\"#fdca26\"],[1.0,\"#f0f921\"]]}],\"heatmapgl\":[{\"type\":\"heatmapgl\",\"colorbar\":{\"outlinewidth\":0,\"ticks\":\"\"},\"colorscale\":[[0.0,\"#0d0887\"],[0.1111111111111111,\"#46039f\"],[0.2222222222222222,\"#7201a8\"],[0.3333333333333333,\"#9c179e\"],[0.4444444444444444,\"#bd3786\"],[0.5555555555555556,\"#d8576b\"],[0.6666666666666666,\"#ed7953\"],[0.7777777777777778,\"#fb9f3a\"],[0.8888888888888888,\"#fdca26\"],[1.0,\"#f0f921\"]]}],\"contourcarpet\":[{\"type\":\"contourcarpet\",\"colorbar\":{\"outlinewidth\":0,\"ticks\":\"\"}}],\"contour\":[{\"type\":\"contour\",\"colorbar\":{\"outlinewidth\":0,\"ticks\":\"\"},\"colorscale\":[[0.0,\"#0d0887\"],[0.1111111111111111,\"#46039f\"],[0.2222222222222222,\"#7201a8\"],[0.3333333333333333,\"#9c179e\"],[0.4444444444444444,\"#bd3786\"],[0.5555555555555556,\"#d8576b\"],[0.6666666666666666,\"#ed7953\"],[0.7777777777777778,\"#fb9f3a\"],[0.8888888888888888,\"#fdca26\"],[1.0,\"#f0f921\"]]}],\"surface\":[{\"type\":\"surface\",\"colorbar\":{\"outlinewidth\":0,\"ticks\":\"\"},\"colorscale\":[[0.0,\"#0d0887\"],[0.1111111111111111,\"#46039f\"],[0.2222222222222222,\"#7201a8\"],[0.3333333333333333,\"#9c179e\"],[0.4444444444444444,\"#bd3786\"],[0.5555555555555556,\"#d8576b\"],[0.6666666666666666,\"#ed7953\"],[0.7777777777777778,\"#fb9f3a\"],[0.8888888888888888,\"#fdca26\"],[1.0,\"#f0f921\"]]}],\"mesh3d\":[{\"type\":\"mesh3d\",\"colorbar\":{\"outlinewidth\":0,\"ticks\":\"\"}}],\"scatter\":[{\"fillpattern\":{\"fillmode\":\"overlay\",\"size\":10,\"solidity\":0.2},\"type\":\"scatter\"}],\"parcoords\":[{\"type\":\"parcoords\",\"line\":{\"colorbar\":{\"outlinewidth\":0,\"ticks\":\"\"}}}],\"scatterpolargl\":[{\"type\":\"scatterpolargl\",\"marker\":{\"colorbar\":{\"outlinewidth\":0,\"ticks\":\"\"}}}],\"bar\":[{\"error_x\":{\"color\":\"#2a3f5f\"},\"error_y\":{\"color\":\"#2a3f5f\"},\"marker\":{\"line\":{\"color\":\"#E5ECF6\",\"width\":0.5},\"pattern\":{\"fillmode\":\"overlay\",\"size\":10,\"solidity\":0.2}},\"type\":\"bar\"}],\"scattergeo\":[{\"type\":\"scattergeo\",\"marker\":{\"colorbar\":{\"outlinewidth\":0,\"ticks\":\"\"}}}],\"scatterpolar\":[{\"type\":\"scatterpolar\",\"marker\":{\"colorbar\":{\"outlinewidth\":0,\"ticks\":\"\"}}}],\"histogram\":[{\"marker\":{\"pattern\":{\"fillmode\":\"overlay\",\"size\":10,\"solidity\":0.2}},\"type\":\"histogram\"}],\"scattergl\":[{\"type\":\"scattergl\",\"marker\":{\"colorbar\":{\"outlinewidth\":0,\"ticks\":\"\"}}}],\"scatter3d\":[{\"type\":\"scatter3d\",\"line\":{\"colorbar\":{\"outlinewidth\":0,\"ticks\":\"\"}},\"marker\":{\"colorbar\":{\"outlinewidth\":0,\"ticks\":\"\"}}}],\"scattermapbox\":[{\"type\":\"scattermapbox\",\"marker\":{\"colorbar\":{\"outlinewidth\":0,\"ticks\":\"\"}}}],\"scatterternary\":[{\"type\":\"scatterternary\",\"marker\":{\"colorbar\":{\"outlinewidth\":0,\"ticks\":\"\"}}}],\"scattercarpet\":[{\"type\":\"scattercarpet\",\"marker\":{\"colorbar\":{\"outlinewidth\":0,\"ticks\":\"\"}}}],\"carpet\":[{\"aaxis\":{\"endlinecolor\":\"#2a3f5f\",\"gridcolor\":\"white\",\"linecolor\":\"white\",\"minorgridcolor\":\"white\",\"startlinecolor\":\"#2a3f5f\"},\"baxis\":{\"endlinecolor\":\"#2a3f5f\",\"gridcolor\":\"white\",\"linecolor\":\"white\",\"minorgridcolor\":\"white\",\"startlinecolor\":\"#2a3f5f\"},\"type\":\"carpet\"}],\"table\":[{\"cells\":{\"fill\":{\"color\":\"#EBF0F8\"},\"line\":{\"color\":\"white\"}},\"header\":{\"fill\":{\"color\":\"#C8D4E3\"},\"line\":{\"color\":\"white\"}},\"type\":\"table\"}],\"barpolar\":[{\"marker\":{\"line\":{\"color\":\"#E5ECF6\",\"width\":0.5},\"pattern\":{\"fillmode\":\"overlay\",\"size\":10,\"solidity\":0.2}},\"type\":\"barpolar\"}],\"pie\":[{\"automargin\":true,\"type\":\"pie\"}]},\"layout\":{\"autotypenumbers\":\"strict\",\"colorway\":[\"#636efa\",\"#EF553B\",\"#00cc96\",\"#ab63fa\",\"#FFA15A\",\"#19d3f3\",\"#FF6692\",\"#B6E880\",\"#FF97FF\",\"#FECB52\"],\"font\":{\"color\":\"#2a3f5f\"},\"hovermode\":\"closest\",\"hoverlabel\":{\"align\":\"left\"},\"paper_bgcolor\":\"white\",\"plot_bgcolor\":\"#E5ECF6\",\"polar\":{\"bgcolor\":\"#E5ECF6\",\"angularaxis\":{\"gridcolor\":\"white\",\"linecolor\":\"white\",\"ticks\":\"\"},\"radialaxis\":{\"gridcolor\":\"white\",\"linecolor\":\"white\",\"ticks\":\"\"}},\"ternary\":{\"bgcolor\":\"#E5ECF6\",\"aaxis\":{\"gridcolor\":\"white\",\"linecolor\":\"white\",\"ticks\":\"\"},\"baxis\":{\"gridcolor\":\"white\",\"linecolor\":\"white\",\"ticks\":\"\"},\"caxis\":{\"gridcolor\":\"white\",\"linecolor\":\"white\",\"ticks\":\"\"}},\"coloraxis\":{\"colorbar\":{\"outlinewidth\":0,\"ticks\":\"\"}},\"colorscale\":{\"sequential\":[[0.0,\"#0d0887\"],[0.1111111111111111,\"#46039f\"],[0.2222222222222222,\"#7201a8\"],[0.3333333333333333,\"#9c179e\"],[0.4444444444444444,\"#bd3786\"],[0.5555555555555556,\"#d8576b\"],[0.6666666666666666,\"#ed7953\"],[0.7777777777777778,\"#fb9f3a\"],[0.8888888888888888,\"#fdca26\"],[1.0,\"#f0f921\"]],\"sequentialminus\":[[0.0,\"#0d0887\"],[0.1111111111111111,\"#46039f\"],[0.2222222222222222,\"#7201a8\"],[0.3333333333333333,\"#9c179e\"],[0.4444444444444444,\"#bd3786\"],[0.5555555555555556,\"#d8576b\"],[0.6666666666666666,\"#ed7953\"],[0.7777777777777778,\"#fb9f3a\"],[0.8888888888888888,\"#fdca26\"],[1.0,\"#f0f921\"]],\"diverging\":[[0,\"#8e0152\"],[0.1,\"#c51b7d\"],[0.2,\"#de77ae\"],[0.3,\"#f1b6da\"],[0.4,\"#fde0ef\"],[0.5,\"#f7f7f7\"],[0.6,\"#e6f5d0\"],[0.7,\"#b8e186\"],[0.8,\"#7fbc41\"],[0.9,\"#4d9221\"],[1,\"#276419\"]]},\"xaxis\":{\"gridcolor\":\"white\",\"linecolor\":\"white\",\"ticks\":\"\",\"title\":{\"standoff\":15},\"zerolinecolor\":\"white\",\"automargin\":true,\"zerolinewidth\":2},\"yaxis\":{\"gridcolor\":\"white\",\"linecolor\":\"white\",\"ticks\":\"\",\"title\":{\"standoff\":15},\"zerolinecolor\":\"white\",\"automargin\":true,\"zerolinewidth\":2},\"scene\":{\"xaxis\":{\"backgroundcolor\":\"#E5ECF6\",\"gridcolor\":\"white\",\"linecolor\":\"white\",\"showbackground\":true,\"ticks\":\"\",\"zerolinecolor\":\"white\",\"gridwidth\":2},\"yaxis\":{\"backgroundcolor\":\"#E5ECF6\",\"gridcolor\":\"white\",\"linecolor\":\"white\",\"showbackground\":true,\"ticks\":\"\",\"zerolinecolor\":\"white\",\"gridwidth\":2},\"zaxis\":{\"backgroundcolor\":\"#E5ECF6\",\"gridcolor\":\"white\",\"linecolor\":\"white\",\"showbackground\":true,\"ticks\":\"\",\"zerolinecolor\":\"white\",\"gridwidth\":2}},\"shapedefaults\":{\"line\":{\"color\":\"#2a3f5f\"}},\"annotationdefaults\":{\"arrowcolor\":\"#2a3f5f\",\"arrowhead\":0,\"arrowwidth\":1},\"geo\":{\"bgcolor\":\"white\",\"landcolor\":\"#E5ECF6\",\"subunitcolor\":\"white\",\"showland\":true,\"showlakes\":true,\"lakecolor\":\"white\"},\"title\":{\"x\":0.05},\"mapbox\":{\"style\":\"light\"}}},\"scene\":{\"aspectratio\":{\"x\":3,\"y\":3,\"z\":3},\"xaxis\":{\"range\":[-1.5,1.5]},\"yaxis\":{\"range\":[-1.5,1.5]},\"zaxis\":{\"range\":[-1.5,1.5]},\"aspectmode\":\"manual\"}},                        {\"responsive\": true}                    ).then(function(){\n",
       "                            \n",
       "var gd = document.getElementById('82cb8420-370f-4471-a8ec-eb12d468d744');\n",
       "var x = new MutationObserver(function (mutations, observer) {{\n",
       "        var display = window.getComputedStyle(gd).display;\n",
       "        if (!display || display === 'none') {{\n",
       "            console.log([gd, 'removed!']);\n",
       "            Plotly.purge(gd);\n",
       "            observer.disconnect();\n",
       "        }}\n",
       "}});\n",
       "\n",
       "// Listen for the removal of the full notebook cells\n",
       "var notebookContainer = gd.closest('#notebook-container');\n",
       "if (notebookContainer) {{\n",
       "    x.observe(notebookContainer, {childList: true});\n",
       "}}\n",
       "\n",
       "// Listen for the clearing of the current output cell\n",
       "var outputEl = gd.closest('.output');\n",
       "if (outputEl) {{\n",
       "    x.observe(outputEl, {childList: true});\n",
       "}}\n",
       "\n",
       "                        })                };                });            </script>        </div>"
      ]
     },
     "metadata": {},
     "output_type": "display_data"
    },
    {
     "data": {
      "application/vnd.plotly.v1+json": {
       "config": {
        "plotlyServerURL": "https://plot.ly"
       },
       "data": [
        {
         "marker": {
          "opacity": 0.8,
          "size": 2
         },
         "mode": "markers",
         "type": "scatter3d",
         "x": [
          -0.0150146484375,
          -0.043701171875,
          -0.100830078125,
          0.0665283203125,
          0.0634765625,
          0.03076171875,
          -0.0262451171875,
          -0.0728759765625,
          0.0880126953125,
          0.0504150390625,
          -0.0614013671875,
          -0.1531982421875,
          0.1998291015625,
          0.1923828125,
          0.1396484375,
          0.1068115234375,
          0.066162109375,
          0.00732421875,
          -0.0516357421875,
          -0.1064453125,
          0.2271728515625,
          0.2232666015625,
          0.194091796875,
          0.1612548828125,
          0.116455078125,
          0.0819091796875,
          0.035400390625,
          -0.0152587890625,
          -0.0904541015625,
          -0.1473388671875,
          0.2442626953125,
          0.2325439453125,
          0.2073974609375,
          0.170654296875,
          0.1300048828125,
          0.08935546875,
          0.0469970703125,
          0.0025634765625,
          -0.0458984375,
          -0.1025390625,
          -0.177978515625,
          0.2935791015625,
          0.27978515625,
          0.2642822265625,
          0.2314453125,
          0.190673828125,
          0.148193359375,
          0.1116943359375,
          0.0672607421875,
          0.027099609375,
          -0.0294189453125,
          -0.0860595703125,
          -0.155029296875,
          0.2877197265625,
          0.2835693359375,
          0.25830078125,
          0.2392578125,
          0.2005615234375,
          0.1480712890625,
          0.1075439453125,
          0.0550537109375,
          0.0107421875,
          -0.02734375,
          -0.090087890625,
          -0.1612548828125,
          0.2568359375,
          0.2427978515625,
          0.193603515625,
          0.2098388671875,
          0.1849365234375,
          0.1383056640625,
          0.091796875,
          0.0594482421875,
          0.0068359375,
          -0.0640869140625,
          -0.0982666015625,
          -0.156982421875,
          -0.219970703125,
          -0.2852783203125,
          0.229736328125,
          0.2120361328125,
          0.20654296875,
          0.1856689453125,
          0.155029296875,
          0.1044921875,
          0.0518798828125,
          0.013671875,
          -0.059326171875,
          -0.1263427734375,
          -0.166748046875,
          -0.229736328125,
          0.2718505859375,
          0.21533203125,
          0.20849609375,
          0.1195068359375,
          0.0771484375,
          0.0145263671875,
          -0.0482177734375,
          -0.2113037109375,
          0.2611083984375,
          0.2459716796875,
          0.2073974609375,
          0.1688232421875,
          0.12646484375,
          0.0780029296875,
          0.025634765625,
          -0.0391845703125,
          -0.14306640625,
          0.2506103515625,
          0.2235107421875,
          0.19677734375,
          0.150146484375,
          0.111572265625,
          0.065185546875,
          0.008544921875,
          -0.0562744140625,
          -0.1458740234375,
          0.234619140625,
          0.2213134765625,
          0.11376953125,
          0.0670166015625,
          0.0284423828125,
          -0.022216796875,
          -0.097412109375,
          -0.193359375,
          0.191650390625,
          0.1724853515625,
          0.1177978515625,
          -0.0120849609375,
          -0.13427734375,
          -0.2755126953125,
          0.236083984375,
          0.1912841796875,
          0.148681640625,
          0.0538330078125,
          -0.0313720703125,
          -0.07421875,
          -0.1395263671875,
          0.2408447265625,
          0.2100830078125,
          0.177490234375,
          0.078857421875,
          -0.0855712890625,
          -0.1385498046875,
          -0.1937255859375,
          0.271728515625,
          0.2271728515625,
          0.1846923828125,
          0.06201171875,
          -0.1329345703125,
          -0.1719970703125,
          -0.247802734375,
          0.2713623046875,
          0.2227783203125,
          0.1903076171875,
          0.0916748046875,
          -0.2294921875,
          -0.2625732421875,
          -0.3778076171875,
          0.23876953125,
          0.016845703125,
          -0.226318359375,
          -0.239501953125,
          0.6854248046875
         ],
         "y": [
          -0.0919189453125,
          -0.0299072265625,
          -0.03173828125,
          -0.1593017578125,
          -0.0379638671875,
          0.0147705078125,
          0.0126953125,
          0.0335693359375,
          -0.1134033203125,
          0.0560302734375,
          0.0555419921875,
          -0.0238037109375,
          -0.113037109375,
          -0.0009765625,
          0.005615234375,
          0.0582275390625,
          0.091552734375,
          0.0848388671875,
          0.0782470703125,
          0.0809326171875,
          -0.186279296875,
          -0.0650634765625,
          -0.00439453125,
          0.048095703125,
          0.0731201171875,
          0.12109375,
          0.1417236328125,
          0.1533203125,
          0.1103515625,
          0.1075439453125,
          -0.1419677734375,
          -0.0390625,
          0.0316162109375,
          0.073974609375,
          0.1080322265625,
          0.142333984375,
          0.172119140625,
          0.1973876953125,
          0.213623046875,
          0.210693359375,
          0.1680908203125,
          -0.1668701171875,
          -0.0687255859375,
          0.0238037109375,
          0.076171875,
          0.1102294921875,
          0.1397705078125,
          0.18212890625,
          0.207275390625,
          0.2415771484375,
          0.2396240234375,
          0.2376708984375,
          0.208740234375,
          -0.1790771484375,
          -0.057861328125,
          0.0126953125,
          0.09716796875,
          0.134765625,
          0.1414794921875,
          0.1756591796875,
          0.1824951171875,
          0.207763671875,
          0.245849609375,
          0.2303466796875,
          0.1968994140625,
          -0.2567138671875,
          -0.1583251953125,
          -0.1427001953125,
          0.0244140625,
          0.0950927734375,
          0.1156005859375,
          0.1361083984375,
          0.1876220703125,
          0.1947021484375,
          0.160888671875,
          0.2091064453125,
          0.2030029296875,
          0.1868896484375,
          0.1673583984375,
          -0.188720703125,
          -0.099609375,
          0.0169677734375,
          0.0968017578125,
          0.15380859375,
          0.1651611328125,
          0.171142578125,
          0.2100830078125,
          0.171630859375,
          0.147216796875,
          0.181884765625,
          0.1668701171875,
          -0.09716796875,
          0.0303955078125,
          0.1412353515625,
          0.1912841796875,
          0.220947265625,
          0.2052001953125,
          0.1895751953125,
          0.075927734375,
          0.0108642578125,
          0.1033935546875,
          0.1419677734375,
          0.1806640625,
          0.210205078125,
          0.2261962890625,
          0.2332763671875,
          0.2119140625,
          0.1055908203125,
          -0.02490234375,
          0.0411376953125,
          0.1072998046875,
          0.127685546875,
          0.1654052734375,
          0.18603515625,
          0.1839599609375,
          0.163818359375,
          0.08935546875,
          -0.0604248046875,
          0.0367431640625,
          0.0455322265625,
          0.0660400390625,
          0.1051025390625,
          0.11572265625,
          0.072998046875,
          -0.0150146484375,
          -0.0364990234375,
          0.0479736328125,
          0.0501708984375,
          0.0084228515625,
          -0.013427734375,
          -0.0753173828125,
          0.0653076171875,
          0.0902099609375,
          0.1197509765625,
          0.02978515625,
          -0.0361328125,
          -0.0059814453125,
          -0.02587890625,
          0.0687255859375,
          0.12451171875,
          0.1768798828125,
          0.0787353515625,
          -0.0390625,
          -0.0316162109375,
          -0.028564453125,
          0.1412353515625,
          0.166015625,
          0.1954345703125,
          0.0426025390625,
          -0.1431884765625,
          -0.10498046875,
          -0.147216796875,
          0.129150390625,
          0.1448974609375,
          0.1971435546875,
          0.09814453125,
          -0.2437744140625,
          -0.1905517578125,
          -0.318603515625,
          0.181396484375,
          -0.199462890625,
          -0.36474609375,
          -0.26611328125,
          0.711181640625
         ],
         "z": [
          0.8042678833007812,
          0.8045654296875,
          0.8032989501953125,
          0.7400741577148438,
          0.7421340942382812,
          0.7423019409179688,
          0.740966796875,
          0.741119384765625,
          0.6844329833984375,
          0.6869125366210938,
          0.6842498779296875,
          0.6804733276367188,
          0.6132049560546875,
          0.6156082153320312,
          0.6144256591796875,
          0.6148147583007812,
          0.6145706176757812,
          0.6129302978515625,
          0.6112823486328125,
          0.609954833984375,
          0.5532684326171875,
          0.5562744140625,
          0.5570907592773438,
          0.5575714111328125,
          0.557037353515625,
          0.5573577880859375,
          0.5566558837890625,
          0.5556182861328125,
          0.5525360107421875,
          0.5509872436523438,
          0.49451446533203125,
          0.49709320068359375,
          0.4983978271484375,
          0.49860382080078125,
          0.498443603515625,
          0.498291015625,
          0.497955322265625,
          0.4974365234375,
          0.496551513671875,
          0.49492645263671875,
          0.49164581298828125,
          0.4244232177734375,
          0.42710113525390625,
          0.4295806884765625,
          0.43027496337890625,
          0.43016815185546875,
          0.42987060546875,
          0.43016815185546875,
          0.4296722412109375,
          0.4295806884765625,
          0.42787933349609375,
          0.42618560791015625,
          0.42327880859375,
          0.352874755859375,
          0.35689544677734375,
          0.358551025390625,
          0.36086273193359375,
          0.36102294921875,
          0.35967254638671875,
          0.35961151123046875,
          0.3582611083984375,
          0.35863494873046875,
          0.35880279541015625,
          0.35637664794921875,
          0.3530731201171875,
          0.27730560302734375,
          0.2805328369140625,
          0.27959442138671875,
          0.28631591796875,
          0.28816986083984375,
          0.28746795654296875,
          0.28676605224609375,
          0.28769683837890625,
          0.2863006591796875,
          0.282806396484375,
          0.28350830078125,
          0.28141021728515625,
          0.27884674072265625,
          0.2760467529296875,
          0.1909942626953125,
          0.194061279296875,
          0.19864654541015625,
          0.20122528076171875,
          0.202545166015625,
          0.20133209228515625,
          0.19986724853515625,
          0.2001800537109375,
          0.1961822509765625,
          0.1929473876953125,
          0.1930084228515625,
          0.19026947021484375,
          0.11289215087890625,
          0.11663818359375,
          0.121368408203125,
          0.120513916015625,
          0.120361328125,
          0.11748504638671875,
          0.1146087646484375,
          0.10393524169921875,
          0.03156280517578125,
          0.03551483154296875,
          0.03597259521484375,
          0.03643798828125,
          0.03631591796875,
          0.0353240966796875,
          0.03374481201171875,
          0.0304107666015625,
          0.02152252197265625,
          -0.05800628662109375,
          -0.05559539794921875,
          -0.05318450927734375,
          -0.05388641357421875,
          -0.05333709716796875,
          -0.0540313720703125,
          -0.0562896728515625,
          -0.05980682373046875,
          -0.06707000732421875,
          -0.15956878662109375,
          -0.15459442138671875,
          -0.15834808349609375,
          -0.1590576171875,
          -0.15756988525390625,
          -0.15894317626953125,
          -0.164337158203125,
          -0.17308807373046875,
          -0.25644683837890625,
          -0.2521514892578125,
          -0.2542877197265625,
          -0.26212310791015625,
          -0.2685394287109375,
          -0.27817535400390625,
          -0.36626434326171875,
          -0.36658477783203125,
          -0.36652374267578125,
          -0.37645721435546875,
          -0.38446807861328125,
          -0.38440704345703125,
          -0.388580322265625,
          -0.4736175537109375,
          -0.47104644775390625,
          -0.46887969970703125,
          -0.480224609375,
          -0.49596405029296875,
          -0.497894287109375,
          -0.5002365112304688,
          -0.5803375244140625,
          -0.5806121826171875,
          -0.5804443359375,
          -0.5976943969726562,
          -0.6208877563476562,
          -0.6198577880859375,
          -0.626678466796875,
          -0.6951980590820312,
          -0.6963653564453125,
          -0.6938323974609375,
          -0.7065353393554688,
          -0.7497787475585938,
          -0.74725341796875,
          -0.7632293701171875,
          -0.813262939453125,
          -0.8570404052734375,
          -0.8827972412109375,
          -0.8751907348632812,
          -0.8668136596679688
         ]
        },
        {
         "marker": {
          "color": "red",
          "opacity": 0.8,
          "size": 4
         },
         "mode": "markers",
         "type": "scatter3d",
         "x": [
          -0.05433771386742592,
          0.17601855099201202,
          0.26867160201072693,
          0.1655416190624237,
          0.11699358373880386,
          0.18034005165100098,
          0.28762000799179077,
          -0.13043949007987976,
          -0.20329737663269043,
          -0.2151249796152115,
          -0.08536466956138611,
          -0.18254981935024261,
          -0.22630763053894043
         ],
         "y": [
          -0.1510474532842636,
          -0.08385183662176132,
          -0.17680199444293976,
          -0.3204994201660156,
          -0.05103224143385887,
          0.0757008045911789,
          0.2837104797363281,
          0.10519813001155853,
          0.15655900537967682,
          0.0837186798453331,
          0.051748521625995636,
          -0.10180141031742096,
          -0.18377284705638885
         ],
         "z": [
          0.5632542371749878,
          0.4100108742713928,
          0.20903398096561432,
          0.055116504430770874,
          -0.015008166432380676,
          -0.3431132435798645,
          -0.617347776889801,
          0.4163050055503845,
          0.20942845940589905,
          0.0515594482421875,
          -0.007668130099773407,
          -0.3299141824245453,
          -0.6183637976646423
         ]
        },
        {
         "line": {
          "color": "black",
          "width": 2
         },
         "mode": "lines",
         "type": "scatter3d",
         "x": [
          -0.05433771386742592,
          0.02278953045606613
         ],
         "y": [
          -0.1510474532842636,
          0.010673146694898605
         ],
         "z": [
          0.5632542371749878,
          0.41315793991088867
         ]
        },
        {
         "line": {
          "color": "black",
          "width": 2
         },
         "mode": "lines",
         "type": "scatter3d",
         "x": [
          0.17601855099201202,
          0.26867160201072693
         ],
         "y": [
          -0.08385183662176132,
          -0.17680199444293976
         ],
         "z": [
          0.4100108742713928,
          0.20903398096561432
         ]
        },
        {
         "line": {
          "color": "black",
          "width": 2
         },
         "mode": "lines",
         "type": "scatter3d",
         "x": [
          0.17601855099201202,
          0.11699358373880386
         ],
         "y": [
          -0.08385183662176132,
          -0.05103224143385887
         ],
         "z": [
          0.4100108742713928,
          -0.015008166432380676
         ]
        },
        {
         "line": {
          "color": "black",
          "width": 2
         },
         "mode": "lines",
         "type": "scatter3d",
         "x": [
          0.17601855099201202,
          -0.13043949007987976
         ],
         "y": [
          -0.08385183662176132,
          0.10519813001155853
         ],
         "z": [
          0.4100108742713928,
          0.4163050055503845
         ]
        },
        {
         "line": {
          "color": "black",
          "width": 2
         },
         "mode": "lines",
         "type": "scatter3d",
         "x": [
          0.26867160201072693,
          0.1655416190624237
         ],
         "y": [
          -0.17680199444293976,
          -0.3204994201660156
         ],
         "z": [
          0.20903398096561432,
          0.055116504430770874
         ]
        },
        {
         "line": {
          "color": "black",
          "width": 2
         },
         "mode": "lines",
         "type": "scatter3d",
         "x": [
          0.11699358373880386,
          0.18034005165100098
         ],
         "y": [
          -0.05103224143385887,
          0.0757008045911789
         ],
         "z": [
          -0.015008166432380676,
          -0.3431132435798645
         ]
        },
        {
         "line": {
          "color": "black",
          "width": 2
         },
         "mode": "lines",
         "type": "scatter3d",
         "x": [
          0.11699358373880386,
          -0.08536466956138611
         ],
         "y": [
          -0.05103224143385887,
          0.051748521625995636
         ],
         "z": [
          -0.015008166432380676,
          -0.007668130099773407
         ]
        },
        {
         "line": {
          "color": "black",
          "width": 2
         },
         "mode": "lines",
         "type": "scatter3d",
         "x": [
          0.18034005165100098,
          0.28762000799179077
         ],
         "y": [
          0.0757008045911789,
          0.2837104797363281
         ],
         "z": [
          -0.3431132435798645,
          -0.617347776889801
         ]
        },
        {
         "line": {
          "color": "black",
          "width": 2
         },
         "mode": "lines",
         "type": "scatter3d",
         "x": [
          -0.13043949007987976,
          -0.20329737663269043
         ],
         "y": [
          0.10519813001155853,
          0.15655900537967682
         ],
         "z": [
          0.4163050055503845,
          0.20942845940589905
         ]
        },
        {
         "line": {
          "color": "black",
          "width": 2
         },
         "mode": "lines",
         "type": "scatter3d",
         "x": [
          -0.13043949007987976,
          -0.08536466956138611
         ],
         "y": [
          0.10519813001155853,
          0.051748521625995636
         ],
         "z": [
          0.4163050055503845,
          -0.007668130099773407
         ]
        },
        {
         "line": {
          "color": "black",
          "width": 2
         },
         "mode": "lines",
         "type": "scatter3d",
         "x": [
          -0.20329737663269043,
          -0.2151249796152115
         ],
         "y": [
          0.15655900537967682,
          0.0837186798453331
         ],
         "z": [
          0.20942845940589905,
          0.0515594482421875
         ]
        },
        {
         "line": {
          "color": "black",
          "width": 2
         },
         "mode": "lines",
         "type": "scatter3d",
         "x": [
          -0.08536466956138611,
          -0.18254981935024261
         ],
         "y": [
          0.051748521625995636,
          -0.10180141031742096
         ],
         "z": [
          -0.007668130099773407,
          -0.3299141824245453
         ]
        },
        {
         "line": {
          "color": "black",
          "width": 2
         },
         "mode": "lines",
         "type": "scatter3d",
         "x": [
          -0.18254981935024261,
          -0.22630763053894043
         ],
         "y": [
          -0.10180141031742096,
          -0.18377284705638885
         ],
         "z": [
          -0.3299141824245453,
          -0.6183637976646423
         ]
        },
        {
         "line": {
          "color": "blue",
          "width": 2
         },
         "mode": "lines",
         "type": "scatter3d",
         "x": [
          0,
          -0.6185090124922807
         ],
         "y": [
          0,
          -0.7857777048668558
         ],
         "z": [
          0,
          0
         ]
        }
       ],
       "layout": {
        "scene": {
         "aspectmode": "manual",
         "aspectratio": {
          "x": 3,
          "y": 3,
          "z": 3
         },
         "xaxis": {
          "range": [
           -1.5,
           1.5
          ]
         },
         "yaxis": {
          "range": [
           -1.5,
           1.5
          ]
         },
         "zaxis": {
          "range": [
           -1.5,
           1.5
          ]
         }
        },
        "template": {
         "data": {
          "bar": [
           {
            "error_x": {
             "color": "#2a3f5f"
            },
            "error_y": {
             "color": "#2a3f5f"
            },
            "marker": {
             "line": {
              "color": "#E5ECF6",
              "width": 0.5
             },
             "pattern": {
              "fillmode": "overlay",
              "size": 10,
              "solidity": 0.2
             }
            },
            "type": "bar"
           }
          ],
          "barpolar": [
           {
            "marker": {
             "line": {
              "color": "#E5ECF6",
              "width": 0.5
             },
             "pattern": {
              "fillmode": "overlay",
              "size": 10,
              "solidity": 0.2
             }
            },
            "type": "barpolar"
           }
          ],
          "carpet": [
           {
            "aaxis": {
             "endlinecolor": "#2a3f5f",
             "gridcolor": "white",
             "linecolor": "white",
             "minorgridcolor": "white",
             "startlinecolor": "#2a3f5f"
            },
            "baxis": {
             "endlinecolor": "#2a3f5f",
             "gridcolor": "white",
             "linecolor": "white",
             "minorgridcolor": "white",
             "startlinecolor": "#2a3f5f"
            },
            "type": "carpet"
           }
          ],
          "choropleth": [
           {
            "colorbar": {
             "outlinewidth": 0,
             "ticks": ""
            },
            "type": "choropleth"
           }
          ],
          "contour": [
           {
            "colorbar": {
             "outlinewidth": 0,
             "ticks": ""
            },
            "colorscale": [
             [
              0,
              "#0d0887"
             ],
             [
              0.1111111111111111,
              "#46039f"
             ],
             [
              0.2222222222222222,
              "#7201a8"
             ],
             [
              0.3333333333333333,
              "#9c179e"
             ],
             [
              0.4444444444444444,
              "#bd3786"
             ],
             [
              0.5555555555555556,
              "#d8576b"
             ],
             [
              0.6666666666666666,
              "#ed7953"
             ],
             [
              0.7777777777777778,
              "#fb9f3a"
             ],
             [
              0.8888888888888888,
              "#fdca26"
             ],
             [
              1,
              "#f0f921"
             ]
            ],
            "type": "contour"
           }
          ],
          "contourcarpet": [
           {
            "colorbar": {
             "outlinewidth": 0,
             "ticks": ""
            },
            "type": "contourcarpet"
           }
          ],
          "heatmap": [
           {
            "colorbar": {
             "outlinewidth": 0,
             "ticks": ""
            },
            "colorscale": [
             [
              0,
              "#0d0887"
             ],
             [
              0.1111111111111111,
              "#46039f"
             ],
             [
              0.2222222222222222,
              "#7201a8"
             ],
             [
              0.3333333333333333,
              "#9c179e"
             ],
             [
              0.4444444444444444,
              "#bd3786"
             ],
             [
              0.5555555555555556,
              "#d8576b"
             ],
             [
              0.6666666666666666,
              "#ed7953"
             ],
             [
              0.7777777777777778,
              "#fb9f3a"
             ],
             [
              0.8888888888888888,
              "#fdca26"
             ],
             [
              1,
              "#f0f921"
             ]
            ],
            "type": "heatmap"
           }
          ],
          "heatmapgl": [
           {
            "colorbar": {
             "outlinewidth": 0,
             "ticks": ""
            },
            "colorscale": [
             [
              0,
              "#0d0887"
             ],
             [
              0.1111111111111111,
              "#46039f"
             ],
             [
              0.2222222222222222,
              "#7201a8"
             ],
             [
              0.3333333333333333,
              "#9c179e"
             ],
             [
              0.4444444444444444,
              "#bd3786"
             ],
             [
              0.5555555555555556,
              "#d8576b"
             ],
             [
              0.6666666666666666,
              "#ed7953"
             ],
             [
              0.7777777777777778,
              "#fb9f3a"
             ],
             [
              0.8888888888888888,
              "#fdca26"
             ],
             [
              1,
              "#f0f921"
             ]
            ],
            "type": "heatmapgl"
           }
          ],
          "histogram": [
           {
            "marker": {
             "pattern": {
              "fillmode": "overlay",
              "size": 10,
              "solidity": 0.2
             }
            },
            "type": "histogram"
           }
          ],
          "histogram2d": [
           {
            "colorbar": {
             "outlinewidth": 0,
             "ticks": ""
            },
            "colorscale": [
             [
              0,
              "#0d0887"
             ],
             [
              0.1111111111111111,
              "#46039f"
             ],
             [
              0.2222222222222222,
              "#7201a8"
             ],
             [
              0.3333333333333333,
              "#9c179e"
             ],
             [
              0.4444444444444444,
              "#bd3786"
             ],
             [
              0.5555555555555556,
              "#d8576b"
             ],
             [
              0.6666666666666666,
              "#ed7953"
             ],
             [
              0.7777777777777778,
              "#fb9f3a"
             ],
             [
              0.8888888888888888,
              "#fdca26"
             ],
             [
              1,
              "#f0f921"
             ]
            ],
            "type": "histogram2d"
           }
          ],
          "histogram2dcontour": [
           {
            "colorbar": {
             "outlinewidth": 0,
             "ticks": ""
            },
            "colorscale": [
             [
              0,
              "#0d0887"
             ],
             [
              0.1111111111111111,
              "#46039f"
             ],
             [
              0.2222222222222222,
              "#7201a8"
             ],
             [
              0.3333333333333333,
              "#9c179e"
             ],
             [
              0.4444444444444444,
              "#bd3786"
             ],
             [
              0.5555555555555556,
              "#d8576b"
             ],
             [
              0.6666666666666666,
              "#ed7953"
             ],
             [
              0.7777777777777778,
              "#fb9f3a"
             ],
             [
              0.8888888888888888,
              "#fdca26"
             ],
             [
              1,
              "#f0f921"
             ]
            ],
            "type": "histogram2dcontour"
           }
          ],
          "mesh3d": [
           {
            "colorbar": {
             "outlinewidth": 0,
             "ticks": ""
            },
            "type": "mesh3d"
           }
          ],
          "parcoords": [
           {
            "line": {
             "colorbar": {
              "outlinewidth": 0,
              "ticks": ""
             }
            },
            "type": "parcoords"
           }
          ],
          "pie": [
           {
            "automargin": true,
            "type": "pie"
           }
          ],
          "scatter": [
           {
            "fillpattern": {
             "fillmode": "overlay",
             "size": 10,
             "solidity": 0.2
            },
            "type": "scatter"
           }
          ],
          "scatter3d": [
           {
            "line": {
             "colorbar": {
              "outlinewidth": 0,
              "ticks": ""
             }
            },
            "marker": {
             "colorbar": {
              "outlinewidth": 0,
              "ticks": ""
             }
            },
            "type": "scatter3d"
           }
          ],
          "scattercarpet": [
           {
            "marker": {
             "colorbar": {
              "outlinewidth": 0,
              "ticks": ""
             }
            },
            "type": "scattercarpet"
           }
          ],
          "scattergeo": [
           {
            "marker": {
             "colorbar": {
              "outlinewidth": 0,
              "ticks": ""
             }
            },
            "type": "scattergeo"
           }
          ],
          "scattergl": [
           {
            "marker": {
             "colorbar": {
              "outlinewidth": 0,
              "ticks": ""
             }
            },
            "type": "scattergl"
           }
          ],
          "scattermapbox": [
           {
            "marker": {
             "colorbar": {
              "outlinewidth": 0,
              "ticks": ""
             }
            },
            "type": "scattermapbox"
           }
          ],
          "scatterpolar": [
           {
            "marker": {
             "colorbar": {
              "outlinewidth": 0,
              "ticks": ""
             }
            },
            "type": "scatterpolar"
           }
          ],
          "scatterpolargl": [
           {
            "marker": {
             "colorbar": {
              "outlinewidth": 0,
              "ticks": ""
             }
            },
            "type": "scatterpolargl"
           }
          ],
          "scatterternary": [
           {
            "marker": {
             "colorbar": {
              "outlinewidth": 0,
              "ticks": ""
             }
            },
            "type": "scatterternary"
           }
          ],
          "surface": [
           {
            "colorbar": {
             "outlinewidth": 0,
             "ticks": ""
            },
            "colorscale": [
             [
              0,
              "#0d0887"
             ],
             [
              0.1111111111111111,
              "#46039f"
             ],
             [
              0.2222222222222222,
              "#7201a8"
             ],
             [
              0.3333333333333333,
              "#9c179e"
             ],
             [
              0.4444444444444444,
              "#bd3786"
             ],
             [
              0.5555555555555556,
              "#d8576b"
             ],
             [
              0.6666666666666666,
              "#ed7953"
             ],
             [
              0.7777777777777778,
              "#fb9f3a"
             ],
             [
              0.8888888888888888,
              "#fdca26"
             ],
             [
              1,
              "#f0f921"
             ]
            ],
            "type": "surface"
           }
          ],
          "table": [
           {
            "cells": {
             "fill": {
              "color": "#EBF0F8"
             },
             "line": {
              "color": "white"
             }
            },
            "header": {
             "fill": {
              "color": "#C8D4E3"
             },
             "line": {
              "color": "white"
             }
            },
            "type": "table"
           }
          ]
         },
         "layout": {
          "annotationdefaults": {
           "arrowcolor": "#2a3f5f",
           "arrowhead": 0,
           "arrowwidth": 1
          },
          "autotypenumbers": "strict",
          "coloraxis": {
           "colorbar": {
            "outlinewidth": 0,
            "ticks": ""
           }
          },
          "colorscale": {
           "diverging": [
            [
             0,
             "#8e0152"
            ],
            [
             0.1,
             "#c51b7d"
            ],
            [
             0.2,
             "#de77ae"
            ],
            [
             0.3,
             "#f1b6da"
            ],
            [
             0.4,
             "#fde0ef"
            ],
            [
             0.5,
             "#f7f7f7"
            ],
            [
             0.6,
             "#e6f5d0"
            ],
            [
             0.7,
             "#b8e186"
            ],
            [
             0.8,
             "#7fbc41"
            ],
            [
             0.9,
             "#4d9221"
            ],
            [
             1,
             "#276419"
            ]
           ],
           "sequential": [
            [
             0,
             "#0d0887"
            ],
            [
             0.1111111111111111,
             "#46039f"
            ],
            [
             0.2222222222222222,
             "#7201a8"
            ],
            [
             0.3333333333333333,
             "#9c179e"
            ],
            [
             0.4444444444444444,
             "#bd3786"
            ],
            [
             0.5555555555555556,
             "#d8576b"
            ],
            [
             0.6666666666666666,
             "#ed7953"
            ],
            [
             0.7777777777777778,
             "#fb9f3a"
            ],
            [
             0.8888888888888888,
             "#fdca26"
            ],
            [
             1,
             "#f0f921"
            ]
           ],
           "sequentialminus": [
            [
             0,
             "#0d0887"
            ],
            [
             0.1111111111111111,
             "#46039f"
            ],
            [
             0.2222222222222222,
             "#7201a8"
            ],
            [
             0.3333333333333333,
             "#9c179e"
            ],
            [
             0.4444444444444444,
             "#bd3786"
            ],
            [
             0.5555555555555556,
             "#d8576b"
            ],
            [
             0.6666666666666666,
             "#ed7953"
            ],
            [
             0.7777777777777778,
             "#fb9f3a"
            ],
            [
             0.8888888888888888,
             "#fdca26"
            ],
            [
             1,
             "#f0f921"
            ]
           ]
          },
          "colorway": [
           "#636efa",
           "#EF553B",
           "#00cc96",
           "#ab63fa",
           "#FFA15A",
           "#19d3f3",
           "#FF6692",
           "#B6E880",
           "#FF97FF",
           "#FECB52"
          ],
          "font": {
           "color": "#2a3f5f"
          },
          "geo": {
           "bgcolor": "white",
           "lakecolor": "white",
           "landcolor": "#E5ECF6",
           "showlakes": true,
           "showland": true,
           "subunitcolor": "white"
          },
          "hoverlabel": {
           "align": "left"
          },
          "hovermode": "closest",
          "mapbox": {
           "style": "light"
          },
          "paper_bgcolor": "white",
          "plot_bgcolor": "#E5ECF6",
          "polar": {
           "angularaxis": {
            "gridcolor": "white",
            "linecolor": "white",
            "ticks": ""
           },
           "bgcolor": "#E5ECF6",
           "radialaxis": {
            "gridcolor": "white",
            "linecolor": "white",
            "ticks": ""
           }
          },
          "scene": {
           "xaxis": {
            "backgroundcolor": "#E5ECF6",
            "gridcolor": "white",
            "gridwidth": 2,
            "linecolor": "white",
            "showbackground": true,
            "ticks": "",
            "zerolinecolor": "white"
           },
           "yaxis": {
            "backgroundcolor": "#E5ECF6",
            "gridcolor": "white",
            "gridwidth": 2,
            "linecolor": "white",
            "showbackground": true,
            "ticks": "",
            "zerolinecolor": "white"
           },
           "zaxis": {
            "backgroundcolor": "#E5ECF6",
            "gridcolor": "white",
            "gridwidth": 2,
            "linecolor": "white",
            "showbackground": true,
            "ticks": "",
            "zerolinecolor": "white"
           }
          },
          "shapedefaults": {
           "line": {
            "color": "#2a3f5f"
           }
          },
          "ternary": {
           "aaxis": {
            "gridcolor": "white",
            "linecolor": "white",
            "ticks": ""
           },
           "baxis": {
            "gridcolor": "white",
            "linecolor": "white",
            "ticks": ""
           },
           "bgcolor": "#E5ECF6",
           "caxis": {
            "gridcolor": "white",
            "linecolor": "white",
            "ticks": ""
           }
          },
          "title": {
           "x": 0.05
          },
          "xaxis": {
           "automargin": true,
           "gridcolor": "white",
           "linecolor": "white",
           "ticks": "",
           "title": {
            "standoff": 15
           },
           "zerolinecolor": "white",
           "zerolinewidth": 2
          },
          "yaxis": {
           "automargin": true,
           "gridcolor": "white",
           "linecolor": "white",
           "ticks": "",
           "title": {
            "standoff": 15
           },
           "zerolinecolor": "white",
           "zerolinewidth": 2
          }
         }
        }
       }
      },
      "text/html": [
       "<div>                            <div id=\"73e14e03-5622-4cd6-81ba-7f664f1b5c40\" class=\"plotly-graph-div\" style=\"height:525px; width:100%;\"></div>            <script type=\"text/javascript\">                require([\"plotly\"], function(Plotly) {                    window.PLOTLYENV=window.PLOTLYENV || {};                                    if (document.getElementById(\"73e14e03-5622-4cd6-81ba-7f664f1b5c40\")) {                    Plotly.newPlot(                        \"73e14e03-5622-4cd6-81ba-7f664f1b5c40\",                        [{\"marker\":{\"opacity\":0.8,\"size\":2},\"mode\":\"markers\",\"x\":[-0.0150146484375,-0.043701171875,-0.100830078125,0.0665283203125,0.0634765625,0.03076171875,-0.0262451171875,-0.0728759765625,0.0880126953125,0.0504150390625,-0.0614013671875,-0.1531982421875,0.1998291015625,0.1923828125,0.1396484375,0.1068115234375,0.066162109375,0.00732421875,-0.0516357421875,-0.1064453125,0.2271728515625,0.2232666015625,0.194091796875,0.1612548828125,0.116455078125,0.0819091796875,0.035400390625,-0.0152587890625,-0.0904541015625,-0.1473388671875,0.2442626953125,0.2325439453125,0.2073974609375,0.170654296875,0.1300048828125,0.08935546875,0.0469970703125,0.0025634765625,-0.0458984375,-0.1025390625,-0.177978515625,0.2935791015625,0.27978515625,0.2642822265625,0.2314453125,0.190673828125,0.148193359375,0.1116943359375,0.0672607421875,0.027099609375,-0.0294189453125,-0.0860595703125,-0.155029296875,0.2877197265625,0.2835693359375,0.25830078125,0.2392578125,0.2005615234375,0.1480712890625,0.1075439453125,0.0550537109375,0.0107421875,-0.02734375,-0.090087890625,-0.1612548828125,0.2568359375,0.2427978515625,0.193603515625,0.2098388671875,0.1849365234375,0.1383056640625,0.091796875,0.0594482421875,0.0068359375,-0.0640869140625,-0.0982666015625,-0.156982421875,-0.219970703125,-0.2852783203125,0.229736328125,0.2120361328125,0.20654296875,0.1856689453125,0.155029296875,0.1044921875,0.0518798828125,0.013671875,-0.059326171875,-0.1263427734375,-0.166748046875,-0.229736328125,0.2718505859375,0.21533203125,0.20849609375,0.1195068359375,0.0771484375,0.0145263671875,-0.0482177734375,-0.2113037109375,0.2611083984375,0.2459716796875,0.2073974609375,0.1688232421875,0.12646484375,0.0780029296875,0.025634765625,-0.0391845703125,-0.14306640625,0.2506103515625,0.2235107421875,0.19677734375,0.150146484375,0.111572265625,0.065185546875,0.008544921875,-0.0562744140625,-0.1458740234375,0.234619140625,0.2213134765625,0.11376953125,0.0670166015625,0.0284423828125,-0.022216796875,-0.097412109375,-0.193359375,0.191650390625,0.1724853515625,0.1177978515625,-0.0120849609375,-0.13427734375,-0.2755126953125,0.236083984375,0.1912841796875,0.148681640625,0.0538330078125,-0.0313720703125,-0.07421875,-0.1395263671875,0.2408447265625,0.2100830078125,0.177490234375,0.078857421875,-0.0855712890625,-0.1385498046875,-0.1937255859375,0.271728515625,0.2271728515625,0.1846923828125,0.06201171875,-0.1329345703125,-0.1719970703125,-0.247802734375,0.2713623046875,0.2227783203125,0.1903076171875,0.0916748046875,-0.2294921875,-0.2625732421875,-0.3778076171875,0.23876953125,0.016845703125,-0.226318359375,-0.239501953125,0.6854248046875],\"y\":[-0.0919189453125,-0.0299072265625,-0.03173828125,-0.1593017578125,-0.0379638671875,0.0147705078125,0.0126953125,0.0335693359375,-0.1134033203125,0.0560302734375,0.0555419921875,-0.0238037109375,-0.113037109375,-0.0009765625,0.005615234375,0.0582275390625,0.091552734375,0.0848388671875,0.0782470703125,0.0809326171875,-0.186279296875,-0.0650634765625,-0.00439453125,0.048095703125,0.0731201171875,0.12109375,0.1417236328125,0.1533203125,0.1103515625,0.1075439453125,-0.1419677734375,-0.0390625,0.0316162109375,0.073974609375,0.1080322265625,0.142333984375,0.172119140625,0.1973876953125,0.213623046875,0.210693359375,0.1680908203125,-0.1668701171875,-0.0687255859375,0.0238037109375,0.076171875,0.1102294921875,0.1397705078125,0.18212890625,0.207275390625,0.2415771484375,0.2396240234375,0.2376708984375,0.208740234375,-0.1790771484375,-0.057861328125,0.0126953125,0.09716796875,0.134765625,0.1414794921875,0.1756591796875,0.1824951171875,0.207763671875,0.245849609375,0.2303466796875,0.1968994140625,-0.2567138671875,-0.1583251953125,-0.1427001953125,0.0244140625,0.0950927734375,0.1156005859375,0.1361083984375,0.1876220703125,0.1947021484375,0.160888671875,0.2091064453125,0.2030029296875,0.1868896484375,0.1673583984375,-0.188720703125,-0.099609375,0.0169677734375,0.0968017578125,0.15380859375,0.1651611328125,0.171142578125,0.2100830078125,0.171630859375,0.147216796875,0.181884765625,0.1668701171875,-0.09716796875,0.0303955078125,0.1412353515625,0.1912841796875,0.220947265625,0.2052001953125,0.1895751953125,0.075927734375,0.0108642578125,0.1033935546875,0.1419677734375,0.1806640625,0.210205078125,0.2261962890625,0.2332763671875,0.2119140625,0.1055908203125,-0.02490234375,0.0411376953125,0.1072998046875,0.127685546875,0.1654052734375,0.18603515625,0.1839599609375,0.163818359375,0.08935546875,-0.0604248046875,0.0367431640625,0.0455322265625,0.0660400390625,0.1051025390625,0.11572265625,0.072998046875,-0.0150146484375,-0.0364990234375,0.0479736328125,0.0501708984375,0.0084228515625,-0.013427734375,-0.0753173828125,0.0653076171875,0.0902099609375,0.1197509765625,0.02978515625,-0.0361328125,-0.0059814453125,-0.02587890625,0.0687255859375,0.12451171875,0.1768798828125,0.0787353515625,-0.0390625,-0.0316162109375,-0.028564453125,0.1412353515625,0.166015625,0.1954345703125,0.0426025390625,-0.1431884765625,-0.10498046875,-0.147216796875,0.129150390625,0.1448974609375,0.1971435546875,0.09814453125,-0.2437744140625,-0.1905517578125,-0.318603515625,0.181396484375,-0.199462890625,-0.36474609375,-0.26611328125,0.711181640625],\"z\":[0.8042678833007812,0.8045654296875,0.8032989501953125,0.7400741577148438,0.7421340942382812,0.7423019409179688,0.740966796875,0.741119384765625,0.6844329833984375,0.6869125366210938,0.6842498779296875,0.6804733276367188,0.6132049560546875,0.6156082153320312,0.6144256591796875,0.6148147583007812,0.6145706176757812,0.6129302978515625,0.6112823486328125,0.609954833984375,0.5532684326171875,0.5562744140625,0.5570907592773438,0.5575714111328125,0.557037353515625,0.5573577880859375,0.5566558837890625,0.5556182861328125,0.5525360107421875,0.5509872436523438,0.49451446533203125,0.49709320068359375,0.4983978271484375,0.49860382080078125,0.498443603515625,0.498291015625,0.497955322265625,0.4974365234375,0.496551513671875,0.49492645263671875,0.49164581298828125,0.4244232177734375,0.42710113525390625,0.4295806884765625,0.43027496337890625,0.43016815185546875,0.42987060546875,0.43016815185546875,0.4296722412109375,0.4295806884765625,0.42787933349609375,0.42618560791015625,0.42327880859375,0.352874755859375,0.35689544677734375,0.358551025390625,0.36086273193359375,0.36102294921875,0.35967254638671875,0.35961151123046875,0.3582611083984375,0.35863494873046875,0.35880279541015625,0.35637664794921875,0.3530731201171875,0.27730560302734375,0.2805328369140625,0.27959442138671875,0.28631591796875,0.28816986083984375,0.28746795654296875,0.28676605224609375,0.28769683837890625,0.2863006591796875,0.282806396484375,0.28350830078125,0.28141021728515625,0.27884674072265625,0.2760467529296875,0.1909942626953125,0.194061279296875,0.19864654541015625,0.20122528076171875,0.202545166015625,0.20133209228515625,0.19986724853515625,0.2001800537109375,0.1961822509765625,0.1929473876953125,0.1930084228515625,0.19026947021484375,0.11289215087890625,0.11663818359375,0.121368408203125,0.120513916015625,0.120361328125,0.11748504638671875,0.1146087646484375,0.10393524169921875,0.03156280517578125,0.03551483154296875,0.03597259521484375,0.03643798828125,0.03631591796875,0.0353240966796875,0.03374481201171875,0.0304107666015625,0.02152252197265625,-0.05800628662109375,-0.05559539794921875,-0.05318450927734375,-0.05388641357421875,-0.05333709716796875,-0.0540313720703125,-0.0562896728515625,-0.05980682373046875,-0.06707000732421875,-0.15956878662109375,-0.15459442138671875,-0.15834808349609375,-0.1590576171875,-0.15756988525390625,-0.15894317626953125,-0.164337158203125,-0.17308807373046875,-0.25644683837890625,-0.2521514892578125,-0.2542877197265625,-0.26212310791015625,-0.2685394287109375,-0.27817535400390625,-0.36626434326171875,-0.36658477783203125,-0.36652374267578125,-0.37645721435546875,-0.38446807861328125,-0.38440704345703125,-0.388580322265625,-0.4736175537109375,-0.47104644775390625,-0.46887969970703125,-0.480224609375,-0.49596405029296875,-0.497894287109375,-0.5002365112304688,-0.5803375244140625,-0.5806121826171875,-0.5804443359375,-0.5976943969726562,-0.6208877563476562,-0.6198577880859375,-0.626678466796875,-0.6951980590820312,-0.6963653564453125,-0.6938323974609375,-0.7065353393554688,-0.7497787475585938,-0.74725341796875,-0.7632293701171875,-0.813262939453125,-0.8570404052734375,-0.8827972412109375,-0.8751907348632812,-0.8668136596679688],\"type\":\"scatter3d\"},{\"marker\":{\"color\":\"red\",\"opacity\":0.8,\"size\":4},\"mode\":\"markers\",\"x\":[-0.05433771386742592,0.17601855099201202,0.26867160201072693,0.1655416190624237,0.11699358373880386,0.18034005165100098,0.28762000799179077,-0.13043949007987976,-0.20329737663269043,-0.2151249796152115,-0.08536466956138611,-0.18254981935024261,-0.22630763053894043],\"y\":[-0.1510474532842636,-0.08385183662176132,-0.17680199444293976,-0.3204994201660156,-0.05103224143385887,0.0757008045911789,0.2837104797363281,0.10519813001155853,0.15655900537967682,0.0837186798453331,0.051748521625995636,-0.10180141031742096,-0.18377284705638885],\"z\":[0.5632542371749878,0.4100108742713928,0.20903398096561432,0.055116504430770874,-0.015008166432380676,-0.3431132435798645,-0.617347776889801,0.4163050055503845,0.20942845940589905,0.0515594482421875,-0.007668130099773407,-0.3299141824245453,-0.6183637976646423],\"type\":\"scatter3d\"},{\"line\":{\"color\":\"black\",\"width\":2},\"mode\":\"lines\",\"x\":[-0.05433771386742592,0.02278953045606613],\"y\":[-0.1510474532842636,0.010673146694898605],\"z\":[0.5632542371749878,0.41315793991088867],\"type\":\"scatter3d\"},{\"line\":{\"color\":\"black\",\"width\":2},\"mode\":\"lines\",\"x\":[0.17601855099201202,0.26867160201072693],\"y\":[-0.08385183662176132,-0.17680199444293976],\"z\":[0.4100108742713928,0.20903398096561432],\"type\":\"scatter3d\"},{\"line\":{\"color\":\"black\",\"width\":2},\"mode\":\"lines\",\"x\":[0.17601855099201202,0.11699358373880386],\"y\":[-0.08385183662176132,-0.05103224143385887],\"z\":[0.4100108742713928,-0.015008166432380676],\"type\":\"scatter3d\"},{\"line\":{\"color\":\"black\",\"width\":2},\"mode\":\"lines\",\"x\":[0.17601855099201202,-0.13043949007987976],\"y\":[-0.08385183662176132,0.10519813001155853],\"z\":[0.4100108742713928,0.4163050055503845],\"type\":\"scatter3d\"},{\"line\":{\"color\":\"black\",\"width\":2},\"mode\":\"lines\",\"x\":[0.26867160201072693,0.1655416190624237],\"y\":[-0.17680199444293976,-0.3204994201660156],\"z\":[0.20903398096561432,0.055116504430770874],\"type\":\"scatter3d\"},{\"line\":{\"color\":\"black\",\"width\":2},\"mode\":\"lines\",\"x\":[0.11699358373880386,0.18034005165100098],\"y\":[-0.05103224143385887,0.0757008045911789],\"z\":[-0.015008166432380676,-0.3431132435798645],\"type\":\"scatter3d\"},{\"line\":{\"color\":\"black\",\"width\":2},\"mode\":\"lines\",\"x\":[0.11699358373880386,-0.08536466956138611],\"y\":[-0.05103224143385887,0.051748521625995636],\"z\":[-0.015008166432380676,-0.007668130099773407],\"type\":\"scatter3d\"},{\"line\":{\"color\":\"black\",\"width\":2},\"mode\":\"lines\",\"x\":[0.18034005165100098,0.28762000799179077],\"y\":[0.0757008045911789,0.2837104797363281],\"z\":[-0.3431132435798645,-0.617347776889801],\"type\":\"scatter3d\"},{\"line\":{\"color\":\"black\",\"width\":2},\"mode\":\"lines\",\"x\":[-0.13043949007987976,-0.20329737663269043],\"y\":[0.10519813001155853,0.15655900537967682],\"z\":[0.4163050055503845,0.20942845940589905],\"type\":\"scatter3d\"},{\"line\":{\"color\":\"black\",\"width\":2},\"mode\":\"lines\",\"x\":[-0.13043949007987976,-0.08536466956138611],\"y\":[0.10519813001155853,0.051748521625995636],\"z\":[0.4163050055503845,-0.007668130099773407],\"type\":\"scatter3d\"},{\"line\":{\"color\":\"black\",\"width\":2},\"mode\":\"lines\",\"x\":[-0.20329737663269043,-0.2151249796152115],\"y\":[0.15655900537967682,0.0837186798453331],\"z\":[0.20942845940589905,0.0515594482421875],\"type\":\"scatter3d\"},{\"line\":{\"color\":\"black\",\"width\":2},\"mode\":\"lines\",\"x\":[-0.08536466956138611,-0.18254981935024261],\"y\":[0.051748521625995636,-0.10180141031742096],\"z\":[-0.007668130099773407,-0.3299141824245453],\"type\":\"scatter3d\"},{\"line\":{\"color\":\"black\",\"width\":2},\"mode\":\"lines\",\"x\":[-0.18254981935024261,-0.22630763053894043],\"y\":[-0.10180141031742096,-0.18377284705638885],\"z\":[-0.3299141824245453,-0.6183637976646423],\"type\":\"scatter3d\"},{\"line\":{\"color\":\"blue\",\"width\":2},\"mode\":\"lines\",\"x\":[0,-0.6185090124922807],\"y\":[0,-0.7857777048668558],\"z\":[0,0],\"type\":\"scatter3d\"}],                        {\"template\":{\"data\":{\"histogram2dcontour\":[{\"type\":\"histogram2dcontour\",\"colorbar\":{\"outlinewidth\":0,\"ticks\":\"\"},\"colorscale\":[[0.0,\"#0d0887\"],[0.1111111111111111,\"#46039f\"],[0.2222222222222222,\"#7201a8\"],[0.3333333333333333,\"#9c179e\"],[0.4444444444444444,\"#bd3786\"],[0.5555555555555556,\"#d8576b\"],[0.6666666666666666,\"#ed7953\"],[0.7777777777777778,\"#fb9f3a\"],[0.8888888888888888,\"#fdca26\"],[1.0,\"#f0f921\"]]}],\"choropleth\":[{\"type\":\"choropleth\",\"colorbar\":{\"outlinewidth\":0,\"ticks\":\"\"}}],\"histogram2d\":[{\"type\":\"histogram2d\",\"colorbar\":{\"outlinewidth\":0,\"ticks\":\"\"},\"colorscale\":[[0.0,\"#0d0887\"],[0.1111111111111111,\"#46039f\"],[0.2222222222222222,\"#7201a8\"],[0.3333333333333333,\"#9c179e\"],[0.4444444444444444,\"#bd3786\"],[0.5555555555555556,\"#d8576b\"],[0.6666666666666666,\"#ed7953\"],[0.7777777777777778,\"#fb9f3a\"],[0.8888888888888888,\"#fdca26\"],[1.0,\"#f0f921\"]]}],\"heatmap\":[{\"type\":\"heatmap\",\"colorbar\":{\"outlinewidth\":0,\"ticks\":\"\"},\"colorscale\":[[0.0,\"#0d0887\"],[0.1111111111111111,\"#46039f\"],[0.2222222222222222,\"#7201a8\"],[0.3333333333333333,\"#9c179e\"],[0.4444444444444444,\"#bd3786\"],[0.5555555555555556,\"#d8576b\"],[0.6666666666666666,\"#ed7953\"],[0.7777777777777778,\"#fb9f3a\"],[0.8888888888888888,\"#fdca26\"],[1.0,\"#f0f921\"]]}],\"heatmapgl\":[{\"type\":\"heatmapgl\",\"colorbar\":{\"outlinewidth\":0,\"ticks\":\"\"},\"colorscale\":[[0.0,\"#0d0887\"],[0.1111111111111111,\"#46039f\"],[0.2222222222222222,\"#7201a8\"],[0.3333333333333333,\"#9c179e\"],[0.4444444444444444,\"#bd3786\"],[0.5555555555555556,\"#d8576b\"],[0.6666666666666666,\"#ed7953\"],[0.7777777777777778,\"#fb9f3a\"],[0.8888888888888888,\"#fdca26\"],[1.0,\"#f0f921\"]]}],\"contourcarpet\":[{\"type\":\"contourcarpet\",\"colorbar\":{\"outlinewidth\":0,\"ticks\":\"\"}}],\"contour\":[{\"type\":\"contour\",\"colorbar\":{\"outlinewidth\":0,\"ticks\":\"\"},\"colorscale\":[[0.0,\"#0d0887\"],[0.1111111111111111,\"#46039f\"],[0.2222222222222222,\"#7201a8\"],[0.3333333333333333,\"#9c179e\"],[0.4444444444444444,\"#bd3786\"],[0.5555555555555556,\"#d8576b\"],[0.6666666666666666,\"#ed7953\"],[0.7777777777777778,\"#fb9f3a\"],[0.8888888888888888,\"#fdca26\"],[1.0,\"#f0f921\"]]}],\"surface\":[{\"type\":\"surface\",\"colorbar\":{\"outlinewidth\":0,\"ticks\":\"\"},\"colorscale\":[[0.0,\"#0d0887\"],[0.1111111111111111,\"#46039f\"],[0.2222222222222222,\"#7201a8\"],[0.3333333333333333,\"#9c179e\"],[0.4444444444444444,\"#bd3786\"],[0.5555555555555556,\"#d8576b\"],[0.6666666666666666,\"#ed7953\"],[0.7777777777777778,\"#fb9f3a\"],[0.8888888888888888,\"#fdca26\"],[1.0,\"#f0f921\"]]}],\"mesh3d\":[{\"type\":\"mesh3d\",\"colorbar\":{\"outlinewidth\":0,\"ticks\":\"\"}}],\"scatter\":[{\"fillpattern\":{\"fillmode\":\"overlay\",\"size\":10,\"solidity\":0.2},\"type\":\"scatter\"}],\"parcoords\":[{\"type\":\"parcoords\",\"line\":{\"colorbar\":{\"outlinewidth\":0,\"ticks\":\"\"}}}],\"scatterpolargl\":[{\"type\":\"scatterpolargl\",\"marker\":{\"colorbar\":{\"outlinewidth\":0,\"ticks\":\"\"}}}],\"bar\":[{\"error_x\":{\"color\":\"#2a3f5f\"},\"error_y\":{\"color\":\"#2a3f5f\"},\"marker\":{\"line\":{\"color\":\"#E5ECF6\",\"width\":0.5},\"pattern\":{\"fillmode\":\"overlay\",\"size\":10,\"solidity\":0.2}},\"type\":\"bar\"}],\"scattergeo\":[{\"type\":\"scattergeo\",\"marker\":{\"colorbar\":{\"outlinewidth\":0,\"ticks\":\"\"}}}],\"scatterpolar\":[{\"type\":\"scatterpolar\",\"marker\":{\"colorbar\":{\"outlinewidth\":0,\"ticks\":\"\"}}}],\"histogram\":[{\"marker\":{\"pattern\":{\"fillmode\":\"overlay\",\"size\":10,\"solidity\":0.2}},\"type\":\"histogram\"}],\"scattergl\":[{\"type\":\"scattergl\",\"marker\":{\"colorbar\":{\"outlinewidth\":0,\"ticks\":\"\"}}}],\"scatter3d\":[{\"type\":\"scatter3d\",\"line\":{\"colorbar\":{\"outlinewidth\":0,\"ticks\":\"\"}},\"marker\":{\"colorbar\":{\"outlinewidth\":0,\"ticks\":\"\"}}}],\"scattermapbox\":[{\"type\":\"scattermapbox\",\"marker\":{\"colorbar\":{\"outlinewidth\":0,\"ticks\":\"\"}}}],\"scatterternary\":[{\"type\":\"scatterternary\",\"marker\":{\"colorbar\":{\"outlinewidth\":0,\"ticks\":\"\"}}}],\"scattercarpet\":[{\"type\":\"scattercarpet\",\"marker\":{\"colorbar\":{\"outlinewidth\":0,\"ticks\":\"\"}}}],\"carpet\":[{\"aaxis\":{\"endlinecolor\":\"#2a3f5f\",\"gridcolor\":\"white\",\"linecolor\":\"white\",\"minorgridcolor\":\"white\",\"startlinecolor\":\"#2a3f5f\"},\"baxis\":{\"endlinecolor\":\"#2a3f5f\",\"gridcolor\":\"white\",\"linecolor\":\"white\",\"minorgridcolor\":\"white\",\"startlinecolor\":\"#2a3f5f\"},\"type\":\"carpet\"}],\"table\":[{\"cells\":{\"fill\":{\"color\":\"#EBF0F8\"},\"line\":{\"color\":\"white\"}},\"header\":{\"fill\":{\"color\":\"#C8D4E3\"},\"line\":{\"color\":\"white\"}},\"type\":\"table\"}],\"barpolar\":[{\"marker\":{\"line\":{\"color\":\"#E5ECF6\",\"width\":0.5},\"pattern\":{\"fillmode\":\"overlay\",\"size\":10,\"solidity\":0.2}},\"type\":\"barpolar\"}],\"pie\":[{\"automargin\":true,\"type\":\"pie\"}]},\"layout\":{\"autotypenumbers\":\"strict\",\"colorway\":[\"#636efa\",\"#EF553B\",\"#00cc96\",\"#ab63fa\",\"#FFA15A\",\"#19d3f3\",\"#FF6692\",\"#B6E880\",\"#FF97FF\",\"#FECB52\"],\"font\":{\"color\":\"#2a3f5f\"},\"hovermode\":\"closest\",\"hoverlabel\":{\"align\":\"left\"},\"paper_bgcolor\":\"white\",\"plot_bgcolor\":\"#E5ECF6\",\"polar\":{\"bgcolor\":\"#E5ECF6\",\"angularaxis\":{\"gridcolor\":\"white\",\"linecolor\":\"white\",\"ticks\":\"\"},\"radialaxis\":{\"gridcolor\":\"white\",\"linecolor\":\"white\",\"ticks\":\"\"}},\"ternary\":{\"bgcolor\":\"#E5ECF6\",\"aaxis\":{\"gridcolor\":\"white\",\"linecolor\":\"white\",\"ticks\":\"\"},\"baxis\":{\"gridcolor\":\"white\",\"linecolor\":\"white\",\"ticks\":\"\"},\"caxis\":{\"gridcolor\":\"white\",\"linecolor\":\"white\",\"ticks\":\"\"}},\"coloraxis\":{\"colorbar\":{\"outlinewidth\":0,\"ticks\":\"\"}},\"colorscale\":{\"sequential\":[[0.0,\"#0d0887\"],[0.1111111111111111,\"#46039f\"],[0.2222222222222222,\"#7201a8\"],[0.3333333333333333,\"#9c179e\"],[0.4444444444444444,\"#bd3786\"],[0.5555555555555556,\"#d8576b\"],[0.6666666666666666,\"#ed7953\"],[0.7777777777777778,\"#fb9f3a\"],[0.8888888888888888,\"#fdca26\"],[1.0,\"#f0f921\"]],\"sequentialminus\":[[0.0,\"#0d0887\"],[0.1111111111111111,\"#46039f\"],[0.2222222222222222,\"#7201a8\"],[0.3333333333333333,\"#9c179e\"],[0.4444444444444444,\"#bd3786\"],[0.5555555555555556,\"#d8576b\"],[0.6666666666666666,\"#ed7953\"],[0.7777777777777778,\"#fb9f3a\"],[0.8888888888888888,\"#fdca26\"],[1.0,\"#f0f921\"]],\"diverging\":[[0,\"#8e0152\"],[0.1,\"#c51b7d\"],[0.2,\"#de77ae\"],[0.3,\"#f1b6da\"],[0.4,\"#fde0ef\"],[0.5,\"#f7f7f7\"],[0.6,\"#e6f5d0\"],[0.7,\"#b8e186\"],[0.8,\"#7fbc41\"],[0.9,\"#4d9221\"],[1,\"#276419\"]]},\"xaxis\":{\"gridcolor\":\"white\",\"linecolor\":\"white\",\"ticks\":\"\",\"title\":{\"standoff\":15},\"zerolinecolor\":\"white\",\"automargin\":true,\"zerolinewidth\":2},\"yaxis\":{\"gridcolor\":\"white\",\"linecolor\":\"white\",\"ticks\":\"\",\"title\":{\"standoff\":15},\"zerolinecolor\":\"white\",\"automargin\":true,\"zerolinewidth\":2},\"scene\":{\"xaxis\":{\"backgroundcolor\":\"#E5ECF6\",\"gridcolor\":\"white\",\"linecolor\":\"white\",\"showbackground\":true,\"ticks\":\"\",\"zerolinecolor\":\"white\",\"gridwidth\":2},\"yaxis\":{\"backgroundcolor\":\"#E5ECF6\",\"gridcolor\":\"white\",\"linecolor\":\"white\",\"showbackground\":true,\"ticks\":\"\",\"zerolinecolor\":\"white\",\"gridwidth\":2},\"zaxis\":{\"backgroundcolor\":\"#E5ECF6\",\"gridcolor\":\"white\",\"linecolor\":\"white\",\"showbackground\":true,\"ticks\":\"\",\"zerolinecolor\":\"white\",\"gridwidth\":2}},\"shapedefaults\":{\"line\":{\"color\":\"#2a3f5f\"}},\"annotationdefaults\":{\"arrowcolor\":\"#2a3f5f\",\"arrowhead\":0,\"arrowwidth\":1},\"geo\":{\"bgcolor\":\"white\",\"landcolor\":\"#E5ECF6\",\"subunitcolor\":\"white\",\"showland\":true,\"showlakes\":true,\"lakecolor\":\"white\"},\"title\":{\"x\":0.05},\"mapbox\":{\"style\":\"light\"}}},\"scene\":{\"aspectratio\":{\"x\":3,\"y\":3,\"z\":3},\"xaxis\":{\"range\":[-1.5,1.5]},\"yaxis\":{\"range\":[-1.5,1.5]},\"zaxis\":{\"range\":[-1.5,1.5]},\"aspectmode\":\"manual\"}},                        {\"responsive\": true}                    ).then(function(){\n",
       "                            \n",
       "var gd = document.getElementById('73e14e03-5622-4cd6-81ba-7f664f1b5c40');\n",
       "var x = new MutationObserver(function (mutations, observer) {{\n",
       "        var display = window.getComputedStyle(gd).display;\n",
       "        if (!display || display === 'none') {{\n",
       "            console.log([gd, 'removed!']);\n",
       "            Plotly.purge(gd);\n",
       "            observer.disconnect();\n",
       "        }}\n",
       "}});\n",
       "\n",
       "// Listen for the removal of the full notebook cells\n",
       "var notebookContainer = gd.closest('#notebook-container');\n",
       "if (notebookContainer) {{\n",
       "    x.observe(notebookContainer, {childList: true});\n",
       "}}\n",
       "\n",
       "// Listen for the clearing of the current output cell\n",
       "var outputEl = gd.closest('.output');\n",
       "if (outputEl) {{\n",
       "    x.observe(outputEl, {childList: true});\n",
       "}}\n",
       "\n",
       "                        })                };                });            </script>        </div>"
      ]
     },
     "metadata": {},
     "output_type": "display_data"
    },
    {
     "data": {
      "application/vnd.plotly.v1+json": {
       "config": {
        "plotlyServerURL": "https://plot.ly"
       },
       "data": [
        {
         "marker": {
          "opacity": 0.8,
          "size": 2
         },
         "mode": "markers",
         "type": "scatter3d",
         "x": [
          -0.0152587890625,
          -0.0675048828125,
          -0.0008544921875,
          -0.0201416015625,
          -0.0494384765625,
          -0.105712890625,
          -0.16845703125,
          0.0283203125,
          0.03955078125,
          0.0267333984375,
          -0.039794921875,
          -0.1002197265625,
          -0.1607666015625,
          0.119140625,
          0.0872802734375,
          0.0618896484375,
          0.013916015625,
          -0.033935546875,
          -0.096435546875,
          -0.16748046875,
          0.15869140625,
          0.14501953125,
          0.1031494140625,
          0.069580078125,
          0.0361328125,
          -0.0137939453125,
          -0.0740966796875,
          -0.1302490234375,
          -0.1949462890625,
          0.246826171875,
          0.2286376953125,
          0.206787109375,
          0.1689453125,
          0.13330078125,
          0.0936279296875,
          0.05419921875,
          0.0023193359375,
          -0.049560546875,
          -0.10986328125,
          -0.1785888671875,
          0.250732421875,
          0.2325439453125,
          0.2147216796875,
          0.1851806640625,
          0.141357421875,
          0.10791015625,
          0.070556640625,
          0.0291748046875,
          -0.0203857421875,
          -0.0679931640625,
          -0.1259765625,
          -0.1968994140625,
          0.2366943359375,
          0.2386474609375,
          0.21875,
          0.1890869140625,
          0.1474609375,
          0.1099853515625,
          0.0726318359375,
          0.027099609375,
          -0.0184326171875,
          -0.06591796875,
          -0.1240234375,
          -0.209716796875,
          0.2574462890625,
          0.2528076171875,
          0.2105712890625,
          0.2169189453125,
          0.18115234375,
          0.141357421875,
          0.0936279296875,
          0.064453125,
          0.0042724609375,
          -0.0455322265625,
          -0.0784912109375,
          -0.1429443359375,
          -0.2117919921875,
          0.2255859375,
          0.1871337890625,
          0.173583984375,
          0.158447265625,
          0.1004638671875,
          0.06298828125,
          0.0152587890625,
          -0.065673828125,
          -0.1009521484375,
          -0.1920166015625,
          0.234130859375,
          0.212158203125,
          0.1966552734375,
          0.155029296875,
          0.11962890625,
          0.0718994140625,
          0.022216796875,
          -0.03369140625,
          -0.0960693359375,
          -0.18798828125,
          -0.1998291015625,
          0.206787109375,
          0.2110595703125,
          0.195556640625,
          0.1640625,
          0.1307373046875,
          0.085205078125,
          0.0355224609375,
          -0.0203857421875,
          -0.0804443359375,
          -0.1787109375,
          0.2120361328125,
          0.21630859375,
          0.192626953125,
          0.1611328125,
          0.1195068359375,
          0.06982421875,
          0.0179443359375,
          -0.03173828125,
          -0.0960693359375,
          -0.1943359375,
          0.2518310546875,
          0.2138671875,
          0.1739501953125,
          0.1383056640625,
          0.06982421875,
          0.0301513671875,
          -0.0135498046875,
          -0.0821533203125,
          -0.14892578125,
          -0.205322265625,
          0.181396484375,
          0.16162109375,
          0.1278076171875,
          0.0634765625,
          0.0010986328125,
          -0.0386962890625,
          -0.0908203125,
          -0.1680908203125,
          -0.24560546875,
          0.1640625,
          0.1846923828125,
          0.12451171875,
          0.07861328125,
          0.026611328125,
          -0.054443359375,
          -0.114990234375,
          -0.1986083984375,
          -0.3226318359375,
          0.2413330078125,
          0.223876953125,
          0.159912109375,
          0.0670166015625,
          -0.051025390625,
          -0.0765380859375,
          -0.1121826171875,
          -0.2313232421875,
          0.2403564453125,
          0.2330322265625,
          0.20166015625,
          0.12548828125,
          -0.09716796875,
          -0.1126708984375,
          -0.1485595703125,
          -0.19677734375,
          0.30029296875,
          0.2689208984375,
          0.2193603515625,
          0.1575927734375,
          -0.150390625,
          -0.174072265625,
          -0.2244873046875,
          -0.367431640625,
          0.2860107421875,
          0.2969970703125,
          0.1317138671875,
          -0.150390625,
          -0.2010498046875,
          -0.274658203125,
          0.649169921875,
          0.5582275390625,
          0.512939453125,
          0.4754638671875,
          0.438232421875,
          0.4091796875,
          0.35205078125,
          0.3050537109375,
          0.2171630859375,
          0.1805419921875,
          0.1419677734375,
          0.0931396484375,
          0.09033203125
         ],
         "y": [
          0.029541015625,
          0.036865234375,
          -0.05908203125,
          0.02099609375,
          0.078369140625,
          0.07666015625,
          0.0616455078125,
          -0.1209716796875,
          0.0274658203125,
          0.12109375,
          0.0955810546875,
          0.0848388671875,
          0.0743408203125,
          -0.0413818359375,
          0.01123046875,
          0.0775146484375,
          0.09375,
          0.109130859375,
          0.0938720703125,
          0.0606689453125,
          -0.0826416015625,
          0.010986328125,
          0.0396728515625,
          0.0877685546875,
          0.1358642578125,
          0.1475830078125,
          0.1368408203125,
          0.13525390625,
          0.1146240234375,
          -0.129638671875,
          -0.0452880859375,
          0.030029296875,
          0.0687255859375,
          0.111083984375,
          0.1453857421875,
          0.1796875,
          0.1868896484375,
          0.1942138671875,
          0.1824951171875,
          0.1539306640625,
          -0.1298828125,
          -0.0455322265625,
          0.0377197265625,
          0.0946044921875,
          0.1197509765625,
          0.167724609375,
          0.20654296875,
          0.2364501953125,
          0.248291015625,
          0.2637939453125,
          0.2576904296875,
          0.2247314453125,
          -0.160400390625,
          -0.0302734375,
          0.049560546875,
          0.1064453125,
          0.1351318359375,
          0.1739501953125,
          0.2127685546875,
          0.233642578125,
          0.2545166015625,
          0.27099609375,
          0.264892578125,
          0.19921875,
          -0.2431640625,
          -0.126708984375,
          -0.0982666015625,
          0.041015625,
          0.084228515625,
          0.118408203125,
          0.134521484375,
          0.190673828125,
          0.1796875,
          0.1915283203125,
          0.23974609375,
          0.22021484375,
          0.1917724609375,
          -0.1900634765625,
          -0.1513671875,
          0.067626953125,
          0.156494140625,
          0.1497802734375,
          0.188720703125,
          0.2041015625,
          0.1478271484375,
          0.191650390625,
          0.234130859375,
          -0.0511474609375,
          0.0240478515625,
          0.1129150390625,
          0.1414794921875,
          0.184814453125,
          0.2010498046875,
          0.2127685546875,
          0.2109375,
          0.19580078125,
          0.1163330078125,
          0.2100830078125,
          -0.10986328125,
          0.024658203125,
          0.113525390625,
          0.1650390625,
          0.212890625,
          0.2335205078125,
          0.2452392578125,
          0.243408203125,
          0.231689453125,
          0.1396484375,
          -0.10791015625,
          0.0255126953125,
          0.09619140625,
          0.1485595703125,
          0.17822265625,
          0.1898193359375,
          0.197021484375,
          0.2088623046875,
          0.188232421875,
          0.0963134765625,
          -0.0166015625,
          0.0220947265625,
          0.05517578125,
          0.0985107421875,
          0.0692138671875,
          0.1036376953125,
          0.1290283203125,
          0.1002197265625,
          0.076171875,
          0.0738525390625,
          -0.056396484375,
          0.0233154296875,
          0.0712890625,
          0.051025390625,
          0.0355224609375,
          0.069091796875,
          0.07666015625,
          0.0299072265625,
          -0.0164794921875,
          -0.096435546875,
          0.074462890625,
          0.0631103515625,
          0.0838623046875,
          0.091064453125,
          0.0338134765625,
          0.0233154296875,
          -0.036865234375,
          -0.1826171875,
          0.0709228515625,
          0.1551513671875,
          0.1336669921875,
          0.0498046875,
          -0.088134765625,
          -0.021728515625,
          0.0220947265625,
          -0.114990234375,
          0.0711669921875,
          0.1781005859375,
          0.2293701171875,
          0.1817626953125,
          -0.1876220703125,
          -0.098388671875,
          -0.0545654296875,
          -0.038818359375,
          0.19482421875,
          0.2469482421875,
          0.2581787109375,
          0.2423095703125,
          -0.1917724609375,
          -0.1207275390625,
          -0.1092529296875,
          -0.29541015625,
          0.163818359375,
          0.310546875,
          0.0628662109375,
          -0.191650390625,
          -0.1793212890625,
          -0.216552734375,
          0.2462158203125,
          0.2852783203125,
          0.304931640625,
          0.343017578125,
          0.380126953125,
          0.4364013671875,
          0.42919921875,
          0.44482421875,
          0.4901123046875,
          0.5277099609375,
          0.561767578125,
          0.573486328125,
          0.6844482421875
         ],
         "z": [
          0.8171005249023438,
          0.8161087036132812,
          0.7530441284179688,
          0.7540283203125,
          0.7543869018554688,
          0.7530975341796875,
          0.7514266967773438,
          0.695526123046875,
          0.6987686157226562,
          0.700347900390625,
          0.6982955932617188,
          0.6966629028320312,
          0.6950225830078125,
          0.6273040771484375,
          0.6277389526367188,
          0.6286468505859375,
          0.6278305053710938,
          0.6270217895507812,
          0.6251144409179688,
          0.6225738525390625,
          0.568572998046875,
          0.5706253051757812,
          0.5703125,
          0.5706710815429688,
          0.5710372924804688,
          0.5700454711914062,
          0.5681991577148438,
          0.5666885375976562,
          0.5644989013671875,
          0.5109634399414062,
          0.5128631591796875,
          0.514404296875,
          0.5144805908203125,
          0.514739990234375,
          0.5146408081054688,
          0.5145339965820312,
          0.5133285522460938,
          0.5121231079101562,
          0.5101852416992188,
          0.5074996948242188,
          0.44055938720703125,
          0.44268798828125,
          0.44482421875,
          0.445770263671875,
          0.4453125,
          0.44586181640625,
          0.446014404296875,
          0.44576263427734375,
          0.44470977783203125,
          0.4438629150390625,
          0.4420013427734375,
          0.43894195556640625,
          0.3699798583984375,
          0.3744964599609375,
          0.37664031982421875,
          0.377716064453125,
          0.3774871826171875,
          0.3777008056640625,
          0.3779144287109375,
          0.37726593017578125,
          0.376617431640625,
          0.3757476806640625,
          0.3737945556640625,
          0.3690185546875,
          0.295928955078125,
          0.300140380859375,
          0.2999420166015625,
          0.305328369140625,
          0.3058319091796875,
          0.305877685546875,
          0.30499267578125,
          0.30620574951171875,
          0.30391693115234375,
          0.30279541015625,
          0.30355072021484375,
          0.3007965087890625,
          0.29756927490234375,
          0.2109832763671875,
          0.21132659912109375,
          0.21985626220703125,
          0.222991943359375,
          0.22081756591796875,
          0.22118377685546875,
          0.22027587890625,
          0.2153167724609375,
          0.2159271240234375,
          0.214630126953125,
          0.1341705322265625,
          0.13677215576171875,
          0.14019775390625,
          0.14008331298828125,
          0.1407928466796875,
          0.13986968994140625,
          0.138671875,
          0.13665771484375,
          0.133819580078125,
          0.12715911865234375,
          0.13088226318359375,
          0.04632568359375,
          0.05295562744140625,
          0.056671142578125,
          0.0580596923828125,
          0.0591583251953125,
          0.05850982666015625,
          0.05727386474609375,
          0.0551605224609375,
          0.052459716796875,
          0.04448699951171875,
          -0.0409088134765625,
          -0.0337677001953125,
          -0.0309906005859375,
          -0.02945709228515625,
          -0.02948760986328125,
          -0.03076171875,
          -0.03235626220703125,
          -0.03363037109375,
          -0.03710174560546875,
          -0.04558563232421875,
          -0.13134002685546875,
          -0.1306610107421875,
          -0.13031768798828125,
          -0.129302978515625,
          -0.13364410400390625,
          -0.13329315185546875,
          -0.13361358642578125,
          -0.1379547119140625,
          -0.1419677734375,
          -0.1443023681640625,
          -0.23246002197265625,
          -0.22847747802734375,
          -0.22698974609375,
          -0.230865478515625,
          -0.23438262939453125,
          -0.23397064208984375,
          -0.23569488525390625,
          -0.24172210693359375,
          -0.2477569580078125,
          -0.35186004638671875,
          -0.33984375,
          -0.34319305419921875,
          -0.34384918212890625,
          -0.3456573486328125,
          -0.3528594970703125,
          -0.35620880126953125,
          -0.363800048828125,
          -0.37871551513671875,
          -0.4447174072265625,
          -0.43963623046875,
          -0.44397735595703125,
          -0.4540557861328125,
          -0.46905517578125,
          -0.46561431884765625,
          -0.46422576904296875,
          -0.47924041748046875,
          -0.5560150146484375,
          -0.54840087890625,
          -0.5460052490234375,
          -0.553192138671875,
          -0.5913162231445312,
          -0.5854415893554688,
          -0.58392333984375,
          -0.5850143432617188,
          -0.6566848754882812,
          -0.6540985107421875,
          -0.6556777954101562,
          -0.6600265502929688,
          -0.7098846435546875,
          -0.7054595947265625,
          -0.7070465087890625,
          -0.72900390625,
          -0.7780227661132812,
          -0.7649688720703125,
          -0.7945022583007812,
          -0.830780029296875,
          -0.8324203491210938,
          -0.8394622802734375,
          -0.875579833984375,
          -0.8768844604492188,
          -0.8775405883789062,
          -0.8761138916015625,
          -0.8746871948242188,
          -0.8711929321289062,
          -0.8749465942382812,
          -0.8761138916015625,
          -0.8768768310546875,
          -0.8754425048828125,
          -0.8745269775390625,
          -0.8762054443359375,
          -0.8664474487304688
         ]
        },
        {
         "marker": {
          "color": "red",
          "opacity": 0.8,
          "size": 4
         },
         "mode": "markers",
         "type": "scatter3d",
         "x": [
          -0.10290662944316864,
          0.09801987558603287,
          0.16077589988708496,
          0.0694015622138977,
          0.054549165070056915,
          0.1046784445643425,
          0.21706409752368927,
          -0.1548481285572052,
          -0.2369929552078247,
          -0.23413686454296112,
          -0.10830646753311157,
          -0.17417789995670319,
          -0.17581751942634583
         ],
         "y": [
          -0.12420152872800827,
          -0.07546406984329224,
          -0.14087870717048645,
          -0.21620547771453857,
          -0.06375136971473694,
          -0.010622691363096237,
          0.1289963722229004,
          0.08318230509757996,
          0.1059812530875206,
          -0.023952152580022812,
          0.034062668681144714,
          -0.048515722155570984,
          -0.06749138981103897
         ],
         "z": [
          0.5519200563430786,
          0.4024362564086914,
          0.200762078166008,
          0.12256616353988647,
          -0.03414590284228325,
          -0.36596429347991943,
          -0.6788116693496704,
          0.4060904383659363,
          0.19979053735733032,
          0.1630980223417282,
          -0.028673946857452393,
          -0.35992541909217834,
          -0.6813386082649231
         ]
        },
        {
         "line": {
          "color": "black",
          "width": 2
         },
         "mode": "lines",
         "type": "scatter3d",
         "x": [
          -0.10290662944316864,
          -0.028414126485586166
         ],
         "y": [
          -0.12420152872800827,
          0.00385911762714386
         ],
         "z": [
          0.5519200563430786,
          0.40426334738731384
         ]
        },
        {
         "line": {
          "color": "black",
          "width": 2
         },
         "mode": "lines",
         "type": "scatter3d",
         "x": [
          0.09801987558603287,
          0.16077589988708496
         ],
         "y": [
          -0.07546406984329224,
          -0.14087870717048645
         ],
         "z": [
          0.4024362564086914,
          0.200762078166008
         ]
        },
        {
         "line": {
          "color": "black",
          "width": 2
         },
         "mode": "lines",
         "type": "scatter3d",
         "x": [
          0.09801987558603287,
          0.054549165070056915
         ],
         "y": [
          -0.07546406984329224,
          -0.06375136971473694
         ],
         "z": [
          0.4024362564086914,
          -0.03414590284228325
         ]
        },
        {
         "line": {
          "color": "black",
          "width": 2
         },
         "mode": "lines",
         "type": "scatter3d",
         "x": [
          0.09801987558603287,
          -0.1548481285572052
         ],
         "y": [
          -0.07546406984329224,
          0.08318230509757996
         ],
         "z": [
          0.4024362564086914,
          0.4060904383659363
         ]
        },
        {
         "line": {
          "color": "black",
          "width": 2
         },
         "mode": "lines",
         "type": "scatter3d",
         "x": [
          0.16077589988708496,
          0.0694015622138977
         ],
         "y": [
          -0.14087870717048645,
          -0.21620547771453857
         ],
         "z": [
          0.200762078166008,
          0.12256616353988647
         ]
        },
        {
         "line": {
          "color": "black",
          "width": 2
         },
         "mode": "lines",
         "type": "scatter3d",
         "x": [
          0.054549165070056915,
          0.1046784445643425
         ],
         "y": [
          -0.06375136971473694,
          -0.010622691363096237
         ],
         "z": [
          -0.03414590284228325,
          -0.36596429347991943
         ]
        },
        {
         "line": {
          "color": "black",
          "width": 2
         },
         "mode": "lines",
         "type": "scatter3d",
         "x": [
          0.054549165070056915,
          -0.10830646753311157
         ],
         "y": [
          -0.06375136971473694,
          0.034062668681144714
         ],
         "z": [
          -0.03414590284228325,
          -0.028673946857452393
         ]
        },
        {
         "line": {
          "color": "black",
          "width": 2
         },
         "mode": "lines",
         "type": "scatter3d",
         "x": [
          0.1046784445643425,
          0.21706409752368927
         ],
         "y": [
          -0.010622691363096237,
          0.1289963722229004
         ],
         "z": [
          -0.36596429347991943,
          -0.6788116693496704
         ]
        },
        {
         "line": {
          "color": "black",
          "width": 2
         },
         "mode": "lines",
         "type": "scatter3d",
         "x": [
          -0.1548481285572052,
          -0.2369929552078247
         ],
         "y": [
          0.08318230509757996,
          0.1059812530875206
         ],
         "z": [
          0.4060904383659363,
          0.19979053735733032
         ]
        },
        {
         "line": {
          "color": "black",
          "width": 2
         },
         "mode": "lines",
         "type": "scatter3d",
         "x": [
          -0.1548481285572052,
          -0.10830646753311157
         ],
         "y": [
          0.08318230509757996,
          0.034062668681144714
         ],
         "z": [
          0.4060904383659363,
          -0.028673946857452393
         ]
        },
        {
         "line": {
          "color": "black",
          "width": 2
         },
         "mode": "lines",
         "type": "scatter3d",
         "x": [
          -0.2369929552078247,
          -0.23413686454296112
         ],
         "y": [
          0.1059812530875206,
          -0.023952152580022812
         ],
         "z": [
          0.19979053735733032,
          0.1630980223417282
         ]
        },
        {
         "line": {
          "color": "black",
          "width": 2
         },
         "mode": "lines",
         "type": "scatter3d",
         "x": [
          -0.10830646753311157,
          -0.17417789995670319
         ],
         "y": [
          0.034062668681144714,
          -0.048515722155570984
         ],
         "z": [
          -0.028673946857452393,
          -0.35992541909217834
         ]
        },
        {
         "line": {
          "color": "black",
          "width": 2
         },
         "mode": "lines",
         "type": "scatter3d",
         "x": [
          -0.17417789995670319,
          -0.17581751942634583
         ],
         "y": [
          -0.048515722155570984,
          -0.06749138981103897
         ],
         "z": [
          -0.35992541909217834,
          -0.6813386082649231
         ]
        },
        {
         "line": {
          "color": "blue",
          "width": 2
         },
         "mode": "lines",
         "type": "scatter3d",
         "x": [
          0,
          -0.6270239071545276
         ],
         "y": [
          0,
          -0.7790000127449744
         ],
         "z": [
          0,
          0
         ]
        }
       ],
       "layout": {
        "scene": {
         "aspectmode": "manual",
         "aspectratio": {
          "x": 3,
          "y": 3,
          "z": 3
         },
         "xaxis": {
          "range": [
           -1.5,
           1.5
          ]
         },
         "yaxis": {
          "range": [
           -1.5,
           1.5
          ]
         },
         "zaxis": {
          "range": [
           -1.5,
           1.5
          ]
         }
        },
        "template": {
         "data": {
          "bar": [
           {
            "error_x": {
             "color": "#2a3f5f"
            },
            "error_y": {
             "color": "#2a3f5f"
            },
            "marker": {
             "line": {
              "color": "#E5ECF6",
              "width": 0.5
             },
             "pattern": {
              "fillmode": "overlay",
              "size": 10,
              "solidity": 0.2
             }
            },
            "type": "bar"
           }
          ],
          "barpolar": [
           {
            "marker": {
             "line": {
              "color": "#E5ECF6",
              "width": 0.5
             },
             "pattern": {
              "fillmode": "overlay",
              "size": 10,
              "solidity": 0.2
             }
            },
            "type": "barpolar"
           }
          ],
          "carpet": [
           {
            "aaxis": {
             "endlinecolor": "#2a3f5f",
             "gridcolor": "white",
             "linecolor": "white",
             "minorgridcolor": "white",
             "startlinecolor": "#2a3f5f"
            },
            "baxis": {
             "endlinecolor": "#2a3f5f",
             "gridcolor": "white",
             "linecolor": "white",
             "minorgridcolor": "white",
             "startlinecolor": "#2a3f5f"
            },
            "type": "carpet"
           }
          ],
          "choropleth": [
           {
            "colorbar": {
             "outlinewidth": 0,
             "ticks": ""
            },
            "type": "choropleth"
           }
          ],
          "contour": [
           {
            "colorbar": {
             "outlinewidth": 0,
             "ticks": ""
            },
            "colorscale": [
             [
              0,
              "#0d0887"
             ],
             [
              0.1111111111111111,
              "#46039f"
             ],
             [
              0.2222222222222222,
              "#7201a8"
             ],
             [
              0.3333333333333333,
              "#9c179e"
             ],
             [
              0.4444444444444444,
              "#bd3786"
             ],
             [
              0.5555555555555556,
              "#d8576b"
             ],
             [
              0.6666666666666666,
              "#ed7953"
             ],
             [
              0.7777777777777778,
              "#fb9f3a"
             ],
             [
              0.8888888888888888,
              "#fdca26"
             ],
             [
              1,
              "#f0f921"
             ]
            ],
            "type": "contour"
           }
          ],
          "contourcarpet": [
           {
            "colorbar": {
             "outlinewidth": 0,
             "ticks": ""
            },
            "type": "contourcarpet"
           }
          ],
          "heatmap": [
           {
            "colorbar": {
             "outlinewidth": 0,
             "ticks": ""
            },
            "colorscale": [
             [
              0,
              "#0d0887"
             ],
             [
              0.1111111111111111,
              "#46039f"
             ],
             [
              0.2222222222222222,
              "#7201a8"
             ],
             [
              0.3333333333333333,
              "#9c179e"
             ],
             [
              0.4444444444444444,
              "#bd3786"
             ],
             [
              0.5555555555555556,
              "#d8576b"
             ],
             [
              0.6666666666666666,
              "#ed7953"
             ],
             [
              0.7777777777777778,
              "#fb9f3a"
             ],
             [
              0.8888888888888888,
              "#fdca26"
             ],
             [
              1,
              "#f0f921"
             ]
            ],
            "type": "heatmap"
           }
          ],
          "heatmapgl": [
           {
            "colorbar": {
             "outlinewidth": 0,
             "ticks": ""
            },
            "colorscale": [
             [
              0,
              "#0d0887"
             ],
             [
              0.1111111111111111,
              "#46039f"
             ],
             [
              0.2222222222222222,
              "#7201a8"
             ],
             [
              0.3333333333333333,
              "#9c179e"
             ],
             [
              0.4444444444444444,
              "#bd3786"
             ],
             [
              0.5555555555555556,
              "#d8576b"
             ],
             [
              0.6666666666666666,
              "#ed7953"
             ],
             [
              0.7777777777777778,
              "#fb9f3a"
             ],
             [
              0.8888888888888888,
              "#fdca26"
             ],
             [
              1,
              "#f0f921"
             ]
            ],
            "type": "heatmapgl"
           }
          ],
          "histogram": [
           {
            "marker": {
             "pattern": {
              "fillmode": "overlay",
              "size": 10,
              "solidity": 0.2
             }
            },
            "type": "histogram"
           }
          ],
          "histogram2d": [
           {
            "colorbar": {
             "outlinewidth": 0,
             "ticks": ""
            },
            "colorscale": [
             [
              0,
              "#0d0887"
             ],
             [
              0.1111111111111111,
              "#46039f"
             ],
             [
              0.2222222222222222,
              "#7201a8"
             ],
             [
              0.3333333333333333,
              "#9c179e"
             ],
             [
              0.4444444444444444,
              "#bd3786"
             ],
             [
              0.5555555555555556,
              "#d8576b"
             ],
             [
              0.6666666666666666,
              "#ed7953"
             ],
             [
              0.7777777777777778,
              "#fb9f3a"
             ],
             [
              0.8888888888888888,
              "#fdca26"
             ],
             [
              1,
              "#f0f921"
             ]
            ],
            "type": "histogram2d"
           }
          ],
          "histogram2dcontour": [
           {
            "colorbar": {
             "outlinewidth": 0,
             "ticks": ""
            },
            "colorscale": [
             [
              0,
              "#0d0887"
             ],
             [
              0.1111111111111111,
              "#46039f"
             ],
             [
              0.2222222222222222,
              "#7201a8"
             ],
             [
              0.3333333333333333,
              "#9c179e"
             ],
             [
              0.4444444444444444,
              "#bd3786"
             ],
             [
              0.5555555555555556,
              "#d8576b"
             ],
             [
              0.6666666666666666,
              "#ed7953"
             ],
             [
              0.7777777777777778,
              "#fb9f3a"
             ],
             [
              0.8888888888888888,
              "#fdca26"
             ],
             [
              1,
              "#f0f921"
             ]
            ],
            "type": "histogram2dcontour"
           }
          ],
          "mesh3d": [
           {
            "colorbar": {
             "outlinewidth": 0,
             "ticks": ""
            },
            "type": "mesh3d"
           }
          ],
          "parcoords": [
           {
            "line": {
             "colorbar": {
              "outlinewidth": 0,
              "ticks": ""
             }
            },
            "type": "parcoords"
           }
          ],
          "pie": [
           {
            "automargin": true,
            "type": "pie"
           }
          ],
          "scatter": [
           {
            "fillpattern": {
             "fillmode": "overlay",
             "size": 10,
             "solidity": 0.2
            },
            "type": "scatter"
           }
          ],
          "scatter3d": [
           {
            "line": {
             "colorbar": {
              "outlinewidth": 0,
              "ticks": ""
             }
            },
            "marker": {
             "colorbar": {
              "outlinewidth": 0,
              "ticks": ""
             }
            },
            "type": "scatter3d"
           }
          ],
          "scattercarpet": [
           {
            "marker": {
             "colorbar": {
              "outlinewidth": 0,
              "ticks": ""
             }
            },
            "type": "scattercarpet"
           }
          ],
          "scattergeo": [
           {
            "marker": {
             "colorbar": {
              "outlinewidth": 0,
              "ticks": ""
             }
            },
            "type": "scattergeo"
           }
          ],
          "scattergl": [
           {
            "marker": {
             "colorbar": {
              "outlinewidth": 0,
              "ticks": ""
             }
            },
            "type": "scattergl"
           }
          ],
          "scattermapbox": [
           {
            "marker": {
             "colorbar": {
              "outlinewidth": 0,
              "ticks": ""
             }
            },
            "type": "scattermapbox"
           }
          ],
          "scatterpolar": [
           {
            "marker": {
             "colorbar": {
              "outlinewidth": 0,
              "ticks": ""
             }
            },
            "type": "scatterpolar"
           }
          ],
          "scatterpolargl": [
           {
            "marker": {
             "colorbar": {
              "outlinewidth": 0,
              "ticks": ""
             }
            },
            "type": "scatterpolargl"
           }
          ],
          "scatterternary": [
           {
            "marker": {
             "colorbar": {
              "outlinewidth": 0,
              "ticks": ""
             }
            },
            "type": "scatterternary"
           }
          ],
          "surface": [
           {
            "colorbar": {
             "outlinewidth": 0,
             "ticks": ""
            },
            "colorscale": [
             [
              0,
              "#0d0887"
             ],
             [
              0.1111111111111111,
              "#46039f"
             ],
             [
              0.2222222222222222,
              "#7201a8"
             ],
             [
              0.3333333333333333,
              "#9c179e"
             ],
             [
              0.4444444444444444,
              "#bd3786"
             ],
             [
              0.5555555555555556,
              "#d8576b"
             ],
             [
              0.6666666666666666,
              "#ed7953"
             ],
             [
              0.7777777777777778,
              "#fb9f3a"
             ],
             [
              0.8888888888888888,
              "#fdca26"
             ],
             [
              1,
              "#f0f921"
             ]
            ],
            "type": "surface"
           }
          ],
          "table": [
           {
            "cells": {
             "fill": {
              "color": "#EBF0F8"
             },
             "line": {
              "color": "white"
             }
            },
            "header": {
             "fill": {
              "color": "#C8D4E3"
             },
             "line": {
              "color": "white"
             }
            },
            "type": "table"
           }
          ]
         },
         "layout": {
          "annotationdefaults": {
           "arrowcolor": "#2a3f5f",
           "arrowhead": 0,
           "arrowwidth": 1
          },
          "autotypenumbers": "strict",
          "coloraxis": {
           "colorbar": {
            "outlinewidth": 0,
            "ticks": ""
           }
          },
          "colorscale": {
           "diverging": [
            [
             0,
             "#8e0152"
            ],
            [
             0.1,
             "#c51b7d"
            ],
            [
             0.2,
             "#de77ae"
            ],
            [
             0.3,
             "#f1b6da"
            ],
            [
             0.4,
             "#fde0ef"
            ],
            [
             0.5,
             "#f7f7f7"
            ],
            [
             0.6,
             "#e6f5d0"
            ],
            [
             0.7,
             "#b8e186"
            ],
            [
             0.8,
             "#7fbc41"
            ],
            [
             0.9,
             "#4d9221"
            ],
            [
             1,
             "#276419"
            ]
           ],
           "sequential": [
            [
             0,
             "#0d0887"
            ],
            [
             0.1111111111111111,
             "#46039f"
            ],
            [
             0.2222222222222222,
             "#7201a8"
            ],
            [
             0.3333333333333333,
             "#9c179e"
            ],
            [
             0.4444444444444444,
             "#bd3786"
            ],
            [
             0.5555555555555556,
             "#d8576b"
            ],
            [
             0.6666666666666666,
             "#ed7953"
            ],
            [
             0.7777777777777778,
             "#fb9f3a"
            ],
            [
             0.8888888888888888,
             "#fdca26"
            ],
            [
             1,
             "#f0f921"
            ]
           ],
           "sequentialminus": [
            [
             0,
             "#0d0887"
            ],
            [
             0.1111111111111111,
             "#46039f"
            ],
            [
             0.2222222222222222,
             "#7201a8"
            ],
            [
             0.3333333333333333,
             "#9c179e"
            ],
            [
             0.4444444444444444,
             "#bd3786"
            ],
            [
             0.5555555555555556,
             "#d8576b"
            ],
            [
             0.6666666666666666,
             "#ed7953"
            ],
            [
             0.7777777777777778,
             "#fb9f3a"
            ],
            [
             0.8888888888888888,
             "#fdca26"
            ],
            [
             1,
             "#f0f921"
            ]
           ]
          },
          "colorway": [
           "#636efa",
           "#EF553B",
           "#00cc96",
           "#ab63fa",
           "#FFA15A",
           "#19d3f3",
           "#FF6692",
           "#B6E880",
           "#FF97FF",
           "#FECB52"
          ],
          "font": {
           "color": "#2a3f5f"
          },
          "geo": {
           "bgcolor": "white",
           "lakecolor": "white",
           "landcolor": "#E5ECF6",
           "showlakes": true,
           "showland": true,
           "subunitcolor": "white"
          },
          "hoverlabel": {
           "align": "left"
          },
          "hovermode": "closest",
          "mapbox": {
           "style": "light"
          },
          "paper_bgcolor": "white",
          "plot_bgcolor": "#E5ECF6",
          "polar": {
           "angularaxis": {
            "gridcolor": "white",
            "linecolor": "white",
            "ticks": ""
           },
           "bgcolor": "#E5ECF6",
           "radialaxis": {
            "gridcolor": "white",
            "linecolor": "white",
            "ticks": ""
           }
          },
          "scene": {
           "xaxis": {
            "backgroundcolor": "#E5ECF6",
            "gridcolor": "white",
            "gridwidth": 2,
            "linecolor": "white",
            "showbackground": true,
            "ticks": "",
            "zerolinecolor": "white"
           },
           "yaxis": {
            "backgroundcolor": "#E5ECF6",
            "gridcolor": "white",
            "gridwidth": 2,
            "linecolor": "white",
            "showbackground": true,
            "ticks": "",
            "zerolinecolor": "white"
           },
           "zaxis": {
            "backgroundcolor": "#E5ECF6",
            "gridcolor": "white",
            "gridwidth": 2,
            "linecolor": "white",
            "showbackground": true,
            "ticks": "",
            "zerolinecolor": "white"
           }
          },
          "shapedefaults": {
           "line": {
            "color": "#2a3f5f"
           }
          },
          "ternary": {
           "aaxis": {
            "gridcolor": "white",
            "linecolor": "white",
            "ticks": ""
           },
           "baxis": {
            "gridcolor": "white",
            "linecolor": "white",
            "ticks": ""
           },
           "bgcolor": "#E5ECF6",
           "caxis": {
            "gridcolor": "white",
            "linecolor": "white",
            "ticks": ""
           }
          },
          "title": {
           "x": 0.05
          },
          "xaxis": {
           "automargin": true,
           "gridcolor": "white",
           "linecolor": "white",
           "ticks": "",
           "title": {
            "standoff": 15
           },
           "zerolinecolor": "white",
           "zerolinewidth": 2
          },
          "yaxis": {
           "automargin": true,
           "gridcolor": "white",
           "linecolor": "white",
           "ticks": "",
           "title": {
            "standoff": 15
           },
           "zerolinecolor": "white",
           "zerolinewidth": 2
          }
         }
        }
       }
      },
      "text/html": [
       "<div>                            <div id=\"2a20b660-7de3-4c2d-8e57-4689c87d6b34\" class=\"plotly-graph-div\" style=\"height:525px; width:100%;\"></div>            <script type=\"text/javascript\">                require([\"plotly\"], function(Plotly) {                    window.PLOTLYENV=window.PLOTLYENV || {};                                    if (document.getElementById(\"2a20b660-7de3-4c2d-8e57-4689c87d6b34\")) {                    Plotly.newPlot(                        \"2a20b660-7de3-4c2d-8e57-4689c87d6b34\",                        [{\"marker\":{\"opacity\":0.8,\"size\":2},\"mode\":\"markers\",\"x\":[-0.0152587890625,-0.0675048828125,-0.0008544921875,-0.0201416015625,-0.0494384765625,-0.105712890625,-0.16845703125,0.0283203125,0.03955078125,0.0267333984375,-0.039794921875,-0.1002197265625,-0.1607666015625,0.119140625,0.0872802734375,0.0618896484375,0.013916015625,-0.033935546875,-0.096435546875,-0.16748046875,0.15869140625,0.14501953125,0.1031494140625,0.069580078125,0.0361328125,-0.0137939453125,-0.0740966796875,-0.1302490234375,-0.1949462890625,0.246826171875,0.2286376953125,0.206787109375,0.1689453125,0.13330078125,0.0936279296875,0.05419921875,0.0023193359375,-0.049560546875,-0.10986328125,-0.1785888671875,0.250732421875,0.2325439453125,0.2147216796875,0.1851806640625,0.141357421875,0.10791015625,0.070556640625,0.0291748046875,-0.0203857421875,-0.0679931640625,-0.1259765625,-0.1968994140625,0.2366943359375,0.2386474609375,0.21875,0.1890869140625,0.1474609375,0.1099853515625,0.0726318359375,0.027099609375,-0.0184326171875,-0.06591796875,-0.1240234375,-0.209716796875,0.2574462890625,0.2528076171875,0.2105712890625,0.2169189453125,0.18115234375,0.141357421875,0.0936279296875,0.064453125,0.0042724609375,-0.0455322265625,-0.0784912109375,-0.1429443359375,-0.2117919921875,0.2255859375,0.1871337890625,0.173583984375,0.158447265625,0.1004638671875,0.06298828125,0.0152587890625,-0.065673828125,-0.1009521484375,-0.1920166015625,0.234130859375,0.212158203125,0.1966552734375,0.155029296875,0.11962890625,0.0718994140625,0.022216796875,-0.03369140625,-0.0960693359375,-0.18798828125,-0.1998291015625,0.206787109375,0.2110595703125,0.195556640625,0.1640625,0.1307373046875,0.085205078125,0.0355224609375,-0.0203857421875,-0.0804443359375,-0.1787109375,0.2120361328125,0.21630859375,0.192626953125,0.1611328125,0.1195068359375,0.06982421875,0.0179443359375,-0.03173828125,-0.0960693359375,-0.1943359375,0.2518310546875,0.2138671875,0.1739501953125,0.1383056640625,0.06982421875,0.0301513671875,-0.0135498046875,-0.0821533203125,-0.14892578125,-0.205322265625,0.181396484375,0.16162109375,0.1278076171875,0.0634765625,0.0010986328125,-0.0386962890625,-0.0908203125,-0.1680908203125,-0.24560546875,0.1640625,0.1846923828125,0.12451171875,0.07861328125,0.026611328125,-0.054443359375,-0.114990234375,-0.1986083984375,-0.3226318359375,0.2413330078125,0.223876953125,0.159912109375,0.0670166015625,-0.051025390625,-0.0765380859375,-0.1121826171875,-0.2313232421875,0.2403564453125,0.2330322265625,0.20166015625,0.12548828125,-0.09716796875,-0.1126708984375,-0.1485595703125,-0.19677734375,0.30029296875,0.2689208984375,0.2193603515625,0.1575927734375,-0.150390625,-0.174072265625,-0.2244873046875,-0.367431640625,0.2860107421875,0.2969970703125,0.1317138671875,-0.150390625,-0.2010498046875,-0.274658203125,0.649169921875,0.5582275390625,0.512939453125,0.4754638671875,0.438232421875,0.4091796875,0.35205078125,0.3050537109375,0.2171630859375,0.1805419921875,0.1419677734375,0.0931396484375,0.09033203125],\"y\":[0.029541015625,0.036865234375,-0.05908203125,0.02099609375,0.078369140625,0.07666015625,0.0616455078125,-0.1209716796875,0.0274658203125,0.12109375,0.0955810546875,0.0848388671875,0.0743408203125,-0.0413818359375,0.01123046875,0.0775146484375,0.09375,0.109130859375,0.0938720703125,0.0606689453125,-0.0826416015625,0.010986328125,0.0396728515625,0.0877685546875,0.1358642578125,0.1475830078125,0.1368408203125,0.13525390625,0.1146240234375,-0.129638671875,-0.0452880859375,0.030029296875,0.0687255859375,0.111083984375,0.1453857421875,0.1796875,0.1868896484375,0.1942138671875,0.1824951171875,0.1539306640625,-0.1298828125,-0.0455322265625,0.0377197265625,0.0946044921875,0.1197509765625,0.167724609375,0.20654296875,0.2364501953125,0.248291015625,0.2637939453125,0.2576904296875,0.2247314453125,-0.160400390625,-0.0302734375,0.049560546875,0.1064453125,0.1351318359375,0.1739501953125,0.2127685546875,0.233642578125,0.2545166015625,0.27099609375,0.264892578125,0.19921875,-0.2431640625,-0.126708984375,-0.0982666015625,0.041015625,0.084228515625,0.118408203125,0.134521484375,0.190673828125,0.1796875,0.1915283203125,0.23974609375,0.22021484375,0.1917724609375,-0.1900634765625,-0.1513671875,0.067626953125,0.156494140625,0.1497802734375,0.188720703125,0.2041015625,0.1478271484375,0.191650390625,0.234130859375,-0.0511474609375,0.0240478515625,0.1129150390625,0.1414794921875,0.184814453125,0.2010498046875,0.2127685546875,0.2109375,0.19580078125,0.1163330078125,0.2100830078125,-0.10986328125,0.024658203125,0.113525390625,0.1650390625,0.212890625,0.2335205078125,0.2452392578125,0.243408203125,0.231689453125,0.1396484375,-0.10791015625,0.0255126953125,0.09619140625,0.1485595703125,0.17822265625,0.1898193359375,0.197021484375,0.2088623046875,0.188232421875,0.0963134765625,-0.0166015625,0.0220947265625,0.05517578125,0.0985107421875,0.0692138671875,0.1036376953125,0.1290283203125,0.1002197265625,0.076171875,0.0738525390625,-0.056396484375,0.0233154296875,0.0712890625,0.051025390625,0.0355224609375,0.069091796875,0.07666015625,0.0299072265625,-0.0164794921875,-0.096435546875,0.074462890625,0.0631103515625,0.0838623046875,0.091064453125,0.0338134765625,0.0233154296875,-0.036865234375,-0.1826171875,0.0709228515625,0.1551513671875,0.1336669921875,0.0498046875,-0.088134765625,-0.021728515625,0.0220947265625,-0.114990234375,0.0711669921875,0.1781005859375,0.2293701171875,0.1817626953125,-0.1876220703125,-0.098388671875,-0.0545654296875,-0.038818359375,0.19482421875,0.2469482421875,0.2581787109375,0.2423095703125,-0.1917724609375,-0.1207275390625,-0.1092529296875,-0.29541015625,0.163818359375,0.310546875,0.0628662109375,-0.191650390625,-0.1793212890625,-0.216552734375,0.2462158203125,0.2852783203125,0.304931640625,0.343017578125,0.380126953125,0.4364013671875,0.42919921875,0.44482421875,0.4901123046875,0.5277099609375,0.561767578125,0.573486328125,0.6844482421875],\"z\":[0.8171005249023438,0.8161087036132812,0.7530441284179688,0.7540283203125,0.7543869018554688,0.7530975341796875,0.7514266967773438,0.695526123046875,0.6987686157226562,0.700347900390625,0.6982955932617188,0.6966629028320312,0.6950225830078125,0.6273040771484375,0.6277389526367188,0.6286468505859375,0.6278305053710938,0.6270217895507812,0.6251144409179688,0.6225738525390625,0.568572998046875,0.5706253051757812,0.5703125,0.5706710815429688,0.5710372924804688,0.5700454711914062,0.5681991577148438,0.5666885375976562,0.5644989013671875,0.5109634399414062,0.5128631591796875,0.514404296875,0.5144805908203125,0.514739990234375,0.5146408081054688,0.5145339965820312,0.5133285522460938,0.5121231079101562,0.5101852416992188,0.5074996948242188,0.44055938720703125,0.44268798828125,0.44482421875,0.445770263671875,0.4453125,0.44586181640625,0.446014404296875,0.44576263427734375,0.44470977783203125,0.4438629150390625,0.4420013427734375,0.43894195556640625,0.3699798583984375,0.3744964599609375,0.37664031982421875,0.377716064453125,0.3774871826171875,0.3777008056640625,0.3779144287109375,0.37726593017578125,0.376617431640625,0.3757476806640625,0.3737945556640625,0.3690185546875,0.295928955078125,0.300140380859375,0.2999420166015625,0.305328369140625,0.3058319091796875,0.305877685546875,0.30499267578125,0.30620574951171875,0.30391693115234375,0.30279541015625,0.30355072021484375,0.3007965087890625,0.29756927490234375,0.2109832763671875,0.21132659912109375,0.21985626220703125,0.222991943359375,0.22081756591796875,0.22118377685546875,0.22027587890625,0.2153167724609375,0.2159271240234375,0.214630126953125,0.1341705322265625,0.13677215576171875,0.14019775390625,0.14008331298828125,0.1407928466796875,0.13986968994140625,0.138671875,0.13665771484375,0.133819580078125,0.12715911865234375,0.13088226318359375,0.04632568359375,0.05295562744140625,0.056671142578125,0.0580596923828125,0.0591583251953125,0.05850982666015625,0.05727386474609375,0.0551605224609375,0.052459716796875,0.04448699951171875,-0.0409088134765625,-0.0337677001953125,-0.0309906005859375,-0.02945709228515625,-0.02948760986328125,-0.03076171875,-0.03235626220703125,-0.03363037109375,-0.03710174560546875,-0.04558563232421875,-0.13134002685546875,-0.1306610107421875,-0.13031768798828125,-0.129302978515625,-0.13364410400390625,-0.13329315185546875,-0.13361358642578125,-0.1379547119140625,-0.1419677734375,-0.1443023681640625,-0.23246002197265625,-0.22847747802734375,-0.22698974609375,-0.230865478515625,-0.23438262939453125,-0.23397064208984375,-0.23569488525390625,-0.24172210693359375,-0.2477569580078125,-0.35186004638671875,-0.33984375,-0.34319305419921875,-0.34384918212890625,-0.3456573486328125,-0.3528594970703125,-0.35620880126953125,-0.363800048828125,-0.37871551513671875,-0.4447174072265625,-0.43963623046875,-0.44397735595703125,-0.4540557861328125,-0.46905517578125,-0.46561431884765625,-0.46422576904296875,-0.47924041748046875,-0.5560150146484375,-0.54840087890625,-0.5460052490234375,-0.553192138671875,-0.5913162231445312,-0.5854415893554688,-0.58392333984375,-0.5850143432617188,-0.6566848754882812,-0.6540985107421875,-0.6556777954101562,-0.6600265502929688,-0.7098846435546875,-0.7054595947265625,-0.7070465087890625,-0.72900390625,-0.7780227661132812,-0.7649688720703125,-0.7945022583007812,-0.830780029296875,-0.8324203491210938,-0.8394622802734375,-0.875579833984375,-0.8768844604492188,-0.8775405883789062,-0.8761138916015625,-0.8746871948242188,-0.8711929321289062,-0.8749465942382812,-0.8761138916015625,-0.8768768310546875,-0.8754425048828125,-0.8745269775390625,-0.8762054443359375,-0.8664474487304688],\"type\":\"scatter3d\"},{\"marker\":{\"color\":\"red\",\"opacity\":0.8,\"size\":4},\"mode\":\"markers\",\"x\":[-0.10290662944316864,0.09801987558603287,0.16077589988708496,0.0694015622138977,0.054549165070056915,0.1046784445643425,0.21706409752368927,-0.1548481285572052,-0.2369929552078247,-0.23413686454296112,-0.10830646753311157,-0.17417789995670319,-0.17581751942634583],\"y\":[-0.12420152872800827,-0.07546406984329224,-0.14087870717048645,-0.21620547771453857,-0.06375136971473694,-0.010622691363096237,0.1289963722229004,0.08318230509757996,0.1059812530875206,-0.023952152580022812,0.034062668681144714,-0.048515722155570984,-0.06749138981103897],\"z\":[0.5519200563430786,0.4024362564086914,0.200762078166008,0.12256616353988647,-0.03414590284228325,-0.36596429347991943,-0.6788116693496704,0.4060904383659363,0.19979053735733032,0.1630980223417282,-0.028673946857452393,-0.35992541909217834,-0.6813386082649231],\"type\":\"scatter3d\"},{\"line\":{\"color\":\"black\",\"width\":2},\"mode\":\"lines\",\"x\":[-0.10290662944316864,-0.028414126485586166],\"y\":[-0.12420152872800827,0.00385911762714386],\"z\":[0.5519200563430786,0.40426334738731384],\"type\":\"scatter3d\"},{\"line\":{\"color\":\"black\",\"width\":2},\"mode\":\"lines\",\"x\":[0.09801987558603287,0.16077589988708496],\"y\":[-0.07546406984329224,-0.14087870717048645],\"z\":[0.4024362564086914,0.200762078166008],\"type\":\"scatter3d\"},{\"line\":{\"color\":\"black\",\"width\":2},\"mode\":\"lines\",\"x\":[0.09801987558603287,0.054549165070056915],\"y\":[-0.07546406984329224,-0.06375136971473694],\"z\":[0.4024362564086914,-0.03414590284228325],\"type\":\"scatter3d\"},{\"line\":{\"color\":\"black\",\"width\":2},\"mode\":\"lines\",\"x\":[0.09801987558603287,-0.1548481285572052],\"y\":[-0.07546406984329224,0.08318230509757996],\"z\":[0.4024362564086914,0.4060904383659363],\"type\":\"scatter3d\"},{\"line\":{\"color\":\"black\",\"width\":2},\"mode\":\"lines\",\"x\":[0.16077589988708496,0.0694015622138977],\"y\":[-0.14087870717048645,-0.21620547771453857],\"z\":[0.200762078166008,0.12256616353988647],\"type\":\"scatter3d\"},{\"line\":{\"color\":\"black\",\"width\":2},\"mode\":\"lines\",\"x\":[0.054549165070056915,0.1046784445643425],\"y\":[-0.06375136971473694,-0.010622691363096237],\"z\":[-0.03414590284228325,-0.36596429347991943],\"type\":\"scatter3d\"},{\"line\":{\"color\":\"black\",\"width\":2},\"mode\":\"lines\",\"x\":[0.054549165070056915,-0.10830646753311157],\"y\":[-0.06375136971473694,0.034062668681144714],\"z\":[-0.03414590284228325,-0.028673946857452393],\"type\":\"scatter3d\"},{\"line\":{\"color\":\"black\",\"width\":2},\"mode\":\"lines\",\"x\":[0.1046784445643425,0.21706409752368927],\"y\":[-0.010622691363096237,0.1289963722229004],\"z\":[-0.36596429347991943,-0.6788116693496704],\"type\":\"scatter3d\"},{\"line\":{\"color\":\"black\",\"width\":2},\"mode\":\"lines\",\"x\":[-0.1548481285572052,-0.2369929552078247],\"y\":[0.08318230509757996,0.1059812530875206],\"z\":[0.4060904383659363,0.19979053735733032],\"type\":\"scatter3d\"},{\"line\":{\"color\":\"black\",\"width\":2},\"mode\":\"lines\",\"x\":[-0.1548481285572052,-0.10830646753311157],\"y\":[0.08318230509757996,0.034062668681144714],\"z\":[0.4060904383659363,-0.028673946857452393],\"type\":\"scatter3d\"},{\"line\":{\"color\":\"black\",\"width\":2},\"mode\":\"lines\",\"x\":[-0.2369929552078247,-0.23413686454296112],\"y\":[0.1059812530875206,-0.023952152580022812],\"z\":[0.19979053735733032,0.1630980223417282],\"type\":\"scatter3d\"},{\"line\":{\"color\":\"black\",\"width\":2},\"mode\":\"lines\",\"x\":[-0.10830646753311157,-0.17417789995670319],\"y\":[0.034062668681144714,-0.048515722155570984],\"z\":[-0.028673946857452393,-0.35992541909217834],\"type\":\"scatter3d\"},{\"line\":{\"color\":\"black\",\"width\":2},\"mode\":\"lines\",\"x\":[-0.17417789995670319,-0.17581751942634583],\"y\":[-0.048515722155570984,-0.06749138981103897],\"z\":[-0.35992541909217834,-0.6813386082649231],\"type\":\"scatter3d\"},{\"line\":{\"color\":\"blue\",\"width\":2},\"mode\":\"lines\",\"x\":[0,-0.6270239071545276],\"y\":[0,-0.7790000127449744],\"z\":[0,0],\"type\":\"scatter3d\"}],                        {\"template\":{\"data\":{\"histogram2dcontour\":[{\"type\":\"histogram2dcontour\",\"colorbar\":{\"outlinewidth\":0,\"ticks\":\"\"},\"colorscale\":[[0.0,\"#0d0887\"],[0.1111111111111111,\"#46039f\"],[0.2222222222222222,\"#7201a8\"],[0.3333333333333333,\"#9c179e\"],[0.4444444444444444,\"#bd3786\"],[0.5555555555555556,\"#d8576b\"],[0.6666666666666666,\"#ed7953\"],[0.7777777777777778,\"#fb9f3a\"],[0.8888888888888888,\"#fdca26\"],[1.0,\"#f0f921\"]]}],\"choropleth\":[{\"type\":\"choropleth\",\"colorbar\":{\"outlinewidth\":0,\"ticks\":\"\"}}],\"histogram2d\":[{\"type\":\"histogram2d\",\"colorbar\":{\"outlinewidth\":0,\"ticks\":\"\"},\"colorscale\":[[0.0,\"#0d0887\"],[0.1111111111111111,\"#46039f\"],[0.2222222222222222,\"#7201a8\"],[0.3333333333333333,\"#9c179e\"],[0.4444444444444444,\"#bd3786\"],[0.5555555555555556,\"#d8576b\"],[0.6666666666666666,\"#ed7953\"],[0.7777777777777778,\"#fb9f3a\"],[0.8888888888888888,\"#fdca26\"],[1.0,\"#f0f921\"]]}],\"heatmap\":[{\"type\":\"heatmap\",\"colorbar\":{\"outlinewidth\":0,\"ticks\":\"\"},\"colorscale\":[[0.0,\"#0d0887\"],[0.1111111111111111,\"#46039f\"],[0.2222222222222222,\"#7201a8\"],[0.3333333333333333,\"#9c179e\"],[0.4444444444444444,\"#bd3786\"],[0.5555555555555556,\"#d8576b\"],[0.6666666666666666,\"#ed7953\"],[0.7777777777777778,\"#fb9f3a\"],[0.8888888888888888,\"#fdca26\"],[1.0,\"#f0f921\"]]}],\"heatmapgl\":[{\"type\":\"heatmapgl\",\"colorbar\":{\"outlinewidth\":0,\"ticks\":\"\"},\"colorscale\":[[0.0,\"#0d0887\"],[0.1111111111111111,\"#46039f\"],[0.2222222222222222,\"#7201a8\"],[0.3333333333333333,\"#9c179e\"],[0.4444444444444444,\"#bd3786\"],[0.5555555555555556,\"#d8576b\"],[0.6666666666666666,\"#ed7953\"],[0.7777777777777778,\"#fb9f3a\"],[0.8888888888888888,\"#fdca26\"],[1.0,\"#f0f921\"]]}],\"contourcarpet\":[{\"type\":\"contourcarpet\",\"colorbar\":{\"outlinewidth\":0,\"ticks\":\"\"}}],\"contour\":[{\"type\":\"contour\",\"colorbar\":{\"outlinewidth\":0,\"ticks\":\"\"},\"colorscale\":[[0.0,\"#0d0887\"],[0.1111111111111111,\"#46039f\"],[0.2222222222222222,\"#7201a8\"],[0.3333333333333333,\"#9c179e\"],[0.4444444444444444,\"#bd3786\"],[0.5555555555555556,\"#d8576b\"],[0.6666666666666666,\"#ed7953\"],[0.7777777777777778,\"#fb9f3a\"],[0.8888888888888888,\"#fdca26\"],[1.0,\"#f0f921\"]]}],\"surface\":[{\"type\":\"surface\",\"colorbar\":{\"outlinewidth\":0,\"ticks\":\"\"},\"colorscale\":[[0.0,\"#0d0887\"],[0.1111111111111111,\"#46039f\"],[0.2222222222222222,\"#7201a8\"],[0.3333333333333333,\"#9c179e\"],[0.4444444444444444,\"#bd3786\"],[0.5555555555555556,\"#d8576b\"],[0.6666666666666666,\"#ed7953\"],[0.7777777777777778,\"#fb9f3a\"],[0.8888888888888888,\"#fdca26\"],[1.0,\"#f0f921\"]]}],\"mesh3d\":[{\"type\":\"mesh3d\",\"colorbar\":{\"outlinewidth\":0,\"ticks\":\"\"}}],\"scatter\":[{\"fillpattern\":{\"fillmode\":\"overlay\",\"size\":10,\"solidity\":0.2},\"type\":\"scatter\"}],\"parcoords\":[{\"type\":\"parcoords\",\"line\":{\"colorbar\":{\"outlinewidth\":0,\"ticks\":\"\"}}}],\"scatterpolargl\":[{\"type\":\"scatterpolargl\",\"marker\":{\"colorbar\":{\"outlinewidth\":0,\"ticks\":\"\"}}}],\"bar\":[{\"error_x\":{\"color\":\"#2a3f5f\"},\"error_y\":{\"color\":\"#2a3f5f\"},\"marker\":{\"line\":{\"color\":\"#E5ECF6\",\"width\":0.5},\"pattern\":{\"fillmode\":\"overlay\",\"size\":10,\"solidity\":0.2}},\"type\":\"bar\"}],\"scattergeo\":[{\"type\":\"scattergeo\",\"marker\":{\"colorbar\":{\"outlinewidth\":0,\"ticks\":\"\"}}}],\"scatterpolar\":[{\"type\":\"scatterpolar\",\"marker\":{\"colorbar\":{\"outlinewidth\":0,\"ticks\":\"\"}}}],\"histogram\":[{\"marker\":{\"pattern\":{\"fillmode\":\"overlay\",\"size\":10,\"solidity\":0.2}},\"type\":\"histogram\"}],\"scattergl\":[{\"type\":\"scattergl\",\"marker\":{\"colorbar\":{\"outlinewidth\":0,\"ticks\":\"\"}}}],\"scatter3d\":[{\"type\":\"scatter3d\",\"line\":{\"colorbar\":{\"outlinewidth\":0,\"ticks\":\"\"}},\"marker\":{\"colorbar\":{\"outlinewidth\":0,\"ticks\":\"\"}}}],\"scattermapbox\":[{\"type\":\"scattermapbox\",\"marker\":{\"colorbar\":{\"outlinewidth\":0,\"ticks\":\"\"}}}],\"scatterternary\":[{\"type\":\"scatterternary\",\"marker\":{\"colorbar\":{\"outlinewidth\":0,\"ticks\":\"\"}}}],\"scattercarpet\":[{\"type\":\"scattercarpet\",\"marker\":{\"colorbar\":{\"outlinewidth\":0,\"ticks\":\"\"}}}],\"carpet\":[{\"aaxis\":{\"endlinecolor\":\"#2a3f5f\",\"gridcolor\":\"white\",\"linecolor\":\"white\",\"minorgridcolor\":\"white\",\"startlinecolor\":\"#2a3f5f\"},\"baxis\":{\"endlinecolor\":\"#2a3f5f\",\"gridcolor\":\"white\",\"linecolor\":\"white\",\"minorgridcolor\":\"white\",\"startlinecolor\":\"#2a3f5f\"},\"type\":\"carpet\"}],\"table\":[{\"cells\":{\"fill\":{\"color\":\"#EBF0F8\"},\"line\":{\"color\":\"white\"}},\"header\":{\"fill\":{\"color\":\"#C8D4E3\"},\"line\":{\"color\":\"white\"}},\"type\":\"table\"}],\"barpolar\":[{\"marker\":{\"line\":{\"color\":\"#E5ECF6\",\"width\":0.5},\"pattern\":{\"fillmode\":\"overlay\",\"size\":10,\"solidity\":0.2}},\"type\":\"barpolar\"}],\"pie\":[{\"automargin\":true,\"type\":\"pie\"}]},\"layout\":{\"autotypenumbers\":\"strict\",\"colorway\":[\"#636efa\",\"#EF553B\",\"#00cc96\",\"#ab63fa\",\"#FFA15A\",\"#19d3f3\",\"#FF6692\",\"#B6E880\",\"#FF97FF\",\"#FECB52\"],\"font\":{\"color\":\"#2a3f5f\"},\"hovermode\":\"closest\",\"hoverlabel\":{\"align\":\"left\"},\"paper_bgcolor\":\"white\",\"plot_bgcolor\":\"#E5ECF6\",\"polar\":{\"bgcolor\":\"#E5ECF6\",\"angularaxis\":{\"gridcolor\":\"white\",\"linecolor\":\"white\",\"ticks\":\"\"},\"radialaxis\":{\"gridcolor\":\"white\",\"linecolor\":\"white\",\"ticks\":\"\"}},\"ternary\":{\"bgcolor\":\"#E5ECF6\",\"aaxis\":{\"gridcolor\":\"white\",\"linecolor\":\"white\",\"ticks\":\"\"},\"baxis\":{\"gridcolor\":\"white\",\"linecolor\":\"white\",\"ticks\":\"\"},\"caxis\":{\"gridcolor\":\"white\",\"linecolor\":\"white\",\"ticks\":\"\"}},\"coloraxis\":{\"colorbar\":{\"outlinewidth\":0,\"ticks\":\"\"}},\"colorscale\":{\"sequential\":[[0.0,\"#0d0887\"],[0.1111111111111111,\"#46039f\"],[0.2222222222222222,\"#7201a8\"],[0.3333333333333333,\"#9c179e\"],[0.4444444444444444,\"#bd3786\"],[0.5555555555555556,\"#d8576b\"],[0.6666666666666666,\"#ed7953\"],[0.7777777777777778,\"#fb9f3a\"],[0.8888888888888888,\"#fdca26\"],[1.0,\"#f0f921\"]],\"sequentialminus\":[[0.0,\"#0d0887\"],[0.1111111111111111,\"#46039f\"],[0.2222222222222222,\"#7201a8\"],[0.3333333333333333,\"#9c179e\"],[0.4444444444444444,\"#bd3786\"],[0.5555555555555556,\"#d8576b\"],[0.6666666666666666,\"#ed7953\"],[0.7777777777777778,\"#fb9f3a\"],[0.8888888888888888,\"#fdca26\"],[1.0,\"#f0f921\"]],\"diverging\":[[0,\"#8e0152\"],[0.1,\"#c51b7d\"],[0.2,\"#de77ae\"],[0.3,\"#f1b6da\"],[0.4,\"#fde0ef\"],[0.5,\"#f7f7f7\"],[0.6,\"#e6f5d0\"],[0.7,\"#b8e186\"],[0.8,\"#7fbc41\"],[0.9,\"#4d9221\"],[1,\"#276419\"]]},\"xaxis\":{\"gridcolor\":\"white\",\"linecolor\":\"white\",\"ticks\":\"\",\"title\":{\"standoff\":15},\"zerolinecolor\":\"white\",\"automargin\":true,\"zerolinewidth\":2},\"yaxis\":{\"gridcolor\":\"white\",\"linecolor\":\"white\",\"ticks\":\"\",\"title\":{\"standoff\":15},\"zerolinecolor\":\"white\",\"automargin\":true,\"zerolinewidth\":2},\"scene\":{\"xaxis\":{\"backgroundcolor\":\"#E5ECF6\",\"gridcolor\":\"white\",\"linecolor\":\"white\",\"showbackground\":true,\"ticks\":\"\",\"zerolinecolor\":\"white\",\"gridwidth\":2},\"yaxis\":{\"backgroundcolor\":\"#E5ECF6\",\"gridcolor\":\"white\",\"linecolor\":\"white\",\"showbackground\":true,\"ticks\":\"\",\"zerolinecolor\":\"white\",\"gridwidth\":2},\"zaxis\":{\"backgroundcolor\":\"#E5ECF6\",\"gridcolor\":\"white\",\"linecolor\":\"white\",\"showbackground\":true,\"ticks\":\"\",\"zerolinecolor\":\"white\",\"gridwidth\":2}},\"shapedefaults\":{\"line\":{\"color\":\"#2a3f5f\"}},\"annotationdefaults\":{\"arrowcolor\":\"#2a3f5f\",\"arrowhead\":0,\"arrowwidth\":1},\"geo\":{\"bgcolor\":\"white\",\"landcolor\":\"#E5ECF6\",\"subunitcolor\":\"white\",\"showland\":true,\"showlakes\":true,\"lakecolor\":\"white\"},\"title\":{\"x\":0.05},\"mapbox\":{\"style\":\"light\"}}},\"scene\":{\"aspectratio\":{\"x\":3,\"y\":3,\"z\":3},\"xaxis\":{\"range\":[-1.5,1.5]},\"yaxis\":{\"range\":[-1.5,1.5]},\"zaxis\":{\"range\":[-1.5,1.5]},\"aspectmode\":\"manual\"}},                        {\"responsive\": true}                    ).then(function(){\n",
       "                            \n",
       "var gd = document.getElementById('2a20b660-7de3-4c2d-8e57-4689c87d6b34');\n",
       "var x = new MutationObserver(function (mutations, observer) {{\n",
       "        var display = window.getComputedStyle(gd).display;\n",
       "        if (!display || display === 'none') {{\n",
       "            console.log([gd, 'removed!']);\n",
       "            Plotly.purge(gd);\n",
       "            observer.disconnect();\n",
       "        }}\n",
       "}});\n",
       "\n",
       "// Listen for the removal of the full notebook cells\n",
       "var notebookContainer = gd.closest('#notebook-container');\n",
       "if (notebookContainer) {{\n",
       "    x.observe(notebookContainer, {childList: true});\n",
       "}}\n",
       "\n",
       "// Listen for the clearing of the current output cell\n",
       "var outputEl = gd.closest('.output');\n",
       "if (outputEl) {{\n",
       "    x.observe(outputEl, {childList: true});\n",
       "}}\n",
       "\n",
       "                        })                };                });            </script>        </div>"
      ]
     },
     "metadata": {},
     "output_type": "display_data"
    },
    {
     "data": {
      "application/vnd.plotly.v1+json": {
       "config": {
        "plotlyServerURL": "https://plot.ly"
       },
       "data": [
        {
         "marker": {
          "opacity": 0.8,
          "size": 2
         },
         "mode": "markers",
         "type": "scatter3d",
         "x": [
          -0.0496826171875,
          -0.1033935546875,
          -0.0411376953125,
          -0.02294921875,
          -0.0615234375,
          -0.108642578125,
          -0.1707763671875,
          0.011962890625,
          0.0150146484375,
          0.008056640625,
          -0.05810546875,
          -0.1031494140625,
          -0.160888671875,
          -0.281494140625,
          0.100830078125,
          0.0703125,
          0.0419921875,
          0.001220703125,
          -0.0543212890625,
          -0.1077880859375,
          -0.161376953125,
          -0.2364501953125,
          0.2178955078125,
          0.186767578125,
          0.1231689453125,
          0.0927734375,
          0.05615234375,
          0.0133056640625,
          -0.099853515625,
          -0.15771484375,
          0.2244873046875,
          0.213134765625,
          0.1927490234375,
          0.15185546875,
          0.1131591796875,
          0.0723876953125,
          0.0360107421875,
          -0.0108642578125,
          -0.0662841796875,
          -0.14111328125,
          -0.2161865234375,
          0.2171630859375,
          0.217041015625,
          0.19677734375,
          0.1600341796875,
          0.12548828125,
          0.0848388671875,
          0.0506591796875,
          0.0145263671875,
          -0.030029296875,
          -0.0853271484375,
          -0.14501953125,
          -0.224365234375,
          0.1993408203125,
          0.2274169921875,
          0.2149658203125,
          0.2008056640625,
          0.174560546875,
          0.123291015625,
          0.0931396484375,
          0.056884765625,
          0.005859375,
          -0.03662109375,
          -0.092041015625,
          -0.14306640625,
          -0.213623046875,
          0.23828125,
          0.2274169921875,
          0.1881103515625,
          0.202880859375,
          0.1683349609375,
          0.1129150390625,
          0.0784912109375,
          0.0421142578125,
          -0.015380859375,
          -0.0687255859375,
          -0.0941162109375,
          -0.1517333984375,
          -0.2288818359375,
          0.2327880859375,
          0.197265625,
          0.1805419921875,
          0.197265625,
          0.1751708984375,
          0.1343994140625,
          0.0853271484375,
          0.0447998046875,
          0.0001220703125,
          -0.08740234375,
          -0.1129150390625,
          -0.1705322265625,
          -0.2239990234375,
          0.189453125,
          0.1917724609375,
          0.17578125,
          0.13720703125,
          0.1007080078125,
          0.0496826171875,
          0.0028076171875,
          -0.0482177734375,
          -0.12939453125,
          -0.208740234375,
          -0.236328125,
          0.2376708984375,
          0.211181640625,
          0.1463623046875,
          0.105712890625,
          0.0079345703125,
          -0.05810546875,
          0.1707763671875,
          0.185302734375,
          0.1610107421875,
          0.1307373046875,
          0.09423828125,
          0.0494384765625,
          0.0025634765625,
          -0.0484619140625,
          -0.1038818359375,
          -0.2154541015625,
          -0.3709716796875,
          0.221923828125,
          0.1766357421875,
          0.1563720703125,
          0.111328125,
          0.06005859375,
          0.025634765625,
          -0.0234375,
          -0.091796875,
          -0.156005859375,
          -0.2591552734375,
          0.153564453125,
          0.108154296875,
          0.0712890625,
          0.0386962890625,
          -0.002197265625,
          -0.06201171875,
          -0.1220703125,
          -0.1949462890625,
          -0.25732421875,
          0.12939453125,
          0.1339111328125,
          0.076171875,
          0.0435791015625,
          -0.0120849609375,
          -0.072021484375,
          -0.1533203125,
          -0.3126220703125,
          0.18798828125,
          0.1697998046875,
          0.0955810546875,
          0.0357666015625,
          -0.045166015625,
          -0.1094970703125,
          -0.1270751953125,
          -0.2000732421875,
          0.27734375,
          0.257080078125,
          0.19775390625,
          0.0736083984375,
          -0.0450439453125,
          -0.0462646484375,
          -0.10009765625,
          -0.168701171875,
          0.3526611328125,
          0.2655029296875,
          0.19384765625,
          -0.09765625,
          -0.1007080078125,
          -0.1588134765625,
          0.2891845703125,
          0.2445068359375,
          -0.085205078125,
          -0.1326904296875,
          -0.2398681640625,
          0.2490234375,
          -0.1099853515625
         ],
         "y": [
          0.000732421875,
          0.00390625,
          -0.095947265625,
          0.06103515625,
          0.0958251953125,
          0.111572265625,
          0.0968017578125,
          -0.1033935546875,
          0.02099609375,
          0.12353515625,
          0.099365234375,
          0.1207275390625,
          0.114990234375,
          -0.0223388671875,
          -0.029052734375,
          0.0225830078125,
          0.079833984375,
          0.10986328125,
          0.1083984375,
          0.111572265625,
          0.114990234375,
          0.0723876953125,
          -0.1402587890625,
          -0.0877685546875,
          0.0128173828125,
          0.0653076171875,
          0.1043701171875,
          0.1298828125,
          0.12158203125,
          0.1158447265625,
          -0.1234130859375,
          -0.0255126953125,
          0.0496826171875,
          0.0794677734375,
          0.11376953125,
          0.143798828125,
          0.182861328125,
          0.1982421875,
          0.19677734375,
          0.155029296875,
          0.1134033203125,
          -0.1456298828125,
          -0.02587890625,
          0.0491943359375,
          0.0880126953125,
          0.1314697265625,
          0.161376953125,
          0.2039794921875,
          0.2430419921875,
          0.26416015625,
          0.2628173828125,
          0.2525634765625,
          0.2021484375,
          -0.3057861328125,
          -0.1212158203125,
          -0.02783203125,
          0.06005859375,
          0.12158203125,
          0.128662109375,
          0.18115234375,
          0.22021484375,
          0.2276611328125,
          0.2523193359375,
          0.2509765625,
          0.2587890625,
          0.226318359375,
          -0.22314453125,
          -0.1251220703125,
          -0.0909423828125,
          0.0615234375,
          0.1048583984375,
          0.10205078125,
          0.1455078125,
          0.1845703125,
          0.178466796875,
          0.181640625,
          0.242431640625,
          0.2366943359375,
          0.1907958984375,
          -0.235107421875,
          -0.1917724609375,
          -0.107421875,
          0.049560546875,
          0.1201171875,
          0.1490478515625,
          0.1607666015625,
          0.1907958984375,
          0.2117919921875,
          0.1427001953125,
          0.20458984375,
          0.197998046875,
          0.2015380859375,
          -0.09521484375,
          0.0299072265625,
          0.1141357421875,
          0.1484375,
          0.1873779296875,
          0.1947021484375,
          0.211181640625,
          0.21875,
          0.1624755859375,
          0.1119384765625,
          0.1695556640625,
          0.0146484375,
          0.076171875,
          0.171875,
          0.2017822265625,
          0.2244873046875,
          0.2005615234375,
          -0.142578125,
          0.009765625,
          0.0758056640625,
          0.1282958984375,
          0.167236328125,
          0.187255859375,
          0.2037353515625,
          0.2113037109375,
          0.2100830078125,
          0.092041015625,
          -0.1156005859375,
          -0.0289306640625,
          -0.00830078125,
          0.0667724609375,
          0.087646484375,
          0.094970703125,
          0.1385498046875,
          0.149658203125,
          0.1212158203125,
          0.10205078125,
          0.002197265625,
          -0.062744140625,
          -0.0419921875,
          -0.0029296875,
          0.044189453125,
          0.07421875,
          0.0638427734375,
          0.0535888671875,
          0.0164794921875,
          0.0010986328125,
          -0.1162109375,
          0.0133056640625,
          0.006103515625,
          0.05419921875,
          0.0526123046875,
          0.042236328125,
          -0.012939453125,
          -0.1146240234375,
          0.0037841796875,
          0.0833740234375,
          0.040771484375,
          0.0301513671875,
          -0.0255126953125,
          -0.0447998046875,
          0.03515625,
          -0.0028076171875,
          0.0833740234375,
          0.158203125,
          0.1470947265625,
          -0.0040283203125,
          -0.14111328125,
          -0.0262451171875,
          -0.02294921875,
          -0.051025390625,
          0.239013671875,
          0.2843017578125,
          0.24609375,
          -0.146240234375,
          -0.0347900390625,
          -0.0404052734375,
          0.218505859375,
          0.2388916015625,
          -0.1181640625,
          -0.102294921875,
          -0.211181640625,
          0.2440185546875,
          0.626953125
         ],
         "z": [
          0.8218002319335938,
          0.8207168579101562,
          0.7581863403320312,
          0.7614059448242188,
          0.7611541748046875,
          0.7603988647460938,
          0.7587356567382812,
          0.702972412109375,
          0.7055892944335938,
          0.7075119018554688,
          0.7054595947265625,
          0.704833984375,
          0.7033538818359375,
          0.6977462768554688,
          0.6356430053710938,
          0.6361160278320312,
          0.636749267578125,
          0.6364288330078125,
          0.635009765625,
          0.6337432861328125,
          0.632476806640625,
          0.6296234130859375,
          0.5779495239257812,
          0.5785064697265625,
          0.5794677734375,
          0.5800399780273438,
          0.5800933837890625,
          0.5796356201171875,
          0.5764846801757812,
          0.5748138427734375,
          0.5206756591796875,
          0.5231781005859375,
          0.5247650146484375,
          0.524505615234375,
          0.5244293212890625,
          0.524169921875,
          0.5242843627929688,
          0.5234756469726562,
          0.52191162109375,
          0.5186767578125,
          0.51544189453125,
          0.45023345947265625,
          0.45403289794921875,
          0.45581817626953125,
          0.45599365234375,
          0.4563751220703125,
          0.456146240234375,
          0.4565277099609375,
          0.45671844482421875,
          0.45609283447265625,
          0.4544525146484375,
          0.4524078369140625,
          0.4485321044921875,
          0.37593841552734375,
          0.38312530517578125,
          0.3859710693359375,
          0.38860321044921875,
          0.38993072509765625,
          0.38864898681640625,
          0.38954925537109375,
          0.38979339599609375,
          0.38851165771484375,
          0.3881072998046875,
          0.386383056640625,
          0.385101318359375,
          0.3818511962890625,
          0.3091888427734375,
          0.312530517578125,
          0.312591552734375,
          0.318756103515625,
          0.31929779052734375,
          0.3174896240234375,
          0.3180389404296875,
          0.31835174560546875,
          0.316314697265625,
          0.3147430419921875,
          0.3162384033203125,
          0.3141937255859375,
          0.31003570556640625,
          0.2236175537109375,
          0.2242431640625,
          0.22716522216796875,
          0.234161376953125,
          0.23633575439453125,
          0.23621368408203125,
          0.235076904296875,
          0.234954833984375,
          0.2343292236328125,
          0.2285919189453125,
          0.23026275634765625,
          0.2281036376953125,
          0.2264556884765625,
          0.146148681640625,
          0.1518096923828125,
          0.1550140380859375,
          0.15521240234375,
          0.15567779541015625,
          0.15422821044921875,
          0.15332794189453125,
          0.1518707275390625,
          0.146575927734375,
          0.14154052734375,
          0.14311981201171875,
          0.07007598876953125,
          0.07208251953125,
          0.07434844970703125,
          0.074310302734375,
          0.07187652587890625,
          0.06830596923828125,
          -0.026397705078125,
          -0.0179290771484375,
          -0.0154266357421875,
          -0.01385498046875,
          -0.0132293701171875,
          -0.01385498046875,
          -0.01479339599609375,
          -0.01636505126953125,
          -0.0185699462890625,
          -0.02896881103515625,
          -0.045684814453125,
          -0.11399078369140625,
          -0.1146240234375,
          -0.1112213134765625,
          -0.111846923828125,
          -0.113494873046875,
          -0.11243438720703125,
          -0.113739013671875,
          -0.11808013916015625,
          -0.1217498779296875,
          -0.131500244140625,
          -0.2135162353515625,
          -0.21414947509765625,
          -0.213348388671875,
          -0.211822509765625,
          -0.21173858642578125,
          -0.2148895263671875,
          -0.21804046630859375,
          -0.22335052490234375,
          -0.22686767578125,
          -0.33258056640625,
          -0.32395172119140625,
          -0.326904296875,
          -0.32521820068359375,
          -0.327789306640625,
          -0.33112335205078125,
          -0.3383331298828125,
          -0.35198974609375,
          -0.42813873291015625,
          -0.423431396484375,
          -0.4298248291015625,
          -0.4333343505859375,
          -0.44097137451171875,
          -0.4453125,
          -0.44058990478515625,
          -0.4465789794921875,
          -0.5280838012695312,
          -0.523468017578125,
          -0.52716064453125,
          -0.5444107055664062,
          -0.5603561401367188,
          -0.5518035888671875,
          -0.5541915893554688,
          -0.5596389770507812,
          -0.6237258911132812,
          -0.62451171875,
          -0.6311721801757812,
          -0.6769866943359375,
          -0.6683425903320312,
          -0.6717605590820312,
          -0.7447052001953125,
          -0.745330810546875,
          -0.7929458618164062,
          -0.7940750122070312,
          -0.8089828491210938,
          -0.8670501708984375,
          -0.8529052734375
         ]
        },
        {
         "marker": {
          "color": "red",
          "opacity": 0.8,
          "size": 4
         },
         "mode": "markers",
         "type": "scatter3d",
         "x": [
          -0.10163766890764236,
          0.12382756173610687,
          0.20174124836921692,
          0.09191156923770905,
          0.07506565749645233,
          0.08892301470041275,
          0.18443018198013306,
          -0.13789218664169312,
          -0.22907289862632751,
          -0.2202230989933014,
          -0.09351316094398499,
          -0.18066641688346863,
          -0.16965734958648682
         ],
         "y": [
          -0.07620421797037125,
          -0.0555478110909462,
          -0.11993420124053955,
          -0.18299919366836548,
          -0.057065319269895554,
          -0.04209084063768387,
          0.0678456649184227,
          0.1334165781736374,
          0.14002859592437744,
          -0.011278990656137466,
          0.06234137713909149,
          0.010039037093520164,
          0.023754308000206947
         ],
         "z": [
          0.5557100772857666,
          0.41423773765563965,
          0.2216378152370453,
          0.14941632747650146,
          0.0025046467781066895,
          -0.3020212650299072,
          -0.6000601649284363,
          0.41840773820877075,
          0.22800281643867493,
          0.20807312428951263,
          0.012172994203865528,
          -0.2959100306034088,
          -0.5993614196777344
         ]
        },
        {
         "line": {
          "color": "black",
          "width": 2
         },
         "mode": "lines",
         "type": "scatter3d",
         "x": [
          -0.10163766890764236,
          -0.007032312452793121
         ],
         "y": [
          -0.07620421797037125,
          0.038934383541345596
         ],
         "z": [
          0.5557100772857666,
          0.4163227379322052
         ]
        },
        {
         "line": {
          "color": "black",
          "width": 2
         },
         "mode": "lines",
         "type": "scatter3d",
         "x": [
          0.12382756173610687,
          0.20174124836921692
         ],
         "y": [
          -0.0555478110909462,
          -0.11993420124053955
         ],
         "z": [
          0.41423773765563965,
          0.2216378152370453
         ]
        },
        {
         "line": {
          "color": "black",
          "width": 2
         },
         "mode": "lines",
         "type": "scatter3d",
         "x": [
          0.12382756173610687,
          0.07506565749645233
         ],
         "y": [
          -0.0555478110909462,
          -0.057065319269895554
         ],
         "z": [
          0.41423773765563965,
          0.0025046467781066895
         ]
        },
        {
         "line": {
          "color": "black",
          "width": 2
         },
         "mode": "lines",
         "type": "scatter3d",
         "x": [
          0.12382756173610687,
          -0.13789218664169312
         ],
         "y": [
          -0.0555478110909462,
          0.1334165781736374
         ],
         "z": [
          0.41423773765563965,
          0.41840773820877075
         ]
        },
        {
         "line": {
          "color": "black",
          "width": 2
         },
         "mode": "lines",
         "type": "scatter3d",
         "x": [
          0.20174124836921692,
          0.09191156923770905
         ],
         "y": [
          -0.11993420124053955,
          -0.18299919366836548
         ],
         "z": [
          0.2216378152370453,
          0.14941632747650146
         ]
        },
        {
         "line": {
          "color": "black",
          "width": 2
         },
         "mode": "lines",
         "type": "scatter3d",
         "x": [
          0.07506565749645233,
          0.08892301470041275
         ],
         "y": [
          -0.057065319269895554,
          -0.04209084063768387
         ],
         "z": [
          0.0025046467781066895,
          -0.3020212650299072
         ]
        },
        {
         "line": {
          "color": "black",
          "width": 2
         },
         "mode": "lines",
         "type": "scatter3d",
         "x": [
          0.07506565749645233,
          -0.09351316094398499
         ],
         "y": [
          -0.057065319269895554,
          0.06234137713909149
         ],
         "z": [
          0.0025046467781066895,
          0.012172994203865528
         ]
        },
        {
         "line": {
          "color": "black",
          "width": 2
         },
         "mode": "lines",
         "type": "scatter3d",
         "x": [
          0.08892301470041275,
          0.18443018198013306
         ],
         "y": [
          -0.04209084063768387,
          0.0678456649184227
         ],
         "z": [
          -0.3020212650299072,
          -0.6000601649284363
         ]
        },
        {
         "line": {
          "color": "black",
          "width": 2
         },
         "mode": "lines",
         "type": "scatter3d",
         "x": [
          -0.13789218664169312,
          -0.22907289862632751
         ],
         "y": [
          0.1334165781736374,
          0.14002859592437744
         ],
         "z": [
          0.41840773820877075,
          0.22800281643867493
         ]
        },
        {
         "line": {
          "color": "black",
          "width": 2
         },
         "mode": "lines",
         "type": "scatter3d",
         "x": [
          -0.13789218664169312,
          -0.09351316094398499
         ],
         "y": [
          0.1334165781736374,
          0.06234137713909149
         ],
         "z": [
          0.41840773820877075,
          0.012172994203865528
         ]
        },
        {
         "line": {
          "color": "black",
          "width": 2
         },
         "mode": "lines",
         "type": "scatter3d",
         "x": [
          -0.22907289862632751,
          -0.2202230989933014
         ],
         "y": [
          0.14002859592437744,
          -0.011278990656137466
         ],
         "z": [
          0.22800281643867493,
          0.20807312428951263
         ]
        },
        {
         "line": {
          "color": "black",
          "width": 2
         },
         "mode": "lines",
         "type": "scatter3d",
         "x": [
          -0.09351316094398499,
          -0.18066641688346863
         ],
         "y": [
          0.06234137713909149,
          0.010039037093520164
         ],
         "z": [
          0.012172994203865528,
          -0.2959100306034088
         ]
        },
        {
         "line": {
          "color": "black",
          "width": 2
         },
         "mode": "lines",
         "type": "scatter3d",
         "x": [
          -0.18066641688346863,
          -0.16965734958648682
         ],
         "y": [
          0.010039037093520164,
          0.023754308000206947
         ],
         "z": [
          -0.2959100306034088,
          -0.5993614196777344
         ]
        },
        {
         "line": {
          "color": "blue",
          "width": 2
         },
         "mode": "lines",
         "type": "scatter3d",
         "x": [
          0,
          -0.628507848542711
         ],
         "y": [
          0,
          -0.7778032426778719
         ],
         "z": [
          0,
          0
         ]
        }
       ],
       "layout": {
        "scene": {
         "aspectmode": "manual",
         "aspectratio": {
          "x": 3,
          "y": 3,
          "z": 3
         },
         "xaxis": {
          "range": [
           -1.5,
           1.5
          ]
         },
         "yaxis": {
          "range": [
           -1.5,
           1.5
          ]
         },
         "zaxis": {
          "range": [
           -1.5,
           1.5
          ]
         }
        },
        "template": {
         "data": {
          "bar": [
           {
            "error_x": {
             "color": "#2a3f5f"
            },
            "error_y": {
             "color": "#2a3f5f"
            },
            "marker": {
             "line": {
              "color": "#E5ECF6",
              "width": 0.5
             },
             "pattern": {
              "fillmode": "overlay",
              "size": 10,
              "solidity": 0.2
             }
            },
            "type": "bar"
           }
          ],
          "barpolar": [
           {
            "marker": {
             "line": {
              "color": "#E5ECF6",
              "width": 0.5
             },
             "pattern": {
              "fillmode": "overlay",
              "size": 10,
              "solidity": 0.2
             }
            },
            "type": "barpolar"
           }
          ],
          "carpet": [
           {
            "aaxis": {
             "endlinecolor": "#2a3f5f",
             "gridcolor": "white",
             "linecolor": "white",
             "minorgridcolor": "white",
             "startlinecolor": "#2a3f5f"
            },
            "baxis": {
             "endlinecolor": "#2a3f5f",
             "gridcolor": "white",
             "linecolor": "white",
             "minorgridcolor": "white",
             "startlinecolor": "#2a3f5f"
            },
            "type": "carpet"
           }
          ],
          "choropleth": [
           {
            "colorbar": {
             "outlinewidth": 0,
             "ticks": ""
            },
            "type": "choropleth"
           }
          ],
          "contour": [
           {
            "colorbar": {
             "outlinewidth": 0,
             "ticks": ""
            },
            "colorscale": [
             [
              0,
              "#0d0887"
             ],
             [
              0.1111111111111111,
              "#46039f"
             ],
             [
              0.2222222222222222,
              "#7201a8"
             ],
             [
              0.3333333333333333,
              "#9c179e"
             ],
             [
              0.4444444444444444,
              "#bd3786"
             ],
             [
              0.5555555555555556,
              "#d8576b"
             ],
             [
              0.6666666666666666,
              "#ed7953"
             ],
             [
              0.7777777777777778,
              "#fb9f3a"
             ],
             [
              0.8888888888888888,
              "#fdca26"
             ],
             [
              1,
              "#f0f921"
             ]
            ],
            "type": "contour"
           }
          ],
          "contourcarpet": [
           {
            "colorbar": {
             "outlinewidth": 0,
             "ticks": ""
            },
            "type": "contourcarpet"
           }
          ],
          "heatmap": [
           {
            "colorbar": {
             "outlinewidth": 0,
             "ticks": ""
            },
            "colorscale": [
             [
              0,
              "#0d0887"
             ],
             [
              0.1111111111111111,
              "#46039f"
             ],
             [
              0.2222222222222222,
              "#7201a8"
             ],
             [
              0.3333333333333333,
              "#9c179e"
             ],
             [
              0.4444444444444444,
              "#bd3786"
             ],
             [
              0.5555555555555556,
              "#d8576b"
             ],
             [
              0.6666666666666666,
              "#ed7953"
             ],
             [
              0.7777777777777778,
              "#fb9f3a"
             ],
             [
              0.8888888888888888,
              "#fdca26"
             ],
             [
              1,
              "#f0f921"
             ]
            ],
            "type": "heatmap"
           }
          ],
          "heatmapgl": [
           {
            "colorbar": {
             "outlinewidth": 0,
             "ticks": ""
            },
            "colorscale": [
             [
              0,
              "#0d0887"
             ],
             [
              0.1111111111111111,
              "#46039f"
             ],
             [
              0.2222222222222222,
              "#7201a8"
             ],
             [
              0.3333333333333333,
              "#9c179e"
             ],
             [
              0.4444444444444444,
              "#bd3786"
             ],
             [
              0.5555555555555556,
              "#d8576b"
             ],
             [
              0.6666666666666666,
              "#ed7953"
             ],
             [
              0.7777777777777778,
              "#fb9f3a"
             ],
             [
              0.8888888888888888,
              "#fdca26"
             ],
             [
              1,
              "#f0f921"
             ]
            ],
            "type": "heatmapgl"
           }
          ],
          "histogram": [
           {
            "marker": {
             "pattern": {
              "fillmode": "overlay",
              "size": 10,
              "solidity": 0.2
             }
            },
            "type": "histogram"
           }
          ],
          "histogram2d": [
           {
            "colorbar": {
             "outlinewidth": 0,
             "ticks": ""
            },
            "colorscale": [
             [
              0,
              "#0d0887"
             ],
             [
              0.1111111111111111,
              "#46039f"
             ],
             [
              0.2222222222222222,
              "#7201a8"
             ],
             [
              0.3333333333333333,
              "#9c179e"
             ],
             [
              0.4444444444444444,
              "#bd3786"
             ],
             [
              0.5555555555555556,
              "#d8576b"
             ],
             [
              0.6666666666666666,
              "#ed7953"
             ],
             [
              0.7777777777777778,
              "#fb9f3a"
             ],
             [
              0.8888888888888888,
              "#fdca26"
             ],
             [
              1,
              "#f0f921"
             ]
            ],
            "type": "histogram2d"
           }
          ],
          "histogram2dcontour": [
           {
            "colorbar": {
             "outlinewidth": 0,
             "ticks": ""
            },
            "colorscale": [
             [
              0,
              "#0d0887"
             ],
             [
              0.1111111111111111,
              "#46039f"
             ],
             [
              0.2222222222222222,
              "#7201a8"
             ],
             [
              0.3333333333333333,
              "#9c179e"
             ],
             [
              0.4444444444444444,
              "#bd3786"
             ],
             [
              0.5555555555555556,
              "#d8576b"
             ],
             [
              0.6666666666666666,
              "#ed7953"
             ],
             [
              0.7777777777777778,
              "#fb9f3a"
             ],
             [
              0.8888888888888888,
              "#fdca26"
             ],
             [
              1,
              "#f0f921"
             ]
            ],
            "type": "histogram2dcontour"
           }
          ],
          "mesh3d": [
           {
            "colorbar": {
             "outlinewidth": 0,
             "ticks": ""
            },
            "type": "mesh3d"
           }
          ],
          "parcoords": [
           {
            "line": {
             "colorbar": {
              "outlinewidth": 0,
              "ticks": ""
             }
            },
            "type": "parcoords"
           }
          ],
          "pie": [
           {
            "automargin": true,
            "type": "pie"
           }
          ],
          "scatter": [
           {
            "fillpattern": {
             "fillmode": "overlay",
             "size": 10,
             "solidity": 0.2
            },
            "type": "scatter"
           }
          ],
          "scatter3d": [
           {
            "line": {
             "colorbar": {
              "outlinewidth": 0,
              "ticks": ""
             }
            },
            "marker": {
             "colorbar": {
              "outlinewidth": 0,
              "ticks": ""
             }
            },
            "type": "scatter3d"
           }
          ],
          "scattercarpet": [
           {
            "marker": {
             "colorbar": {
              "outlinewidth": 0,
              "ticks": ""
             }
            },
            "type": "scattercarpet"
           }
          ],
          "scattergeo": [
           {
            "marker": {
             "colorbar": {
              "outlinewidth": 0,
              "ticks": ""
             }
            },
            "type": "scattergeo"
           }
          ],
          "scattergl": [
           {
            "marker": {
             "colorbar": {
              "outlinewidth": 0,
              "ticks": ""
             }
            },
            "type": "scattergl"
           }
          ],
          "scattermapbox": [
           {
            "marker": {
             "colorbar": {
              "outlinewidth": 0,
              "ticks": ""
             }
            },
            "type": "scattermapbox"
           }
          ],
          "scatterpolar": [
           {
            "marker": {
             "colorbar": {
              "outlinewidth": 0,
              "ticks": ""
             }
            },
            "type": "scatterpolar"
           }
          ],
          "scatterpolargl": [
           {
            "marker": {
             "colorbar": {
              "outlinewidth": 0,
              "ticks": ""
             }
            },
            "type": "scatterpolargl"
           }
          ],
          "scatterternary": [
           {
            "marker": {
             "colorbar": {
              "outlinewidth": 0,
              "ticks": ""
             }
            },
            "type": "scatterternary"
           }
          ],
          "surface": [
           {
            "colorbar": {
             "outlinewidth": 0,
             "ticks": ""
            },
            "colorscale": [
             [
              0,
              "#0d0887"
             ],
             [
              0.1111111111111111,
              "#46039f"
             ],
             [
              0.2222222222222222,
              "#7201a8"
             ],
             [
              0.3333333333333333,
              "#9c179e"
             ],
             [
              0.4444444444444444,
              "#bd3786"
             ],
             [
              0.5555555555555556,
              "#d8576b"
             ],
             [
              0.6666666666666666,
              "#ed7953"
             ],
             [
              0.7777777777777778,
              "#fb9f3a"
             ],
             [
              0.8888888888888888,
              "#fdca26"
             ],
             [
              1,
              "#f0f921"
             ]
            ],
            "type": "surface"
           }
          ],
          "table": [
           {
            "cells": {
             "fill": {
              "color": "#EBF0F8"
             },
             "line": {
              "color": "white"
             }
            },
            "header": {
             "fill": {
              "color": "#C8D4E3"
             },
             "line": {
              "color": "white"
             }
            },
            "type": "table"
           }
          ]
         },
         "layout": {
          "annotationdefaults": {
           "arrowcolor": "#2a3f5f",
           "arrowhead": 0,
           "arrowwidth": 1
          },
          "autotypenumbers": "strict",
          "coloraxis": {
           "colorbar": {
            "outlinewidth": 0,
            "ticks": ""
           }
          },
          "colorscale": {
           "diverging": [
            [
             0,
             "#8e0152"
            ],
            [
             0.1,
             "#c51b7d"
            ],
            [
             0.2,
             "#de77ae"
            ],
            [
             0.3,
             "#f1b6da"
            ],
            [
             0.4,
             "#fde0ef"
            ],
            [
             0.5,
             "#f7f7f7"
            ],
            [
             0.6,
             "#e6f5d0"
            ],
            [
             0.7,
             "#b8e186"
            ],
            [
             0.8,
             "#7fbc41"
            ],
            [
             0.9,
             "#4d9221"
            ],
            [
             1,
             "#276419"
            ]
           ],
           "sequential": [
            [
             0,
             "#0d0887"
            ],
            [
             0.1111111111111111,
             "#46039f"
            ],
            [
             0.2222222222222222,
             "#7201a8"
            ],
            [
             0.3333333333333333,
             "#9c179e"
            ],
            [
             0.4444444444444444,
             "#bd3786"
            ],
            [
             0.5555555555555556,
             "#d8576b"
            ],
            [
             0.6666666666666666,
             "#ed7953"
            ],
            [
             0.7777777777777778,
             "#fb9f3a"
            ],
            [
             0.8888888888888888,
             "#fdca26"
            ],
            [
             1,
             "#f0f921"
            ]
           ],
           "sequentialminus": [
            [
             0,
             "#0d0887"
            ],
            [
             0.1111111111111111,
             "#46039f"
            ],
            [
             0.2222222222222222,
             "#7201a8"
            ],
            [
             0.3333333333333333,
             "#9c179e"
            ],
            [
             0.4444444444444444,
             "#bd3786"
            ],
            [
             0.5555555555555556,
             "#d8576b"
            ],
            [
             0.6666666666666666,
             "#ed7953"
            ],
            [
             0.7777777777777778,
             "#fb9f3a"
            ],
            [
             0.8888888888888888,
             "#fdca26"
            ],
            [
             1,
             "#f0f921"
            ]
           ]
          },
          "colorway": [
           "#636efa",
           "#EF553B",
           "#00cc96",
           "#ab63fa",
           "#FFA15A",
           "#19d3f3",
           "#FF6692",
           "#B6E880",
           "#FF97FF",
           "#FECB52"
          ],
          "font": {
           "color": "#2a3f5f"
          },
          "geo": {
           "bgcolor": "white",
           "lakecolor": "white",
           "landcolor": "#E5ECF6",
           "showlakes": true,
           "showland": true,
           "subunitcolor": "white"
          },
          "hoverlabel": {
           "align": "left"
          },
          "hovermode": "closest",
          "mapbox": {
           "style": "light"
          },
          "paper_bgcolor": "white",
          "plot_bgcolor": "#E5ECF6",
          "polar": {
           "angularaxis": {
            "gridcolor": "white",
            "linecolor": "white",
            "ticks": ""
           },
           "bgcolor": "#E5ECF6",
           "radialaxis": {
            "gridcolor": "white",
            "linecolor": "white",
            "ticks": ""
           }
          },
          "scene": {
           "xaxis": {
            "backgroundcolor": "#E5ECF6",
            "gridcolor": "white",
            "gridwidth": 2,
            "linecolor": "white",
            "showbackground": true,
            "ticks": "",
            "zerolinecolor": "white"
           },
           "yaxis": {
            "backgroundcolor": "#E5ECF6",
            "gridcolor": "white",
            "gridwidth": 2,
            "linecolor": "white",
            "showbackground": true,
            "ticks": "",
            "zerolinecolor": "white"
           },
           "zaxis": {
            "backgroundcolor": "#E5ECF6",
            "gridcolor": "white",
            "gridwidth": 2,
            "linecolor": "white",
            "showbackground": true,
            "ticks": "",
            "zerolinecolor": "white"
           }
          },
          "shapedefaults": {
           "line": {
            "color": "#2a3f5f"
           }
          },
          "ternary": {
           "aaxis": {
            "gridcolor": "white",
            "linecolor": "white",
            "ticks": ""
           },
           "baxis": {
            "gridcolor": "white",
            "linecolor": "white",
            "ticks": ""
           },
           "bgcolor": "#E5ECF6",
           "caxis": {
            "gridcolor": "white",
            "linecolor": "white",
            "ticks": ""
           }
          },
          "title": {
           "x": 0.05
          },
          "xaxis": {
           "automargin": true,
           "gridcolor": "white",
           "linecolor": "white",
           "ticks": "",
           "title": {
            "standoff": 15
           },
           "zerolinecolor": "white",
           "zerolinewidth": 2
          },
          "yaxis": {
           "automargin": true,
           "gridcolor": "white",
           "linecolor": "white",
           "ticks": "",
           "title": {
            "standoff": 15
           },
           "zerolinecolor": "white",
           "zerolinewidth": 2
          }
         }
        }
       }
      },
      "text/html": [
       "<div>                            <div id=\"41f76f55-f808-4c48-b738-6e9dfc7bb3c8\" class=\"plotly-graph-div\" style=\"height:525px; width:100%;\"></div>            <script type=\"text/javascript\">                require([\"plotly\"], function(Plotly) {                    window.PLOTLYENV=window.PLOTLYENV || {};                                    if (document.getElementById(\"41f76f55-f808-4c48-b738-6e9dfc7bb3c8\")) {                    Plotly.newPlot(                        \"41f76f55-f808-4c48-b738-6e9dfc7bb3c8\",                        [{\"marker\":{\"opacity\":0.8,\"size\":2},\"mode\":\"markers\",\"x\":[-0.0496826171875,-0.1033935546875,-0.0411376953125,-0.02294921875,-0.0615234375,-0.108642578125,-0.1707763671875,0.011962890625,0.0150146484375,0.008056640625,-0.05810546875,-0.1031494140625,-0.160888671875,-0.281494140625,0.100830078125,0.0703125,0.0419921875,0.001220703125,-0.0543212890625,-0.1077880859375,-0.161376953125,-0.2364501953125,0.2178955078125,0.186767578125,0.1231689453125,0.0927734375,0.05615234375,0.0133056640625,-0.099853515625,-0.15771484375,0.2244873046875,0.213134765625,0.1927490234375,0.15185546875,0.1131591796875,0.0723876953125,0.0360107421875,-0.0108642578125,-0.0662841796875,-0.14111328125,-0.2161865234375,0.2171630859375,0.217041015625,0.19677734375,0.1600341796875,0.12548828125,0.0848388671875,0.0506591796875,0.0145263671875,-0.030029296875,-0.0853271484375,-0.14501953125,-0.224365234375,0.1993408203125,0.2274169921875,0.2149658203125,0.2008056640625,0.174560546875,0.123291015625,0.0931396484375,0.056884765625,0.005859375,-0.03662109375,-0.092041015625,-0.14306640625,-0.213623046875,0.23828125,0.2274169921875,0.1881103515625,0.202880859375,0.1683349609375,0.1129150390625,0.0784912109375,0.0421142578125,-0.015380859375,-0.0687255859375,-0.0941162109375,-0.1517333984375,-0.2288818359375,0.2327880859375,0.197265625,0.1805419921875,0.197265625,0.1751708984375,0.1343994140625,0.0853271484375,0.0447998046875,0.0001220703125,-0.08740234375,-0.1129150390625,-0.1705322265625,-0.2239990234375,0.189453125,0.1917724609375,0.17578125,0.13720703125,0.1007080078125,0.0496826171875,0.0028076171875,-0.0482177734375,-0.12939453125,-0.208740234375,-0.236328125,0.2376708984375,0.211181640625,0.1463623046875,0.105712890625,0.0079345703125,-0.05810546875,0.1707763671875,0.185302734375,0.1610107421875,0.1307373046875,0.09423828125,0.0494384765625,0.0025634765625,-0.0484619140625,-0.1038818359375,-0.2154541015625,-0.3709716796875,0.221923828125,0.1766357421875,0.1563720703125,0.111328125,0.06005859375,0.025634765625,-0.0234375,-0.091796875,-0.156005859375,-0.2591552734375,0.153564453125,0.108154296875,0.0712890625,0.0386962890625,-0.002197265625,-0.06201171875,-0.1220703125,-0.1949462890625,-0.25732421875,0.12939453125,0.1339111328125,0.076171875,0.0435791015625,-0.0120849609375,-0.072021484375,-0.1533203125,-0.3126220703125,0.18798828125,0.1697998046875,0.0955810546875,0.0357666015625,-0.045166015625,-0.1094970703125,-0.1270751953125,-0.2000732421875,0.27734375,0.257080078125,0.19775390625,0.0736083984375,-0.0450439453125,-0.0462646484375,-0.10009765625,-0.168701171875,0.3526611328125,0.2655029296875,0.19384765625,-0.09765625,-0.1007080078125,-0.1588134765625,0.2891845703125,0.2445068359375,-0.085205078125,-0.1326904296875,-0.2398681640625,0.2490234375,-0.1099853515625],\"y\":[0.000732421875,0.00390625,-0.095947265625,0.06103515625,0.0958251953125,0.111572265625,0.0968017578125,-0.1033935546875,0.02099609375,0.12353515625,0.099365234375,0.1207275390625,0.114990234375,-0.0223388671875,-0.029052734375,0.0225830078125,0.079833984375,0.10986328125,0.1083984375,0.111572265625,0.114990234375,0.0723876953125,-0.1402587890625,-0.0877685546875,0.0128173828125,0.0653076171875,0.1043701171875,0.1298828125,0.12158203125,0.1158447265625,-0.1234130859375,-0.0255126953125,0.0496826171875,0.0794677734375,0.11376953125,0.143798828125,0.182861328125,0.1982421875,0.19677734375,0.155029296875,0.1134033203125,-0.1456298828125,-0.02587890625,0.0491943359375,0.0880126953125,0.1314697265625,0.161376953125,0.2039794921875,0.2430419921875,0.26416015625,0.2628173828125,0.2525634765625,0.2021484375,-0.3057861328125,-0.1212158203125,-0.02783203125,0.06005859375,0.12158203125,0.128662109375,0.18115234375,0.22021484375,0.2276611328125,0.2523193359375,0.2509765625,0.2587890625,0.226318359375,-0.22314453125,-0.1251220703125,-0.0909423828125,0.0615234375,0.1048583984375,0.10205078125,0.1455078125,0.1845703125,0.178466796875,0.181640625,0.242431640625,0.2366943359375,0.1907958984375,-0.235107421875,-0.1917724609375,-0.107421875,0.049560546875,0.1201171875,0.1490478515625,0.1607666015625,0.1907958984375,0.2117919921875,0.1427001953125,0.20458984375,0.197998046875,0.2015380859375,-0.09521484375,0.0299072265625,0.1141357421875,0.1484375,0.1873779296875,0.1947021484375,0.211181640625,0.21875,0.1624755859375,0.1119384765625,0.1695556640625,0.0146484375,0.076171875,0.171875,0.2017822265625,0.2244873046875,0.2005615234375,-0.142578125,0.009765625,0.0758056640625,0.1282958984375,0.167236328125,0.187255859375,0.2037353515625,0.2113037109375,0.2100830078125,0.092041015625,-0.1156005859375,-0.0289306640625,-0.00830078125,0.0667724609375,0.087646484375,0.094970703125,0.1385498046875,0.149658203125,0.1212158203125,0.10205078125,0.002197265625,-0.062744140625,-0.0419921875,-0.0029296875,0.044189453125,0.07421875,0.0638427734375,0.0535888671875,0.0164794921875,0.0010986328125,-0.1162109375,0.0133056640625,0.006103515625,0.05419921875,0.0526123046875,0.042236328125,-0.012939453125,-0.1146240234375,0.0037841796875,0.0833740234375,0.040771484375,0.0301513671875,-0.0255126953125,-0.0447998046875,0.03515625,-0.0028076171875,0.0833740234375,0.158203125,0.1470947265625,-0.0040283203125,-0.14111328125,-0.0262451171875,-0.02294921875,-0.051025390625,0.239013671875,0.2843017578125,0.24609375,-0.146240234375,-0.0347900390625,-0.0404052734375,0.218505859375,0.2388916015625,-0.1181640625,-0.102294921875,-0.211181640625,0.2440185546875,0.626953125],\"z\":[0.8218002319335938,0.8207168579101562,0.7581863403320312,0.7614059448242188,0.7611541748046875,0.7603988647460938,0.7587356567382812,0.702972412109375,0.7055892944335938,0.7075119018554688,0.7054595947265625,0.704833984375,0.7033538818359375,0.6977462768554688,0.6356430053710938,0.6361160278320312,0.636749267578125,0.6364288330078125,0.635009765625,0.6337432861328125,0.632476806640625,0.6296234130859375,0.5779495239257812,0.5785064697265625,0.5794677734375,0.5800399780273438,0.5800933837890625,0.5796356201171875,0.5764846801757812,0.5748138427734375,0.5206756591796875,0.5231781005859375,0.5247650146484375,0.524505615234375,0.5244293212890625,0.524169921875,0.5242843627929688,0.5234756469726562,0.52191162109375,0.5186767578125,0.51544189453125,0.45023345947265625,0.45403289794921875,0.45581817626953125,0.45599365234375,0.4563751220703125,0.456146240234375,0.4565277099609375,0.45671844482421875,0.45609283447265625,0.4544525146484375,0.4524078369140625,0.4485321044921875,0.37593841552734375,0.38312530517578125,0.3859710693359375,0.38860321044921875,0.38993072509765625,0.38864898681640625,0.38954925537109375,0.38979339599609375,0.38851165771484375,0.3881072998046875,0.386383056640625,0.385101318359375,0.3818511962890625,0.3091888427734375,0.312530517578125,0.312591552734375,0.318756103515625,0.31929779052734375,0.3174896240234375,0.3180389404296875,0.31835174560546875,0.316314697265625,0.3147430419921875,0.3162384033203125,0.3141937255859375,0.31003570556640625,0.2236175537109375,0.2242431640625,0.22716522216796875,0.234161376953125,0.23633575439453125,0.23621368408203125,0.235076904296875,0.234954833984375,0.2343292236328125,0.2285919189453125,0.23026275634765625,0.2281036376953125,0.2264556884765625,0.146148681640625,0.1518096923828125,0.1550140380859375,0.15521240234375,0.15567779541015625,0.15422821044921875,0.15332794189453125,0.1518707275390625,0.146575927734375,0.14154052734375,0.14311981201171875,0.07007598876953125,0.07208251953125,0.07434844970703125,0.074310302734375,0.07187652587890625,0.06830596923828125,-0.026397705078125,-0.0179290771484375,-0.0154266357421875,-0.01385498046875,-0.0132293701171875,-0.01385498046875,-0.01479339599609375,-0.01636505126953125,-0.0185699462890625,-0.02896881103515625,-0.045684814453125,-0.11399078369140625,-0.1146240234375,-0.1112213134765625,-0.111846923828125,-0.113494873046875,-0.11243438720703125,-0.113739013671875,-0.11808013916015625,-0.1217498779296875,-0.131500244140625,-0.2135162353515625,-0.21414947509765625,-0.213348388671875,-0.211822509765625,-0.21173858642578125,-0.2148895263671875,-0.21804046630859375,-0.22335052490234375,-0.22686767578125,-0.33258056640625,-0.32395172119140625,-0.326904296875,-0.32521820068359375,-0.327789306640625,-0.33112335205078125,-0.3383331298828125,-0.35198974609375,-0.42813873291015625,-0.423431396484375,-0.4298248291015625,-0.4333343505859375,-0.44097137451171875,-0.4453125,-0.44058990478515625,-0.4465789794921875,-0.5280838012695312,-0.523468017578125,-0.52716064453125,-0.5444107055664062,-0.5603561401367188,-0.5518035888671875,-0.5541915893554688,-0.5596389770507812,-0.6237258911132812,-0.62451171875,-0.6311721801757812,-0.6769866943359375,-0.6683425903320312,-0.6717605590820312,-0.7447052001953125,-0.745330810546875,-0.7929458618164062,-0.7940750122070312,-0.8089828491210938,-0.8670501708984375,-0.8529052734375],\"type\":\"scatter3d\"},{\"marker\":{\"color\":\"red\",\"opacity\":0.8,\"size\":4},\"mode\":\"markers\",\"x\":[-0.10163766890764236,0.12382756173610687,0.20174124836921692,0.09191156923770905,0.07506565749645233,0.08892301470041275,0.18443018198013306,-0.13789218664169312,-0.22907289862632751,-0.2202230989933014,-0.09351316094398499,-0.18066641688346863,-0.16965734958648682],\"y\":[-0.07620421797037125,-0.0555478110909462,-0.11993420124053955,-0.18299919366836548,-0.057065319269895554,-0.04209084063768387,0.0678456649184227,0.1334165781736374,0.14002859592437744,-0.011278990656137466,0.06234137713909149,0.010039037093520164,0.023754308000206947],\"z\":[0.5557100772857666,0.41423773765563965,0.2216378152370453,0.14941632747650146,0.0025046467781066895,-0.3020212650299072,-0.6000601649284363,0.41840773820877075,0.22800281643867493,0.20807312428951263,0.012172994203865528,-0.2959100306034088,-0.5993614196777344],\"type\":\"scatter3d\"},{\"line\":{\"color\":\"black\",\"width\":2},\"mode\":\"lines\",\"x\":[-0.10163766890764236,-0.007032312452793121],\"y\":[-0.07620421797037125,0.038934383541345596],\"z\":[0.5557100772857666,0.4163227379322052],\"type\":\"scatter3d\"},{\"line\":{\"color\":\"black\",\"width\":2},\"mode\":\"lines\",\"x\":[0.12382756173610687,0.20174124836921692],\"y\":[-0.0555478110909462,-0.11993420124053955],\"z\":[0.41423773765563965,0.2216378152370453],\"type\":\"scatter3d\"},{\"line\":{\"color\":\"black\",\"width\":2},\"mode\":\"lines\",\"x\":[0.12382756173610687,0.07506565749645233],\"y\":[-0.0555478110909462,-0.057065319269895554],\"z\":[0.41423773765563965,0.0025046467781066895],\"type\":\"scatter3d\"},{\"line\":{\"color\":\"black\",\"width\":2},\"mode\":\"lines\",\"x\":[0.12382756173610687,-0.13789218664169312],\"y\":[-0.0555478110909462,0.1334165781736374],\"z\":[0.41423773765563965,0.41840773820877075],\"type\":\"scatter3d\"},{\"line\":{\"color\":\"black\",\"width\":2},\"mode\":\"lines\",\"x\":[0.20174124836921692,0.09191156923770905],\"y\":[-0.11993420124053955,-0.18299919366836548],\"z\":[0.2216378152370453,0.14941632747650146],\"type\":\"scatter3d\"},{\"line\":{\"color\":\"black\",\"width\":2},\"mode\":\"lines\",\"x\":[0.07506565749645233,0.08892301470041275],\"y\":[-0.057065319269895554,-0.04209084063768387],\"z\":[0.0025046467781066895,-0.3020212650299072],\"type\":\"scatter3d\"},{\"line\":{\"color\":\"black\",\"width\":2},\"mode\":\"lines\",\"x\":[0.07506565749645233,-0.09351316094398499],\"y\":[-0.057065319269895554,0.06234137713909149],\"z\":[0.0025046467781066895,0.012172994203865528],\"type\":\"scatter3d\"},{\"line\":{\"color\":\"black\",\"width\":2},\"mode\":\"lines\",\"x\":[0.08892301470041275,0.18443018198013306],\"y\":[-0.04209084063768387,0.0678456649184227],\"z\":[-0.3020212650299072,-0.6000601649284363],\"type\":\"scatter3d\"},{\"line\":{\"color\":\"black\",\"width\":2},\"mode\":\"lines\",\"x\":[-0.13789218664169312,-0.22907289862632751],\"y\":[0.1334165781736374,0.14002859592437744],\"z\":[0.41840773820877075,0.22800281643867493],\"type\":\"scatter3d\"},{\"line\":{\"color\":\"black\",\"width\":2},\"mode\":\"lines\",\"x\":[-0.13789218664169312,-0.09351316094398499],\"y\":[0.1334165781736374,0.06234137713909149],\"z\":[0.41840773820877075,0.012172994203865528],\"type\":\"scatter3d\"},{\"line\":{\"color\":\"black\",\"width\":2},\"mode\":\"lines\",\"x\":[-0.22907289862632751,-0.2202230989933014],\"y\":[0.14002859592437744,-0.011278990656137466],\"z\":[0.22800281643867493,0.20807312428951263],\"type\":\"scatter3d\"},{\"line\":{\"color\":\"black\",\"width\":2},\"mode\":\"lines\",\"x\":[-0.09351316094398499,-0.18066641688346863],\"y\":[0.06234137713909149,0.010039037093520164],\"z\":[0.012172994203865528,-0.2959100306034088],\"type\":\"scatter3d\"},{\"line\":{\"color\":\"black\",\"width\":2},\"mode\":\"lines\",\"x\":[-0.18066641688346863,-0.16965734958648682],\"y\":[0.010039037093520164,0.023754308000206947],\"z\":[-0.2959100306034088,-0.5993614196777344],\"type\":\"scatter3d\"},{\"line\":{\"color\":\"blue\",\"width\":2},\"mode\":\"lines\",\"x\":[0,-0.628507848542711],\"y\":[0,-0.7778032426778719],\"z\":[0,0],\"type\":\"scatter3d\"}],                        {\"template\":{\"data\":{\"histogram2dcontour\":[{\"type\":\"histogram2dcontour\",\"colorbar\":{\"outlinewidth\":0,\"ticks\":\"\"},\"colorscale\":[[0.0,\"#0d0887\"],[0.1111111111111111,\"#46039f\"],[0.2222222222222222,\"#7201a8\"],[0.3333333333333333,\"#9c179e\"],[0.4444444444444444,\"#bd3786\"],[0.5555555555555556,\"#d8576b\"],[0.6666666666666666,\"#ed7953\"],[0.7777777777777778,\"#fb9f3a\"],[0.8888888888888888,\"#fdca26\"],[1.0,\"#f0f921\"]]}],\"choropleth\":[{\"type\":\"choropleth\",\"colorbar\":{\"outlinewidth\":0,\"ticks\":\"\"}}],\"histogram2d\":[{\"type\":\"histogram2d\",\"colorbar\":{\"outlinewidth\":0,\"ticks\":\"\"},\"colorscale\":[[0.0,\"#0d0887\"],[0.1111111111111111,\"#46039f\"],[0.2222222222222222,\"#7201a8\"],[0.3333333333333333,\"#9c179e\"],[0.4444444444444444,\"#bd3786\"],[0.5555555555555556,\"#d8576b\"],[0.6666666666666666,\"#ed7953\"],[0.7777777777777778,\"#fb9f3a\"],[0.8888888888888888,\"#fdca26\"],[1.0,\"#f0f921\"]]}],\"heatmap\":[{\"type\":\"heatmap\",\"colorbar\":{\"outlinewidth\":0,\"ticks\":\"\"},\"colorscale\":[[0.0,\"#0d0887\"],[0.1111111111111111,\"#46039f\"],[0.2222222222222222,\"#7201a8\"],[0.3333333333333333,\"#9c179e\"],[0.4444444444444444,\"#bd3786\"],[0.5555555555555556,\"#d8576b\"],[0.6666666666666666,\"#ed7953\"],[0.7777777777777778,\"#fb9f3a\"],[0.8888888888888888,\"#fdca26\"],[1.0,\"#f0f921\"]]}],\"heatmapgl\":[{\"type\":\"heatmapgl\",\"colorbar\":{\"outlinewidth\":0,\"ticks\":\"\"},\"colorscale\":[[0.0,\"#0d0887\"],[0.1111111111111111,\"#46039f\"],[0.2222222222222222,\"#7201a8\"],[0.3333333333333333,\"#9c179e\"],[0.4444444444444444,\"#bd3786\"],[0.5555555555555556,\"#d8576b\"],[0.6666666666666666,\"#ed7953\"],[0.7777777777777778,\"#fb9f3a\"],[0.8888888888888888,\"#fdca26\"],[1.0,\"#f0f921\"]]}],\"contourcarpet\":[{\"type\":\"contourcarpet\",\"colorbar\":{\"outlinewidth\":0,\"ticks\":\"\"}}],\"contour\":[{\"type\":\"contour\",\"colorbar\":{\"outlinewidth\":0,\"ticks\":\"\"},\"colorscale\":[[0.0,\"#0d0887\"],[0.1111111111111111,\"#46039f\"],[0.2222222222222222,\"#7201a8\"],[0.3333333333333333,\"#9c179e\"],[0.4444444444444444,\"#bd3786\"],[0.5555555555555556,\"#d8576b\"],[0.6666666666666666,\"#ed7953\"],[0.7777777777777778,\"#fb9f3a\"],[0.8888888888888888,\"#fdca26\"],[1.0,\"#f0f921\"]]}],\"surface\":[{\"type\":\"surface\",\"colorbar\":{\"outlinewidth\":0,\"ticks\":\"\"},\"colorscale\":[[0.0,\"#0d0887\"],[0.1111111111111111,\"#46039f\"],[0.2222222222222222,\"#7201a8\"],[0.3333333333333333,\"#9c179e\"],[0.4444444444444444,\"#bd3786\"],[0.5555555555555556,\"#d8576b\"],[0.6666666666666666,\"#ed7953\"],[0.7777777777777778,\"#fb9f3a\"],[0.8888888888888888,\"#fdca26\"],[1.0,\"#f0f921\"]]}],\"mesh3d\":[{\"type\":\"mesh3d\",\"colorbar\":{\"outlinewidth\":0,\"ticks\":\"\"}}],\"scatter\":[{\"fillpattern\":{\"fillmode\":\"overlay\",\"size\":10,\"solidity\":0.2},\"type\":\"scatter\"}],\"parcoords\":[{\"type\":\"parcoords\",\"line\":{\"colorbar\":{\"outlinewidth\":0,\"ticks\":\"\"}}}],\"scatterpolargl\":[{\"type\":\"scatterpolargl\",\"marker\":{\"colorbar\":{\"outlinewidth\":0,\"ticks\":\"\"}}}],\"bar\":[{\"error_x\":{\"color\":\"#2a3f5f\"},\"error_y\":{\"color\":\"#2a3f5f\"},\"marker\":{\"line\":{\"color\":\"#E5ECF6\",\"width\":0.5},\"pattern\":{\"fillmode\":\"overlay\",\"size\":10,\"solidity\":0.2}},\"type\":\"bar\"}],\"scattergeo\":[{\"type\":\"scattergeo\",\"marker\":{\"colorbar\":{\"outlinewidth\":0,\"ticks\":\"\"}}}],\"scatterpolar\":[{\"type\":\"scatterpolar\",\"marker\":{\"colorbar\":{\"outlinewidth\":0,\"ticks\":\"\"}}}],\"histogram\":[{\"marker\":{\"pattern\":{\"fillmode\":\"overlay\",\"size\":10,\"solidity\":0.2}},\"type\":\"histogram\"}],\"scattergl\":[{\"type\":\"scattergl\",\"marker\":{\"colorbar\":{\"outlinewidth\":0,\"ticks\":\"\"}}}],\"scatter3d\":[{\"type\":\"scatter3d\",\"line\":{\"colorbar\":{\"outlinewidth\":0,\"ticks\":\"\"}},\"marker\":{\"colorbar\":{\"outlinewidth\":0,\"ticks\":\"\"}}}],\"scattermapbox\":[{\"type\":\"scattermapbox\",\"marker\":{\"colorbar\":{\"outlinewidth\":0,\"ticks\":\"\"}}}],\"scatterternary\":[{\"type\":\"scatterternary\",\"marker\":{\"colorbar\":{\"outlinewidth\":0,\"ticks\":\"\"}}}],\"scattercarpet\":[{\"type\":\"scattercarpet\",\"marker\":{\"colorbar\":{\"outlinewidth\":0,\"ticks\":\"\"}}}],\"carpet\":[{\"aaxis\":{\"endlinecolor\":\"#2a3f5f\",\"gridcolor\":\"white\",\"linecolor\":\"white\",\"minorgridcolor\":\"white\",\"startlinecolor\":\"#2a3f5f\"},\"baxis\":{\"endlinecolor\":\"#2a3f5f\",\"gridcolor\":\"white\",\"linecolor\":\"white\",\"minorgridcolor\":\"white\",\"startlinecolor\":\"#2a3f5f\"},\"type\":\"carpet\"}],\"table\":[{\"cells\":{\"fill\":{\"color\":\"#EBF0F8\"},\"line\":{\"color\":\"white\"}},\"header\":{\"fill\":{\"color\":\"#C8D4E3\"},\"line\":{\"color\":\"white\"}},\"type\":\"table\"}],\"barpolar\":[{\"marker\":{\"line\":{\"color\":\"#E5ECF6\",\"width\":0.5},\"pattern\":{\"fillmode\":\"overlay\",\"size\":10,\"solidity\":0.2}},\"type\":\"barpolar\"}],\"pie\":[{\"automargin\":true,\"type\":\"pie\"}]},\"layout\":{\"autotypenumbers\":\"strict\",\"colorway\":[\"#636efa\",\"#EF553B\",\"#00cc96\",\"#ab63fa\",\"#FFA15A\",\"#19d3f3\",\"#FF6692\",\"#B6E880\",\"#FF97FF\",\"#FECB52\"],\"font\":{\"color\":\"#2a3f5f\"},\"hovermode\":\"closest\",\"hoverlabel\":{\"align\":\"left\"},\"paper_bgcolor\":\"white\",\"plot_bgcolor\":\"#E5ECF6\",\"polar\":{\"bgcolor\":\"#E5ECF6\",\"angularaxis\":{\"gridcolor\":\"white\",\"linecolor\":\"white\",\"ticks\":\"\"},\"radialaxis\":{\"gridcolor\":\"white\",\"linecolor\":\"white\",\"ticks\":\"\"}},\"ternary\":{\"bgcolor\":\"#E5ECF6\",\"aaxis\":{\"gridcolor\":\"white\",\"linecolor\":\"white\",\"ticks\":\"\"},\"baxis\":{\"gridcolor\":\"white\",\"linecolor\":\"white\",\"ticks\":\"\"},\"caxis\":{\"gridcolor\":\"white\",\"linecolor\":\"white\",\"ticks\":\"\"}},\"coloraxis\":{\"colorbar\":{\"outlinewidth\":0,\"ticks\":\"\"}},\"colorscale\":{\"sequential\":[[0.0,\"#0d0887\"],[0.1111111111111111,\"#46039f\"],[0.2222222222222222,\"#7201a8\"],[0.3333333333333333,\"#9c179e\"],[0.4444444444444444,\"#bd3786\"],[0.5555555555555556,\"#d8576b\"],[0.6666666666666666,\"#ed7953\"],[0.7777777777777778,\"#fb9f3a\"],[0.8888888888888888,\"#fdca26\"],[1.0,\"#f0f921\"]],\"sequentialminus\":[[0.0,\"#0d0887\"],[0.1111111111111111,\"#46039f\"],[0.2222222222222222,\"#7201a8\"],[0.3333333333333333,\"#9c179e\"],[0.4444444444444444,\"#bd3786\"],[0.5555555555555556,\"#d8576b\"],[0.6666666666666666,\"#ed7953\"],[0.7777777777777778,\"#fb9f3a\"],[0.8888888888888888,\"#fdca26\"],[1.0,\"#f0f921\"]],\"diverging\":[[0,\"#8e0152\"],[0.1,\"#c51b7d\"],[0.2,\"#de77ae\"],[0.3,\"#f1b6da\"],[0.4,\"#fde0ef\"],[0.5,\"#f7f7f7\"],[0.6,\"#e6f5d0\"],[0.7,\"#b8e186\"],[0.8,\"#7fbc41\"],[0.9,\"#4d9221\"],[1,\"#276419\"]]},\"xaxis\":{\"gridcolor\":\"white\",\"linecolor\":\"white\",\"ticks\":\"\",\"title\":{\"standoff\":15},\"zerolinecolor\":\"white\",\"automargin\":true,\"zerolinewidth\":2},\"yaxis\":{\"gridcolor\":\"white\",\"linecolor\":\"white\",\"ticks\":\"\",\"title\":{\"standoff\":15},\"zerolinecolor\":\"white\",\"automargin\":true,\"zerolinewidth\":2},\"scene\":{\"xaxis\":{\"backgroundcolor\":\"#E5ECF6\",\"gridcolor\":\"white\",\"linecolor\":\"white\",\"showbackground\":true,\"ticks\":\"\",\"zerolinecolor\":\"white\",\"gridwidth\":2},\"yaxis\":{\"backgroundcolor\":\"#E5ECF6\",\"gridcolor\":\"white\",\"linecolor\":\"white\",\"showbackground\":true,\"ticks\":\"\",\"zerolinecolor\":\"white\",\"gridwidth\":2},\"zaxis\":{\"backgroundcolor\":\"#E5ECF6\",\"gridcolor\":\"white\",\"linecolor\":\"white\",\"showbackground\":true,\"ticks\":\"\",\"zerolinecolor\":\"white\",\"gridwidth\":2}},\"shapedefaults\":{\"line\":{\"color\":\"#2a3f5f\"}},\"annotationdefaults\":{\"arrowcolor\":\"#2a3f5f\",\"arrowhead\":0,\"arrowwidth\":1},\"geo\":{\"bgcolor\":\"white\",\"landcolor\":\"#E5ECF6\",\"subunitcolor\":\"white\",\"showland\":true,\"showlakes\":true,\"lakecolor\":\"white\"},\"title\":{\"x\":0.05},\"mapbox\":{\"style\":\"light\"}}},\"scene\":{\"aspectratio\":{\"x\":3,\"y\":3,\"z\":3},\"xaxis\":{\"range\":[-1.5,1.5]},\"yaxis\":{\"range\":[-1.5,1.5]},\"zaxis\":{\"range\":[-1.5,1.5]},\"aspectmode\":\"manual\"}},                        {\"responsive\": true}                    ).then(function(){\n",
       "                            \n",
       "var gd = document.getElementById('41f76f55-f808-4c48-b738-6e9dfc7bb3c8');\n",
       "var x = new MutationObserver(function (mutations, observer) {{\n",
       "        var display = window.getComputedStyle(gd).display;\n",
       "        if (!display || display === 'none') {{\n",
       "            console.log([gd, 'removed!']);\n",
       "            Plotly.purge(gd);\n",
       "            observer.disconnect();\n",
       "        }}\n",
       "}});\n",
       "\n",
       "// Listen for the removal of the full notebook cells\n",
       "var notebookContainer = gd.closest('#notebook-container');\n",
       "if (notebookContainer) {{\n",
       "    x.observe(notebookContainer, {childList: true});\n",
       "}}\n",
       "\n",
       "// Listen for the clearing of the current output cell\n",
       "var outputEl = gd.closest('.output');\n",
       "if (outputEl) {{\n",
       "    x.observe(outputEl, {childList: true});\n",
       "}}\n",
       "\n",
       "                        })                };                });            </script>        </div>"
      ]
     },
     "metadata": {},
     "output_type": "display_data"
    },
    {
     "data": {
      "application/vnd.plotly.v1+json": {
       "config": {
        "plotlyServerURL": "https://plot.ly"
       },
       "data": [
        {
         "marker": {
          "opacity": 0.8,
          "size": 2
         },
         "mode": "markers",
         "type": "scatter3d",
         "x": [
          -0.02978515625,
          -0.078125,
          -0.1375732421875,
          -0.183837890625,
          0.05126953125,
          0.0135498046875,
          -0.0284423828125,
          -0.063720703125,
          -0.120849609375,
          -0.1978759765625,
          0.075439453125,
          0.046142578125,
          0.025634765625,
          -0.0228271484375,
          -0.0667724609375,
          -0.121826171875,
          -0.1812744140625,
          0.1575927734375,
          0.13232421875,
          0.0986328125,
          0.0693359375,
          0.0252685546875,
          -0.0167236328125,
          -0.0760498046875,
          -0.1375732421875,
          -0.183837890625,
          -0.2523193359375,
          0.2015380859375,
          0.1717529296875,
          0.1444091796875,
          0.114990234375,
          0.0794677734375,
          0.041748046875,
          -0.002197265625,
          -0.059326171875,
          -0.1185302734375,
          -0.164794921875,
          -0.2109375,
          0.1904296875,
          0.1839599609375,
          0.1607666015625,
          0.120849609375,
          0.089599609375,
          0.0498046875,
          -0.0380859375,
          -0.08203125,
          -0.1434326171875,
          -0.2293701171875,
          -0.3177490234375,
          0.237060546875,
          0.230224609375,
          0.211181640625,
          0.1754150390625,
          0.1419677734375,
          0.1064453125,
          0.075439453125,
          0.0316162109375,
          -0.014404296875,
          -0.064697265625,
          -0.1239013671875,
          -0.1986083984375,
          -0.3046875,
          0.2608642578125,
          0.2474365234375,
          0.2301025390625,
          0.2110595703125,
          0.1795654296875,
          0.148193359375,
          0.1041259765625,
          0.066650390625,
          0.022705078125,
          -0.0211181640625,
          -0.067138671875,
          -0.1240234375,
          -0.18994140625,
          0.2034912109375,
          0.1944580078125,
          0.15185546875,
          0.1710205078125,
          0.1375732421875,
          0.09130859375,
          0.040771484375,
          0.0140380859375,
          -0.040771484375,
          -0.0999755859375,
          -0.1329345703125,
          -0.18115234375,
          -0.2449951171875,
          -0.3489990234375,
          0.2333984375,
          0.1634521484375,
          0.141845703125,
          0.171630859375,
          0.1380615234375,
          0.1090087890625,
          0.05859375,
          0.0211181640625,
          -0.027099609375,
          -0.0950927734375,
          -0.152099609375,
          -0.189453125,
          -0.2532958984375,
          -0.326171875,
          0.165771484375,
          0.19140625,
          0.1622314453125,
          0.07421875,
          0.0325927734375,
          -0.0242919921875,
          -0.1317138671875,
          -0.2264404296875,
          0.1961669921875,
          0.1837158203125,
          0.1544189453125,
          0.123291015625,
          0.079345703125,
          0.0355224609375,
          -0.014892578125,
          -0.0673828125,
          -0.1793212890625,
          0.252197265625,
          0.1802978515625,
          0.1719970703125,
          0.1490478515625,
          0.1092529296875,
          0.0675048828125,
          0.0257568359375,
          -0.02685546875,
          -0.0882568359375,
          -0.16943359375,
          0.1739501953125,
          0.17138671875,
          0.1502685546875,
          0.1123046875,
          0.0830078125,
          0.0260009765625,
          -0.0535888671875,
          -0.1259765625,
          -0.2073974609375,
          0.1309814453125,
          0.1158447265625,
          0.08203125,
          0.0018310546875,
          -0.04248046875,
          -0.0909423828125,
          -0.1461181640625,
          -0.2188720703125,
          0.0953369140625,
          0.0465087890625,
          0.0040283203125,
          -0.0040283203125,
          -0.0267333984375,
          -0.0882568359375,
          -0.1541748046875,
          -0.2532958984375,
          0.1827392578125,
          0.095947265625,
          0.045166015625,
          -0.02490234375,
          -0.08447265625,
          -0.0833740234375,
          -0.1558837890625,
          0.192138671875,
          0.2196044921875,
          0.1585693359375,
          0.0654296875,
          -0.030517578125,
          -0.0555419921875,
          -0.1041259765625,
          -0.1658935546875,
          0.2252197265625,
          0.1748046875,
          0.111572265625,
          -0.0269775390625,
          -0.0562744140625,
          -0.1158447265625,
          0.212158203125,
          -0.0101318359375,
          -0.0433349609375,
          -0.0811767578125,
          -0.4063720703125
         ],
         "y": [
          0.093994140625,
          0.1053466796875,
          0.095458984375,
          0.112548828125,
          0.0386962890625,
          0.0733642578125,
          0.09912109375,
          0.138427734375,
          0.1318359375,
          0.086181640625,
          -0.0274658203125,
          0.0252685546875,
          0.095947265625,
          0.1070556640625,
          0.12841796875,
          0.1273193359375,
          0.1175537109375,
          -0.0830078125,
          -0.0213623046875,
          0.022216796875,
          0.0738525390625,
          0.094970703125,
          0.12060546875,
          0.1104736328125,
          0.095947265625,
          0.1131591796875,
          0.0845947265625,
          -0.1109619140625,
          -0.0584716796875,
          -0.0013427734375,
          0.0501708984375,
          0.0892333984375,
          0.1239013671875,
          0.14501953125,
          0.1392822265625,
          0.1292724609375,
          0.1453857421875,
          0.16259765625,
          -0.130615234375,
          -0.0283203125,
          0.0367431640625,
          0.0667724609375,
          0.11474609375,
          0.1448974609375,
          0.187255859375,
          0.2076416015625,
          0.1932373046875,
          0.1297607421875,
          0.0621337890625,
          -0.15625,
          -0.053955078125,
          0.0201416015625,
          0.0589599609375,
          0.1024169921875,
          0.1414794921875,
          0.189453125,
          0.2105712890625,
          0.226318359375,
          0.234130859375,
          0.2242431640625,
          0.18310546875,
          0.07958984375,
          -0.220458984375,
          -0.1318359375,
          -0.05224609375,
          0.0228271484375,
          0.0697021484375,
          0.11767578125,
          0.138671875,
          0.1732177734375,
          0.1943359375,
          0.215576171875,
          0.2314453125,
          0.2259521484375,
          0.2027587890625,
          -0.2310791015625,
          -0.1331787109375,
          -0.10791015625,
          0.0487060546875,
          0.0921630859375,
          0.1085205078125,
          0.1160888671875,
          0.1722412109375,
          0.1710205078125,
          0.160888671875,
          0.204833984375,
          0.217529296875,
          0.198974609375,
          0.0992431640625,
          -0.1658935546875,
          -0.199462890625,
          -0.1287841796875,
          0.05029296875,
          0.09375,
          0.146240234375,
          0.15283203125,
          0.1875,
          0.19970703125,
          0.1717529296875,
          0.166259765625,
          0.201416015625,
          0.181884765625,
          0.145751953125,
          -0.0841064453125,
          0.0858154296875,
          0.1373291015625,
          0.17919921875,
          0.204833984375,
          0.1990966796875,
          0.2015380859375,
          0.1192626953125,
          -0.0166015625,
          0.072021484375,
          0.12451171875,
          0.17236328125,
          0.1934814453125,
          0.2144775390625,
          0.2213134765625,
          0.2247314453125,
          0.107177734375,
          -0.0208740234375,
          -0.0599365234375,
          0.03759765625,
          0.1036376953125,
          0.1336669921875,
          0.1591796875,
          0.184814453125,
          0.1871337890625,
          0.172607421875,
          0.117919921875,
          -0.1883544921875,
          -0.0780029296875,
          -0.0074462890625,
          0.0269775390625,
          0.07958984375,
          0.07373046875,
          0.13330078125,
          0.096435546875,
          0.0418701171875,
          -0.16845703125,
          -0.0843505859375,
          -0.040771484375,
          0.0196533203125,
          0.039794921875,
          0.05224609375,
          0.0513916015625,
          0.0147705078125,
          -0.1285400390625,
          -0.116455078125,
          -0.0916748046875,
          0.006103515625,
          0.072265625,
          0.0577392578125,
          0.034423828125,
          -0.0557861328125,
          -0.065185546875,
          -0.018798828125,
          -0.01220703125,
          -0.044921875,
          -0.054931640625,
          0.060791015625,
          0.0240478515625,
          -0.0433349609375,
          0.1307373046875,
          0.1156005859375,
          0.0330810546875,
          -0.0535888671875,
          0.0081787109375,
          0.0196533203125,
          0.00537109375,
          0.1322021484375,
          0.1395263671875,
          0.1199951171875,
          -0.056640625,
          -0.0037841796875,
          -0.0146484375,
          0.10498046875,
          -0.020751953125,
          0.01806640625,
          0.0528564453125,
          0.2802734375
         ],
         "z": [
          0.8302078247070312,
          0.8293533325195312,
          0.8279266357421875,
          0.8271865844726562,
          0.7701568603515625,
          0.7699203491210938,
          0.7694320678710938,
          0.7693328857421875,
          0.7679290771484375,
          0.765350341796875,
          0.7143096923828125,
          0.714691162109375,
          0.7156448364257812,
          0.7147369384765625,
          0.7141189575195312,
          0.7127761840820312,
          0.711151123046875,
          0.6451416015625,
          0.6459503173828125,
          0.6461257934570312,
          0.6466217041015625,
          0.6460037231445312,
          0.645538330078125,
          0.643798828125,
          0.6418914794921875,
          0.6411056518554688,
          0.6387176513671875,
          0.5884780883789062,
          0.5890655517578125,
          0.5898284912109375,
          0.5904159545898438,
          0.5904922485351562,
          0.59039306640625,
          0.5897674560546875,
          0.588104248046875,
          0.5862655639648438,
          0.5854721069335938,
          0.5846786499023438,
          0.5305938720703125,
          0.5333404541015625,
          0.5345840454101562,
          0.534332275390625,
          0.5348358154296875,
          0.5345916748046875,
          0.533355712890625,
          0.5327377319335938,
          0.5306167602539062,
          0.5264129638671875,
          0.5220184326171875,
          0.4625396728515625,
          0.465576171875,
          0.4673919677734375,
          0.46758270263671875,
          0.46797943115234375,
          0.46817779541015625,
          0.468780517578125,
          0.46816253662109375,
          0.46733856201171875,
          0.4661102294921875,
          0.4640655517578125,
          0.46057891845703125,
          0.45421600341796875,
          0.39376068115234375,
          0.39642333984375,
          0.398651123046875,
          0.40065765380859375,
          0.4013519287109375,
          0.4020538330078125,
          0.40142822265625,
          0.4014739990234375,
          0.40085601806640625,
          0.400238037109375,
          0.3993988037109375,
          0.39745330810546875,
          0.39463043212890625,
          0.3218841552734375,
          0.32526397705078125,
          0.3248748779296875,
          0.3313446044921875,
          0.33190155029296875,
          0.33104705810546875,
          0.3297119140625,
          0.33099365234375,
          0.32918548583984375,
          0.326904296875,
          0.32747650146484375,
          0.326385498046875,
          0.3236236572265625,
          0.31658172607421875,
          0.24179840087890625,
          0.23809051513671875,
          0.2402801513671875,
          0.24863433837890625,
          0.24929046630859375,
          0.2504730224609375,
          0.24907684326171875,
          0.24922943115234375,
          0.24810028076171875,
          0.24465179443359375,
          0.24248504638671875,
          0.242645263671875,
          0.2397003173828125,
          0.2357330322265625,
          0.1622467041015625,
          0.1707305908203125,
          0.1720428466796875,
          0.170806884765625,
          0.17046356201171875,
          0.168182373046875,
          0.164459228515625,
          0.15746307373046875,
          0.0847625732421875,
          0.08856964111328125,
          0.09001922607421875,
          0.0911712646484375,
          0.09055328369140625,
          0.089935302734375,
          0.08843231201171875,
          0.0866241455078125,
          0.076812744140625,
          0.00191497802734375,
          -0.00281524658203125,
          0.00193023681640625,
          0.00446319580078125,
          0.00447845458984375,
          0.00417327880859375,
          0.003875732421875,
          0.001983642578125,
          -0.00116729736328125,
          -0.00717926025390625,
          -0.10457611083984375,
          -0.09844207763671875,
          -0.09534454345703125,
          -0.09494781494140625,
          -0.09320068359375,
          -0.095855712890625,
          -0.09574127197265625,
          -0.10077667236328125,
          -0.10717010498046875,
          -0.19916534423828125,
          -0.19474029541015625,
          -0.1935577392578125,
          -0.19336700439453125,
          -0.1939849853515625,
          -0.19533538818359375,
          -0.1977691650390625,
          -0.203094482421875,
          -0.3115997314453125,
          -0.31301116943359375,
          -0.3132476806640625,
          -0.30727386474609375,
          -0.30400848388671875,
          -0.3077392578125,
          -0.312255859375,
          -0.322601318359375,
          -0.4083709716796875,
          -0.40921783447265625,
          -0.41107940673828125,
          -0.4166717529296875,
          -0.42018890380859375,
          -0.4121246337890625,
          -0.41812896728515625,
          -0.5151214599609375,
          -0.500823974609375,
          -0.5049591064453125,
          -0.51568603515625,
          -0.5268630981445312,
          -0.523529052734375,
          -0.5250320434570312,
          -0.5291748046875,
          -0.6104888916015625,
          -0.6125106811523438,
          -0.6173248291015625,
          -0.638458251953125,
          -0.6358184814453125,
          -0.63970947265625,
          -0.7285308837890625,
          -0.751129150390625,
          -0.87213134765625,
          -0.871185302734375,
          -0.8698348999023438
         ]
        },
        {
         "marker": {
          "color": "red",
          "opacity": 0.8,
          "size": 4
         },
         "mode": "markers",
         "type": "scatter3d",
         "x": [
          -0.09897386282682419,
          0.123506560921669,
          0.19440621137619019,
          0.07584728300571442,
          0.04919056594371796,
          -0.009340114891529083,
          0.02694990299642086,
          -0.12441755831241608,
          -0.21906018257141113,
          -0.23412854969501495,
          -0.09682910889387131,
          -0.11946658045053482,
          -0.03143847733736038
         ],
         "y": [
          -0.08826350420713425,
          -0.098600372672081,
          -0.17552855610847473,
          -0.19642770290374756,
          -0.08711723238229752,
          -0.11994855850934982,
          -0.08008363842964172,
          0.13756665587425232,
          0.15971918404102325,
          0.0019524414092302322,
          0.07685988396406174,
          0.08847422897815704,
          0.17144913971424103
         ],
         "z": [
          0.5829010009765625,
          0.43660855293273926,
          0.23349712789058685,
          0.18015652894973755,
          -0.004692241549491882,
          -0.33109331130981445,
          -0.6539729833602905,
          0.4358159899711609,
          0.2344198226928711,
          0.19772352278232574,
          0.0023522935807704926,
          -0.3299654722213745,
          -0.6514520049095154
         ]
        },
        {
         "line": {
          "color": "black",
          "width": 2
         },
         "mode": "lines",
         "type": "scatter3d",
         "x": [
          -0.09897386282682419,
          -0.00045549869537353516
         ],
         "y": [
          -0.08826350420713425,
          0.019483141601085663
         ],
         "z": [
          0.5829010009765625,
          0.4362122714519501
         ]
        },
        {
         "line": {
          "color": "black",
          "width": 2
         },
         "mode": "lines",
         "type": "scatter3d",
         "x": [
          0.123506560921669,
          0.19440621137619019
         ],
         "y": [
          -0.098600372672081,
          -0.17552855610847473
         ],
         "z": [
          0.43660855293273926,
          0.23349712789058685
         ]
        },
        {
         "line": {
          "color": "black",
          "width": 2
         },
         "mode": "lines",
         "type": "scatter3d",
         "x": [
          0.123506560921669,
          0.04919056594371796
         ],
         "y": [
          -0.098600372672081,
          -0.08711723238229752
         ],
         "z": [
          0.43660855293273926,
          -0.004692241549491882
         ]
        },
        {
         "line": {
          "color": "black",
          "width": 2
         },
         "mode": "lines",
         "type": "scatter3d",
         "x": [
          0.123506560921669,
          -0.12441755831241608
         ],
         "y": [
          -0.098600372672081,
          0.13756665587425232
         ],
         "z": [
          0.43660855293273926,
          0.4358159899711609
         ]
        },
        {
         "line": {
          "color": "black",
          "width": 2
         },
         "mode": "lines",
         "type": "scatter3d",
         "x": [
          0.19440621137619019,
          0.07584728300571442
         ],
         "y": [
          -0.17552855610847473,
          -0.19642770290374756
         ],
         "z": [
          0.23349712789058685,
          0.18015652894973755
         ]
        },
        {
         "line": {
          "color": "black",
          "width": 2
         },
         "mode": "lines",
         "type": "scatter3d",
         "x": [
          0.04919056594371796,
          -0.009340114891529083
         ],
         "y": [
          -0.08711723238229752,
          -0.11994855850934982
         ],
         "z": [
          -0.004692241549491882,
          -0.33109331130981445
         ]
        },
        {
         "line": {
          "color": "black",
          "width": 2
         },
         "mode": "lines",
         "type": "scatter3d",
         "x": [
          0.04919056594371796,
          -0.09682910889387131
         ],
         "y": [
          -0.08711723238229752,
          0.07685988396406174
         ],
         "z": [
          -0.004692241549491882,
          0.0023522935807704926
         ]
        },
        {
         "line": {
          "color": "black",
          "width": 2
         },
         "mode": "lines",
         "type": "scatter3d",
         "x": [
          -0.009340114891529083,
          0.02694990299642086
         ],
         "y": [
          -0.11994855850934982,
          -0.08008363842964172
         ],
         "z": [
          -0.33109331130981445,
          -0.6539729833602905
         ]
        },
        {
         "line": {
          "color": "black",
          "width": 2
         },
         "mode": "lines",
         "type": "scatter3d",
         "x": [
          -0.12441755831241608,
          -0.21906018257141113
         ],
         "y": [
          0.13756665587425232,
          0.15971918404102325
         ],
         "z": [
          0.4358159899711609,
          0.2344198226928711
         ]
        },
        {
         "line": {
          "color": "black",
          "width": 2
         },
         "mode": "lines",
         "type": "scatter3d",
         "x": [
          -0.12441755831241608,
          -0.09682910889387131
         ],
         "y": [
          0.13756665587425232,
          0.07685988396406174
         ],
         "z": [
          0.4358159899711609,
          0.0023522935807704926
         ]
        },
        {
         "line": {
          "color": "black",
          "width": 2
         },
         "mode": "lines",
         "type": "scatter3d",
         "x": [
          -0.21906018257141113,
          -0.23412854969501495
         ],
         "y": [
          0.15971918404102325,
          0.0019524414092302322
         ],
         "z": [
          0.2344198226928711,
          0.19772352278232574
         ]
        },
        {
         "line": {
          "color": "black",
          "width": 2
         },
         "mode": "lines",
         "type": "scatter3d",
         "x": [
          -0.09682910889387131,
          -0.11946658045053482
         ],
         "y": [
          0.07685988396406174,
          0.08847422897815704
         ],
         "z": [
          0.0023522935807704926,
          -0.3299654722213745
         ]
        },
        {
         "line": {
          "color": "black",
          "width": 2
         },
         "mode": "lines",
         "type": "scatter3d",
         "x": [
          -0.11946658045053482,
          -0.03143847733736038
         ],
         "y": [
          0.08847422897815704,
          0.17144913971424103
         ],
         "z": [
          -0.3299654722213745,
          -0.6514520049095154
         ]
        },
        {
         "line": {
          "color": "blue",
          "width": 2
         },
         "mode": "lines",
         "type": "scatter3d",
         "x": [
          0,
          -0.6324574141448958
         ],
         "y": [
          0,
          -0.7745951325002964
         ],
         "z": [
          0,
          0
         ]
        }
       ],
       "layout": {
        "scene": {
         "aspectmode": "manual",
         "aspectratio": {
          "x": 3,
          "y": 3,
          "z": 3
         },
         "xaxis": {
          "range": [
           -1.5,
           1.5
          ]
         },
         "yaxis": {
          "range": [
           -1.5,
           1.5
          ]
         },
         "zaxis": {
          "range": [
           -1.5,
           1.5
          ]
         }
        },
        "template": {
         "data": {
          "bar": [
           {
            "error_x": {
             "color": "#2a3f5f"
            },
            "error_y": {
             "color": "#2a3f5f"
            },
            "marker": {
             "line": {
              "color": "#E5ECF6",
              "width": 0.5
             },
             "pattern": {
              "fillmode": "overlay",
              "size": 10,
              "solidity": 0.2
             }
            },
            "type": "bar"
           }
          ],
          "barpolar": [
           {
            "marker": {
             "line": {
              "color": "#E5ECF6",
              "width": 0.5
             },
             "pattern": {
              "fillmode": "overlay",
              "size": 10,
              "solidity": 0.2
             }
            },
            "type": "barpolar"
           }
          ],
          "carpet": [
           {
            "aaxis": {
             "endlinecolor": "#2a3f5f",
             "gridcolor": "white",
             "linecolor": "white",
             "minorgridcolor": "white",
             "startlinecolor": "#2a3f5f"
            },
            "baxis": {
             "endlinecolor": "#2a3f5f",
             "gridcolor": "white",
             "linecolor": "white",
             "minorgridcolor": "white",
             "startlinecolor": "#2a3f5f"
            },
            "type": "carpet"
           }
          ],
          "choropleth": [
           {
            "colorbar": {
             "outlinewidth": 0,
             "ticks": ""
            },
            "type": "choropleth"
           }
          ],
          "contour": [
           {
            "colorbar": {
             "outlinewidth": 0,
             "ticks": ""
            },
            "colorscale": [
             [
              0,
              "#0d0887"
             ],
             [
              0.1111111111111111,
              "#46039f"
             ],
             [
              0.2222222222222222,
              "#7201a8"
             ],
             [
              0.3333333333333333,
              "#9c179e"
             ],
             [
              0.4444444444444444,
              "#bd3786"
             ],
             [
              0.5555555555555556,
              "#d8576b"
             ],
             [
              0.6666666666666666,
              "#ed7953"
             ],
             [
              0.7777777777777778,
              "#fb9f3a"
             ],
             [
              0.8888888888888888,
              "#fdca26"
             ],
             [
              1,
              "#f0f921"
             ]
            ],
            "type": "contour"
           }
          ],
          "contourcarpet": [
           {
            "colorbar": {
             "outlinewidth": 0,
             "ticks": ""
            },
            "type": "contourcarpet"
           }
          ],
          "heatmap": [
           {
            "colorbar": {
             "outlinewidth": 0,
             "ticks": ""
            },
            "colorscale": [
             [
              0,
              "#0d0887"
             ],
             [
              0.1111111111111111,
              "#46039f"
             ],
             [
              0.2222222222222222,
              "#7201a8"
             ],
             [
              0.3333333333333333,
              "#9c179e"
             ],
             [
              0.4444444444444444,
              "#bd3786"
             ],
             [
              0.5555555555555556,
              "#d8576b"
             ],
             [
              0.6666666666666666,
              "#ed7953"
             ],
             [
              0.7777777777777778,
              "#fb9f3a"
             ],
             [
              0.8888888888888888,
              "#fdca26"
             ],
             [
              1,
              "#f0f921"
             ]
            ],
            "type": "heatmap"
           }
          ],
          "heatmapgl": [
           {
            "colorbar": {
             "outlinewidth": 0,
             "ticks": ""
            },
            "colorscale": [
             [
              0,
              "#0d0887"
             ],
             [
              0.1111111111111111,
              "#46039f"
             ],
             [
              0.2222222222222222,
              "#7201a8"
             ],
             [
              0.3333333333333333,
              "#9c179e"
             ],
             [
              0.4444444444444444,
              "#bd3786"
             ],
             [
              0.5555555555555556,
              "#d8576b"
             ],
             [
              0.6666666666666666,
              "#ed7953"
             ],
             [
              0.7777777777777778,
              "#fb9f3a"
             ],
             [
              0.8888888888888888,
              "#fdca26"
             ],
             [
              1,
              "#f0f921"
             ]
            ],
            "type": "heatmapgl"
           }
          ],
          "histogram": [
           {
            "marker": {
             "pattern": {
              "fillmode": "overlay",
              "size": 10,
              "solidity": 0.2
             }
            },
            "type": "histogram"
           }
          ],
          "histogram2d": [
           {
            "colorbar": {
             "outlinewidth": 0,
             "ticks": ""
            },
            "colorscale": [
             [
              0,
              "#0d0887"
             ],
             [
              0.1111111111111111,
              "#46039f"
             ],
             [
              0.2222222222222222,
              "#7201a8"
             ],
             [
              0.3333333333333333,
              "#9c179e"
             ],
             [
              0.4444444444444444,
              "#bd3786"
             ],
             [
              0.5555555555555556,
              "#d8576b"
             ],
             [
              0.6666666666666666,
              "#ed7953"
             ],
             [
              0.7777777777777778,
              "#fb9f3a"
             ],
             [
              0.8888888888888888,
              "#fdca26"
             ],
             [
              1,
              "#f0f921"
             ]
            ],
            "type": "histogram2d"
           }
          ],
          "histogram2dcontour": [
           {
            "colorbar": {
             "outlinewidth": 0,
             "ticks": ""
            },
            "colorscale": [
             [
              0,
              "#0d0887"
             ],
             [
              0.1111111111111111,
              "#46039f"
             ],
             [
              0.2222222222222222,
              "#7201a8"
             ],
             [
              0.3333333333333333,
              "#9c179e"
             ],
             [
              0.4444444444444444,
              "#bd3786"
             ],
             [
              0.5555555555555556,
              "#d8576b"
             ],
             [
              0.6666666666666666,
              "#ed7953"
             ],
             [
              0.7777777777777778,
              "#fb9f3a"
             ],
             [
              0.8888888888888888,
              "#fdca26"
             ],
             [
              1,
              "#f0f921"
             ]
            ],
            "type": "histogram2dcontour"
           }
          ],
          "mesh3d": [
           {
            "colorbar": {
             "outlinewidth": 0,
             "ticks": ""
            },
            "type": "mesh3d"
           }
          ],
          "parcoords": [
           {
            "line": {
             "colorbar": {
              "outlinewidth": 0,
              "ticks": ""
             }
            },
            "type": "parcoords"
           }
          ],
          "pie": [
           {
            "automargin": true,
            "type": "pie"
           }
          ],
          "scatter": [
           {
            "fillpattern": {
             "fillmode": "overlay",
             "size": 10,
             "solidity": 0.2
            },
            "type": "scatter"
           }
          ],
          "scatter3d": [
           {
            "line": {
             "colorbar": {
              "outlinewidth": 0,
              "ticks": ""
             }
            },
            "marker": {
             "colorbar": {
              "outlinewidth": 0,
              "ticks": ""
             }
            },
            "type": "scatter3d"
           }
          ],
          "scattercarpet": [
           {
            "marker": {
             "colorbar": {
              "outlinewidth": 0,
              "ticks": ""
             }
            },
            "type": "scattercarpet"
           }
          ],
          "scattergeo": [
           {
            "marker": {
             "colorbar": {
              "outlinewidth": 0,
              "ticks": ""
             }
            },
            "type": "scattergeo"
           }
          ],
          "scattergl": [
           {
            "marker": {
             "colorbar": {
              "outlinewidth": 0,
              "ticks": ""
             }
            },
            "type": "scattergl"
           }
          ],
          "scattermapbox": [
           {
            "marker": {
             "colorbar": {
              "outlinewidth": 0,
              "ticks": ""
             }
            },
            "type": "scattermapbox"
           }
          ],
          "scatterpolar": [
           {
            "marker": {
             "colorbar": {
              "outlinewidth": 0,
              "ticks": ""
             }
            },
            "type": "scatterpolar"
           }
          ],
          "scatterpolargl": [
           {
            "marker": {
             "colorbar": {
              "outlinewidth": 0,
              "ticks": ""
             }
            },
            "type": "scatterpolargl"
           }
          ],
          "scatterternary": [
           {
            "marker": {
             "colorbar": {
              "outlinewidth": 0,
              "ticks": ""
             }
            },
            "type": "scatterternary"
           }
          ],
          "surface": [
           {
            "colorbar": {
             "outlinewidth": 0,
             "ticks": ""
            },
            "colorscale": [
             [
              0,
              "#0d0887"
             ],
             [
              0.1111111111111111,
              "#46039f"
             ],
             [
              0.2222222222222222,
              "#7201a8"
             ],
             [
              0.3333333333333333,
              "#9c179e"
             ],
             [
              0.4444444444444444,
              "#bd3786"
             ],
             [
              0.5555555555555556,
              "#d8576b"
             ],
             [
              0.6666666666666666,
              "#ed7953"
             ],
             [
              0.7777777777777778,
              "#fb9f3a"
             ],
             [
              0.8888888888888888,
              "#fdca26"
             ],
             [
              1,
              "#f0f921"
             ]
            ],
            "type": "surface"
           }
          ],
          "table": [
           {
            "cells": {
             "fill": {
              "color": "#EBF0F8"
             },
             "line": {
              "color": "white"
             }
            },
            "header": {
             "fill": {
              "color": "#C8D4E3"
             },
             "line": {
              "color": "white"
             }
            },
            "type": "table"
           }
          ]
         },
         "layout": {
          "annotationdefaults": {
           "arrowcolor": "#2a3f5f",
           "arrowhead": 0,
           "arrowwidth": 1
          },
          "autotypenumbers": "strict",
          "coloraxis": {
           "colorbar": {
            "outlinewidth": 0,
            "ticks": ""
           }
          },
          "colorscale": {
           "diverging": [
            [
             0,
             "#8e0152"
            ],
            [
             0.1,
             "#c51b7d"
            ],
            [
             0.2,
             "#de77ae"
            ],
            [
             0.3,
             "#f1b6da"
            ],
            [
             0.4,
             "#fde0ef"
            ],
            [
             0.5,
             "#f7f7f7"
            ],
            [
             0.6,
             "#e6f5d0"
            ],
            [
             0.7,
             "#b8e186"
            ],
            [
             0.8,
             "#7fbc41"
            ],
            [
             0.9,
             "#4d9221"
            ],
            [
             1,
             "#276419"
            ]
           ],
           "sequential": [
            [
             0,
             "#0d0887"
            ],
            [
             0.1111111111111111,
             "#46039f"
            ],
            [
             0.2222222222222222,
             "#7201a8"
            ],
            [
             0.3333333333333333,
             "#9c179e"
            ],
            [
             0.4444444444444444,
             "#bd3786"
            ],
            [
             0.5555555555555556,
             "#d8576b"
            ],
            [
             0.6666666666666666,
             "#ed7953"
            ],
            [
             0.7777777777777778,
             "#fb9f3a"
            ],
            [
             0.8888888888888888,
             "#fdca26"
            ],
            [
             1,
             "#f0f921"
            ]
           ],
           "sequentialminus": [
            [
             0,
             "#0d0887"
            ],
            [
             0.1111111111111111,
             "#46039f"
            ],
            [
             0.2222222222222222,
             "#7201a8"
            ],
            [
             0.3333333333333333,
             "#9c179e"
            ],
            [
             0.4444444444444444,
             "#bd3786"
            ],
            [
             0.5555555555555556,
             "#d8576b"
            ],
            [
             0.6666666666666666,
             "#ed7953"
            ],
            [
             0.7777777777777778,
             "#fb9f3a"
            ],
            [
             0.8888888888888888,
             "#fdca26"
            ],
            [
             1,
             "#f0f921"
            ]
           ]
          },
          "colorway": [
           "#636efa",
           "#EF553B",
           "#00cc96",
           "#ab63fa",
           "#FFA15A",
           "#19d3f3",
           "#FF6692",
           "#B6E880",
           "#FF97FF",
           "#FECB52"
          ],
          "font": {
           "color": "#2a3f5f"
          },
          "geo": {
           "bgcolor": "white",
           "lakecolor": "white",
           "landcolor": "#E5ECF6",
           "showlakes": true,
           "showland": true,
           "subunitcolor": "white"
          },
          "hoverlabel": {
           "align": "left"
          },
          "hovermode": "closest",
          "mapbox": {
           "style": "light"
          },
          "paper_bgcolor": "white",
          "plot_bgcolor": "#E5ECF6",
          "polar": {
           "angularaxis": {
            "gridcolor": "white",
            "linecolor": "white",
            "ticks": ""
           },
           "bgcolor": "#E5ECF6",
           "radialaxis": {
            "gridcolor": "white",
            "linecolor": "white",
            "ticks": ""
           }
          },
          "scene": {
           "xaxis": {
            "backgroundcolor": "#E5ECF6",
            "gridcolor": "white",
            "gridwidth": 2,
            "linecolor": "white",
            "showbackground": true,
            "ticks": "",
            "zerolinecolor": "white"
           },
           "yaxis": {
            "backgroundcolor": "#E5ECF6",
            "gridcolor": "white",
            "gridwidth": 2,
            "linecolor": "white",
            "showbackground": true,
            "ticks": "",
            "zerolinecolor": "white"
           },
           "zaxis": {
            "backgroundcolor": "#E5ECF6",
            "gridcolor": "white",
            "gridwidth": 2,
            "linecolor": "white",
            "showbackground": true,
            "ticks": "",
            "zerolinecolor": "white"
           }
          },
          "shapedefaults": {
           "line": {
            "color": "#2a3f5f"
           }
          },
          "ternary": {
           "aaxis": {
            "gridcolor": "white",
            "linecolor": "white",
            "ticks": ""
           },
           "baxis": {
            "gridcolor": "white",
            "linecolor": "white",
            "ticks": ""
           },
           "bgcolor": "#E5ECF6",
           "caxis": {
            "gridcolor": "white",
            "linecolor": "white",
            "ticks": ""
           }
          },
          "title": {
           "x": 0.05
          },
          "xaxis": {
           "automargin": true,
           "gridcolor": "white",
           "linecolor": "white",
           "ticks": "",
           "title": {
            "standoff": 15
           },
           "zerolinecolor": "white",
           "zerolinewidth": 2
          },
          "yaxis": {
           "automargin": true,
           "gridcolor": "white",
           "linecolor": "white",
           "ticks": "",
           "title": {
            "standoff": 15
           },
           "zerolinecolor": "white",
           "zerolinewidth": 2
          }
         }
        }
       }
      },
      "text/html": [
       "<div>                            <div id=\"b30bd23c-7ef2-4237-aa3e-e5a938290049\" class=\"plotly-graph-div\" style=\"height:525px; width:100%;\"></div>            <script type=\"text/javascript\">                require([\"plotly\"], function(Plotly) {                    window.PLOTLYENV=window.PLOTLYENV || {};                                    if (document.getElementById(\"b30bd23c-7ef2-4237-aa3e-e5a938290049\")) {                    Plotly.newPlot(                        \"b30bd23c-7ef2-4237-aa3e-e5a938290049\",                        [{\"marker\":{\"opacity\":0.8,\"size\":2},\"mode\":\"markers\",\"x\":[-0.02978515625,-0.078125,-0.1375732421875,-0.183837890625,0.05126953125,0.0135498046875,-0.0284423828125,-0.063720703125,-0.120849609375,-0.1978759765625,0.075439453125,0.046142578125,0.025634765625,-0.0228271484375,-0.0667724609375,-0.121826171875,-0.1812744140625,0.1575927734375,0.13232421875,0.0986328125,0.0693359375,0.0252685546875,-0.0167236328125,-0.0760498046875,-0.1375732421875,-0.183837890625,-0.2523193359375,0.2015380859375,0.1717529296875,0.1444091796875,0.114990234375,0.0794677734375,0.041748046875,-0.002197265625,-0.059326171875,-0.1185302734375,-0.164794921875,-0.2109375,0.1904296875,0.1839599609375,0.1607666015625,0.120849609375,0.089599609375,0.0498046875,-0.0380859375,-0.08203125,-0.1434326171875,-0.2293701171875,-0.3177490234375,0.237060546875,0.230224609375,0.211181640625,0.1754150390625,0.1419677734375,0.1064453125,0.075439453125,0.0316162109375,-0.014404296875,-0.064697265625,-0.1239013671875,-0.1986083984375,-0.3046875,0.2608642578125,0.2474365234375,0.2301025390625,0.2110595703125,0.1795654296875,0.148193359375,0.1041259765625,0.066650390625,0.022705078125,-0.0211181640625,-0.067138671875,-0.1240234375,-0.18994140625,0.2034912109375,0.1944580078125,0.15185546875,0.1710205078125,0.1375732421875,0.09130859375,0.040771484375,0.0140380859375,-0.040771484375,-0.0999755859375,-0.1329345703125,-0.18115234375,-0.2449951171875,-0.3489990234375,0.2333984375,0.1634521484375,0.141845703125,0.171630859375,0.1380615234375,0.1090087890625,0.05859375,0.0211181640625,-0.027099609375,-0.0950927734375,-0.152099609375,-0.189453125,-0.2532958984375,-0.326171875,0.165771484375,0.19140625,0.1622314453125,0.07421875,0.0325927734375,-0.0242919921875,-0.1317138671875,-0.2264404296875,0.1961669921875,0.1837158203125,0.1544189453125,0.123291015625,0.079345703125,0.0355224609375,-0.014892578125,-0.0673828125,-0.1793212890625,0.252197265625,0.1802978515625,0.1719970703125,0.1490478515625,0.1092529296875,0.0675048828125,0.0257568359375,-0.02685546875,-0.0882568359375,-0.16943359375,0.1739501953125,0.17138671875,0.1502685546875,0.1123046875,0.0830078125,0.0260009765625,-0.0535888671875,-0.1259765625,-0.2073974609375,0.1309814453125,0.1158447265625,0.08203125,0.0018310546875,-0.04248046875,-0.0909423828125,-0.1461181640625,-0.2188720703125,0.0953369140625,0.0465087890625,0.0040283203125,-0.0040283203125,-0.0267333984375,-0.0882568359375,-0.1541748046875,-0.2532958984375,0.1827392578125,0.095947265625,0.045166015625,-0.02490234375,-0.08447265625,-0.0833740234375,-0.1558837890625,0.192138671875,0.2196044921875,0.1585693359375,0.0654296875,-0.030517578125,-0.0555419921875,-0.1041259765625,-0.1658935546875,0.2252197265625,0.1748046875,0.111572265625,-0.0269775390625,-0.0562744140625,-0.1158447265625,0.212158203125,-0.0101318359375,-0.0433349609375,-0.0811767578125,-0.4063720703125],\"y\":[0.093994140625,0.1053466796875,0.095458984375,0.112548828125,0.0386962890625,0.0733642578125,0.09912109375,0.138427734375,0.1318359375,0.086181640625,-0.0274658203125,0.0252685546875,0.095947265625,0.1070556640625,0.12841796875,0.1273193359375,0.1175537109375,-0.0830078125,-0.0213623046875,0.022216796875,0.0738525390625,0.094970703125,0.12060546875,0.1104736328125,0.095947265625,0.1131591796875,0.0845947265625,-0.1109619140625,-0.0584716796875,-0.0013427734375,0.0501708984375,0.0892333984375,0.1239013671875,0.14501953125,0.1392822265625,0.1292724609375,0.1453857421875,0.16259765625,-0.130615234375,-0.0283203125,0.0367431640625,0.0667724609375,0.11474609375,0.1448974609375,0.187255859375,0.2076416015625,0.1932373046875,0.1297607421875,0.0621337890625,-0.15625,-0.053955078125,0.0201416015625,0.0589599609375,0.1024169921875,0.1414794921875,0.189453125,0.2105712890625,0.226318359375,0.234130859375,0.2242431640625,0.18310546875,0.07958984375,-0.220458984375,-0.1318359375,-0.05224609375,0.0228271484375,0.0697021484375,0.11767578125,0.138671875,0.1732177734375,0.1943359375,0.215576171875,0.2314453125,0.2259521484375,0.2027587890625,-0.2310791015625,-0.1331787109375,-0.10791015625,0.0487060546875,0.0921630859375,0.1085205078125,0.1160888671875,0.1722412109375,0.1710205078125,0.160888671875,0.204833984375,0.217529296875,0.198974609375,0.0992431640625,-0.1658935546875,-0.199462890625,-0.1287841796875,0.05029296875,0.09375,0.146240234375,0.15283203125,0.1875,0.19970703125,0.1717529296875,0.166259765625,0.201416015625,0.181884765625,0.145751953125,-0.0841064453125,0.0858154296875,0.1373291015625,0.17919921875,0.204833984375,0.1990966796875,0.2015380859375,0.1192626953125,-0.0166015625,0.072021484375,0.12451171875,0.17236328125,0.1934814453125,0.2144775390625,0.2213134765625,0.2247314453125,0.107177734375,-0.0208740234375,-0.0599365234375,0.03759765625,0.1036376953125,0.1336669921875,0.1591796875,0.184814453125,0.1871337890625,0.172607421875,0.117919921875,-0.1883544921875,-0.0780029296875,-0.0074462890625,0.0269775390625,0.07958984375,0.07373046875,0.13330078125,0.096435546875,0.0418701171875,-0.16845703125,-0.0843505859375,-0.040771484375,0.0196533203125,0.039794921875,0.05224609375,0.0513916015625,0.0147705078125,-0.1285400390625,-0.116455078125,-0.0916748046875,0.006103515625,0.072265625,0.0577392578125,0.034423828125,-0.0557861328125,-0.065185546875,-0.018798828125,-0.01220703125,-0.044921875,-0.054931640625,0.060791015625,0.0240478515625,-0.0433349609375,0.1307373046875,0.1156005859375,0.0330810546875,-0.0535888671875,0.0081787109375,0.0196533203125,0.00537109375,0.1322021484375,0.1395263671875,0.1199951171875,-0.056640625,-0.0037841796875,-0.0146484375,0.10498046875,-0.020751953125,0.01806640625,0.0528564453125,0.2802734375],\"z\":[0.8302078247070312,0.8293533325195312,0.8279266357421875,0.8271865844726562,0.7701568603515625,0.7699203491210938,0.7694320678710938,0.7693328857421875,0.7679290771484375,0.765350341796875,0.7143096923828125,0.714691162109375,0.7156448364257812,0.7147369384765625,0.7141189575195312,0.7127761840820312,0.711151123046875,0.6451416015625,0.6459503173828125,0.6461257934570312,0.6466217041015625,0.6460037231445312,0.645538330078125,0.643798828125,0.6418914794921875,0.6411056518554688,0.6387176513671875,0.5884780883789062,0.5890655517578125,0.5898284912109375,0.5904159545898438,0.5904922485351562,0.59039306640625,0.5897674560546875,0.588104248046875,0.5862655639648438,0.5854721069335938,0.5846786499023438,0.5305938720703125,0.5333404541015625,0.5345840454101562,0.534332275390625,0.5348358154296875,0.5345916748046875,0.533355712890625,0.5327377319335938,0.5306167602539062,0.5264129638671875,0.5220184326171875,0.4625396728515625,0.465576171875,0.4673919677734375,0.46758270263671875,0.46797943115234375,0.46817779541015625,0.468780517578125,0.46816253662109375,0.46733856201171875,0.4661102294921875,0.4640655517578125,0.46057891845703125,0.45421600341796875,0.39376068115234375,0.39642333984375,0.398651123046875,0.40065765380859375,0.4013519287109375,0.4020538330078125,0.40142822265625,0.4014739990234375,0.40085601806640625,0.400238037109375,0.3993988037109375,0.39745330810546875,0.39463043212890625,0.3218841552734375,0.32526397705078125,0.3248748779296875,0.3313446044921875,0.33190155029296875,0.33104705810546875,0.3297119140625,0.33099365234375,0.32918548583984375,0.326904296875,0.32747650146484375,0.326385498046875,0.3236236572265625,0.31658172607421875,0.24179840087890625,0.23809051513671875,0.2402801513671875,0.24863433837890625,0.24929046630859375,0.2504730224609375,0.24907684326171875,0.24922943115234375,0.24810028076171875,0.24465179443359375,0.24248504638671875,0.242645263671875,0.2397003173828125,0.2357330322265625,0.1622467041015625,0.1707305908203125,0.1720428466796875,0.170806884765625,0.17046356201171875,0.168182373046875,0.164459228515625,0.15746307373046875,0.0847625732421875,0.08856964111328125,0.09001922607421875,0.0911712646484375,0.09055328369140625,0.089935302734375,0.08843231201171875,0.0866241455078125,0.076812744140625,0.00191497802734375,-0.00281524658203125,0.00193023681640625,0.00446319580078125,0.00447845458984375,0.00417327880859375,0.003875732421875,0.001983642578125,-0.00116729736328125,-0.00717926025390625,-0.10457611083984375,-0.09844207763671875,-0.09534454345703125,-0.09494781494140625,-0.09320068359375,-0.095855712890625,-0.09574127197265625,-0.10077667236328125,-0.10717010498046875,-0.19916534423828125,-0.19474029541015625,-0.1935577392578125,-0.19336700439453125,-0.1939849853515625,-0.19533538818359375,-0.1977691650390625,-0.203094482421875,-0.3115997314453125,-0.31301116943359375,-0.3132476806640625,-0.30727386474609375,-0.30400848388671875,-0.3077392578125,-0.312255859375,-0.322601318359375,-0.4083709716796875,-0.40921783447265625,-0.41107940673828125,-0.4166717529296875,-0.42018890380859375,-0.4121246337890625,-0.41812896728515625,-0.5151214599609375,-0.500823974609375,-0.5049591064453125,-0.51568603515625,-0.5268630981445312,-0.523529052734375,-0.5250320434570312,-0.5291748046875,-0.6104888916015625,-0.6125106811523438,-0.6173248291015625,-0.638458251953125,-0.6358184814453125,-0.63970947265625,-0.7285308837890625,-0.751129150390625,-0.87213134765625,-0.871185302734375,-0.8698348999023438],\"type\":\"scatter3d\"},{\"marker\":{\"color\":\"red\",\"opacity\":0.8,\"size\":4},\"mode\":\"markers\",\"x\":[-0.09897386282682419,0.123506560921669,0.19440621137619019,0.07584728300571442,0.04919056594371796,-0.009340114891529083,0.02694990299642086,-0.12441755831241608,-0.21906018257141113,-0.23412854969501495,-0.09682910889387131,-0.11946658045053482,-0.03143847733736038],\"y\":[-0.08826350420713425,-0.098600372672081,-0.17552855610847473,-0.19642770290374756,-0.08711723238229752,-0.11994855850934982,-0.08008363842964172,0.13756665587425232,0.15971918404102325,0.0019524414092302322,0.07685988396406174,0.08847422897815704,0.17144913971424103],\"z\":[0.5829010009765625,0.43660855293273926,0.23349712789058685,0.18015652894973755,-0.004692241549491882,-0.33109331130981445,-0.6539729833602905,0.4358159899711609,0.2344198226928711,0.19772352278232574,0.0023522935807704926,-0.3299654722213745,-0.6514520049095154],\"type\":\"scatter3d\"},{\"line\":{\"color\":\"black\",\"width\":2},\"mode\":\"lines\",\"x\":[-0.09897386282682419,-0.00045549869537353516],\"y\":[-0.08826350420713425,0.019483141601085663],\"z\":[0.5829010009765625,0.4362122714519501],\"type\":\"scatter3d\"},{\"line\":{\"color\":\"black\",\"width\":2},\"mode\":\"lines\",\"x\":[0.123506560921669,0.19440621137619019],\"y\":[-0.098600372672081,-0.17552855610847473],\"z\":[0.43660855293273926,0.23349712789058685],\"type\":\"scatter3d\"},{\"line\":{\"color\":\"black\",\"width\":2},\"mode\":\"lines\",\"x\":[0.123506560921669,0.04919056594371796],\"y\":[-0.098600372672081,-0.08711723238229752],\"z\":[0.43660855293273926,-0.004692241549491882],\"type\":\"scatter3d\"},{\"line\":{\"color\":\"black\",\"width\":2},\"mode\":\"lines\",\"x\":[0.123506560921669,-0.12441755831241608],\"y\":[-0.098600372672081,0.13756665587425232],\"z\":[0.43660855293273926,0.4358159899711609],\"type\":\"scatter3d\"},{\"line\":{\"color\":\"black\",\"width\":2},\"mode\":\"lines\",\"x\":[0.19440621137619019,0.07584728300571442],\"y\":[-0.17552855610847473,-0.19642770290374756],\"z\":[0.23349712789058685,0.18015652894973755],\"type\":\"scatter3d\"},{\"line\":{\"color\":\"black\",\"width\":2},\"mode\":\"lines\",\"x\":[0.04919056594371796,-0.009340114891529083],\"y\":[-0.08711723238229752,-0.11994855850934982],\"z\":[-0.004692241549491882,-0.33109331130981445],\"type\":\"scatter3d\"},{\"line\":{\"color\":\"black\",\"width\":2},\"mode\":\"lines\",\"x\":[0.04919056594371796,-0.09682910889387131],\"y\":[-0.08711723238229752,0.07685988396406174],\"z\":[-0.004692241549491882,0.0023522935807704926],\"type\":\"scatter3d\"},{\"line\":{\"color\":\"black\",\"width\":2},\"mode\":\"lines\",\"x\":[-0.009340114891529083,0.02694990299642086],\"y\":[-0.11994855850934982,-0.08008363842964172],\"z\":[-0.33109331130981445,-0.6539729833602905],\"type\":\"scatter3d\"},{\"line\":{\"color\":\"black\",\"width\":2},\"mode\":\"lines\",\"x\":[-0.12441755831241608,-0.21906018257141113],\"y\":[0.13756665587425232,0.15971918404102325],\"z\":[0.4358159899711609,0.2344198226928711],\"type\":\"scatter3d\"},{\"line\":{\"color\":\"black\",\"width\":2},\"mode\":\"lines\",\"x\":[-0.12441755831241608,-0.09682910889387131],\"y\":[0.13756665587425232,0.07685988396406174],\"z\":[0.4358159899711609,0.0023522935807704926],\"type\":\"scatter3d\"},{\"line\":{\"color\":\"black\",\"width\":2},\"mode\":\"lines\",\"x\":[-0.21906018257141113,-0.23412854969501495],\"y\":[0.15971918404102325,0.0019524414092302322],\"z\":[0.2344198226928711,0.19772352278232574],\"type\":\"scatter3d\"},{\"line\":{\"color\":\"black\",\"width\":2},\"mode\":\"lines\",\"x\":[-0.09682910889387131,-0.11946658045053482],\"y\":[0.07685988396406174,0.08847422897815704],\"z\":[0.0023522935807704926,-0.3299654722213745],\"type\":\"scatter3d\"},{\"line\":{\"color\":\"black\",\"width\":2},\"mode\":\"lines\",\"x\":[-0.11946658045053482,-0.03143847733736038],\"y\":[0.08847422897815704,0.17144913971424103],\"z\":[-0.3299654722213745,-0.6514520049095154],\"type\":\"scatter3d\"},{\"line\":{\"color\":\"blue\",\"width\":2},\"mode\":\"lines\",\"x\":[0,-0.6324574141448958],\"y\":[0,-0.7745951325002964],\"z\":[0,0],\"type\":\"scatter3d\"}],                        {\"template\":{\"data\":{\"histogram2dcontour\":[{\"type\":\"histogram2dcontour\",\"colorbar\":{\"outlinewidth\":0,\"ticks\":\"\"},\"colorscale\":[[0.0,\"#0d0887\"],[0.1111111111111111,\"#46039f\"],[0.2222222222222222,\"#7201a8\"],[0.3333333333333333,\"#9c179e\"],[0.4444444444444444,\"#bd3786\"],[0.5555555555555556,\"#d8576b\"],[0.6666666666666666,\"#ed7953\"],[0.7777777777777778,\"#fb9f3a\"],[0.8888888888888888,\"#fdca26\"],[1.0,\"#f0f921\"]]}],\"choropleth\":[{\"type\":\"choropleth\",\"colorbar\":{\"outlinewidth\":0,\"ticks\":\"\"}}],\"histogram2d\":[{\"type\":\"histogram2d\",\"colorbar\":{\"outlinewidth\":0,\"ticks\":\"\"},\"colorscale\":[[0.0,\"#0d0887\"],[0.1111111111111111,\"#46039f\"],[0.2222222222222222,\"#7201a8\"],[0.3333333333333333,\"#9c179e\"],[0.4444444444444444,\"#bd3786\"],[0.5555555555555556,\"#d8576b\"],[0.6666666666666666,\"#ed7953\"],[0.7777777777777778,\"#fb9f3a\"],[0.8888888888888888,\"#fdca26\"],[1.0,\"#f0f921\"]]}],\"heatmap\":[{\"type\":\"heatmap\",\"colorbar\":{\"outlinewidth\":0,\"ticks\":\"\"},\"colorscale\":[[0.0,\"#0d0887\"],[0.1111111111111111,\"#46039f\"],[0.2222222222222222,\"#7201a8\"],[0.3333333333333333,\"#9c179e\"],[0.4444444444444444,\"#bd3786\"],[0.5555555555555556,\"#d8576b\"],[0.6666666666666666,\"#ed7953\"],[0.7777777777777778,\"#fb9f3a\"],[0.8888888888888888,\"#fdca26\"],[1.0,\"#f0f921\"]]}],\"heatmapgl\":[{\"type\":\"heatmapgl\",\"colorbar\":{\"outlinewidth\":0,\"ticks\":\"\"},\"colorscale\":[[0.0,\"#0d0887\"],[0.1111111111111111,\"#46039f\"],[0.2222222222222222,\"#7201a8\"],[0.3333333333333333,\"#9c179e\"],[0.4444444444444444,\"#bd3786\"],[0.5555555555555556,\"#d8576b\"],[0.6666666666666666,\"#ed7953\"],[0.7777777777777778,\"#fb9f3a\"],[0.8888888888888888,\"#fdca26\"],[1.0,\"#f0f921\"]]}],\"contourcarpet\":[{\"type\":\"contourcarpet\",\"colorbar\":{\"outlinewidth\":0,\"ticks\":\"\"}}],\"contour\":[{\"type\":\"contour\",\"colorbar\":{\"outlinewidth\":0,\"ticks\":\"\"},\"colorscale\":[[0.0,\"#0d0887\"],[0.1111111111111111,\"#46039f\"],[0.2222222222222222,\"#7201a8\"],[0.3333333333333333,\"#9c179e\"],[0.4444444444444444,\"#bd3786\"],[0.5555555555555556,\"#d8576b\"],[0.6666666666666666,\"#ed7953\"],[0.7777777777777778,\"#fb9f3a\"],[0.8888888888888888,\"#fdca26\"],[1.0,\"#f0f921\"]]}],\"surface\":[{\"type\":\"surface\",\"colorbar\":{\"outlinewidth\":0,\"ticks\":\"\"},\"colorscale\":[[0.0,\"#0d0887\"],[0.1111111111111111,\"#46039f\"],[0.2222222222222222,\"#7201a8\"],[0.3333333333333333,\"#9c179e\"],[0.4444444444444444,\"#bd3786\"],[0.5555555555555556,\"#d8576b\"],[0.6666666666666666,\"#ed7953\"],[0.7777777777777778,\"#fb9f3a\"],[0.8888888888888888,\"#fdca26\"],[1.0,\"#f0f921\"]]}],\"mesh3d\":[{\"type\":\"mesh3d\",\"colorbar\":{\"outlinewidth\":0,\"ticks\":\"\"}}],\"scatter\":[{\"fillpattern\":{\"fillmode\":\"overlay\",\"size\":10,\"solidity\":0.2},\"type\":\"scatter\"}],\"parcoords\":[{\"type\":\"parcoords\",\"line\":{\"colorbar\":{\"outlinewidth\":0,\"ticks\":\"\"}}}],\"scatterpolargl\":[{\"type\":\"scatterpolargl\",\"marker\":{\"colorbar\":{\"outlinewidth\":0,\"ticks\":\"\"}}}],\"bar\":[{\"error_x\":{\"color\":\"#2a3f5f\"},\"error_y\":{\"color\":\"#2a3f5f\"},\"marker\":{\"line\":{\"color\":\"#E5ECF6\",\"width\":0.5},\"pattern\":{\"fillmode\":\"overlay\",\"size\":10,\"solidity\":0.2}},\"type\":\"bar\"}],\"scattergeo\":[{\"type\":\"scattergeo\",\"marker\":{\"colorbar\":{\"outlinewidth\":0,\"ticks\":\"\"}}}],\"scatterpolar\":[{\"type\":\"scatterpolar\",\"marker\":{\"colorbar\":{\"outlinewidth\":0,\"ticks\":\"\"}}}],\"histogram\":[{\"marker\":{\"pattern\":{\"fillmode\":\"overlay\",\"size\":10,\"solidity\":0.2}},\"type\":\"histogram\"}],\"scattergl\":[{\"type\":\"scattergl\",\"marker\":{\"colorbar\":{\"outlinewidth\":0,\"ticks\":\"\"}}}],\"scatter3d\":[{\"type\":\"scatter3d\",\"line\":{\"colorbar\":{\"outlinewidth\":0,\"ticks\":\"\"}},\"marker\":{\"colorbar\":{\"outlinewidth\":0,\"ticks\":\"\"}}}],\"scattermapbox\":[{\"type\":\"scattermapbox\",\"marker\":{\"colorbar\":{\"outlinewidth\":0,\"ticks\":\"\"}}}],\"scatterternary\":[{\"type\":\"scatterternary\",\"marker\":{\"colorbar\":{\"outlinewidth\":0,\"ticks\":\"\"}}}],\"scattercarpet\":[{\"type\":\"scattercarpet\",\"marker\":{\"colorbar\":{\"outlinewidth\":0,\"ticks\":\"\"}}}],\"carpet\":[{\"aaxis\":{\"endlinecolor\":\"#2a3f5f\",\"gridcolor\":\"white\",\"linecolor\":\"white\",\"minorgridcolor\":\"white\",\"startlinecolor\":\"#2a3f5f\"},\"baxis\":{\"endlinecolor\":\"#2a3f5f\",\"gridcolor\":\"white\",\"linecolor\":\"white\",\"minorgridcolor\":\"white\",\"startlinecolor\":\"#2a3f5f\"},\"type\":\"carpet\"}],\"table\":[{\"cells\":{\"fill\":{\"color\":\"#EBF0F8\"},\"line\":{\"color\":\"white\"}},\"header\":{\"fill\":{\"color\":\"#C8D4E3\"},\"line\":{\"color\":\"white\"}},\"type\":\"table\"}],\"barpolar\":[{\"marker\":{\"line\":{\"color\":\"#E5ECF6\",\"width\":0.5},\"pattern\":{\"fillmode\":\"overlay\",\"size\":10,\"solidity\":0.2}},\"type\":\"barpolar\"}],\"pie\":[{\"automargin\":true,\"type\":\"pie\"}]},\"layout\":{\"autotypenumbers\":\"strict\",\"colorway\":[\"#636efa\",\"#EF553B\",\"#00cc96\",\"#ab63fa\",\"#FFA15A\",\"#19d3f3\",\"#FF6692\",\"#B6E880\",\"#FF97FF\",\"#FECB52\"],\"font\":{\"color\":\"#2a3f5f\"},\"hovermode\":\"closest\",\"hoverlabel\":{\"align\":\"left\"},\"paper_bgcolor\":\"white\",\"plot_bgcolor\":\"#E5ECF6\",\"polar\":{\"bgcolor\":\"#E5ECF6\",\"angularaxis\":{\"gridcolor\":\"white\",\"linecolor\":\"white\",\"ticks\":\"\"},\"radialaxis\":{\"gridcolor\":\"white\",\"linecolor\":\"white\",\"ticks\":\"\"}},\"ternary\":{\"bgcolor\":\"#E5ECF6\",\"aaxis\":{\"gridcolor\":\"white\",\"linecolor\":\"white\",\"ticks\":\"\"},\"baxis\":{\"gridcolor\":\"white\",\"linecolor\":\"white\",\"ticks\":\"\"},\"caxis\":{\"gridcolor\":\"white\",\"linecolor\":\"white\",\"ticks\":\"\"}},\"coloraxis\":{\"colorbar\":{\"outlinewidth\":0,\"ticks\":\"\"}},\"colorscale\":{\"sequential\":[[0.0,\"#0d0887\"],[0.1111111111111111,\"#46039f\"],[0.2222222222222222,\"#7201a8\"],[0.3333333333333333,\"#9c179e\"],[0.4444444444444444,\"#bd3786\"],[0.5555555555555556,\"#d8576b\"],[0.6666666666666666,\"#ed7953\"],[0.7777777777777778,\"#fb9f3a\"],[0.8888888888888888,\"#fdca26\"],[1.0,\"#f0f921\"]],\"sequentialminus\":[[0.0,\"#0d0887\"],[0.1111111111111111,\"#46039f\"],[0.2222222222222222,\"#7201a8\"],[0.3333333333333333,\"#9c179e\"],[0.4444444444444444,\"#bd3786\"],[0.5555555555555556,\"#d8576b\"],[0.6666666666666666,\"#ed7953\"],[0.7777777777777778,\"#fb9f3a\"],[0.8888888888888888,\"#fdca26\"],[1.0,\"#f0f921\"]],\"diverging\":[[0,\"#8e0152\"],[0.1,\"#c51b7d\"],[0.2,\"#de77ae\"],[0.3,\"#f1b6da\"],[0.4,\"#fde0ef\"],[0.5,\"#f7f7f7\"],[0.6,\"#e6f5d0\"],[0.7,\"#b8e186\"],[0.8,\"#7fbc41\"],[0.9,\"#4d9221\"],[1,\"#276419\"]]},\"xaxis\":{\"gridcolor\":\"white\",\"linecolor\":\"white\",\"ticks\":\"\",\"title\":{\"standoff\":15},\"zerolinecolor\":\"white\",\"automargin\":true,\"zerolinewidth\":2},\"yaxis\":{\"gridcolor\":\"white\",\"linecolor\":\"white\",\"ticks\":\"\",\"title\":{\"standoff\":15},\"zerolinecolor\":\"white\",\"automargin\":true,\"zerolinewidth\":2},\"scene\":{\"xaxis\":{\"backgroundcolor\":\"#E5ECF6\",\"gridcolor\":\"white\",\"linecolor\":\"white\",\"showbackground\":true,\"ticks\":\"\",\"zerolinecolor\":\"white\",\"gridwidth\":2},\"yaxis\":{\"backgroundcolor\":\"#E5ECF6\",\"gridcolor\":\"white\",\"linecolor\":\"white\",\"showbackground\":true,\"ticks\":\"\",\"zerolinecolor\":\"white\",\"gridwidth\":2},\"zaxis\":{\"backgroundcolor\":\"#E5ECF6\",\"gridcolor\":\"white\",\"linecolor\":\"white\",\"showbackground\":true,\"ticks\":\"\",\"zerolinecolor\":\"white\",\"gridwidth\":2}},\"shapedefaults\":{\"line\":{\"color\":\"#2a3f5f\"}},\"annotationdefaults\":{\"arrowcolor\":\"#2a3f5f\",\"arrowhead\":0,\"arrowwidth\":1},\"geo\":{\"bgcolor\":\"white\",\"landcolor\":\"#E5ECF6\",\"subunitcolor\":\"white\",\"showland\":true,\"showlakes\":true,\"lakecolor\":\"white\"},\"title\":{\"x\":0.05},\"mapbox\":{\"style\":\"light\"}}},\"scene\":{\"aspectratio\":{\"x\":3,\"y\":3,\"z\":3},\"xaxis\":{\"range\":[-1.5,1.5]},\"yaxis\":{\"range\":[-1.5,1.5]},\"zaxis\":{\"range\":[-1.5,1.5]},\"aspectmode\":\"manual\"}},                        {\"responsive\": true}                    ).then(function(){\n",
       "                            \n",
       "var gd = document.getElementById('b30bd23c-7ef2-4237-aa3e-e5a938290049');\n",
       "var x = new MutationObserver(function (mutations, observer) {{\n",
       "        var display = window.getComputedStyle(gd).display;\n",
       "        if (!display || display === 'none') {{\n",
       "            console.log([gd, 'removed!']);\n",
       "            Plotly.purge(gd);\n",
       "            observer.disconnect();\n",
       "        }}\n",
       "}});\n",
       "\n",
       "// Listen for the removal of the full notebook cells\n",
       "var notebookContainer = gd.closest('#notebook-container');\n",
       "if (notebookContainer) {{\n",
       "    x.observe(notebookContainer, {childList: true});\n",
       "}}\n",
       "\n",
       "// Listen for the clearing of the current output cell\n",
       "var outputEl = gd.closest('.output');\n",
       "if (outputEl) {{\n",
       "    x.observe(outputEl, {childList: true});\n",
       "}}\n",
       "\n",
       "                        })                };                });            </script>        </div>"
      ]
     },
     "metadata": {},
     "output_type": "display_data"
    },
    {
     "data": {
      "application/vnd.plotly.v1+json": {
       "config": {
        "plotlyServerURL": "https://plot.ly"
       },
       "data": [
        {
         "marker": {
          "opacity": 0.8,
          "size": 2
         },
         "mode": "markers",
         "type": "scatter3d",
         "x": [
          0.0169677734375,
          0.04150390625,
          -0.0172119140625,
          -0.067138671875,
          -0.1082763671875,
          0.0904541015625,
          0.0599365234375,
          0.0274658203125,
          -0.01806640625,
          -0.0546875,
          -0.111328125,
          0.0721435546875,
          0.03759765625,
          0.01416015625,
          -0.0966796875,
          -0.151123046875,
          -0.19873046875,
          -0.2374267578125,
          0.15478515625,
          0.13916015625,
          0.0977783203125,
          0.0673828125,
          0.030517578125,
          -0.0084228515625,
          -0.0517578125,
          -0.1016845703125,
          -0.1448974609375,
          -0.2060546875,
          0.17138671875,
          0.142822265625,
          0.1253662109375,
          0.0885009765625,
          0.053955078125,
          0.0107421875,
          -0.03466796875,
          -0.093505859375,
          -0.1590576171875,
          -0.1910400390625,
          -0.259033203125,
          0.1844482421875,
          0.185791015625,
          0.163818359375,
          0.139892578125,
          0.1009521484375,
          0.0621337890625,
          0.0233154296875,
          -0.0198974609375,
          -0.0606689453125,
          -0.1126708984375,
          -0.1737060546875,
          -0.259765625,
          -0.3665771484375,
          0.2347412109375,
          0.233642578125,
          0.2200927734375,
          0.1895751953125,
          0.1549072265625,
          0.1181640625,
          0.0882568359375,
          0.04736328125,
          0.0042724609375,
          -0.0408935546875,
          -0.0950927734375,
          -0.156005859375,
          -0.2578125,
          0.2452392578125,
          0.235595703125,
          0.215576171875,
          0.1937255859375,
          0.1590576171875,
          0.1202392578125,
          0.044921875,
          0.0040283203125,
          -0.0411376953125,
          -0.0997314453125,
          -0.1517333984375,
          -0.233154296875,
          0.183349609375,
          0.2012939453125,
          0.1617431640625,
          0.1785888671875,
          0.1416015625,
          0.1201171875,
          0.068115234375,
          0.0294189453125,
          -0.0203857421875,
          -0.0679931640625,
          -0.12890625,
          -0.15185546875,
          -0.2105712890625,
          -0.285400390625,
          0.191162109375,
          0.1278076171875,
          0.1790771484375,
          0.153076171875,
          0.122802734375,
          0.0797119140625,
          0.0364990234375,
          -0.00439453125,
          -0.06298828125,
          -0.1396484375,
          -0.173828125,
          -0.2236328125,
          -0.2984619140625,
          0.1737060546875,
          0.1732177734375,
          0.16015625,
          0.1256103515625,
          0.0889892578125,
          0.043701171875,
          0.0006103515625,
          -0.046875,
          -0.10546875,
          -0.209228515625,
          -0.261474609375,
          -0.25927734375,
          0.1873779296875,
          0.1868896484375,
          0.1739501953125,
          0.1329345703125,
          0.0985107421875,
          0.055419921875,
          0.01025390625,
          -0.052734375,
          -0.1092529296875,
          -0.239990234375,
          0.1798095703125,
          0.1815185546875,
          0.161865234375,
          0.1317138671875,
          0.0906982421875,
          0.047607421875,
          -0.0020751953125,
          -0.053955078125,
          -0.1373291015625,
          -0.220947265625,
          0.115966796875,
          0.1048583984375,
          0.0743408203125,
          0.0506591796875,
          0.018310546875,
          -0.031494140625,
          -0.068115234375,
          -0.137939453125,
          -0.1990966796875,
          0.0853271484375,
          0.034912109375,
          0.0477294921875,
          0.0238037109375,
          -0.0064697265625,
          -0.0321044921875,
          -0.08642578125,
          -0.149658203125,
          -0.22216796875,
          0.0233154296875,
          0.02685546875,
          0.01123046875,
          0.0068359375,
          -0.00146484375,
          -0.0537109375,
          -0.116943359375,
          -0.1737060546875,
          0.0728759765625,
          0.0181884765625,
          -0.012451171875,
          -0.0164794921875,
          -0.0421142578125,
          -0.1298828125,
          -0.146484375,
          0.1046142578125,
          0.0888671875,
          0.05615234375,
          0.0322265625,
          0.01513671875,
          -0.0390625,
          -0.1068115234375,
          0.13818359375,
          0.08154296875,
          0.081298828125,
          0.0291748046875,
          0.0054931640625,
          -0.0555419921875,
          0.1070556640625,
          0.0721435546875,
          0.0308837890625,
          -0.0081787109375,
          -0.0538330078125,
          0.025146484375,
          0.0050048828125,
          -0.0125732421875,
          0.000732421875,
          -0.0513916015625
         ],
         "y": [
          -0.07470703125,
          0.0858154296875,
          0.0745849609375,
          0.0826416015625,
          0.108642578125,
          -0.0325927734375,
          0.015625,
          0.059326171875,
          0.0751953125,
          0.1099853515625,
          0.104736328125,
          0.037109375,
          0.0762939453125,
          0.137939453125,
          0.131591796875,
          0.130859375,
          0.143798828125,
          0.173583984375,
          -0.1251220703125,
          -0.0455322265625,
          -0.0198974609375,
          0.0281982421875,
          0.0628662109375,
          0.09326171875,
          0.1146240234375,
          0.1226806640625,
          0.143310546875,
          0.12939453125,
          -0.09619140625,
          -0.0435791015625,
          0.0313720703125,
          0.0660400390625,
          0.1051025390625,
          0.12646484375,
          0.143310546875,
          0.132568359375,
          0.1094970703125,
          0.153564453125,
          0.12646484375,
          -0.17724609375,
          -0.0616455078125,
          0.00439453125,
          0.06591796875,
          0.095947265625,
          0.1260986328125,
          0.1552734375,
          0.1766357421875,
          0.20263671875,
          0.206298828125,
          0.1922607421875,
          0.12841796875,
          0.02587890625,
          -0.1929931640625,
          -0.0828857421875,
          0.0010986328125,
          0.0489501953125,
          0.087890625,
          0.1224365234375,
          0.17041015625,
          0.195068359375,
          0.21630859375,
          0.2332763671875,
          0.232421875,
          0.2183837890625,
          0.1243896484375,
          -0.168701171875,
          -0.07568359375,
          -0.0064697265625,
          0.0594482421875,
          0.098388671875,
          0.12841796875,
          0.1932373046875,
          0.218017578125,
          0.2349853515625,
          0.2252197265625,
          0.22900390625,
          0.175048828125,
          -0.3038330078125,
          -0.152099609375,
          -0.1220703125,
          0.02490234375,
          0.0594482421875,
          0.1243896484375,
          0.1275634765625,
          0.1578369140625,
          0.165771484375,
          0.17822265625,
          0.1641845703125,
          0.2249755859375,
          0.215576171875,
          0.17529296875,
          -0.1728515625,
          -0.1925048828125,
          0.0257568359375,
          0.0826416015625,
          0.130615234375,
          0.1517333984375,
          0.1729736328125,
          0.1988525390625,
          0.18896484375,
          0.1435546875,
          0.1820068359375,
          0.1905517578125,
          0.150146484375,
          -0.10302734375,
          0.007080078125,
          0.0909423828125,
          0.1300048828125,
          0.16455078125,
          0.1812744140625,
          0.20263671875,
          0.215087890625,
          0.204345703125,
          0.105712890625,
          0.10986328125,
          0.2208251953125,
          -0.07177734375,
          0.0391845703125,
          0.123046875,
          0.1485595703125,
          0.1866455078125,
          0.2078857421875,
          0.224609375,
          0.205810546875,
          0.2005615234375,
          0.0474853515625,
          -0.0970458984375,
          0.0184326171875,
          0.0887451171875,
          0.13671875,
          0.162353515625,
          0.1824951171875,
          0.1904296875,
          0.1939697265625,
          0.13525390625,
          0.0767822265625,
          -0.11669921875,
          -0.028076171875,
          0.02001953125,
          0.08154296875,
          0.124267578125,
          0.1322021484375,
          0.1671142578125,
          0.13525390625,
          0.121337890625,
          -0.1842041015625,
          -0.176513671875,
          -0.0384521484375,
          0.0220947265625,
          0.0703125,
          0.1275634765625,
          0.126708984375,
          0.1082763671875,
          0.0721435546875,
          -0.3145751953125,
          -0.1944580078125,
          -0.11474609375,
          -0.0126953125,
          0.0802001953125,
          0.0838623046875,
          0.065185546875,
          0.05908203125,
          -0.106201171875,
          -0.107421875,
          -0.05908203125,
          0.0428466796875,
          0.0999755859375,
          0.0323486328125,
          0.1065673828125,
          -0.149658203125,
          -0.0701904296875,
          -0.026611328125,
          0.0340576171875,
          0.1090087890625,
          0.108154296875,
          0.08056640625,
          -0.0899658203125,
          -0.095703125,
          0.01513671875,
          0.0184326171875,
          0.0789794921875,
          0.064697265625,
          -0.042236328125,
          -0.003173828125,
          0.0225830078125,
          0.0518798828125,
          0.0689697265625,
          -0.216552734375,
          -0.1468505859375,
          -0.07177734375,
          0.065673828125,
          0.0693359375
         ],
         "z": [
          0.8280181884765625,
          0.83099365234375,
          0.829559326171875,
          0.8285980224609375,
          0.828094482421875,
          0.77001953125,
          0.7701797485351562,
          0.7702178955078125,
          0.7694625854492188,
          0.7692413330078125,
          0.7678375244140625,
          0.716583251953125,
          0.7165374755859375,
          0.7172164916992188,
          0.7143936157226562,
          0.7130584716796875,
          0.7121505737304688,
          0.711822509765625,
          0.6461410522460938,
          0.6475982666015625,
          0.6471328735351562,
          0.6474761962890625,
          0.6473388671875,
          0.6470413208007812,
          0.64642333984375,
          0.64532470703125,
          0.6447067260742188,
          0.6427993774414062,
          0.5909271240234375,
          0.591522216796875,
          0.5929946899414062,
          0.5928955078125,
          0.5929718017578125,
          0.5923538208007812,
          0.5915603637695312,
          0.5897216796875,
          0.5873489379882812,
          0.5876083374023438,
          0.5850677490234375,
          0.53277587890625,
          0.5360946655273438,
          0.5373458862304688,
          0.5384140014648438,
          0.5381698608398438,
          0.5379257202148438,
          0.537689208984375,
          0.5370712280273438,
          0.5366439819335938,
          0.5352783203125,
          0.5331497192382812,
          0.5289382934570312,
          0.5230178833007812,
          0.46593475341796875,
          0.469390869140625,
          0.47162628173828125,
          0.47222900390625,
          0.4724273681640625,
          0.47241973876953125,
          0.47303009033203125,
          0.472625732421875,
          0.47200775146484375,
          0.47119140625,
          0.46955108642578125,
          0.46729278564453125,
          0.46132659912109375,
          0.40064239501953125,
          0.40354156494140625,
          0.40533447265625,
          0.40692138671875,
          0.4071807861328125,
          0.40700531005859375,
          0.4068756103515625,
          0.4064788818359375,
          0.40564727783203125,
          0.40348052978515625,
          0.40198516845703125,
          0.3975982666015625,
          0.32505035400390625,
          0.3312835693359375,
          0.3311309814453125,
          0.33715057373046875,
          0.33724212646484375,
          0.33899688720703125,
          0.33742523193359375,
          0.3372802734375,
          0.3359527587890625,
          0.33486175537109375,
          0.33234405517578125,
          0.33386993408203125,
          0.3315887451171875,
          0.32763671875,
          0.247772216796875,
          0.2448272705078125,
          0.25551605224609375,
          0.25695037841796875,
          0.25788116455078125,
          0.25726318359375,
          0.25664520263671875,
          0.25628662109375,
          0.25386810302734375,
          0.2493743896484375,
          0.24979400634765625,
          0.24840545654296875,
          0.244171142578125,
          0.170440673828125,
          0.17534637451171875,
          0.1786041259765625,
          0.1790924072265625,
          0.1793060302734375,
          0.17841339111328125,
          0.17779541015625,
          0.17662811279296875,
          0.174072265625,
          0.16595458984375,
          0.16422271728515625,
          0.1691741943359375,
          0.09166717529296875,
          0.0969696044921875,
          0.100494384765625,
          0.1001739501953125,
          0.10074615478515625,
          0.100128173828125,
          0.09922027587890625,
          0.0959320068359375,
          0.09352874755859375,
          0.0813140869140625,
          0.00630950927734375,
          0.01233673095703125,
          0.01519775390625,
          0.01648712158203125,
          0.01618194580078125,
          0.01556396484375,
          0.01399993896484375,
          0.012115478515625,
          0.0057830810546875,
          -0.00055694580078125,
          -0.090484619140625,
          -0.0860137939453125,
          -0.08460235595703125,
          -0.0821685791015625,
          -0.081085205078125,
          -0.08272552490234375,
          -0.0823211669921875,
          -0.0870208740234375,
          -0.090362548828125,
          -0.18837738037109375,
          -0.190093994140625,
          -0.18131256103515625,
          -0.17867279052734375,
          -0.1771240234375,
          -0.17484283447265625,
          -0.17726898193359375,
          -0.18115234375,
          -0.18648529052734375,
          -0.31163787841796875,
          -0.30371856689453125,
          -0.299285888671875,
          -0.29290771484375,
          -0.2873077392578125,
          -0.28948211669921875,
          -0.293609619140625,
          -0.29656219482421875,
          -0.39968109130859375,
          -0.40238189697265625,
          -0.40052032470703125,
          -0.39368438720703125,
          -0.3909912109375,
          -0.39990234375,
          -0.395538330078125,
          -0.5091400146484375,
          -0.5040512084960938,
          -0.5024795532226562,
          -0.49913787841796875,
          -0.494476318359375,
          -0.49729156494140625,
          -0.5027618408203125,
          -0.612823486328125,
          -0.6162490844726562,
          -0.6075439453125,
          -0.6100311279296875,
          -0.6064529418945312,
          -0.6108016967773438,
          -0.7252883911132812,
          -0.72393798828125,
          -0.7240676879882812,
          -0.72369384765625,
          -0.7248077392578125,
          -0.8662948608398438,
          -0.8611679077148438,
          -0.8555145263671875,
          -0.842529296875,
          -0.8452377319335938
         ]
        },
        {
         "marker": {
          "color": "red",
          "opacity": 0.8,
          "size": 4
         },
         "mode": "markers",
         "type": "scatter3d",
         "x": [
          -0.09768743067979813,
          0.13923802971839905,
          0.21332523226737976,
          0.09127559512853622,
          0.053527772426605225,
          0.005903048440814018,
          0.021950779482722282,
          -0.16225959360599518,
          -0.2851127088069916,
          -0.28120937943458557,
          -0.1239689290523529,
          -0.10843709856271744,
          0.007450006902217865
         ],
         "y": [
          -0.0397418811917305,
          -0.019470468163490295,
          -0.10765591263771057,
          -0.16148310899734497,
          -0.0360981747508049,
          -0.0800146609544754,
          -0.04773317277431488,
          0.19524602591991425,
          0.20007586479187012,
          0.0045172423124313354,
          0.11958418786525726,
          0.13770517706871033,
          0.23515534400939941
         ],
         "z": [
          0.5997655391693115,
          0.4535927176475525,
          0.25521382689476013,
          0.22516091167926788,
          0.01847541332244873,
          -0.3108104169368744,
          -0.6345043778419495,
          0.44783860445022583,
          0.256436824798584,
          0.2560407221317291,
          0.025372358039021492,
          -0.3059620261192322,
          -0.6385457515716553
         ]
        },
        {
         "line": {
          "color": "black",
          "width": 2
         },
         "mode": "lines",
         "type": "scatter3d",
         "x": [
          -0.09768743067979813,
          -0.011510781943798065
         ],
         "y": [
          -0.0397418811917305,
          0.08788777887821198
         ],
         "z": [
          0.5997655391693115,
          0.45071566104888916
         ]
        },
        {
         "line": {
          "color": "black",
          "width": 2
         },
         "mode": "lines",
         "type": "scatter3d",
         "x": [
          0.13923802971839905,
          0.21332523226737976
         ],
         "y": [
          -0.019470468163490295,
          -0.10765591263771057
         ],
         "z": [
          0.4535927176475525,
          0.25521382689476013
         ]
        },
        {
         "line": {
          "color": "black",
          "width": 2
         },
         "mode": "lines",
         "type": "scatter3d",
         "x": [
          0.13923802971839905,
          0.053527772426605225
         ],
         "y": [
          -0.019470468163490295,
          -0.0360981747508049
         ],
         "z": [
          0.4535927176475525,
          0.01847541332244873
         ]
        },
        {
         "line": {
          "color": "black",
          "width": 2
         },
         "mode": "lines",
         "type": "scatter3d",
         "x": [
          0.13923802971839905,
          -0.16225959360599518
         ],
         "y": [
          -0.019470468163490295,
          0.19524602591991425
         ],
         "z": [
          0.4535927176475525,
          0.44783860445022583
         ]
        },
        {
         "line": {
          "color": "black",
          "width": 2
         },
         "mode": "lines",
         "type": "scatter3d",
         "x": [
          0.21332523226737976,
          0.09127559512853622
         ],
         "y": [
          -0.10765591263771057,
          -0.16148310899734497
         ],
         "z": [
          0.25521382689476013,
          0.22516091167926788
         ]
        },
        {
         "line": {
          "color": "black",
          "width": 2
         },
         "mode": "lines",
         "type": "scatter3d",
         "x": [
          0.053527772426605225,
          0.005903048440814018
         ],
         "y": [
          -0.0360981747508049,
          -0.0800146609544754
         ],
         "z": [
          0.01847541332244873,
          -0.3108104169368744
         ]
        },
        {
         "line": {
          "color": "black",
          "width": 2
         },
         "mode": "lines",
         "type": "scatter3d",
         "x": [
          0.053527772426605225,
          -0.1239689290523529
         ],
         "y": [
          -0.0360981747508049,
          0.11958418786525726
         ],
         "z": [
          0.01847541332244873,
          0.025372358039021492
         ]
        },
        {
         "line": {
          "color": "black",
          "width": 2
         },
         "mode": "lines",
         "type": "scatter3d",
         "x": [
          0.005903048440814018,
          0.021950779482722282
         ],
         "y": [
          -0.0800146609544754,
          -0.04773317277431488
         ],
         "z": [
          -0.3108104169368744,
          -0.6345043778419495
         ]
        },
        {
         "line": {
          "color": "black",
          "width": 2
         },
         "mode": "lines",
         "type": "scatter3d",
         "x": [
          -0.16225959360599518,
          -0.2851127088069916
         ],
         "y": [
          0.19524602591991425,
          0.20007586479187012
         ],
         "z": [
          0.44783860445022583,
          0.256436824798584
         ]
        },
        {
         "line": {
          "color": "black",
          "width": 2
         },
         "mode": "lines",
         "type": "scatter3d",
         "x": [
          -0.16225959360599518,
          -0.1239689290523529
         ],
         "y": [
          0.19524602591991425,
          0.11958418786525726
         ],
         "z": [
          0.44783860445022583,
          0.025372358039021492
         ]
        },
        {
         "line": {
          "color": "black",
          "width": 2
         },
         "mode": "lines",
         "type": "scatter3d",
         "x": [
          -0.2851127088069916,
          -0.28120937943458557
         ],
         "y": [
          0.20007586479187012,
          0.0045172423124313354
         ],
         "z": [
          0.256436824798584,
          0.2560407221317291
         ]
        },
        {
         "line": {
          "color": "black",
          "width": 2
         },
         "mode": "lines",
         "type": "scatter3d",
         "x": [
          -0.1239689290523529,
          -0.10843709856271744
         ],
         "y": [
          0.11958418786525726,
          0.13770517706871033
         ],
         "z": [
          0.025372358039021492,
          -0.3059620261192322
         ]
        },
        {
         "line": {
          "color": "black",
          "width": 2
         },
         "mode": "lines",
         "type": "scatter3d",
         "x": [
          -0.10843709856271744,
          0.007450006902217865
         ],
         "y": [
          0.13770517706871033,
          0.23515534400939941
         ],
         "z": [
          -0.3059620261192322,
          -0.6385457515716553
         ]
        },
        {
         "line": {
          "color": "blue",
          "width": 2
         },
         "mode": "lines",
         "type": "scatter3d",
         "x": [
          0,
          -0.6287857870711799
         ],
         "y": [
          0,
          -0.7775785709349743
         ],
         "z": [
          0,
          0
         ]
        }
       ],
       "layout": {
        "scene": {
         "aspectmode": "manual",
         "aspectratio": {
          "x": 3,
          "y": 3,
          "z": 3
         },
         "xaxis": {
          "range": [
           -1.5,
           1.5
          ]
         },
         "yaxis": {
          "range": [
           -1.5,
           1.5
          ]
         },
         "zaxis": {
          "range": [
           -1.5,
           1.5
          ]
         }
        },
        "template": {
         "data": {
          "bar": [
           {
            "error_x": {
             "color": "#2a3f5f"
            },
            "error_y": {
             "color": "#2a3f5f"
            },
            "marker": {
             "line": {
              "color": "#E5ECF6",
              "width": 0.5
             },
             "pattern": {
              "fillmode": "overlay",
              "size": 10,
              "solidity": 0.2
             }
            },
            "type": "bar"
           }
          ],
          "barpolar": [
           {
            "marker": {
             "line": {
              "color": "#E5ECF6",
              "width": 0.5
             },
             "pattern": {
              "fillmode": "overlay",
              "size": 10,
              "solidity": 0.2
             }
            },
            "type": "barpolar"
           }
          ],
          "carpet": [
           {
            "aaxis": {
             "endlinecolor": "#2a3f5f",
             "gridcolor": "white",
             "linecolor": "white",
             "minorgridcolor": "white",
             "startlinecolor": "#2a3f5f"
            },
            "baxis": {
             "endlinecolor": "#2a3f5f",
             "gridcolor": "white",
             "linecolor": "white",
             "minorgridcolor": "white",
             "startlinecolor": "#2a3f5f"
            },
            "type": "carpet"
           }
          ],
          "choropleth": [
           {
            "colorbar": {
             "outlinewidth": 0,
             "ticks": ""
            },
            "type": "choropleth"
           }
          ],
          "contour": [
           {
            "colorbar": {
             "outlinewidth": 0,
             "ticks": ""
            },
            "colorscale": [
             [
              0,
              "#0d0887"
             ],
             [
              0.1111111111111111,
              "#46039f"
             ],
             [
              0.2222222222222222,
              "#7201a8"
             ],
             [
              0.3333333333333333,
              "#9c179e"
             ],
             [
              0.4444444444444444,
              "#bd3786"
             ],
             [
              0.5555555555555556,
              "#d8576b"
             ],
             [
              0.6666666666666666,
              "#ed7953"
             ],
             [
              0.7777777777777778,
              "#fb9f3a"
             ],
             [
              0.8888888888888888,
              "#fdca26"
             ],
             [
              1,
              "#f0f921"
             ]
            ],
            "type": "contour"
           }
          ],
          "contourcarpet": [
           {
            "colorbar": {
             "outlinewidth": 0,
             "ticks": ""
            },
            "type": "contourcarpet"
           }
          ],
          "heatmap": [
           {
            "colorbar": {
             "outlinewidth": 0,
             "ticks": ""
            },
            "colorscale": [
             [
              0,
              "#0d0887"
             ],
             [
              0.1111111111111111,
              "#46039f"
             ],
             [
              0.2222222222222222,
              "#7201a8"
             ],
             [
              0.3333333333333333,
              "#9c179e"
             ],
             [
              0.4444444444444444,
              "#bd3786"
             ],
             [
              0.5555555555555556,
              "#d8576b"
             ],
             [
              0.6666666666666666,
              "#ed7953"
             ],
             [
              0.7777777777777778,
              "#fb9f3a"
             ],
             [
              0.8888888888888888,
              "#fdca26"
             ],
             [
              1,
              "#f0f921"
             ]
            ],
            "type": "heatmap"
           }
          ],
          "heatmapgl": [
           {
            "colorbar": {
             "outlinewidth": 0,
             "ticks": ""
            },
            "colorscale": [
             [
              0,
              "#0d0887"
             ],
             [
              0.1111111111111111,
              "#46039f"
             ],
             [
              0.2222222222222222,
              "#7201a8"
             ],
             [
              0.3333333333333333,
              "#9c179e"
             ],
             [
              0.4444444444444444,
              "#bd3786"
             ],
             [
              0.5555555555555556,
              "#d8576b"
             ],
             [
              0.6666666666666666,
              "#ed7953"
             ],
             [
              0.7777777777777778,
              "#fb9f3a"
             ],
             [
              0.8888888888888888,
              "#fdca26"
             ],
             [
              1,
              "#f0f921"
             ]
            ],
            "type": "heatmapgl"
           }
          ],
          "histogram": [
           {
            "marker": {
             "pattern": {
              "fillmode": "overlay",
              "size": 10,
              "solidity": 0.2
             }
            },
            "type": "histogram"
           }
          ],
          "histogram2d": [
           {
            "colorbar": {
             "outlinewidth": 0,
             "ticks": ""
            },
            "colorscale": [
             [
              0,
              "#0d0887"
             ],
             [
              0.1111111111111111,
              "#46039f"
             ],
             [
              0.2222222222222222,
              "#7201a8"
             ],
             [
              0.3333333333333333,
              "#9c179e"
             ],
             [
              0.4444444444444444,
              "#bd3786"
             ],
             [
              0.5555555555555556,
              "#d8576b"
             ],
             [
              0.6666666666666666,
              "#ed7953"
             ],
             [
              0.7777777777777778,
              "#fb9f3a"
             ],
             [
              0.8888888888888888,
              "#fdca26"
             ],
             [
              1,
              "#f0f921"
             ]
            ],
            "type": "histogram2d"
           }
          ],
          "histogram2dcontour": [
           {
            "colorbar": {
             "outlinewidth": 0,
             "ticks": ""
            },
            "colorscale": [
             [
              0,
              "#0d0887"
             ],
             [
              0.1111111111111111,
              "#46039f"
             ],
             [
              0.2222222222222222,
              "#7201a8"
             ],
             [
              0.3333333333333333,
              "#9c179e"
             ],
             [
              0.4444444444444444,
              "#bd3786"
             ],
             [
              0.5555555555555556,
              "#d8576b"
             ],
             [
              0.6666666666666666,
              "#ed7953"
             ],
             [
              0.7777777777777778,
              "#fb9f3a"
             ],
             [
              0.8888888888888888,
              "#fdca26"
             ],
             [
              1,
              "#f0f921"
             ]
            ],
            "type": "histogram2dcontour"
           }
          ],
          "mesh3d": [
           {
            "colorbar": {
             "outlinewidth": 0,
             "ticks": ""
            },
            "type": "mesh3d"
           }
          ],
          "parcoords": [
           {
            "line": {
             "colorbar": {
              "outlinewidth": 0,
              "ticks": ""
             }
            },
            "type": "parcoords"
           }
          ],
          "pie": [
           {
            "automargin": true,
            "type": "pie"
           }
          ],
          "scatter": [
           {
            "fillpattern": {
             "fillmode": "overlay",
             "size": 10,
             "solidity": 0.2
            },
            "type": "scatter"
           }
          ],
          "scatter3d": [
           {
            "line": {
             "colorbar": {
              "outlinewidth": 0,
              "ticks": ""
             }
            },
            "marker": {
             "colorbar": {
              "outlinewidth": 0,
              "ticks": ""
             }
            },
            "type": "scatter3d"
           }
          ],
          "scattercarpet": [
           {
            "marker": {
             "colorbar": {
              "outlinewidth": 0,
              "ticks": ""
             }
            },
            "type": "scattercarpet"
           }
          ],
          "scattergeo": [
           {
            "marker": {
             "colorbar": {
              "outlinewidth": 0,
              "ticks": ""
             }
            },
            "type": "scattergeo"
           }
          ],
          "scattergl": [
           {
            "marker": {
             "colorbar": {
              "outlinewidth": 0,
              "ticks": ""
             }
            },
            "type": "scattergl"
           }
          ],
          "scattermapbox": [
           {
            "marker": {
             "colorbar": {
              "outlinewidth": 0,
              "ticks": ""
             }
            },
            "type": "scattermapbox"
           }
          ],
          "scatterpolar": [
           {
            "marker": {
             "colorbar": {
              "outlinewidth": 0,
              "ticks": ""
             }
            },
            "type": "scatterpolar"
           }
          ],
          "scatterpolargl": [
           {
            "marker": {
             "colorbar": {
              "outlinewidth": 0,
              "ticks": ""
             }
            },
            "type": "scatterpolargl"
           }
          ],
          "scatterternary": [
           {
            "marker": {
             "colorbar": {
              "outlinewidth": 0,
              "ticks": ""
             }
            },
            "type": "scatterternary"
           }
          ],
          "surface": [
           {
            "colorbar": {
             "outlinewidth": 0,
             "ticks": ""
            },
            "colorscale": [
             [
              0,
              "#0d0887"
             ],
             [
              0.1111111111111111,
              "#46039f"
             ],
             [
              0.2222222222222222,
              "#7201a8"
             ],
             [
              0.3333333333333333,
              "#9c179e"
             ],
             [
              0.4444444444444444,
              "#bd3786"
             ],
             [
              0.5555555555555556,
              "#d8576b"
             ],
             [
              0.6666666666666666,
              "#ed7953"
             ],
             [
              0.7777777777777778,
              "#fb9f3a"
             ],
             [
              0.8888888888888888,
              "#fdca26"
             ],
             [
              1,
              "#f0f921"
             ]
            ],
            "type": "surface"
           }
          ],
          "table": [
           {
            "cells": {
             "fill": {
              "color": "#EBF0F8"
             },
             "line": {
              "color": "white"
             }
            },
            "header": {
             "fill": {
              "color": "#C8D4E3"
             },
             "line": {
              "color": "white"
             }
            },
            "type": "table"
           }
          ]
         },
         "layout": {
          "annotationdefaults": {
           "arrowcolor": "#2a3f5f",
           "arrowhead": 0,
           "arrowwidth": 1
          },
          "autotypenumbers": "strict",
          "coloraxis": {
           "colorbar": {
            "outlinewidth": 0,
            "ticks": ""
           }
          },
          "colorscale": {
           "diverging": [
            [
             0,
             "#8e0152"
            ],
            [
             0.1,
             "#c51b7d"
            ],
            [
             0.2,
             "#de77ae"
            ],
            [
             0.3,
             "#f1b6da"
            ],
            [
             0.4,
             "#fde0ef"
            ],
            [
             0.5,
             "#f7f7f7"
            ],
            [
             0.6,
             "#e6f5d0"
            ],
            [
             0.7,
             "#b8e186"
            ],
            [
             0.8,
             "#7fbc41"
            ],
            [
             0.9,
             "#4d9221"
            ],
            [
             1,
             "#276419"
            ]
           ],
           "sequential": [
            [
             0,
             "#0d0887"
            ],
            [
             0.1111111111111111,
             "#46039f"
            ],
            [
             0.2222222222222222,
             "#7201a8"
            ],
            [
             0.3333333333333333,
             "#9c179e"
            ],
            [
             0.4444444444444444,
             "#bd3786"
            ],
            [
             0.5555555555555556,
             "#d8576b"
            ],
            [
             0.6666666666666666,
             "#ed7953"
            ],
            [
             0.7777777777777778,
             "#fb9f3a"
            ],
            [
             0.8888888888888888,
             "#fdca26"
            ],
            [
             1,
             "#f0f921"
            ]
           ],
           "sequentialminus": [
            [
             0,
             "#0d0887"
            ],
            [
             0.1111111111111111,
             "#46039f"
            ],
            [
             0.2222222222222222,
             "#7201a8"
            ],
            [
             0.3333333333333333,
             "#9c179e"
            ],
            [
             0.4444444444444444,
             "#bd3786"
            ],
            [
             0.5555555555555556,
             "#d8576b"
            ],
            [
             0.6666666666666666,
             "#ed7953"
            ],
            [
             0.7777777777777778,
             "#fb9f3a"
            ],
            [
             0.8888888888888888,
             "#fdca26"
            ],
            [
             1,
             "#f0f921"
            ]
           ]
          },
          "colorway": [
           "#636efa",
           "#EF553B",
           "#00cc96",
           "#ab63fa",
           "#FFA15A",
           "#19d3f3",
           "#FF6692",
           "#B6E880",
           "#FF97FF",
           "#FECB52"
          ],
          "font": {
           "color": "#2a3f5f"
          },
          "geo": {
           "bgcolor": "white",
           "lakecolor": "white",
           "landcolor": "#E5ECF6",
           "showlakes": true,
           "showland": true,
           "subunitcolor": "white"
          },
          "hoverlabel": {
           "align": "left"
          },
          "hovermode": "closest",
          "mapbox": {
           "style": "light"
          },
          "paper_bgcolor": "white",
          "plot_bgcolor": "#E5ECF6",
          "polar": {
           "angularaxis": {
            "gridcolor": "white",
            "linecolor": "white",
            "ticks": ""
           },
           "bgcolor": "#E5ECF6",
           "radialaxis": {
            "gridcolor": "white",
            "linecolor": "white",
            "ticks": ""
           }
          },
          "scene": {
           "xaxis": {
            "backgroundcolor": "#E5ECF6",
            "gridcolor": "white",
            "gridwidth": 2,
            "linecolor": "white",
            "showbackground": true,
            "ticks": "",
            "zerolinecolor": "white"
           },
           "yaxis": {
            "backgroundcolor": "#E5ECF6",
            "gridcolor": "white",
            "gridwidth": 2,
            "linecolor": "white",
            "showbackground": true,
            "ticks": "",
            "zerolinecolor": "white"
           },
           "zaxis": {
            "backgroundcolor": "#E5ECF6",
            "gridcolor": "white",
            "gridwidth": 2,
            "linecolor": "white",
            "showbackground": true,
            "ticks": "",
            "zerolinecolor": "white"
           }
          },
          "shapedefaults": {
           "line": {
            "color": "#2a3f5f"
           }
          },
          "ternary": {
           "aaxis": {
            "gridcolor": "white",
            "linecolor": "white",
            "ticks": ""
           },
           "baxis": {
            "gridcolor": "white",
            "linecolor": "white",
            "ticks": ""
           },
           "bgcolor": "#E5ECF6",
           "caxis": {
            "gridcolor": "white",
            "linecolor": "white",
            "ticks": ""
           }
          },
          "title": {
           "x": 0.05
          },
          "xaxis": {
           "automargin": true,
           "gridcolor": "white",
           "linecolor": "white",
           "ticks": "",
           "title": {
            "standoff": 15
           },
           "zerolinecolor": "white",
           "zerolinewidth": 2
          },
          "yaxis": {
           "automargin": true,
           "gridcolor": "white",
           "linecolor": "white",
           "ticks": "",
           "title": {
            "standoff": 15
           },
           "zerolinecolor": "white",
           "zerolinewidth": 2
          }
         }
        }
       }
      },
      "text/html": [
       "<div>                            <div id=\"14183796-3701-4344-bc5f-2c292715e4ad\" class=\"plotly-graph-div\" style=\"height:525px; width:100%;\"></div>            <script type=\"text/javascript\">                require([\"plotly\"], function(Plotly) {                    window.PLOTLYENV=window.PLOTLYENV || {};                                    if (document.getElementById(\"14183796-3701-4344-bc5f-2c292715e4ad\")) {                    Plotly.newPlot(                        \"14183796-3701-4344-bc5f-2c292715e4ad\",                        [{\"marker\":{\"opacity\":0.8,\"size\":2},\"mode\":\"markers\",\"x\":[0.0169677734375,0.04150390625,-0.0172119140625,-0.067138671875,-0.1082763671875,0.0904541015625,0.0599365234375,0.0274658203125,-0.01806640625,-0.0546875,-0.111328125,0.0721435546875,0.03759765625,0.01416015625,-0.0966796875,-0.151123046875,-0.19873046875,-0.2374267578125,0.15478515625,0.13916015625,0.0977783203125,0.0673828125,0.030517578125,-0.0084228515625,-0.0517578125,-0.1016845703125,-0.1448974609375,-0.2060546875,0.17138671875,0.142822265625,0.1253662109375,0.0885009765625,0.053955078125,0.0107421875,-0.03466796875,-0.093505859375,-0.1590576171875,-0.1910400390625,-0.259033203125,0.1844482421875,0.185791015625,0.163818359375,0.139892578125,0.1009521484375,0.0621337890625,0.0233154296875,-0.0198974609375,-0.0606689453125,-0.1126708984375,-0.1737060546875,-0.259765625,-0.3665771484375,0.2347412109375,0.233642578125,0.2200927734375,0.1895751953125,0.1549072265625,0.1181640625,0.0882568359375,0.04736328125,0.0042724609375,-0.0408935546875,-0.0950927734375,-0.156005859375,-0.2578125,0.2452392578125,0.235595703125,0.215576171875,0.1937255859375,0.1590576171875,0.1202392578125,0.044921875,0.0040283203125,-0.0411376953125,-0.0997314453125,-0.1517333984375,-0.233154296875,0.183349609375,0.2012939453125,0.1617431640625,0.1785888671875,0.1416015625,0.1201171875,0.068115234375,0.0294189453125,-0.0203857421875,-0.0679931640625,-0.12890625,-0.15185546875,-0.2105712890625,-0.285400390625,0.191162109375,0.1278076171875,0.1790771484375,0.153076171875,0.122802734375,0.0797119140625,0.0364990234375,-0.00439453125,-0.06298828125,-0.1396484375,-0.173828125,-0.2236328125,-0.2984619140625,0.1737060546875,0.1732177734375,0.16015625,0.1256103515625,0.0889892578125,0.043701171875,0.0006103515625,-0.046875,-0.10546875,-0.209228515625,-0.261474609375,-0.25927734375,0.1873779296875,0.1868896484375,0.1739501953125,0.1329345703125,0.0985107421875,0.055419921875,0.01025390625,-0.052734375,-0.1092529296875,-0.239990234375,0.1798095703125,0.1815185546875,0.161865234375,0.1317138671875,0.0906982421875,0.047607421875,-0.0020751953125,-0.053955078125,-0.1373291015625,-0.220947265625,0.115966796875,0.1048583984375,0.0743408203125,0.0506591796875,0.018310546875,-0.031494140625,-0.068115234375,-0.137939453125,-0.1990966796875,0.0853271484375,0.034912109375,0.0477294921875,0.0238037109375,-0.0064697265625,-0.0321044921875,-0.08642578125,-0.149658203125,-0.22216796875,0.0233154296875,0.02685546875,0.01123046875,0.0068359375,-0.00146484375,-0.0537109375,-0.116943359375,-0.1737060546875,0.0728759765625,0.0181884765625,-0.012451171875,-0.0164794921875,-0.0421142578125,-0.1298828125,-0.146484375,0.1046142578125,0.0888671875,0.05615234375,0.0322265625,0.01513671875,-0.0390625,-0.1068115234375,0.13818359375,0.08154296875,0.081298828125,0.0291748046875,0.0054931640625,-0.0555419921875,0.1070556640625,0.0721435546875,0.0308837890625,-0.0081787109375,-0.0538330078125,0.025146484375,0.0050048828125,-0.0125732421875,0.000732421875,-0.0513916015625],\"y\":[-0.07470703125,0.0858154296875,0.0745849609375,0.0826416015625,0.108642578125,-0.0325927734375,0.015625,0.059326171875,0.0751953125,0.1099853515625,0.104736328125,0.037109375,0.0762939453125,0.137939453125,0.131591796875,0.130859375,0.143798828125,0.173583984375,-0.1251220703125,-0.0455322265625,-0.0198974609375,0.0281982421875,0.0628662109375,0.09326171875,0.1146240234375,0.1226806640625,0.143310546875,0.12939453125,-0.09619140625,-0.0435791015625,0.0313720703125,0.0660400390625,0.1051025390625,0.12646484375,0.143310546875,0.132568359375,0.1094970703125,0.153564453125,0.12646484375,-0.17724609375,-0.0616455078125,0.00439453125,0.06591796875,0.095947265625,0.1260986328125,0.1552734375,0.1766357421875,0.20263671875,0.206298828125,0.1922607421875,0.12841796875,0.02587890625,-0.1929931640625,-0.0828857421875,0.0010986328125,0.0489501953125,0.087890625,0.1224365234375,0.17041015625,0.195068359375,0.21630859375,0.2332763671875,0.232421875,0.2183837890625,0.1243896484375,-0.168701171875,-0.07568359375,-0.0064697265625,0.0594482421875,0.098388671875,0.12841796875,0.1932373046875,0.218017578125,0.2349853515625,0.2252197265625,0.22900390625,0.175048828125,-0.3038330078125,-0.152099609375,-0.1220703125,0.02490234375,0.0594482421875,0.1243896484375,0.1275634765625,0.1578369140625,0.165771484375,0.17822265625,0.1641845703125,0.2249755859375,0.215576171875,0.17529296875,-0.1728515625,-0.1925048828125,0.0257568359375,0.0826416015625,0.130615234375,0.1517333984375,0.1729736328125,0.1988525390625,0.18896484375,0.1435546875,0.1820068359375,0.1905517578125,0.150146484375,-0.10302734375,0.007080078125,0.0909423828125,0.1300048828125,0.16455078125,0.1812744140625,0.20263671875,0.215087890625,0.204345703125,0.105712890625,0.10986328125,0.2208251953125,-0.07177734375,0.0391845703125,0.123046875,0.1485595703125,0.1866455078125,0.2078857421875,0.224609375,0.205810546875,0.2005615234375,0.0474853515625,-0.0970458984375,0.0184326171875,0.0887451171875,0.13671875,0.162353515625,0.1824951171875,0.1904296875,0.1939697265625,0.13525390625,0.0767822265625,-0.11669921875,-0.028076171875,0.02001953125,0.08154296875,0.124267578125,0.1322021484375,0.1671142578125,0.13525390625,0.121337890625,-0.1842041015625,-0.176513671875,-0.0384521484375,0.0220947265625,0.0703125,0.1275634765625,0.126708984375,0.1082763671875,0.0721435546875,-0.3145751953125,-0.1944580078125,-0.11474609375,-0.0126953125,0.0802001953125,0.0838623046875,0.065185546875,0.05908203125,-0.106201171875,-0.107421875,-0.05908203125,0.0428466796875,0.0999755859375,0.0323486328125,0.1065673828125,-0.149658203125,-0.0701904296875,-0.026611328125,0.0340576171875,0.1090087890625,0.108154296875,0.08056640625,-0.0899658203125,-0.095703125,0.01513671875,0.0184326171875,0.0789794921875,0.064697265625,-0.042236328125,-0.003173828125,0.0225830078125,0.0518798828125,0.0689697265625,-0.216552734375,-0.1468505859375,-0.07177734375,0.065673828125,0.0693359375],\"z\":[0.8280181884765625,0.83099365234375,0.829559326171875,0.8285980224609375,0.828094482421875,0.77001953125,0.7701797485351562,0.7702178955078125,0.7694625854492188,0.7692413330078125,0.7678375244140625,0.716583251953125,0.7165374755859375,0.7172164916992188,0.7143936157226562,0.7130584716796875,0.7121505737304688,0.711822509765625,0.6461410522460938,0.6475982666015625,0.6471328735351562,0.6474761962890625,0.6473388671875,0.6470413208007812,0.64642333984375,0.64532470703125,0.6447067260742188,0.6427993774414062,0.5909271240234375,0.591522216796875,0.5929946899414062,0.5928955078125,0.5929718017578125,0.5923538208007812,0.5915603637695312,0.5897216796875,0.5873489379882812,0.5876083374023438,0.5850677490234375,0.53277587890625,0.5360946655273438,0.5373458862304688,0.5384140014648438,0.5381698608398438,0.5379257202148438,0.537689208984375,0.5370712280273438,0.5366439819335938,0.5352783203125,0.5331497192382812,0.5289382934570312,0.5230178833007812,0.46593475341796875,0.469390869140625,0.47162628173828125,0.47222900390625,0.4724273681640625,0.47241973876953125,0.47303009033203125,0.472625732421875,0.47200775146484375,0.47119140625,0.46955108642578125,0.46729278564453125,0.46132659912109375,0.40064239501953125,0.40354156494140625,0.40533447265625,0.40692138671875,0.4071807861328125,0.40700531005859375,0.4068756103515625,0.4064788818359375,0.40564727783203125,0.40348052978515625,0.40198516845703125,0.3975982666015625,0.32505035400390625,0.3312835693359375,0.3311309814453125,0.33715057373046875,0.33724212646484375,0.33899688720703125,0.33742523193359375,0.3372802734375,0.3359527587890625,0.33486175537109375,0.33234405517578125,0.33386993408203125,0.3315887451171875,0.32763671875,0.247772216796875,0.2448272705078125,0.25551605224609375,0.25695037841796875,0.25788116455078125,0.25726318359375,0.25664520263671875,0.25628662109375,0.25386810302734375,0.2493743896484375,0.24979400634765625,0.24840545654296875,0.244171142578125,0.170440673828125,0.17534637451171875,0.1786041259765625,0.1790924072265625,0.1793060302734375,0.17841339111328125,0.17779541015625,0.17662811279296875,0.174072265625,0.16595458984375,0.16422271728515625,0.1691741943359375,0.09166717529296875,0.0969696044921875,0.100494384765625,0.1001739501953125,0.10074615478515625,0.100128173828125,0.09922027587890625,0.0959320068359375,0.09352874755859375,0.0813140869140625,0.00630950927734375,0.01233673095703125,0.01519775390625,0.01648712158203125,0.01618194580078125,0.01556396484375,0.01399993896484375,0.012115478515625,0.0057830810546875,-0.00055694580078125,-0.090484619140625,-0.0860137939453125,-0.08460235595703125,-0.0821685791015625,-0.081085205078125,-0.08272552490234375,-0.0823211669921875,-0.0870208740234375,-0.090362548828125,-0.18837738037109375,-0.190093994140625,-0.18131256103515625,-0.17867279052734375,-0.1771240234375,-0.17484283447265625,-0.17726898193359375,-0.18115234375,-0.18648529052734375,-0.31163787841796875,-0.30371856689453125,-0.299285888671875,-0.29290771484375,-0.2873077392578125,-0.28948211669921875,-0.293609619140625,-0.29656219482421875,-0.39968109130859375,-0.40238189697265625,-0.40052032470703125,-0.39368438720703125,-0.3909912109375,-0.39990234375,-0.395538330078125,-0.5091400146484375,-0.5040512084960938,-0.5024795532226562,-0.49913787841796875,-0.494476318359375,-0.49729156494140625,-0.5027618408203125,-0.612823486328125,-0.6162490844726562,-0.6075439453125,-0.6100311279296875,-0.6064529418945312,-0.6108016967773438,-0.7252883911132812,-0.72393798828125,-0.7240676879882812,-0.72369384765625,-0.7248077392578125,-0.8662948608398438,-0.8611679077148438,-0.8555145263671875,-0.842529296875,-0.8452377319335938],\"type\":\"scatter3d\"},{\"marker\":{\"color\":\"red\",\"opacity\":0.8,\"size\":4},\"mode\":\"markers\",\"x\":[-0.09768743067979813,0.13923802971839905,0.21332523226737976,0.09127559512853622,0.053527772426605225,0.005903048440814018,0.021950779482722282,-0.16225959360599518,-0.2851127088069916,-0.28120937943458557,-0.1239689290523529,-0.10843709856271744,0.007450006902217865],\"y\":[-0.0397418811917305,-0.019470468163490295,-0.10765591263771057,-0.16148310899734497,-0.0360981747508049,-0.0800146609544754,-0.04773317277431488,0.19524602591991425,0.20007586479187012,0.0045172423124313354,0.11958418786525726,0.13770517706871033,0.23515534400939941],\"z\":[0.5997655391693115,0.4535927176475525,0.25521382689476013,0.22516091167926788,0.01847541332244873,-0.3108104169368744,-0.6345043778419495,0.44783860445022583,0.256436824798584,0.2560407221317291,0.025372358039021492,-0.3059620261192322,-0.6385457515716553],\"type\":\"scatter3d\"},{\"line\":{\"color\":\"black\",\"width\":2},\"mode\":\"lines\",\"x\":[-0.09768743067979813,-0.011510781943798065],\"y\":[-0.0397418811917305,0.08788777887821198],\"z\":[0.5997655391693115,0.45071566104888916],\"type\":\"scatter3d\"},{\"line\":{\"color\":\"black\",\"width\":2},\"mode\":\"lines\",\"x\":[0.13923802971839905,0.21332523226737976],\"y\":[-0.019470468163490295,-0.10765591263771057],\"z\":[0.4535927176475525,0.25521382689476013],\"type\":\"scatter3d\"},{\"line\":{\"color\":\"black\",\"width\":2},\"mode\":\"lines\",\"x\":[0.13923802971839905,0.053527772426605225],\"y\":[-0.019470468163490295,-0.0360981747508049],\"z\":[0.4535927176475525,0.01847541332244873],\"type\":\"scatter3d\"},{\"line\":{\"color\":\"black\",\"width\":2},\"mode\":\"lines\",\"x\":[0.13923802971839905,-0.16225959360599518],\"y\":[-0.019470468163490295,0.19524602591991425],\"z\":[0.4535927176475525,0.44783860445022583],\"type\":\"scatter3d\"},{\"line\":{\"color\":\"black\",\"width\":2},\"mode\":\"lines\",\"x\":[0.21332523226737976,0.09127559512853622],\"y\":[-0.10765591263771057,-0.16148310899734497],\"z\":[0.25521382689476013,0.22516091167926788],\"type\":\"scatter3d\"},{\"line\":{\"color\":\"black\",\"width\":2},\"mode\":\"lines\",\"x\":[0.053527772426605225,0.005903048440814018],\"y\":[-0.0360981747508049,-0.0800146609544754],\"z\":[0.01847541332244873,-0.3108104169368744],\"type\":\"scatter3d\"},{\"line\":{\"color\":\"black\",\"width\":2},\"mode\":\"lines\",\"x\":[0.053527772426605225,-0.1239689290523529],\"y\":[-0.0360981747508049,0.11958418786525726],\"z\":[0.01847541332244873,0.025372358039021492],\"type\":\"scatter3d\"},{\"line\":{\"color\":\"black\",\"width\":2},\"mode\":\"lines\",\"x\":[0.005903048440814018,0.021950779482722282],\"y\":[-0.0800146609544754,-0.04773317277431488],\"z\":[-0.3108104169368744,-0.6345043778419495],\"type\":\"scatter3d\"},{\"line\":{\"color\":\"black\",\"width\":2},\"mode\":\"lines\",\"x\":[-0.16225959360599518,-0.2851127088069916],\"y\":[0.19524602591991425,0.20007586479187012],\"z\":[0.44783860445022583,0.256436824798584],\"type\":\"scatter3d\"},{\"line\":{\"color\":\"black\",\"width\":2},\"mode\":\"lines\",\"x\":[-0.16225959360599518,-0.1239689290523529],\"y\":[0.19524602591991425,0.11958418786525726],\"z\":[0.44783860445022583,0.025372358039021492],\"type\":\"scatter3d\"},{\"line\":{\"color\":\"black\",\"width\":2},\"mode\":\"lines\",\"x\":[-0.2851127088069916,-0.28120937943458557],\"y\":[0.20007586479187012,0.0045172423124313354],\"z\":[0.256436824798584,0.2560407221317291],\"type\":\"scatter3d\"},{\"line\":{\"color\":\"black\",\"width\":2},\"mode\":\"lines\",\"x\":[-0.1239689290523529,-0.10843709856271744],\"y\":[0.11958418786525726,0.13770517706871033],\"z\":[0.025372358039021492,-0.3059620261192322],\"type\":\"scatter3d\"},{\"line\":{\"color\":\"black\",\"width\":2},\"mode\":\"lines\",\"x\":[-0.10843709856271744,0.007450006902217865],\"y\":[0.13770517706871033,0.23515534400939941],\"z\":[-0.3059620261192322,-0.6385457515716553],\"type\":\"scatter3d\"},{\"line\":{\"color\":\"blue\",\"width\":2},\"mode\":\"lines\",\"x\":[0,-0.6287857870711799],\"y\":[0,-0.7775785709349743],\"z\":[0,0],\"type\":\"scatter3d\"}],                        {\"template\":{\"data\":{\"histogram2dcontour\":[{\"type\":\"histogram2dcontour\",\"colorbar\":{\"outlinewidth\":0,\"ticks\":\"\"},\"colorscale\":[[0.0,\"#0d0887\"],[0.1111111111111111,\"#46039f\"],[0.2222222222222222,\"#7201a8\"],[0.3333333333333333,\"#9c179e\"],[0.4444444444444444,\"#bd3786\"],[0.5555555555555556,\"#d8576b\"],[0.6666666666666666,\"#ed7953\"],[0.7777777777777778,\"#fb9f3a\"],[0.8888888888888888,\"#fdca26\"],[1.0,\"#f0f921\"]]}],\"choropleth\":[{\"type\":\"choropleth\",\"colorbar\":{\"outlinewidth\":0,\"ticks\":\"\"}}],\"histogram2d\":[{\"type\":\"histogram2d\",\"colorbar\":{\"outlinewidth\":0,\"ticks\":\"\"},\"colorscale\":[[0.0,\"#0d0887\"],[0.1111111111111111,\"#46039f\"],[0.2222222222222222,\"#7201a8\"],[0.3333333333333333,\"#9c179e\"],[0.4444444444444444,\"#bd3786\"],[0.5555555555555556,\"#d8576b\"],[0.6666666666666666,\"#ed7953\"],[0.7777777777777778,\"#fb9f3a\"],[0.8888888888888888,\"#fdca26\"],[1.0,\"#f0f921\"]]}],\"heatmap\":[{\"type\":\"heatmap\",\"colorbar\":{\"outlinewidth\":0,\"ticks\":\"\"},\"colorscale\":[[0.0,\"#0d0887\"],[0.1111111111111111,\"#46039f\"],[0.2222222222222222,\"#7201a8\"],[0.3333333333333333,\"#9c179e\"],[0.4444444444444444,\"#bd3786\"],[0.5555555555555556,\"#d8576b\"],[0.6666666666666666,\"#ed7953\"],[0.7777777777777778,\"#fb9f3a\"],[0.8888888888888888,\"#fdca26\"],[1.0,\"#f0f921\"]]}],\"heatmapgl\":[{\"type\":\"heatmapgl\",\"colorbar\":{\"outlinewidth\":0,\"ticks\":\"\"},\"colorscale\":[[0.0,\"#0d0887\"],[0.1111111111111111,\"#46039f\"],[0.2222222222222222,\"#7201a8\"],[0.3333333333333333,\"#9c179e\"],[0.4444444444444444,\"#bd3786\"],[0.5555555555555556,\"#d8576b\"],[0.6666666666666666,\"#ed7953\"],[0.7777777777777778,\"#fb9f3a\"],[0.8888888888888888,\"#fdca26\"],[1.0,\"#f0f921\"]]}],\"contourcarpet\":[{\"type\":\"contourcarpet\",\"colorbar\":{\"outlinewidth\":0,\"ticks\":\"\"}}],\"contour\":[{\"type\":\"contour\",\"colorbar\":{\"outlinewidth\":0,\"ticks\":\"\"},\"colorscale\":[[0.0,\"#0d0887\"],[0.1111111111111111,\"#46039f\"],[0.2222222222222222,\"#7201a8\"],[0.3333333333333333,\"#9c179e\"],[0.4444444444444444,\"#bd3786\"],[0.5555555555555556,\"#d8576b\"],[0.6666666666666666,\"#ed7953\"],[0.7777777777777778,\"#fb9f3a\"],[0.8888888888888888,\"#fdca26\"],[1.0,\"#f0f921\"]]}],\"surface\":[{\"type\":\"surface\",\"colorbar\":{\"outlinewidth\":0,\"ticks\":\"\"},\"colorscale\":[[0.0,\"#0d0887\"],[0.1111111111111111,\"#46039f\"],[0.2222222222222222,\"#7201a8\"],[0.3333333333333333,\"#9c179e\"],[0.4444444444444444,\"#bd3786\"],[0.5555555555555556,\"#d8576b\"],[0.6666666666666666,\"#ed7953\"],[0.7777777777777778,\"#fb9f3a\"],[0.8888888888888888,\"#fdca26\"],[1.0,\"#f0f921\"]]}],\"mesh3d\":[{\"type\":\"mesh3d\",\"colorbar\":{\"outlinewidth\":0,\"ticks\":\"\"}}],\"scatter\":[{\"fillpattern\":{\"fillmode\":\"overlay\",\"size\":10,\"solidity\":0.2},\"type\":\"scatter\"}],\"parcoords\":[{\"type\":\"parcoords\",\"line\":{\"colorbar\":{\"outlinewidth\":0,\"ticks\":\"\"}}}],\"scatterpolargl\":[{\"type\":\"scatterpolargl\",\"marker\":{\"colorbar\":{\"outlinewidth\":0,\"ticks\":\"\"}}}],\"bar\":[{\"error_x\":{\"color\":\"#2a3f5f\"},\"error_y\":{\"color\":\"#2a3f5f\"},\"marker\":{\"line\":{\"color\":\"#E5ECF6\",\"width\":0.5},\"pattern\":{\"fillmode\":\"overlay\",\"size\":10,\"solidity\":0.2}},\"type\":\"bar\"}],\"scattergeo\":[{\"type\":\"scattergeo\",\"marker\":{\"colorbar\":{\"outlinewidth\":0,\"ticks\":\"\"}}}],\"scatterpolar\":[{\"type\":\"scatterpolar\",\"marker\":{\"colorbar\":{\"outlinewidth\":0,\"ticks\":\"\"}}}],\"histogram\":[{\"marker\":{\"pattern\":{\"fillmode\":\"overlay\",\"size\":10,\"solidity\":0.2}},\"type\":\"histogram\"}],\"scattergl\":[{\"type\":\"scattergl\",\"marker\":{\"colorbar\":{\"outlinewidth\":0,\"ticks\":\"\"}}}],\"scatter3d\":[{\"type\":\"scatter3d\",\"line\":{\"colorbar\":{\"outlinewidth\":0,\"ticks\":\"\"}},\"marker\":{\"colorbar\":{\"outlinewidth\":0,\"ticks\":\"\"}}}],\"scattermapbox\":[{\"type\":\"scattermapbox\",\"marker\":{\"colorbar\":{\"outlinewidth\":0,\"ticks\":\"\"}}}],\"scatterternary\":[{\"type\":\"scatterternary\",\"marker\":{\"colorbar\":{\"outlinewidth\":0,\"ticks\":\"\"}}}],\"scattercarpet\":[{\"type\":\"scattercarpet\",\"marker\":{\"colorbar\":{\"outlinewidth\":0,\"ticks\":\"\"}}}],\"carpet\":[{\"aaxis\":{\"endlinecolor\":\"#2a3f5f\",\"gridcolor\":\"white\",\"linecolor\":\"white\",\"minorgridcolor\":\"white\",\"startlinecolor\":\"#2a3f5f\"},\"baxis\":{\"endlinecolor\":\"#2a3f5f\",\"gridcolor\":\"white\",\"linecolor\":\"white\",\"minorgridcolor\":\"white\",\"startlinecolor\":\"#2a3f5f\"},\"type\":\"carpet\"}],\"table\":[{\"cells\":{\"fill\":{\"color\":\"#EBF0F8\"},\"line\":{\"color\":\"white\"}},\"header\":{\"fill\":{\"color\":\"#C8D4E3\"},\"line\":{\"color\":\"white\"}},\"type\":\"table\"}],\"barpolar\":[{\"marker\":{\"line\":{\"color\":\"#E5ECF6\",\"width\":0.5},\"pattern\":{\"fillmode\":\"overlay\",\"size\":10,\"solidity\":0.2}},\"type\":\"barpolar\"}],\"pie\":[{\"automargin\":true,\"type\":\"pie\"}]},\"layout\":{\"autotypenumbers\":\"strict\",\"colorway\":[\"#636efa\",\"#EF553B\",\"#00cc96\",\"#ab63fa\",\"#FFA15A\",\"#19d3f3\",\"#FF6692\",\"#B6E880\",\"#FF97FF\",\"#FECB52\"],\"font\":{\"color\":\"#2a3f5f\"},\"hovermode\":\"closest\",\"hoverlabel\":{\"align\":\"left\"},\"paper_bgcolor\":\"white\",\"plot_bgcolor\":\"#E5ECF6\",\"polar\":{\"bgcolor\":\"#E5ECF6\",\"angularaxis\":{\"gridcolor\":\"white\",\"linecolor\":\"white\",\"ticks\":\"\"},\"radialaxis\":{\"gridcolor\":\"white\",\"linecolor\":\"white\",\"ticks\":\"\"}},\"ternary\":{\"bgcolor\":\"#E5ECF6\",\"aaxis\":{\"gridcolor\":\"white\",\"linecolor\":\"white\",\"ticks\":\"\"},\"baxis\":{\"gridcolor\":\"white\",\"linecolor\":\"white\",\"ticks\":\"\"},\"caxis\":{\"gridcolor\":\"white\",\"linecolor\":\"white\",\"ticks\":\"\"}},\"coloraxis\":{\"colorbar\":{\"outlinewidth\":0,\"ticks\":\"\"}},\"colorscale\":{\"sequential\":[[0.0,\"#0d0887\"],[0.1111111111111111,\"#46039f\"],[0.2222222222222222,\"#7201a8\"],[0.3333333333333333,\"#9c179e\"],[0.4444444444444444,\"#bd3786\"],[0.5555555555555556,\"#d8576b\"],[0.6666666666666666,\"#ed7953\"],[0.7777777777777778,\"#fb9f3a\"],[0.8888888888888888,\"#fdca26\"],[1.0,\"#f0f921\"]],\"sequentialminus\":[[0.0,\"#0d0887\"],[0.1111111111111111,\"#46039f\"],[0.2222222222222222,\"#7201a8\"],[0.3333333333333333,\"#9c179e\"],[0.4444444444444444,\"#bd3786\"],[0.5555555555555556,\"#d8576b\"],[0.6666666666666666,\"#ed7953\"],[0.7777777777777778,\"#fb9f3a\"],[0.8888888888888888,\"#fdca26\"],[1.0,\"#f0f921\"]],\"diverging\":[[0,\"#8e0152\"],[0.1,\"#c51b7d\"],[0.2,\"#de77ae\"],[0.3,\"#f1b6da\"],[0.4,\"#fde0ef\"],[0.5,\"#f7f7f7\"],[0.6,\"#e6f5d0\"],[0.7,\"#b8e186\"],[0.8,\"#7fbc41\"],[0.9,\"#4d9221\"],[1,\"#276419\"]]},\"xaxis\":{\"gridcolor\":\"white\",\"linecolor\":\"white\",\"ticks\":\"\",\"title\":{\"standoff\":15},\"zerolinecolor\":\"white\",\"automargin\":true,\"zerolinewidth\":2},\"yaxis\":{\"gridcolor\":\"white\",\"linecolor\":\"white\",\"ticks\":\"\",\"title\":{\"standoff\":15},\"zerolinecolor\":\"white\",\"automargin\":true,\"zerolinewidth\":2},\"scene\":{\"xaxis\":{\"backgroundcolor\":\"#E5ECF6\",\"gridcolor\":\"white\",\"linecolor\":\"white\",\"showbackground\":true,\"ticks\":\"\",\"zerolinecolor\":\"white\",\"gridwidth\":2},\"yaxis\":{\"backgroundcolor\":\"#E5ECF6\",\"gridcolor\":\"white\",\"linecolor\":\"white\",\"showbackground\":true,\"ticks\":\"\",\"zerolinecolor\":\"white\",\"gridwidth\":2},\"zaxis\":{\"backgroundcolor\":\"#E5ECF6\",\"gridcolor\":\"white\",\"linecolor\":\"white\",\"showbackground\":true,\"ticks\":\"\",\"zerolinecolor\":\"white\",\"gridwidth\":2}},\"shapedefaults\":{\"line\":{\"color\":\"#2a3f5f\"}},\"annotationdefaults\":{\"arrowcolor\":\"#2a3f5f\",\"arrowhead\":0,\"arrowwidth\":1},\"geo\":{\"bgcolor\":\"white\",\"landcolor\":\"#E5ECF6\",\"subunitcolor\":\"white\",\"showland\":true,\"showlakes\":true,\"lakecolor\":\"white\"},\"title\":{\"x\":0.05},\"mapbox\":{\"style\":\"light\"}}},\"scene\":{\"aspectratio\":{\"x\":3,\"y\":3,\"z\":3},\"xaxis\":{\"range\":[-1.5,1.5]},\"yaxis\":{\"range\":[-1.5,1.5]},\"zaxis\":{\"range\":[-1.5,1.5]},\"aspectmode\":\"manual\"}},                        {\"responsive\": true}                    ).then(function(){\n",
       "                            \n",
       "var gd = document.getElementById('14183796-3701-4344-bc5f-2c292715e4ad');\n",
       "var x = new MutationObserver(function (mutations, observer) {{\n",
       "        var display = window.getComputedStyle(gd).display;\n",
       "        if (!display || display === 'none') {{\n",
       "            console.log([gd, 'removed!']);\n",
       "            Plotly.purge(gd);\n",
       "            observer.disconnect();\n",
       "        }}\n",
       "}});\n",
       "\n",
       "// Listen for the removal of the full notebook cells\n",
       "var notebookContainer = gd.closest('#notebook-container');\n",
       "if (notebookContainer) {{\n",
       "    x.observe(notebookContainer, {childList: true});\n",
       "}}\n",
       "\n",
       "// Listen for the clearing of the current output cell\n",
       "var outputEl = gd.closest('.output');\n",
       "if (outputEl) {{\n",
       "    x.observe(outputEl, {childList: true});\n",
       "}}\n",
       "\n",
       "                        })                };                });            </script>        </div>"
      ]
     },
     "metadata": {},
     "output_type": "display_data"
    },
    {
     "data": {
      "application/vnd.plotly.v1+json": {
       "config": {
        "plotlyServerURL": "https://plot.ly"
       },
       "data": [
        {
         "marker": {
          "opacity": 0.8,
          "size": 2
         },
         "mode": "markers",
         "type": "scatter3d",
         "x": [
          0.0577392578125,
          0.012939453125,
          -0.0634765625,
          -0.08349609375,
          0.1165771484375,
          0.046630859375,
          0.0174560546875,
          -0.004638671875,
          -0.0653076171875,
          0.0941162109375,
          0.055908203125,
          -0.01123046875,
          -0.042236328125,
          -0.09375,
          -0.1221923828125,
          0.0885009765625,
          0.103515625,
          0.060791015625,
          0.0137939453125,
          -0.0152587890625,
          -0.0509033203125,
          -0.1195068359375,
          -0.1893310546875,
          0.1673583984375,
          0.1356201171875,
          0.106201171875,
          0.0792236328125,
          0.0367431640625,
          -0.001220703125,
          -0.054931640625,
          -0.1156005859375,
          -0.1534423828125,
          -0.1796875,
          -0.2080078125,
          0.1864013671875,
          0.180908203125,
          0.1624755859375,
          0.124267578125,
          0.0928955078125,
          0.054931640625,
          0.01708984375,
          -0.02978515625,
          -0.0743408203125,
          -0.1302490234375,
          -0.1978759765625,
          -0.240234375,
          -0.287109375,
          0.2479248046875,
          0.23779296875,
          0.2215576171875,
          0.18115234375,
          0.1497802734375,
          0.1072998046875,
          0.085205078125,
          0.04296875,
          0.0030517578125,
          -0.050537109375,
          -0.1064453125,
          -0.1807861328125,
          -0.269287109375,
          -0.2884521484375,
          0.2071533203125,
          0.2232666015625,
          0.2244873046875,
          0.143798828125,
          0.1080322265625,
          0.0745849609375,
          0.0458984375,
          0.0059814453125,
          -0.0316162109375,
          -0.1021728515625,
          -0.2117919921875,
          -0.3026123046875,
          0.21923828125,
          0.206787109375,
          0.1859130859375,
          0.1763916015625,
          0.1405029296875,
          0.10693359375,
          0.0645751953125,
          0.022216796875,
          -0.024658203125,
          -0.0782470703125,
          -0.1182861328125,
          -0.1558837890625,
          -0.2119140625,
          -0.3004150390625,
          0.2076416015625,
          0.1820068359375,
          0.205078125,
          0.1756591796875,
          0.153076171875,
          0.106201171875,
          0.086181640625,
          0.041748046875,
          -0.0118408203125,
          -0.0859375,
          -0.1282958984375,
          -0.1728515625,
          -0.2220458984375,
          -0.3013916015625,
          0.1968994140625,
          0.2001953125,
          0.186279296875,
          0.148193359375,
          0.121337890625,
          0.085693359375,
          0.0457763671875,
          -0.010009765625,
          -0.0614013671875,
          -0.114990234375,
          -0.2193603515625,
          -0.2593994140625,
          -0.260009765625,
          0.2205810546875,
          0.215087890625,
          0.190185546875,
          0.1654052734375,
          0.1319580078125,
          0.0941162109375,
          0.04736328125,
          -0.0015869140625,
          -0.0596923828125,
          -0.1500244140625,
          0.2052001953125,
          0.20849609375,
          0.194580078125,
          0.1632080078125,
          0.12744140625,
          0.0919189453125,
          0.045166015625,
          -0.0015869140625,
          -0.06201171875,
          -0.1796875,
          0.1536865234375,
          0.1572265625,
          0.13671875,
          0.1031494140625,
          0.065185546875,
          0.029541015625,
          -0.01953125,
          -0.0718994140625,
          -0.146240234375,
          -0.3126220703125,
          0.091552734375,
          0.07958984375,
          0.05908203125,
          0.0411376953125,
          -0.0013427734375,
          -0.0460205078125,
          -0.083984375,
          -0.176513671875,
          0.08642578125,
          0.0699462890625,
          0.0806884765625,
          0.051513671875,
          0.0113525390625,
          -0.0491943359375,
          -0.10986328125,
          -0.0037841796875,
          0.017578125,
          0.0509033203125,
          -0.0028076171875,
          -0.0362548828125,
          -0.1058349609375,
          0.0611572265625,
          0.0223388671875,
          0.050537109375,
          0.0548095703125,
          0.023681640625,
          -0.0458984375,
          0.0592041015625,
          0.0159912109375,
          0.0396728515625,
          0.077392578125,
          -0.0076904296875,
          -0.0057373046875,
          0.0089111328125,
          0.0576171875,
          0.012939453125,
          -0.029541015625,
          0.0947265625,
          0.0924072265625,
          0.023193359375,
          0.349365234375,
          0.3121337890625,
          0.263916015625,
          0.233642578125,
          0.18994140625,
          0.1072998046875,
          0.095703125
         ],
         "y": [
          0.040283203125,
          0.0572509765625,
          0.011962890625,
          0.078125,
          -0.0545654296875,
          0.0194091796875,
          0.0665283203125,
          0.128173828125,
          0.1142578125,
          0.0059814453125,
          0.0362548828125,
          0.1148681640625,
          0.15869140625,
          0.16259765625,
          0.2100830078125,
          -0.11376953125,
          0.02392578125,
          0.045166015625,
          0.0567626953125,
          0.10498046875,
          0.1400146484375,
          0.214599609375,
          0.1832275390625,
          -0.0660400390625,
          -0.0224609375,
          0.025634765625,
          0.0782470703125,
          0.0986328125,
          0.1290283203125,
          0.12841796875,
          0.114501953125,
          0.145263671875,
          0.1982421875,
          0.246826171875,
          -0.133544921875,
          -0.0361328125,
          0.0333251953125,
          0.0634765625,
          0.1070556640625,
          0.1373291015625,
          0.167724609375,
          0.1802978515625,
          0.197509765625,
          0.191650390625,
          0.164794921875,
          0.1868896484375,
          0.2001953125,
          -0.1236572265625,
          -0.0352783203125,
          0.03955078125,
          0.0650634765625,
          0.1085205078125,
          0.1287841796875,
          0.1903076171875,
          0.211669921875,
          0.2376708984375,
          0.2369384765625,
          0.23095703125,
          0.190673828125,
          0.1241455078125,
          0.1905517578125,
          -0.207275390625,
          -0.0650634765625,
          0.045654296875,
          0.0968017578125,
          0.1314697265625,
          0.1695556640625,
          0.2176513671875,
          0.24365234375,
          0.2740478515625,
          0.242431640625,
          0.236572265625,
          0.165771484375,
          -0.18359375,
          -0.0997314453125,
          -0.0347900390625,
          0.0535888671875,
          0.088134765625,
          0.127197265625,
          0.1485595703125,
          0.1700439453125,
          0.1826171875,
          0.18115234375,
          0.207275390625,
          0.238037109375,
          0.2333984375,
          0.1671142578125,
          -0.2088623046875,
          -0.15283203125,
          0.0028076171875,
          0.05078125,
          0.1121826171875,
          0.12451171875,
          0.1904296875,
          0.206298828125,
          0.20556640625,
          0.1650390625,
          0.186767578125,
          0.2042236328125,
          0.2130126953125,
          0.1644287109375,
          -0.1265869140625,
          -0.0113525390625,
          0.06787109375,
          0.0980224609375,
          0.1505126953125,
          0.1851806640625,
          0.2100830078125,
          0.204833984375,
          0.2086181640625,
          0.208251953125,
          0.1104736328125,
          0.136962890625,
          0.23876953125,
          -0.07666015625,
          0.0196533203125,
          0.0765380859375,
          0.1334228515625,
          0.1724853515625,
          0.20263671875,
          0.215087890625,
          0.2232666015625,
          0.2127685546875,
          0.141357421875,
          -0.1153564453125,
          -0.000244140625,
          0.0789794921875,
          0.1224365234375,
          0.1561279296875,
          0.1907958984375,
          0.2032470703125,
          0.2158203125,
          0.201904296875,
          0.076171875,
          -0.1123046875,
          0.0029296875,
          0.0687255859375,
          0.1068115234375,
          0.1370849609375,
          0.171875,
          0.1800537109375,
          0.1839599609375,
          0.1436767578125,
          -0.074462890625,
          -0.132568359375,
          -0.0487060546875,
          0.017333984375,
          0.0877685546875,
          0.1092529296875,
          0.12646484375,
          0.1571044921875,
          0.080322265625,
          -0.1451416015625,
          -0.0701904296875,
          0.0582275390625,
          0.10546875,
          0.13134765625,
          0.117431640625,
          0.1036376953125,
          -0.2236328125,
          -0.07275390625,
          0.10009765625,
          0.098388671875,
          0.1378173828125,
          0.1063232421875,
          -0.201416015625,
          -0.1710205078125,
          -0.0068359375,
          0.1080322265625,
          0.1517333984375,
          0.1201171875,
          -0.2125244140625,
          -0.1910400390625,
          -0.036865234375,
          0.144775390625,
          0.081787109375,
          -0.23583984375,
          -0.099609375,
          0.104248046875,
          0.121337890625,
          0.1429443359375,
          0.0697021484375,
          0.1710205078125,
          0.13916015625,
          0.4722900390625,
          0.501953125,
          0.508544921875,
          0.5517578125,
          0.568359375,
          0.61083984375,
          0.6895751953125
         ],
         "z": [
          0.8448944091796875,
          0.8441619873046875,
          0.8418197631835938,
          0.8423614501953125,
          0.7852630615234375,
          0.784942626953125,
          0.7851028442382812,
          0.7856674194335938,
          0.7840118408203125,
          0.7322311401367188,
          0.731903076171875,
          0.7318191528320312,
          0.73193359375,
          0.730743408203125,
          0.7310028076171875,
          0.6613845825195312,
          0.6649246215820312,
          0.6643142700195312,
          0.6633758544921875,
          0.663726806640625,
          0.6635971069335938,
          0.6635055541992188,
          0.6609649658203125,
          0.609039306640625,
          0.6092910766601562,
          0.6097183227539062,
          0.610321044921875,
          0.6097030639648438,
          0.6094436645507812,
          0.6079635620117188,
          0.60595703125,
          0.6056976318359375,
          0.6063079833984375,
          0.6067581176757812,
          0.5522537231445312,
          0.5548171997070312,
          0.5562591552734375,
          0.5560226440429688,
          0.5563430786132812,
          0.5561065673828125,
          0.555877685546875,
          0.5548934936523438,
          0.5540924072265625,
          0.5523529052734375,
          0.5496749877929688,
          0.5490646362304688,
          0.5480804443359375,
          0.48764801025390625,
          0.490081787109375,
          0.491912841796875,
          0.4915008544921875,
          0.49190521240234375,
          0.49129486083984375,
          0.492523193359375,
          0.491912841796875,
          0.49151611328125,
          0.4898834228515625,
          0.48804473876953125,
          0.4845733642578125,
          0.4798583984375,
          0.4813079833984375,
          0.418182373046875,
          0.42348480224609375,
          0.42726898193359375,
          0.42647552490234375,
          0.4265289306640625,
          0.42679595947265625,
          0.42751312255859375,
          0.4271240234375,
          0.42696380615234375,
          0.4237060546875,
          0.4200592041015625,
          0.41480255126953125,
          0.35160064697265625,
          0.3542938232421875,
          0.3560333251953125,
          0.35897064208984375,
          0.35906982421875,
          0.359405517578125,
          0.358795166015625,
          0.358184814453125,
          0.3571014404296875,
          0.3553009033203125,
          0.3549346923828125,
          0.35480499267578125,
          0.3527679443359375,
          0.34740447998046875,
          0.26883697509765625,
          0.270263671875,
          0.27733612060546875,
          0.27825927734375,
          0.27996063232421875,
          0.27883148193359375,
          0.280792236328125,
          0.27993011474609375,
          0.2780303955078125,
          0.2738189697265625,
          0.2732086181640625,
          0.27234649658203125,
          0.270965576171875,
          0.26622772216796875,
          0.1932830810546875,
          0.198455810546875,
          0.2014312744140625,
          0.2013702392578125,
          0.20269012451171875,
          0.202911376953125,
          0.20257568359375,
          0.20030975341796875,
          0.1985931396484375,
          0.19660186767578125,
          0.188507080078125,
          0.18817901611328125,
          0.19256591796875,
          0.11670684814453125,
          0.1211090087890625,
          0.12285614013671875,
          0.12461090087890625,
          0.12518310546875,
          0.1251678466796875,
          0.12397003173828125,
          0.12247467041015625,
          0.11978912353515625,
          0.11295318603515625,
          0.03154754638671875,
          0.037567138671875,
          0.0410614013671875,
          0.04203033447265625,
          0.04236602783203125,
          0.0427093505859375,
          0.04146575927734375,
          0.04022216796875,
          0.037078857421875,
          0.02600860595703125,
          -0.06233978271484375,
          -0.05584716796875,
          -0.05307769775390625,
          -0.052337646484375,
          -0.05226898193359375,
          -0.05185699462890625,
          -0.05348968505859375,
          -0.055450439453125,
          -0.06081390380859375,
          -0.07978057861328125,
          -0.15738677978515625,
          -0.15294647216796875,
          -0.1499481201171875,
          -0.1465911865234375,
          -0.1472015380859375,
          -0.14817047119140625,
          -0.1480560302734375,
          -0.1566314697265625,
          -0.26880645751953125,
          -0.2647705078125,
          -0.25606536865234375,
          -0.2543487548828125,
          -0.25457000732421875,
          -0.25829315185546875,
          -0.26201629638671875,
          -0.38106536865234375,
          -0.36968994140625,
          -0.3562469482421875,
          -0.35892486572265625,
          -0.357879638671875,
          -0.36346435546875,
          -0.4832611083984375,
          -0.483001708984375,
          -0.46956634521484375,
          -0.46094512939453125,
          -0.45935821533203125,
          -0.46524810791015625,
          -0.5933074951171875,
          -0.59393310546875,
          -0.5805740356445312,
          -0.5644073486328125,
          -0.573883056640625,
          -0.712982177734375,
          -0.700775146484375,
          -0.6811447143554688,
          -0.6822509765625,
          -0.682861328125,
          -0.8004913330078125,
          -0.7916946411132812,
          -0.798583984375,
          -0.8745498657226562,
          -0.8740386962890625,
          -0.8763046264648438,
          -0.8741302490234375,
          -0.875274658203125,
          -0.87646484375,
          -0.8698501586914062
         ]
        },
        {
         "marker": {
          "color": "red",
          "opacity": 0.8,
          "size": 4
         },
         "mode": "markers",
         "type": "scatter3d",
         "x": [
          -0.057641178369522095,
          0.16342583298683167,
          0.2266254723072052,
          0.1073247566819191,
          0.09762749820947647,
          0.08718359470367432,
          0.12590329349040985,
          -0.11316957324743271,
          -0.23361924290657043,
          -0.22158606350421906,
          -0.07354022562503815,
          -0.05604240298271179,
          0.02075524628162384
         ],
         "y": [
          -0.05841317027807236,
          -0.02220655232667923,
          -0.10146600008010864,
          -0.15626728534698486,
          -0.02310696244239807,
          -0.08242615312337875,
          -0.05241682752966881,
          0.17110560834407806,
          0.16807445883750916,
          -0.027656622231006622,
          0.10772417485713959,
          0.14592593908309937,
          0.2502403259277344
         ],
         "z": [
          0.5625298023223877,
          0.40420907735824585,
          0.19747862219810486,
          0.17097102105617523,
          -0.04296215623617172,
          -0.38141143321990967,
          -0.7241829633712769,
          0.4046176075935364,
          0.19906556606292725,
          0.1967601776123047,
          -0.03575488179922104,
          -0.38201695680618286,
          -0.7175266146659851
         ]
        },
        {
         "line": {
          "color": "black",
          "width": 2
         },
         "mode": "lines",
         "type": "scatter3d",
         "x": [
          -0.057641178369522095,
          0.025128129869699478
         ],
         "y": [
          -0.05841317027807236,
          0.07444952428340912
         ],
         "z": [
          0.5625298023223877,
          0.4044133424758911
         ]
        },
        {
         "line": {
          "color": "black",
          "width": 2
         },
         "mode": "lines",
         "type": "scatter3d",
         "x": [
          0.16342583298683167,
          0.2266254723072052
         ],
         "y": [
          -0.02220655232667923,
          -0.10146600008010864
         ],
         "z": [
          0.40420907735824585,
          0.19747862219810486
         ]
        },
        {
         "line": {
          "color": "black",
          "width": 2
         },
         "mode": "lines",
         "type": "scatter3d",
         "x": [
          0.16342583298683167,
          0.09762749820947647
         ],
         "y": [
          -0.02220655232667923,
          -0.02310696244239807
         ],
         "z": [
          0.40420907735824585,
          -0.04296215623617172
         ]
        },
        {
         "line": {
          "color": "black",
          "width": 2
         },
         "mode": "lines",
         "type": "scatter3d",
         "x": [
          0.16342583298683167,
          -0.11316957324743271
         ],
         "y": [
          -0.02220655232667923,
          0.17110560834407806
         ],
         "z": [
          0.40420907735824585,
          0.4046176075935364
         ]
        },
        {
         "line": {
          "color": "black",
          "width": 2
         },
         "mode": "lines",
         "type": "scatter3d",
         "x": [
          0.2266254723072052,
          0.1073247566819191
         ],
         "y": [
          -0.10146600008010864,
          -0.15626728534698486
         ],
         "z": [
          0.19747862219810486,
          0.17097102105617523
         ]
        },
        {
         "line": {
          "color": "black",
          "width": 2
         },
         "mode": "lines",
         "type": "scatter3d",
         "x": [
          0.09762749820947647,
          0.08718359470367432
         ],
         "y": [
          -0.02310696244239807,
          -0.08242615312337875
         ],
         "z": [
          -0.04296215623617172,
          -0.38141143321990967
         ]
        },
        {
         "line": {
          "color": "black",
          "width": 2
         },
         "mode": "lines",
         "type": "scatter3d",
         "x": [
          0.09762749820947647,
          -0.07354022562503815
         ],
         "y": [
          -0.02310696244239807,
          0.10772417485713959
         ],
         "z": [
          -0.04296215623617172,
          -0.03575488179922104
         ]
        },
        {
         "line": {
          "color": "black",
          "width": 2
         },
         "mode": "lines",
         "type": "scatter3d",
         "x": [
          0.08718359470367432,
          0.12590329349040985
         ],
         "y": [
          -0.08242615312337875,
          -0.05241682752966881
         ],
         "z": [
          -0.38141143321990967,
          -0.7241829633712769
         ]
        },
        {
         "line": {
          "color": "black",
          "width": 2
         },
         "mode": "lines",
         "type": "scatter3d",
         "x": [
          -0.11316957324743271,
          -0.23361924290657043
         ],
         "y": [
          0.17110560834407806,
          0.16807445883750916
         ],
         "z": [
          0.4046176075935364,
          0.19906556606292725
         ]
        },
        {
         "line": {
          "color": "black",
          "width": 2
         },
         "mode": "lines",
         "type": "scatter3d",
         "x": [
          -0.11316957324743271,
          -0.07354022562503815
         ],
         "y": [
          0.17110560834407806,
          0.10772417485713959
         ],
         "z": [
          0.4046176075935364,
          -0.03575488179922104
         ]
        },
        {
         "line": {
          "color": "black",
          "width": 2
         },
         "mode": "lines",
         "type": "scatter3d",
         "x": [
          -0.23361924290657043,
          -0.22158606350421906
         ],
         "y": [
          0.16807445883750916,
          -0.027656622231006622
         ],
         "z": [
          0.19906556606292725,
          0.1967601776123047
         ]
        },
        {
         "line": {
          "color": "black",
          "width": 2
         },
         "mode": "lines",
         "type": "scatter3d",
         "x": [
          -0.07354022562503815,
          -0.05604240298271179
         ],
         "y": [
          0.10772417485713959,
          0.14592593908309937
         ],
         "z": [
          -0.03575488179922104,
          -0.38201695680618286
         ]
        },
        {
         "line": {
          "color": "black",
          "width": 2
         },
         "mode": "lines",
         "type": "scatter3d",
         "x": [
          -0.05604240298271179,
          0.02075524628162384
         ],
         "y": [
          0.14592593908309937,
          0.2502403259277344
         ],
         "z": [
          -0.38201695680618286,
          -0.7175266146659851
         ]
        },
        {
         "line": {
          "color": "blue",
          "width": 2
         },
         "mode": "lines",
         "type": "scatter3d",
         "x": [
          0,
          -0.6374173513744481
         ],
         "y": [
          0,
          -0.7705187344683991
         ],
         "z": [
          0,
          0
         ]
        }
       ],
       "layout": {
        "scene": {
         "aspectmode": "manual",
         "aspectratio": {
          "x": 3,
          "y": 3,
          "z": 3
         },
         "xaxis": {
          "range": [
           -1.5,
           1.5
          ]
         },
         "yaxis": {
          "range": [
           -1.5,
           1.5
          ]
         },
         "zaxis": {
          "range": [
           -1.5,
           1.5
          ]
         }
        },
        "template": {
         "data": {
          "bar": [
           {
            "error_x": {
             "color": "#2a3f5f"
            },
            "error_y": {
             "color": "#2a3f5f"
            },
            "marker": {
             "line": {
              "color": "#E5ECF6",
              "width": 0.5
             },
             "pattern": {
              "fillmode": "overlay",
              "size": 10,
              "solidity": 0.2
             }
            },
            "type": "bar"
           }
          ],
          "barpolar": [
           {
            "marker": {
             "line": {
              "color": "#E5ECF6",
              "width": 0.5
             },
             "pattern": {
              "fillmode": "overlay",
              "size": 10,
              "solidity": 0.2
             }
            },
            "type": "barpolar"
           }
          ],
          "carpet": [
           {
            "aaxis": {
             "endlinecolor": "#2a3f5f",
             "gridcolor": "white",
             "linecolor": "white",
             "minorgridcolor": "white",
             "startlinecolor": "#2a3f5f"
            },
            "baxis": {
             "endlinecolor": "#2a3f5f",
             "gridcolor": "white",
             "linecolor": "white",
             "minorgridcolor": "white",
             "startlinecolor": "#2a3f5f"
            },
            "type": "carpet"
           }
          ],
          "choropleth": [
           {
            "colorbar": {
             "outlinewidth": 0,
             "ticks": ""
            },
            "type": "choropleth"
           }
          ],
          "contour": [
           {
            "colorbar": {
             "outlinewidth": 0,
             "ticks": ""
            },
            "colorscale": [
             [
              0,
              "#0d0887"
             ],
             [
              0.1111111111111111,
              "#46039f"
             ],
             [
              0.2222222222222222,
              "#7201a8"
             ],
             [
              0.3333333333333333,
              "#9c179e"
             ],
             [
              0.4444444444444444,
              "#bd3786"
             ],
             [
              0.5555555555555556,
              "#d8576b"
             ],
             [
              0.6666666666666666,
              "#ed7953"
             ],
             [
              0.7777777777777778,
              "#fb9f3a"
             ],
             [
              0.8888888888888888,
              "#fdca26"
             ],
             [
              1,
              "#f0f921"
             ]
            ],
            "type": "contour"
           }
          ],
          "contourcarpet": [
           {
            "colorbar": {
             "outlinewidth": 0,
             "ticks": ""
            },
            "type": "contourcarpet"
           }
          ],
          "heatmap": [
           {
            "colorbar": {
             "outlinewidth": 0,
             "ticks": ""
            },
            "colorscale": [
             [
              0,
              "#0d0887"
             ],
             [
              0.1111111111111111,
              "#46039f"
             ],
             [
              0.2222222222222222,
              "#7201a8"
             ],
             [
              0.3333333333333333,
              "#9c179e"
             ],
             [
              0.4444444444444444,
              "#bd3786"
             ],
             [
              0.5555555555555556,
              "#d8576b"
             ],
             [
              0.6666666666666666,
              "#ed7953"
             ],
             [
              0.7777777777777778,
              "#fb9f3a"
             ],
             [
              0.8888888888888888,
              "#fdca26"
             ],
             [
              1,
              "#f0f921"
             ]
            ],
            "type": "heatmap"
           }
          ],
          "heatmapgl": [
           {
            "colorbar": {
             "outlinewidth": 0,
             "ticks": ""
            },
            "colorscale": [
             [
              0,
              "#0d0887"
             ],
             [
              0.1111111111111111,
              "#46039f"
             ],
             [
              0.2222222222222222,
              "#7201a8"
             ],
             [
              0.3333333333333333,
              "#9c179e"
             ],
             [
              0.4444444444444444,
              "#bd3786"
             ],
             [
              0.5555555555555556,
              "#d8576b"
             ],
             [
              0.6666666666666666,
              "#ed7953"
             ],
             [
              0.7777777777777778,
              "#fb9f3a"
             ],
             [
              0.8888888888888888,
              "#fdca26"
             ],
             [
              1,
              "#f0f921"
             ]
            ],
            "type": "heatmapgl"
           }
          ],
          "histogram": [
           {
            "marker": {
             "pattern": {
              "fillmode": "overlay",
              "size": 10,
              "solidity": 0.2
             }
            },
            "type": "histogram"
           }
          ],
          "histogram2d": [
           {
            "colorbar": {
             "outlinewidth": 0,
             "ticks": ""
            },
            "colorscale": [
             [
              0,
              "#0d0887"
             ],
             [
              0.1111111111111111,
              "#46039f"
             ],
             [
              0.2222222222222222,
              "#7201a8"
             ],
             [
              0.3333333333333333,
              "#9c179e"
             ],
             [
              0.4444444444444444,
              "#bd3786"
             ],
             [
              0.5555555555555556,
              "#d8576b"
             ],
             [
              0.6666666666666666,
              "#ed7953"
             ],
             [
              0.7777777777777778,
              "#fb9f3a"
             ],
             [
              0.8888888888888888,
              "#fdca26"
             ],
             [
              1,
              "#f0f921"
             ]
            ],
            "type": "histogram2d"
           }
          ],
          "histogram2dcontour": [
           {
            "colorbar": {
             "outlinewidth": 0,
             "ticks": ""
            },
            "colorscale": [
             [
              0,
              "#0d0887"
             ],
             [
              0.1111111111111111,
              "#46039f"
             ],
             [
              0.2222222222222222,
              "#7201a8"
             ],
             [
              0.3333333333333333,
              "#9c179e"
             ],
             [
              0.4444444444444444,
              "#bd3786"
             ],
             [
              0.5555555555555556,
              "#d8576b"
             ],
             [
              0.6666666666666666,
              "#ed7953"
             ],
             [
              0.7777777777777778,
              "#fb9f3a"
             ],
             [
              0.8888888888888888,
              "#fdca26"
             ],
             [
              1,
              "#f0f921"
             ]
            ],
            "type": "histogram2dcontour"
           }
          ],
          "mesh3d": [
           {
            "colorbar": {
             "outlinewidth": 0,
             "ticks": ""
            },
            "type": "mesh3d"
           }
          ],
          "parcoords": [
           {
            "line": {
             "colorbar": {
              "outlinewidth": 0,
              "ticks": ""
             }
            },
            "type": "parcoords"
           }
          ],
          "pie": [
           {
            "automargin": true,
            "type": "pie"
           }
          ],
          "scatter": [
           {
            "fillpattern": {
             "fillmode": "overlay",
             "size": 10,
             "solidity": 0.2
            },
            "type": "scatter"
           }
          ],
          "scatter3d": [
           {
            "line": {
             "colorbar": {
              "outlinewidth": 0,
              "ticks": ""
             }
            },
            "marker": {
             "colorbar": {
              "outlinewidth": 0,
              "ticks": ""
             }
            },
            "type": "scatter3d"
           }
          ],
          "scattercarpet": [
           {
            "marker": {
             "colorbar": {
              "outlinewidth": 0,
              "ticks": ""
             }
            },
            "type": "scattercarpet"
           }
          ],
          "scattergeo": [
           {
            "marker": {
             "colorbar": {
              "outlinewidth": 0,
              "ticks": ""
             }
            },
            "type": "scattergeo"
           }
          ],
          "scattergl": [
           {
            "marker": {
             "colorbar": {
              "outlinewidth": 0,
              "ticks": ""
             }
            },
            "type": "scattergl"
           }
          ],
          "scattermapbox": [
           {
            "marker": {
             "colorbar": {
              "outlinewidth": 0,
              "ticks": ""
             }
            },
            "type": "scattermapbox"
           }
          ],
          "scatterpolar": [
           {
            "marker": {
             "colorbar": {
              "outlinewidth": 0,
              "ticks": ""
             }
            },
            "type": "scatterpolar"
           }
          ],
          "scatterpolargl": [
           {
            "marker": {
             "colorbar": {
              "outlinewidth": 0,
              "ticks": ""
             }
            },
            "type": "scatterpolargl"
           }
          ],
          "scatterternary": [
           {
            "marker": {
             "colorbar": {
              "outlinewidth": 0,
              "ticks": ""
             }
            },
            "type": "scatterternary"
           }
          ],
          "surface": [
           {
            "colorbar": {
             "outlinewidth": 0,
             "ticks": ""
            },
            "colorscale": [
             [
              0,
              "#0d0887"
             ],
             [
              0.1111111111111111,
              "#46039f"
             ],
             [
              0.2222222222222222,
              "#7201a8"
             ],
             [
              0.3333333333333333,
              "#9c179e"
             ],
             [
              0.4444444444444444,
              "#bd3786"
             ],
             [
              0.5555555555555556,
              "#d8576b"
             ],
             [
              0.6666666666666666,
              "#ed7953"
             ],
             [
              0.7777777777777778,
              "#fb9f3a"
             ],
             [
              0.8888888888888888,
              "#fdca26"
             ],
             [
              1,
              "#f0f921"
             ]
            ],
            "type": "surface"
           }
          ],
          "table": [
           {
            "cells": {
             "fill": {
              "color": "#EBF0F8"
             },
             "line": {
              "color": "white"
             }
            },
            "header": {
             "fill": {
              "color": "#C8D4E3"
             },
             "line": {
              "color": "white"
             }
            },
            "type": "table"
           }
          ]
         },
         "layout": {
          "annotationdefaults": {
           "arrowcolor": "#2a3f5f",
           "arrowhead": 0,
           "arrowwidth": 1
          },
          "autotypenumbers": "strict",
          "coloraxis": {
           "colorbar": {
            "outlinewidth": 0,
            "ticks": ""
           }
          },
          "colorscale": {
           "diverging": [
            [
             0,
             "#8e0152"
            ],
            [
             0.1,
             "#c51b7d"
            ],
            [
             0.2,
             "#de77ae"
            ],
            [
             0.3,
             "#f1b6da"
            ],
            [
             0.4,
             "#fde0ef"
            ],
            [
             0.5,
             "#f7f7f7"
            ],
            [
             0.6,
             "#e6f5d0"
            ],
            [
             0.7,
             "#b8e186"
            ],
            [
             0.8,
             "#7fbc41"
            ],
            [
             0.9,
             "#4d9221"
            ],
            [
             1,
             "#276419"
            ]
           ],
           "sequential": [
            [
             0,
             "#0d0887"
            ],
            [
             0.1111111111111111,
             "#46039f"
            ],
            [
             0.2222222222222222,
             "#7201a8"
            ],
            [
             0.3333333333333333,
             "#9c179e"
            ],
            [
             0.4444444444444444,
             "#bd3786"
            ],
            [
             0.5555555555555556,
             "#d8576b"
            ],
            [
             0.6666666666666666,
             "#ed7953"
            ],
            [
             0.7777777777777778,
             "#fb9f3a"
            ],
            [
             0.8888888888888888,
             "#fdca26"
            ],
            [
             1,
             "#f0f921"
            ]
           ],
           "sequentialminus": [
            [
             0,
             "#0d0887"
            ],
            [
             0.1111111111111111,
             "#46039f"
            ],
            [
             0.2222222222222222,
             "#7201a8"
            ],
            [
             0.3333333333333333,
             "#9c179e"
            ],
            [
             0.4444444444444444,
             "#bd3786"
            ],
            [
             0.5555555555555556,
             "#d8576b"
            ],
            [
             0.6666666666666666,
             "#ed7953"
            ],
            [
             0.7777777777777778,
             "#fb9f3a"
            ],
            [
             0.8888888888888888,
             "#fdca26"
            ],
            [
             1,
             "#f0f921"
            ]
           ]
          },
          "colorway": [
           "#636efa",
           "#EF553B",
           "#00cc96",
           "#ab63fa",
           "#FFA15A",
           "#19d3f3",
           "#FF6692",
           "#B6E880",
           "#FF97FF",
           "#FECB52"
          ],
          "font": {
           "color": "#2a3f5f"
          },
          "geo": {
           "bgcolor": "white",
           "lakecolor": "white",
           "landcolor": "#E5ECF6",
           "showlakes": true,
           "showland": true,
           "subunitcolor": "white"
          },
          "hoverlabel": {
           "align": "left"
          },
          "hovermode": "closest",
          "mapbox": {
           "style": "light"
          },
          "paper_bgcolor": "white",
          "plot_bgcolor": "#E5ECF6",
          "polar": {
           "angularaxis": {
            "gridcolor": "white",
            "linecolor": "white",
            "ticks": ""
           },
           "bgcolor": "#E5ECF6",
           "radialaxis": {
            "gridcolor": "white",
            "linecolor": "white",
            "ticks": ""
           }
          },
          "scene": {
           "xaxis": {
            "backgroundcolor": "#E5ECF6",
            "gridcolor": "white",
            "gridwidth": 2,
            "linecolor": "white",
            "showbackground": true,
            "ticks": "",
            "zerolinecolor": "white"
           },
           "yaxis": {
            "backgroundcolor": "#E5ECF6",
            "gridcolor": "white",
            "gridwidth": 2,
            "linecolor": "white",
            "showbackground": true,
            "ticks": "",
            "zerolinecolor": "white"
           },
           "zaxis": {
            "backgroundcolor": "#E5ECF6",
            "gridcolor": "white",
            "gridwidth": 2,
            "linecolor": "white",
            "showbackground": true,
            "ticks": "",
            "zerolinecolor": "white"
           }
          },
          "shapedefaults": {
           "line": {
            "color": "#2a3f5f"
           }
          },
          "ternary": {
           "aaxis": {
            "gridcolor": "white",
            "linecolor": "white",
            "ticks": ""
           },
           "baxis": {
            "gridcolor": "white",
            "linecolor": "white",
            "ticks": ""
           },
           "bgcolor": "#E5ECF6",
           "caxis": {
            "gridcolor": "white",
            "linecolor": "white",
            "ticks": ""
           }
          },
          "title": {
           "x": 0.05
          },
          "xaxis": {
           "automargin": true,
           "gridcolor": "white",
           "linecolor": "white",
           "ticks": "",
           "title": {
            "standoff": 15
           },
           "zerolinecolor": "white",
           "zerolinewidth": 2
          },
          "yaxis": {
           "automargin": true,
           "gridcolor": "white",
           "linecolor": "white",
           "ticks": "",
           "title": {
            "standoff": 15
           },
           "zerolinecolor": "white",
           "zerolinewidth": 2
          }
         }
        }
       }
      },
      "text/html": [
       "<div>                            <div id=\"08c44906-c302-4ff4-982a-c157f04e7c8f\" class=\"plotly-graph-div\" style=\"height:525px; width:100%;\"></div>            <script type=\"text/javascript\">                require([\"plotly\"], function(Plotly) {                    window.PLOTLYENV=window.PLOTLYENV || {};                                    if (document.getElementById(\"08c44906-c302-4ff4-982a-c157f04e7c8f\")) {                    Plotly.newPlot(                        \"08c44906-c302-4ff4-982a-c157f04e7c8f\",                        [{\"marker\":{\"opacity\":0.8,\"size\":2},\"mode\":\"markers\",\"x\":[0.0577392578125,0.012939453125,-0.0634765625,-0.08349609375,0.1165771484375,0.046630859375,0.0174560546875,-0.004638671875,-0.0653076171875,0.0941162109375,0.055908203125,-0.01123046875,-0.042236328125,-0.09375,-0.1221923828125,0.0885009765625,0.103515625,0.060791015625,0.0137939453125,-0.0152587890625,-0.0509033203125,-0.1195068359375,-0.1893310546875,0.1673583984375,0.1356201171875,0.106201171875,0.0792236328125,0.0367431640625,-0.001220703125,-0.054931640625,-0.1156005859375,-0.1534423828125,-0.1796875,-0.2080078125,0.1864013671875,0.180908203125,0.1624755859375,0.124267578125,0.0928955078125,0.054931640625,0.01708984375,-0.02978515625,-0.0743408203125,-0.1302490234375,-0.1978759765625,-0.240234375,-0.287109375,0.2479248046875,0.23779296875,0.2215576171875,0.18115234375,0.1497802734375,0.1072998046875,0.085205078125,0.04296875,0.0030517578125,-0.050537109375,-0.1064453125,-0.1807861328125,-0.269287109375,-0.2884521484375,0.2071533203125,0.2232666015625,0.2244873046875,0.143798828125,0.1080322265625,0.0745849609375,0.0458984375,0.0059814453125,-0.0316162109375,-0.1021728515625,-0.2117919921875,-0.3026123046875,0.21923828125,0.206787109375,0.1859130859375,0.1763916015625,0.1405029296875,0.10693359375,0.0645751953125,0.022216796875,-0.024658203125,-0.0782470703125,-0.1182861328125,-0.1558837890625,-0.2119140625,-0.3004150390625,0.2076416015625,0.1820068359375,0.205078125,0.1756591796875,0.153076171875,0.106201171875,0.086181640625,0.041748046875,-0.0118408203125,-0.0859375,-0.1282958984375,-0.1728515625,-0.2220458984375,-0.3013916015625,0.1968994140625,0.2001953125,0.186279296875,0.148193359375,0.121337890625,0.085693359375,0.0457763671875,-0.010009765625,-0.0614013671875,-0.114990234375,-0.2193603515625,-0.2593994140625,-0.260009765625,0.2205810546875,0.215087890625,0.190185546875,0.1654052734375,0.1319580078125,0.0941162109375,0.04736328125,-0.0015869140625,-0.0596923828125,-0.1500244140625,0.2052001953125,0.20849609375,0.194580078125,0.1632080078125,0.12744140625,0.0919189453125,0.045166015625,-0.0015869140625,-0.06201171875,-0.1796875,0.1536865234375,0.1572265625,0.13671875,0.1031494140625,0.065185546875,0.029541015625,-0.01953125,-0.0718994140625,-0.146240234375,-0.3126220703125,0.091552734375,0.07958984375,0.05908203125,0.0411376953125,-0.0013427734375,-0.0460205078125,-0.083984375,-0.176513671875,0.08642578125,0.0699462890625,0.0806884765625,0.051513671875,0.0113525390625,-0.0491943359375,-0.10986328125,-0.0037841796875,0.017578125,0.0509033203125,-0.0028076171875,-0.0362548828125,-0.1058349609375,0.0611572265625,0.0223388671875,0.050537109375,0.0548095703125,0.023681640625,-0.0458984375,0.0592041015625,0.0159912109375,0.0396728515625,0.077392578125,-0.0076904296875,-0.0057373046875,0.0089111328125,0.0576171875,0.012939453125,-0.029541015625,0.0947265625,0.0924072265625,0.023193359375,0.349365234375,0.3121337890625,0.263916015625,0.233642578125,0.18994140625,0.1072998046875,0.095703125],\"y\":[0.040283203125,0.0572509765625,0.011962890625,0.078125,-0.0545654296875,0.0194091796875,0.0665283203125,0.128173828125,0.1142578125,0.0059814453125,0.0362548828125,0.1148681640625,0.15869140625,0.16259765625,0.2100830078125,-0.11376953125,0.02392578125,0.045166015625,0.0567626953125,0.10498046875,0.1400146484375,0.214599609375,0.1832275390625,-0.0660400390625,-0.0224609375,0.025634765625,0.0782470703125,0.0986328125,0.1290283203125,0.12841796875,0.114501953125,0.145263671875,0.1982421875,0.246826171875,-0.133544921875,-0.0361328125,0.0333251953125,0.0634765625,0.1070556640625,0.1373291015625,0.167724609375,0.1802978515625,0.197509765625,0.191650390625,0.164794921875,0.1868896484375,0.2001953125,-0.1236572265625,-0.0352783203125,0.03955078125,0.0650634765625,0.1085205078125,0.1287841796875,0.1903076171875,0.211669921875,0.2376708984375,0.2369384765625,0.23095703125,0.190673828125,0.1241455078125,0.1905517578125,-0.207275390625,-0.0650634765625,0.045654296875,0.0968017578125,0.1314697265625,0.1695556640625,0.2176513671875,0.24365234375,0.2740478515625,0.242431640625,0.236572265625,0.165771484375,-0.18359375,-0.0997314453125,-0.0347900390625,0.0535888671875,0.088134765625,0.127197265625,0.1485595703125,0.1700439453125,0.1826171875,0.18115234375,0.207275390625,0.238037109375,0.2333984375,0.1671142578125,-0.2088623046875,-0.15283203125,0.0028076171875,0.05078125,0.1121826171875,0.12451171875,0.1904296875,0.206298828125,0.20556640625,0.1650390625,0.186767578125,0.2042236328125,0.2130126953125,0.1644287109375,-0.1265869140625,-0.0113525390625,0.06787109375,0.0980224609375,0.1505126953125,0.1851806640625,0.2100830078125,0.204833984375,0.2086181640625,0.208251953125,0.1104736328125,0.136962890625,0.23876953125,-0.07666015625,0.0196533203125,0.0765380859375,0.1334228515625,0.1724853515625,0.20263671875,0.215087890625,0.2232666015625,0.2127685546875,0.141357421875,-0.1153564453125,-0.000244140625,0.0789794921875,0.1224365234375,0.1561279296875,0.1907958984375,0.2032470703125,0.2158203125,0.201904296875,0.076171875,-0.1123046875,0.0029296875,0.0687255859375,0.1068115234375,0.1370849609375,0.171875,0.1800537109375,0.1839599609375,0.1436767578125,-0.074462890625,-0.132568359375,-0.0487060546875,0.017333984375,0.0877685546875,0.1092529296875,0.12646484375,0.1571044921875,0.080322265625,-0.1451416015625,-0.0701904296875,0.0582275390625,0.10546875,0.13134765625,0.117431640625,0.1036376953125,-0.2236328125,-0.07275390625,0.10009765625,0.098388671875,0.1378173828125,0.1063232421875,-0.201416015625,-0.1710205078125,-0.0068359375,0.1080322265625,0.1517333984375,0.1201171875,-0.2125244140625,-0.1910400390625,-0.036865234375,0.144775390625,0.081787109375,-0.23583984375,-0.099609375,0.104248046875,0.121337890625,0.1429443359375,0.0697021484375,0.1710205078125,0.13916015625,0.4722900390625,0.501953125,0.508544921875,0.5517578125,0.568359375,0.61083984375,0.6895751953125],\"z\":[0.8448944091796875,0.8441619873046875,0.8418197631835938,0.8423614501953125,0.7852630615234375,0.784942626953125,0.7851028442382812,0.7856674194335938,0.7840118408203125,0.7322311401367188,0.731903076171875,0.7318191528320312,0.73193359375,0.730743408203125,0.7310028076171875,0.6613845825195312,0.6649246215820312,0.6643142700195312,0.6633758544921875,0.663726806640625,0.6635971069335938,0.6635055541992188,0.6609649658203125,0.609039306640625,0.6092910766601562,0.6097183227539062,0.610321044921875,0.6097030639648438,0.6094436645507812,0.6079635620117188,0.60595703125,0.6056976318359375,0.6063079833984375,0.6067581176757812,0.5522537231445312,0.5548171997070312,0.5562591552734375,0.5560226440429688,0.5563430786132812,0.5561065673828125,0.555877685546875,0.5548934936523438,0.5540924072265625,0.5523529052734375,0.5496749877929688,0.5490646362304688,0.5480804443359375,0.48764801025390625,0.490081787109375,0.491912841796875,0.4915008544921875,0.49190521240234375,0.49129486083984375,0.492523193359375,0.491912841796875,0.49151611328125,0.4898834228515625,0.48804473876953125,0.4845733642578125,0.4798583984375,0.4813079833984375,0.418182373046875,0.42348480224609375,0.42726898193359375,0.42647552490234375,0.4265289306640625,0.42679595947265625,0.42751312255859375,0.4271240234375,0.42696380615234375,0.4237060546875,0.4200592041015625,0.41480255126953125,0.35160064697265625,0.3542938232421875,0.3560333251953125,0.35897064208984375,0.35906982421875,0.359405517578125,0.358795166015625,0.358184814453125,0.3571014404296875,0.3553009033203125,0.3549346923828125,0.35480499267578125,0.3527679443359375,0.34740447998046875,0.26883697509765625,0.270263671875,0.27733612060546875,0.27825927734375,0.27996063232421875,0.27883148193359375,0.280792236328125,0.27993011474609375,0.2780303955078125,0.2738189697265625,0.2732086181640625,0.27234649658203125,0.270965576171875,0.26622772216796875,0.1932830810546875,0.198455810546875,0.2014312744140625,0.2013702392578125,0.20269012451171875,0.202911376953125,0.20257568359375,0.20030975341796875,0.1985931396484375,0.19660186767578125,0.188507080078125,0.18817901611328125,0.19256591796875,0.11670684814453125,0.1211090087890625,0.12285614013671875,0.12461090087890625,0.12518310546875,0.1251678466796875,0.12397003173828125,0.12247467041015625,0.11978912353515625,0.11295318603515625,0.03154754638671875,0.037567138671875,0.0410614013671875,0.04203033447265625,0.04236602783203125,0.0427093505859375,0.04146575927734375,0.04022216796875,0.037078857421875,0.02600860595703125,-0.06233978271484375,-0.05584716796875,-0.05307769775390625,-0.052337646484375,-0.05226898193359375,-0.05185699462890625,-0.05348968505859375,-0.055450439453125,-0.06081390380859375,-0.07978057861328125,-0.15738677978515625,-0.15294647216796875,-0.1499481201171875,-0.1465911865234375,-0.1472015380859375,-0.14817047119140625,-0.1480560302734375,-0.1566314697265625,-0.26880645751953125,-0.2647705078125,-0.25606536865234375,-0.2543487548828125,-0.25457000732421875,-0.25829315185546875,-0.26201629638671875,-0.38106536865234375,-0.36968994140625,-0.3562469482421875,-0.35892486572265625,-0.357879638671875,-0.36346435546875,-0.4832611083984375,-0.483001708984375,-0.46956634521484375,-0.46094512939453125,-0.45935821533203125,-0.46524810791015625,-0.5933074951171875,-0.59393310546875,-0.5805740356445312,-0.5644073486328125,-0.573883056640625,-0.712982177734375,-0.700775146484375,-0.6811447143554688,-0.6822509765625,-0.682861328125,-0.8004913330078125,-0.7916946411132812,-0.798583984375,-0.8745498657226562,-0.8740386962890625,-0.8763046264648438,-0.8741302490234375,-0.875274658203125,-0.87646484375,-0.8698501586914062],\"type\":\"scatter3d\"},{\"marker\":{\"color\":\"red\",\"opacity\":0.8,\"size\":4},\"mode\":\"markers\",\"x\":[-0.057641178369522095,0.16342583298683167,0.2266254723072052,0.1073247566819191,0.09762749820947647,0.08718359470367432,0.12590329349040985,-0.11316957324743271,-0.23361924290657043,-0.22158606350421906,-0.07354022562503815,-0.05604240298271179,0.02075524628162384],\"y\":[-0.05841317027807236,-0.02220655232667923,-0.10146600008010864,-0.15626728534698486,-0.02310696244239807,-0.08242615312337875,-0.05241682752966881,0.17110560834407806,0.16807445883750916,-0.027656622231006622,0.10772417485713959,0.14592593908309937,0.2502403259277344],\"z\":[0.5625298023223877,0.40420907735824585,0.19747862219810486,0.17097102105617523,-0.04296215623617172,-0.38141143321990967,-0.7241829633712769,0.4046176075935364,0.19906556606292725,0.1967601776123047,-0.03575488179922104,-0.38201695680618286,-0.7175266146659851],\"type\":\"scatter3d\"},{\"line\":{\"color\":\"black\",\"width\":2},\"mode\":\"lines\",\"x\":[-0.057641178369522095,0.025128129869699478],\"y\":[-0.05841317027807236,0.07444952428340912],\"z\":[0.5625298023223877,0.4044133424758911],\"type\":\"scatter3d\"},{\"line\":{\"color\":\"black\",\"width\":2},\"mode\":\"lines\",\"x\":[0.16342583298683167,0.2266254723072052],\"y\":[-0.02220655232667923,-0.10146600008010864],\"z\":[0.40420907735824585,0.19747862219810486],\"type\":\"scatter3d\"},{\"line\":{\"color\":\"black\",\"width\":2},\"mode\":\"lines\",\"x\":[0.16342583298683167,0.09762749820947647],\"y\":[-0.02220655232667923,-0.02310696244239807],\"z\":[0.40420907735824585,-0.04296215623617172],\"type\":\"scatter3d\"},{\"line\":{\"color\":\"black\",\"width\":2},\"mode\":\"lines\",\"x\":[0.16342583298683167,-0.11316957324743271],\"y\":[-0.02220655232667923,0.17110560834407806],\"z\":[0.40420907735824585,0.4046176075935364],\"type\":\"scatter3d\"},{\"line\":{\"color\":\"black\",\"width\":2},\"mode\":\"lines\",\"x\":[0.2266254723072052,0.1073247566819191],\"y\":[-0.10146600008010864,-0.15626728534698486],\"z\":[0.19747862219810486,0.17097102105617523],\"type\":\"scatter3d\"},{\"line\":{\"color\":\"black\",\"width\":2},\"mode\":\"lines\",\"x\":[0.09762749820947647,0.08718359470367432],\"y\":[-0.02310696244239807,-0.08242615312337875],\"z\":[-0.04296215623617172,-0.38141143321990967],\"type\":\"scatter3d\"},{\"line\":{\"color\":\"black\",\"width\":2},\"mode\":\"lines\",\"x\":[0.09762749820947647,-0.07354022562503815],\"y\":[-0.02310696244239807,0.10772417485713959],\"z\":[-0.04296215623617172,-0.03575488179922104],\"type\":\"scatter3d\"},{\"line\":{\"color\":\"black\",\"width\":2},\"mode\":\"lines\",\"x\":[0.08718359470367432,0.12590329349040985],\"y\":[-0.08242615312337875,-0.05241682752966881],\"z\":[-0.38141143321990967,-0.7241829633712769],\"type\":\"scatter3d\"},{\"line\":{\"color\":\"black\",\"width\":2},\"mode\":\"lines\",\"x\":[-0.11316957324743271,-0.23361924290657043],\"y\":[0.17110560834407806,0.16807445883750916],\"z\":[0.4046176075935364,0.19906556606292725],\"type\":\"scatter3d\"},{\"line\":{\"color\":\"black\",\"width\":2},\"mode\":\"lines\",\"x\":[-0.11316957324743271,-0.07354022562503815],\"y\":[0.17110560834407806,0.10772417485713959],\"z\":[0.4046176075935364,-0.03575488179922104],\"type\":\"scatter3d\"},{\"line\":{\"color\":\"black\",\"width\":2},\"mode\":\"lines\",\"x\":[-0.23361924290657043,-0.22158606350421906],\"y\":[0.16807445883750916,-0.027656622231006622],\"z\":[0.19906556606292725,0.1967601776123047],\"type\":\"scatter3d\"},{\"line\":{\"color\":\"black\",\"width\":2},\"mode\":\"lines\",\"x\":[-0.07354022562503815,-0.05604240298271179],\"y\":[0.10772417485713959,0.14592593908309937],\"z\":[-0.03575488179922104,-0.38201695680618286],\"type\":\"scatter3d\"},{\"line\":{\"color\":\"black\",\"width\":2},\"mode\":\"lines\",\"x\":[-0.05604240298271179,0.02075524628162384],\"y\":[0.14592593908309937,0.2502403259277344],\"z\":[-0.38201695680618286,-0.7175266146659851],\"type\":\"scatter3d\"},{\"line\":{\"color\":\"blue\",\"width\":2},\"mode\":\"lines\",\"x\":[0,-0.6374173513744481],\"y\":[0,-0.7705187344683991],\"z\":[0,0],\"type\":\"scatter3d\"}],                        {\"template\":{\"data\":{\"histogram2dcontour\":[{\"type\":\"histogram2dcontour\",\"colorbar\":{\"outlinewidth\":0,\"ticks\":\"\"},\"colorscale\":[[0.0,\"#0d0887\"],[0.1111111111111111,\"#46039f\"],[0.2222222222222222,\"#7201a8\"],[0.3333333333333333,\"#9c179e\"],[0.4444444444444444,\"#bd3786\"],[0.5555555555555556,\"#d8576b\"],[0.6666666666666666,\"#ed7953\"],[0.7777777777777778,\"#fb9f3a\"],[0.8888888888888888,\"#fdca26\"],[1.0,\"#f0f921\"]]}],\"choropleth\":[{\"type\":\"choropleth\",\"colorbar\":{\"outlinewidth\":0,\"ticks\":\"\"}}],\"histogram2d\":[{\"type\":\"histogram2d\",\"colorbar\":{\"outlinewidth\":0,\"ticks\":\"\"},\"colorscale\":[[0.0,\"#0d0887\"],[0.1111111111111111,\"#46039f\"],[0.2222222222222222,\"#7201a8\"],[0.3333333333333333,\"#9c179e\"],[0.4444444444444444,\"#bd3786\"],[0.5555555555555556,\"#d8576b\"],[0.6666666666666666,\"#ed7953\"],[0.7777777777777778,\"#fb9f3a\"],[0.8888888888888888,\"#fdca26\"],[1.0,\"#f0f921\"]]}],\"heatmap\":[{\"type\":\"heatmap\",\"colorbar\":{\"outlinewidth\":0,\"ticks\":\"\"},\"colorscale\":[[0.0,\"#0d0887\"],[0.1111111111111111,\"#46039f\"],[0.2222222222222222,\"#7201a8\"],[0.3333333333333333,\"#9c179e\"],[0.4444444444444444,\"#bd3786\"],[0.5555555555555556,\"#d8576b\"],[0.6666666666666666,\"#ed7953\"],[0.7777777777777778,\"#fb9f3a\"],[0.8888888888888888,\"#fdca26\"],[1.0,\"#f0f921\"]]}],\"heatmapgl\":[{\"type\":\"heatmapgl\",\"colorbar\":{\"outlinewidth\":0,\"ticks\":\"\"},\"colorscale\":[[0.0,\"#0d0887\"],[0.1111111111111111,\"#46039f\"],[0.2222222222222222,\"#7201a8\"],[0.3333333333333333,\"#9c179e\"],[0.4444444444444444,\"#bd3786\"],[0.5555555555555556,\"#d8576b\"],[0.6666666666666666,\"#ed7953\"],[0.7777777777777778,\"#fb9f3a\"],[0.8888888888888888,\"#fdca26\"],[1.0,\"#f0f921\"]]}],\"contourcarpet\":[{\"type\":\"contourcarpet\",\"colorbar\":{\"outlinewidth\":0,\"ticks\":\"\"}}],\"contour\":[{\"type\":\"contour\",\"colorbar\":{\"outlinewidth\":0,\"ticks\":\"\"},\"colorscale\":[[0.0,\"#0d0887\"],[0.1111111111111111,\"#46039f\"],[0.2222222222222222,\"#7201a8\"],[0.3333333333333333,\"#9c179e\"],[0.4444444444444444,\"#bd3786\"],[0.5555555555555556,\"#d8576b\"],[0.6666666666666666,\"#ed7953\"],[0.7777777777777778,\"#fb9f3a\"],[0.8888888888888888,\"#fdca26\"],[1.0,\"#f0f921\"]]}],\"surface\":[{\"type\":\"surface\",\"colorbar\":{\"outlinewidth\":0,\"ticks\":\"\"},\"colorscale\":[[0.0,\"#0d0887\"],[0.1111111111111111,\"#46039f\"],[0.2222222222222222,\"#7201a8\"],[0.3333333333333333,\"#9c179e\"],[0.4444444444444444,\"#bd3786\"],[0.5555555555555556,\"#d8576b\"],[0.6666666666666666,\"#ed7953\"],[0.7777777777777778,\"#fb9f3a\"],[0.8888888888888888,\"#fdca26\"],[1.0,\"#f0f921\"]]}],\"mesh3d\":[{\"type\":\"mesh3d\",\"colorbar\":{\"outlinewidth\":0,\"ticks\":\"\"}}],\"scatter\":[{\"fillpattern\":{\"fillmode\":\"overlay\",\"size\":10,\"solidity\":0.2},\"type\":\"scatter\"}],\"parcoords\":[{\"type\":\"parcoords\",\"line\":{\"colorbar\":{\"outlinewidth\":0,\"ticks\":\"\"}}}],\"scatterpolargl\":[{\"type\":\"scatterpolargl\",\"marker\":{\"colorbar\":{\"outlinewidth\":0,\"ticks\":\"\"}}}],\"bar\":[{\"error_x\":{\"color\":\"#2a3f5f\"},\"error_y\":{\"color\":\"#2a3f5f\"},\"marker\":{\"line\":{\"color\":\"#E5ECF6\",\"width\":0.5},\"pattern\":{\"fillmode\":\"overlay\",\"size\":10,\"solidity\":0.2}},\"type\":\"bar\"}],\"scattergeo\":[{\"type\":\"scattergeo\",\"marker\":{\"colorbar\":{\"outlinewidth\":0,\"ticks\":\"\"}}}],\"scatterpolar\":[{\"type\":\"scatterpolar\",\"marker\":{\"colorbar\":{\"outlinewidth\":0,\"ticks\":\"\"}}}],\"histogram\":[{\"marker\":{\"pattern\":{\"fillmode\":\"overlay\",\"size\":10,\"solidity\":0.2}},\"type\":\"histogram\"}],\"scattergl\":[{\"type\":\"scattergl\",\"marker\":{\"colorbar\":{\"outlinewidth\":0,\"ticks\":\"\"}}}],\"scatter3d\":[{\"type\":\"scatter3d\",\"line\":{\"colorbar\":{\"outlinewidth\":0,\"ticks\":\"\"}},\"marker\":{\"colorbar\":{\"outlinewidth\":0,\"ticks\":\"\"}}}],\"scattermapbox\":[{\"type\":\"scattermapbox\",\"marker\":{\"colorbar\":{\"outlinewidth\":0,\"ticks\":\"\"}}}],\"scatterternary\":[{\"type\":\"scatterternary\",\"marker\":{\"colorbar\":{\"outlinewidth\":0,\"ticks\":\"\"}}}],\"scattercarpet\":[{\"type\":\"scattercarpet\",\"marker\":{\"colorbar\":{\"outlinewidth\":0,\"ticks\":\"\"}}}],\"carpet\":[{\"aaxis\":{\"endlinecolor\":\"#2a3f5f\",\"gridcolor\":\"white\",\"linecolor\":\"white\",\"minorgridcolor\":\"white\",\"startlinecolor\":\"#2a3f5f\"},\"baxis\":{\"endlinecolor\":\"#2a3f5f\",\"gridcolor\":\"white\",\"linecolor\":\"white\",\"minorgridcolor\":\"white\",\"startlinecolor\":\"#2a3f5f\"},\"type\":\"carpet\"}],\"table\":[{\"cells\":{\"fill\":{\"color\":\"#EBF0F8\"},\"line\":{\"color\":\"white\"}},\"header\":{\"fill\":{\"color\":\"#C8D4E3\"},\"line\":{\"color\":\"white\"}},\"type\":\"table\"}],\"barpolar\":[{\"marker\":{\"line\":{\"color\":\"#E5ECF6\",\"width\":0.5},\"pattern\":{\"fillmode\":\"overlay\",\"size\":10,\"solidity\":0.2}},\"type\":\"barpolar\"}],\"pie\":[{\"automargin\":true,\"type\":\"pie\"}]},\"layout\":{\"autotypenumbers\":\"strict\",\"colorway\":[\"#636efa\",\"#EF553B\",\"#00cc96\",\"#ab63fa\",\"#FFA15A\",\"#19d3f3\",\"#FF6692\",\"#B6E880\",\"#FF97FF\",\"#FECB52\"],\"font\":{\"color\":\"#2a3f5f\"},\"hovermode\":\"closest\",\"hoverlabel\":{\"align\":\"left\"},\"paper_bgcolor\":\"white\",\"plot_bgcolor\":\"#E5ECF6\",\"polar\":{\"bgcolor\":\"#E5ECF6\",\"angularaxis\":{\"gridcolor\":\"white\",\"linecolor\":\"white\",\"ticks\":\"\"},\"radialaxis\":{\"gridcolor\":\"white\",\"linecolor\":\"white\",\"ticks\":\"\"}},\"ternary\":{\"bgcolor\":\"#E5ECF6\",\"aaxis\":{\"gridcolor\":\"white\",\"linecolor\":\"white\",\"ticks\":\"\"},\"baxis\":{\"gridcolor\":\"white\",\"linecolor\":\"white\",\"ticks\":\"\"},\"caxis\":{\"gridcolor\":\"white\",\"linecolor\":\"white\",\"ticks\":\"\"}},\"coloraxis\":{\"colorbar\":{\"outlinewidth\":0,\"ticks\":\"\"}},\"colorscale\":{\"sequential\":[[0.0,\"#0d0887\"],[0.1111111111111111,\"#46039f\"],[0.2222222222222222,\"#7201a8\"],[0.3333333333333333,\"#9c179e\"],[0.4444444444444444,\"#bd3786\"],[0.5555555555555556,\"#d8576b\"],[0.6666666666666666,\"#ed7953\"],[0.7777777777777778,\"#fb9f3a\"],[0.8888888888888888,\"#fdca26\"],[1.0,\"#f0f921\"]],\"sequentialminus\":[[0.0,\"#0d0887\"],[0.1111111111111111,\"#46039f\"],[0.2222222222222222,\"#7201a8\"],[0.3333333333333333,\"#9c179e\"],[0.4444444444444444,\"#bd3786\"],[0.5555555555555556,\"#d8576b\"],[0.6666666666666666,\"#ed7953\"],[0.7777777777777778,\"#fb9f3a\"],[0.8888888888888888,\"#fdca26\"],[1.0,\"#f0f921\"]],\"diverging\":[[0,\"#8e0152\"],[0.1,\"#c51b7d\"],[0.2,\"#de77ae\"],[0.3,\"#f1b6da\"],[0.4,\"#fde0ef\"],[0.5,\"#f7f7f7\"],[0.6,\"#e6f5d0\"],[0.7,\"#b8e186\"],[0.8,\"#7fbc41\"],[0.9,\"#4d9221\"],[1,\"#276419\"]]},\"xaxis\":{\"gridcolor\":\"white\",\"linecolor\":\"white\",\"ticks\":\"\",\"title\":{\"standoff\":15},\"zerolinecolor\":\"white\",\"automargin\":true,\"zerolinewidth\":2},\"yaxis\":{\"gridcolor\":\"white\",\"linecolor\":\"white\",\"ticks\":\"\",\"title\":{\"standoff\":15},\"zerolinecolor\":\"white\",\"automargin\":true,\"zerolinewidth\":2},\"scene\":{\"xaxis\":{\"backgroundcolor\":\"#E5ECF6\",\"gridcolor\":\"white\",\"linecolor\":\"white\",\"showbackground\":true,\"ticks\":\"\",\"zerolinecolor\":\"white\",\"gridwidth\":2},\"yaxis\":{\"backgroundcolor\":\"#E5ECF6\",\"gridcolor\":\"white\",\"linecolor\":\"white\",\"showbackground\":true,\"ticks\":\"\",\"zerolinecolor\":\"white\",\"gridwidth\":2},\"zaxis\":{\"backgroundcolor\":\"#E5ECF6\",\"gridcolor\":\"white\",\"linecolor\":\"white\",\"showbackground\":true,\"ticks\":\"\",\"zerolinecolor\":\"white\",\"gridwidth\":2}},\"shapedefaults\":{\"line\":{\"color\":\"#2a3f5f\"}},\"annotationdefaults\":{\"arrowcolor\":\"#2a3f5f\",\"arrowhead\":0,\"arrowwidth\":1},\"geo\":{\"bgcolor\":\"white\",\"landcolor\":\"#E5ECF6\",\"subunitcolor\":\"white\",\"showland\":true,\"showlakes\":true,\"lakecolor\":\"white\"},\"title\":{\"x\":0.05},\"mapbox\":{\"style\":\"light\"}}},\"scene\":{\"aspectratio\":{\"x\":3,\"y\":3,\"z\":3},\"xaxis\":{\"range\":[-1.5,1.5]},\"yaxis\":{\"range\":[-1.5,1.5]},\"zaxis\":{\"range\":[-1.5,1.5]},\"aspectmode\":\"manual\"}},                        {\"responsive\": true}                    ).then(function(){\n",
       "                            \n",
       "var gd = document.getElementById('08c44906-c302-4ff4-982a-c157f04e7c8f');\n",
       "var x = new MutationObserver(function (mutations, observer) {{\n",
       "        var display = window.getComputedStyle(gd).display;\n",
       "        if (!display || display === 'none') {{\n",
       "            console.log([gd, 'removed!']);\n",
       "            Plotly.purge(gd);\n",
       "            observer.disconnect();\n",
       "        }}\n",
       "}});\n",
       "\n",
       "// Listen for the removal of the full notebook cells\n",
       "var notebookContainer = gd.closest('#notebook-container');\n",
       "if (notebookContainer) {{\n",
       "    x.observe(notebookContainer, {childList: true});\n",
       "}}\n",
       "\n",
       "// Listen for the clearing of the current output cell\n",
       "var outputEl = gd.closest('.output');\n",
       "if (outputEl) {{\n",
       "    x.observe(outputEl, {childList: true});\n",
       "}}\n",
       "\n",
       "                        })                };                });            </script>        </div>"
      ]
     },
     "metadata": {},
     "output_type": "display_data"
    }
   ],
   "source": [
    "JOINT_NAMES = [\"NOSE\", \"LEFT_SHOULDER\", \"LEFT_ELBOW\",\n",
    "               \"LEFT_WRIST\", \"LEFT_HIP\", \"LEFT_KNEE\",\n",
    "               \"LEFT_ANKLE\", \"RIGHT_SHOULDER\", \"RIGHT_ELBOW\",\n",
    "               \"RIGHT_WRIST\", \"RIGHT_HIP\", \"RIGHT_KNEE\", \"RIGHT_ANKLE\"]\n",
    "lines = {0: [1, 7], 1: [2, 4, 7], 2: [3], 4: [5, 10], 5: [6], 7: [8, 10], 8:[9], 10:[11], 11: [12]}\n",
    "path_to_womd = '/home/erik/raid/datasets/womd/'\n",
    "key = 'bf600888a4845af5' #bf600888a4845af5 (3200), 26f04b1e714986cc (961), a4e1a96c2b311cef (684), 1f70481472b7def (1551, 1554), 47f813ad7de048b8 (88)\n",
    "# worse: b4185172f4b58e1e (3215, 3219), 'eee4e66d49effa40' (2921), 44cc881711a0fd61 (5097), 882f19642c40c26e (1382), 9dab77dab109c445 (4745), 82185d5b99d23949 (1636), f2d17088c55320dc (2632), 819d4b9bde5ee8fd (918), 516d6ea14231945e (4233), faca92f54f0318cb (2206)\n",
    "# better: 605c519944f01baf (5184), c57d95baaacc70cd (2341), d2ac02be54fcbbda (1816), 26f04b1e714986cc (961), 5870c78395fbaf7d (1927), 764a92ef23ac8e28 (1434), fb5cd320754c7361 (2655), c47c6b364c8cf947 (3261), e42ece525fff6050 (965), 54e7ee570dcd34e7 (3255), 5c48452fa9741727 (823), ef5934a076e24939 (2375), c8eab21dca6f51c9 (1107), b6882ea3c063150a (6370, 6433), d59a8c97c0980d2a (5872, 5889), a4e1a96c2b311cef (684), a5ccf095e6bac84e (5898), 72fb1eabaf94928f (6019)\n",
    "obj_id = 3200\n",
    "path = os.path.join(path_to_womd, 'lidar_snippets', key)\n",
    "#print(path)\n",
    "snippets = sorted(glob.glob(os.path.join(path, str(obj_id) + '_*')))\n",
    "example_file = '/home/erik/raid/datasets/womd/processed_scenarios_validation/sample_' + key + '.pkl'\n",
    "#print(example_file)\n",
    "with open(example_file, 'rb') as f:\n",
    "    example = pickle.load(f)\n",
    "#print(example['track_infos']['object_id'])\n",
    "index = example['track_infos']['object_id'].index(obj_id)\n",
    "pos = example['track_infos']['trajs'][index, :, :3]\n",
    "orientation = example['track_infos']['trajs'][index, :, 6]\n",
    "pose_path = os.path.join(path_to_womd, 'poses', key, 'pose_data.npy')\n",
    "#print(pose_path)\n",
    "pose_file = np.load(pose_path)\n",
    "#print(pose_file[index])\n",
    "plot = {0: (1, 1), 1: (2, 1), 2: (3, 1), 3: (4, 1), 4: (5, 1), 5: (6, 1), 6: (7, 1), 7: (8, 1), 8: (9, 1), 9: (10, 1), 10: (11, 1)} \n",
    "fig = make_subplots(\n",
    "    rows=11, \n",
    "    cols=1,\n",
    "    start_cell=\"top-left\", \n",
    "    specs=[\n",
    "        [{\"type\": \"scatter3d\"}], \n",
    "        [{\"type\": \"scatter3d\"}],\n",
    "        [{\"type\": \"scatter3d\"}],\n",
    "        [{\"type\": \"scatter3d\"}],\n",
    "        [{\"type\": \"scatter3d\"}],\n",
    "        [{\"type\": \"scatter3d\"}],\n",
    "        [{\"type\": \"scatter3d\"}],\n",
    "        [{\"type\": \"scatter3d\"}],\n",
    "        [{\"type\": \"scatter3d\"}],\n",
    "        [{\"type\": \"scatter3d\"}],\n",
    "        [{\"type\": \"scatter3d\"}]\n",
    "\n",
    "    ]\n",
    ")\n",
    "for i, snippet in enumerate(snippets):\n",
    "    fig = go.Figure()\n",
    "    fig.update_layout(scene=dict(aspectmode='manual',\n",
    "                                 aspectratio=dict(x=3, y=3, z=3),\n",
    "                                 xaxis=dict(range=[-1.5, 1.5]),\n",
    "                                 yaxis=dict(range=[-1.5, 1.5]),\n",
    "                                 zaxis=dict(range=[-1.5, 1.5])))\n",
    "    #row, col = plot[i]\n",
    "    snippet = np.load(snippet)\n",
    "    snippet = snippet - pos[i]\n",
    "    fig.add_trace(go.Scatter3d(x=snippet[:,0], y=snippet[:,1], z=snippet[:,2], mode='markers', marker=dict(size=2, opacity=0.8)))\n",
    "    fig.add_trace(go.Scatter3d(x=pose_file[index, i, :, 0], y=pose_file[index, i, :, 1], z=pose_file[index, i, :, 2], mode='markers', marker=dict(size=4, opacity=0.8, color='red')))\n",
    "    draw_skeleton(pose_file[index, i], lines, fig)\n",
    "    # Draw orientation line\n",
    "    fig.add_trace(go.Scatter3d(x=[0, math.cos(orientation[i])], y=[0, math.sin(orientation[i])], z=[0, 0], mode='lines', line=dict(color='blue', width=2)))\n",
    "    #go.Scatter3d(x=pose_file[index, i, :, 0], y=pose_file[index, i, :, 1], z=pose_file[index, i, :, 2], mode='markers', marker=dict(size=2, opacity=0.8, color='red'))\n",
    "    fig.write_image('poses_plots/' + str(obj_id) + '_' + str(i) + '.png')\n",
    "    fig.show()"
   ]
  },
  {
   "cell_type": "code",
   "execution_count": null,
   "metadata": {},
   "outputs": [],
   "source": []
  }
 ],
 "metadata": {
  "kernelspec": {
   "display_name": "waymo_dataset_310",
   "language": "python",
   "name": "python3"
  },
  "language_info": {
   "codemirror_mode": {
    "name": "ipython",
    "version": 3
   },
   "file_extension": ".py",
   "mimetype": "text/x-python",
   "name": "python",
   "nbconvert_exporter": "python",
   "pygments_lexer": "ipython3",
   "version": "3.10.12"
  }
 },
 "nbformat": 4,
 "nbformat_minor": 2
}
