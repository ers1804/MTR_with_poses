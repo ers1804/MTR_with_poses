{
 "cells": [
  {
   "cell_type": "code",
   "execution_count": 1,
   "metadata": {},
   "outputs": [
    {
     "name": "stderr",
     "output_type": "stream",
     "text": [
      "2024-03-18 15:24:04.229494: I tensorflow/core/platform/cpu_feature_guard.cc:193] This TensorFlow binary is optimized with oneAPI Deep Neural Network Library (oneDNN) to use the following CPU instructions in performance-critical operations:  AVX2 AVX_VNNI FMA\n",
      "To enable them in other operations, rebuild TensorFlow with the appropriate compiler flags.\n",
      "2024-03-18 15:24:04.347666: I tensorflow/core/util/port.cc:104] oneDNN custom operations are on. You may see slightly different numerical results due to floating-point round-off errors from different computation orders. To turn them off, set the environment variable `TF_ENABLE_ONEDNN_OPTS=0`.\n",
      "2024-03-18 15:24:04.658084: W tensorflow/compiler/xla/stream_executor/platform/default/dso_loader.cc:64] Could not load dynamic library 'libnvinfer.so.7'; dlerror: libnvinfer.so.7: cannot open shared object file: No such file or directory; LD_LIBRARY_PATH: “/usr/local/cuda-12.0/lib64:/usr/local/lib/:/opt/ros/humble/opt/rviz_ogre_vendor/lib:/opt/ros/humble/lib/x86_64-linux-gnu:/opt/ros/humble/lib”\n",
      "2024-03-18 15:24:04.658127: W tensorflow/compiler/xla/stream_executor/platform/default/dso_loader.cc:64] Could not load dynamic library 'libnvinfer_plugin.so.7'; dlerror: libnvinfer_plugin.so.7: cannot open shared object file: No such file or directory; LD_LIBRARY_PATH: “/usr/local/cuda-12.0/lib64:/usr/local/lib/:/opt/ros/humble/opt/rviz_ogre_vendor/lib:/opt/ros/humble/lib/x86_64-linux-gnu:/opt/ros/humble/lib”\n",
      "2024-03-18 15:24:04.658129: W tensorflow/compiler/tf2tensorrt/utils/py_utils.cc:38] TF-TRT Warning: Cannot dlopen some TensorRT libraries. If you would like to use Nvidia GPU with TensorRT, please make sure the missing libraries mentioned above are installed properly.\n"
     ]
    }
   ],
   "source": [
    "import sys, os\n",
    "import numpy as np\n",
    "import pickle\n",
    "import tensorflow as tf\n",
    "import multiprocessing\n",
    "import glob\n",
    "from tqdm import tqdm\n",
    "from waymo_open_dataset.protos import scenario_pb2\n",
    "from waymo_types import object_type, lane_type, road_line_type, road_edge_type, signal_state, polyline_type"
   ]
  },
  {
   "cell_type": "code",
   "execution_count": 8,
   "metadata": {},
   "outputs": [
    {
     "name": "stdout",
     "output_type": "stream",
     "text": [
      "dict_keys(['track_infos', 'dynamic_map_infos', 'map_infos', 'scenario_id', 'timestamps_seconds', 'current_time_index', 'sdc_track_index', 'objects_of_interest', 'tracks_to_predict'])\n",
      "(80, 91, 10)\n",
      "80\n",
      "dict_keys(['lane', 'road_line', 'road_edge', 'stop_sign', 'crosswalk', 'driveway', 'speed_bump', 'all_polylines'])\n",
      "['TYPE_PEDESTRIAN', 'TYPE_PEDESTRIAN', 'TYPE_PEDESTRIAN', 'TYPE_PEDESTRIAN', 'TYPE_PEDESTRIAN', 'TYPE_PEDESTRIAN', 'TYPE_PEDESTRIAN', 'TYPE_PEDESTRIAN', 'TYPE_PEDESTRIAN', 'TYPE_PEDESTRIAN', 'TYPE_PEDESTRIAN', 'TYPE_PEDESTRIAN', 'TYPE_CYCLIST', 'TYPE_CYCLIST', 'TYPE_VEHICLE', 'TYPE_VEHICLE', 'TYPE_VEHICLE', 'TYPE_VEHICLE', 'TYPE_VEHICLE', 'TYPE_VEHICLE', 'TYPE_VEHICLE', 'TYPE_VEHICLE', 'TYPE_VEHICLE', 'TYPE_VEHICLE', 'TYPE_VEHICLE', 'TYPE_VEHICLE', 'TYPE_VEHICLE', 'TYPE_VEHICLE', 'TYPE_VEHICLE', 'TYPE_VEHICLE', 'TYPE_VEHICLE', 'TYPE_VEHICLE', 'TYPE_VEHICLE', 'TYPE_VEHICLE', 'TYPE_VEHICLE', 'TYPE_VEHICLE', 'TYPE_VEHICLE', 'TYPE_VEHICLE', 'TYPE_VEHICLE', 'TYPE_VEHICLE', 'TYPE_VEHICLE', 'TYPE_VEHICLE', 'TYPE_VEHICLE', 'TYPE_VEHICLE', 'TYPE_VEHICLE', 'TYPE_VEHICLE', 'TYPE_VEHICLE', 'TYPE_VEHICLE', 'TYPE_VEHICLE', 'TYPE_VEHICLE', 'TYPE_VEHICLE', 'TYPE_VEHICLE', 'TYPE_VEHICLE', 'TYPE_VEHICLE', 'TYPE_VEHICLE', 'TYPE_VEHICLE', 'TYPE_VEHICLE', 'TYPE_VEHICLE', 'TYPE_VEHICLE', 'TYPE_VEHICLE', 'TYPE_VEHICLE', 'TYPE_VEHICLE', 'TYPE_VEHICLE', 'TYPE_VEHICLE', 'TYPE_VEHICLE', 'TYPE_VEHICLE', 'TYPE_VEHICLE', 'TYPE_VEHICLE', 'TYPE_VEHICLE', 'TYPE_VEHICLE', 'TYPE_VEHICLE', 'TYPE_VEHICLE', 'TYPE_VEHICLE', 'TYPE_VEHICLE', 'TYPE_VEHICLE', 'TYPE_VEHICLE', 'TYPE_VEHICLE', 'TYPE_VEHICLE', 'TYPE_PEDESTRIAN', 'TYPE_VEHICLE']\n",
      "<class 'str'>\n",
      "[False False False False False False False False False False False False\n",
      " False False  True  True  True  True  True  True  True  True  True  True\n",
      "  True  True  True  True  True  True  True  True  True  True  True  True\n",
      "  True  True  True  True  True  True  True  True  True  True  True  True\n",
      "  True  True  True  True  True  True  True  True  True  True  True  True\n",
      "  True  True  True  True  True  True  True  True  True  True  True  True\n",
      "  True  True  True  True  True  True False  True]\n",
      "(65, 91, 3)\n"
     ]
    }
   ],
   "source": [
    "example_file = '/home/erik/raid/datasets/womd/processed_scenarios_training/sample_882d8df85189a2c0.pkl'\n",
    "#training_infos_file = '/home/erik/raid/datasets/womd/processed_scenarios_training_infos.pkl'\n",
    "# with open(training_infos_file, 'rb') as f:\n",
    "#     training_infos = pickle.load(f)\n",
    "with open(example_file, 'rb') as f:\n",
    "    example = pickle.load(f)\n",
    "print(example.keys())\n",
    "print(example['track_infos']['trajs'].shape)\n",
    "print(len(example['track_infos']['object_id']))\n",
    "print(example['map_infos'].keys())\n",
    "# print(training_infos[0].keys())\n",
    "print(example['track_infos']['object_type'])\n",
    "print(type(example['scenario_id']))\n",
    "print(np.array(example['track_infos']['object_type']) == 'TYPE_VEHICLE')\n",
    "print(example['track_infos']['trajs'][np.array(example['track_infos']['object_type']) == 'TYPE_VEHICLE', :, :3].shape)"
   ]
  },
  {
   "cell_type": "code",
   "execution_count": 33,
   "metadata": {},
   "outputs": [],
   "source": [
    "def check_for_vru(track_infos):\n",
    "    peds = False\n",
    "    cyclists = False\n",
    "    for type in track_infos['object_type']:\n",
    "        if type == 'TYPE_PEDESTRIAN':\n",
    "            peds = True\n",
    "        elif type == 'TYPE_CYCLIST':\n",
    "            cyclists = True\n",
    "        if peds and cyclists:\n",
    "            break\n",
    "    return peds, cyclists\n",
    "\n",
    "def check_distance_to_vehicles(track_infos):\n",
    "    vehicle_trajectories = track_infos['trajs'][np.array(track_infos['object_type']) == 'TYPE_VEHICLE', :, :3]\n",
    "    distances_per_type = dict()\n",
    "    distances_per_type['TYPE_PEDESTRIAN'] = np.inf\n",
    "    distances_per_type['TYPE_CYCLIST'] = np.inf\n",
    "    for i, type in enumerate(track_infos['object_type']):\n",
    "        if type == 'TYPE_VEHICLE':\n",
    "            continue\n",
    "        elif type == 'TYPE_PEDESTRIAN' or type == 'TYPE_CYCLIST':\n",
    "            ref_trajectory = track_infos['trajs'][i, :, :3]\n",
    "            differences = vehicle_trajectories - ref_trajectory[np.newaxis, :, :]\n",
    "            distances = np.linalg.norm(differences, axis=2)\n",
    "            masked_distances = np.ma.masked_equal(distances, 0.0)\n",
    "            # print(distances.shape)\n",
    "            min_distance_per_agent = np.min(masked_distances, axis=1)\n",
    "            #print(min_distance_per_agent)\n",
    "            min_distance = np.min(min_distance_per_agent, axis=0)\n",
    "            if min_distance < distances_per_type[type]:\n",
    "                distances_per_type[type] = min_distance\n",
    "    return distances_per_type\n",
    "\n"
   ]
  },
  {
   "cell_type": "code",
   "execution_count": 34,
   "metadata": {},
   "outputs": [
    {
     "name": "stdout",
     "output_type": "stream",
     "text": [
      "{'TYPE_PEDESTRIAN': 2.2126758, 'TYPE_CYCLIST': 5.85942}\n"
     ]
    }
   ],
   "source": [
    "distances = check_distance_to_vehicles(example['track_infos'])\n",
    "print(distances)"
   ]
  },
  {
   "cell_type": "code",
   "execution_count": 19,
   "metadata": {},
   "outputs": [
    {
     "name": "stderr",
     "output_type": "stream",
     "text": [
      "Exception ignored in: <bound method IPythonKernel._clean_thread_parent_frames of <ipykernel.ipkernel.IPythonKernel object at 0x7fd5d3653520>>\n",
      "Traceback (most recent call last):\n",
      "  File \"/home/erik/venv/mtr_pose/lib/python3.8/site-packages/ipykernel/ipkernel.py\", line 770, in _clean_thread_parent_frames\n",
      "    def _clean_thread_parent_frames(\n",
      "KeyboardInterrupt: \n"
     ]
    }
   ],
   "source": [
    "# Iterate through dataset\n",
    "path_to_womd = '/home/erik/raid/datasets/womd'\n",
    "scenarios = glob.glob(os.path.join(path_to_womd, 'processed_scenarios_training', '*.pkl'))\n",
    "vru_infos = dict()\n",
    "for scenario in scenarios:\n",
    "    with open(scenario, 'rb') as f:\n",
    "        scenario_dict = pickle.load(f)\n",
    "    vru_presence = check_for_vru(scenario_dict['track_infos'])\n",
    "    vru_infos[scenario_dict['scenario_id']] = dict()\n",
    "    vru_infos[scenario_dict['scenario_id']]['pedestrians'] = vru_presence[0]\n",
    "    vru_infos[scenario_dict['scenario_id']]['cyclists'] = vru_presence[1]\n",
    "if vru_presence[0] or vru_presence[1]:\n",
    "    distances = check_distance_to_vehicles(scenario_dict['track_infos'])\n",
    "    vru_infos[scenario_dict['scenario_id']]['distances'] = distances\n",
    "with open('vru_infos.pkl', 'wb') as f:\n",
    "    pickle.dump(vru_infos, f)\n",
    "    "
   ]
  },
  {
   "cell_type": "code",
   "execution_count": null,
   "metadata": {},
   "outputs": [],
   "source": []
  }
 ],
 "metadata": {
  "kernelspec": {
   "display_name": "mtr_pose",
   "language": "python",
   "name": "python3"
  },
  "language_info": {
   "codemirror_mode": {
    "name": "ipython",
    "version": 3
   },
   "file_extension": ".py",
   "mimetype": "text/x-python",
   "name": "python",
   "nbconvert_exporter": "python",
   "pygments_lexer": "ipython3",
   "version": "3.8.18"
  }
 },
 "nbformat": 4,
 "nbformat_minor": 2
}
